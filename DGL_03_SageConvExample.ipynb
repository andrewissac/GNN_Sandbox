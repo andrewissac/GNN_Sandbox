{
 "cells": [
  {
   "cell_type": "markdown",
   "metadata": {},
   "source": [
    "# Custom GNN module\n",
    "Sometimes, your model goes beyond simply stacking existing GNN modules. For example, you would like to invent a new way of aggregating neighbor information by considering node importance or edge weights.\n",
    "\n",
    "Goals:\n",
    "\n",
    "- Understand DGL’s message passing APIs.\n",
    "\n",
    "- Implement GraphSAGE convolution module by your own."
   ]
  },
  {
   "cell_type": "code",
   "execution_count": 1,
   "metadata": {},
   "outputs": [
    {
     "name": "stderr",
     "output_type": "stream",
     "text": [
      "Using backend: pytorch\n"
     ]
    }
   ],
   "source": [
    "import dgl\n",
    "import torch\n",
    "import torch.nn as nn\n",
    "import torch.nn.functional as F"
   ]
  },
  {
   "cell_type": "markdown",
   "metadata": {},
   "source": [
    "## Message passing and GNNs\n",
    "DGL follows the message passing paradigm inspired by the Message Passing Neural Network proposed by [Gilmer et al.](https://arxiv.org/abs/1704.01212) Essentially, they found many GNN models can fit into the following framework:\n",
    "\n",
    "$m^{(l)}_{u→v}=M^{(l)} \\left( h^{(l-1)}_v,h^{(l-1)}_u,e^{(l-1)}_{u→v} \\right)$\n",
    "\n",
    "$m^{(l)}_v = \\sum_{u \\in N(v)}m^{(l)}_{u→v}$\n",
    "\n",
    "$h_v^{(l)} = U^{(l)} \\left( h_v^{(l-1)}, m_v^{(l)}\\right)$\n",
    "\n",
    "Where $M^{(l)}$ is the **message function**, $\\sum$ the **reduce function** (does not have to be a summation) and $U^{(l)}$ the **update function**.\n",
    "\n",
    "Example [GraphSAGE convolution (Hamilton et al., 2017)](https://cs.stanford.edu/people/jure/pubs/graphsage-nips17.pdf) :\n",
    "\n",
    "$h^k_{N(v)} \\leftarrow \\mathrm{Average} \\{h_u^{k-1}, \\forall u \\in N(v) \\}$\n",
    "\n",
    "$h^k_{v} \\leftarrow \\mathrm{ReLU} \\{W^k \\cdot \\mathrm{CONCAT}(h_v^{k-1}, h_{N(v)}^k)\\}$\n",
    "\n",
    "Note: message passing is directional: message from node $u$ to $v$ is not necessarily the same as $v$ to $u$."
   ]
  },
  {
   "cell_type": "code",
   "execution_count": 2,
   "metadata": {},
   "outputs": [],
   "source": [
    "import dgl.function as fn\n",
    "\n",
    "class SAGEConv(nn.Module):\n",
    "    \"\"\"Graph convolution module used by the GraphSAGE model.\n",
    "\n",
    "    Parameters\n",
    "    ----------\n",
    "    in_feat : int\n",
    "        Input feature size.\n",
    "    out_feat : int\n",
    "        Output feature size.\n",
    "    \"\"\"\n",
    "    def __init__(self, in_feat, out_feat):\n",
    "        super(SAGEConv, self).__init__()\n",
    "        # a linear submodule for projecting the input and neighbor feature to the output\n",
    "        self.linear = nn.Linear(in_feat * 2, out_feat)\n",
    "        \n",
    "    def forward(self, g, h):\n",
    "        \"\"\"Forward computation\n",
    "\n",
    "        Parameters\n",
    "        ----------\n",
    "        g : Graph\n",
    "            The input graph.\n",
    "        h : Tensor\n",
    "            The input node feature.\n",
    "        \"\"\"\n",
    "        with g.local_scope():\n",
    "            g.ndata['h'] = h\n",
    "            # update_all is a message passing API.\n",
    "            g.update_all(message_func=fn.copy_u('h', 'm'), reduce_func=fn.mean('m', 'h_N'))\n",
    "            h_N = g.ndata['h_N']\n",
    "            h_total = torch.cat([h, h_N], dim=1)\n",
    "            return self.linear(h_total)"
   ]
  },
  {
   "cell_type": "markdown",
   "metadata": {},
   "source": [
    "The central piece in this code is the `g.update_all` function, which gathers and averages the neighbor features. There are three concepts here:\n",
    "\n",
    "Message function `fn.copy_u('h', 'm')` that copies the node feature under name `'h'` as messages sent to neighbors.\n",
    "\n",
    "Reduce function `fn.mean('m', 'h_N')` that averages all the received messages under name `'m'` and saves the result as a new node feature `'h_N'`.\n",
    "\n",
    "`update_all` tells DGL to trigger the message and reduce functions for all the nodes and edges.\n",
    "\n",
    "Now we are building a multilayer GraphSAGE network."
   ]
  },
  {
   "cell_type": "code",
   "execution_count": 3,
   "metadata": {},
   "outputs": [],
   "source": [
    "class GraphSAGENet(nn.Module):\n",
    "    def __init__(self, in_feat, hidden_feat, num_classes):\n",
    "        super(GraphSAGENet, self).__init__()\n",
    "        self.conv1 = SAGEConv(in_feat, hidden_feat)\n",
    "        self.conv2 = SAGEConv(hidden_feat, num_classes)\n",
    "        \n",
    "    def forward(self, g, in_feat):\n",
    "        h = self.conv1(g, in_feat)\n",
    "        h = F.relu(h)\n",
    "        h = self.conv2(g, h)\n",
    "        return h"
   ]
  },
  {
   "cell_type": "code",
   "execution_count": 4,
   "metadata": {},
   "outputs": [
    {
     "name": "stdout",
     "output_type": "stream",
     "text": [
      "  NumNodes: 2708\n",
      "  NumEdges: 10556\n",
      "  NumFeats: 1433\n",
      "  NumClasses: 7\n",
      "  NumTrainingSamples: 140\n",
      "  NumValidationSamples: 500\n",
      "  NumTestSamples: 1000\n",
      "Done loading data from cached files.\n",
      "dict_keys(['feat', 'label', 'test_mask', 'val_mask', 'train_mask'])\n",
      "Epoch: 0, loss: 1.948, val acc: 0.114 (best 0.114), test acc: 0.103 (best 0.103)\n",
      "Epoch: 5, loss: 1.878, val acc: 0.326 (best 0.326), test acc: 0.297 (best 0.297)\n",
      "Epoch: 10, loss: 1.731, val acc: 0.338 (best 0.340), test acc: 0.351 (best 0.325)\n",
      "Epoch: 15, loss: 1.507, val acc: 0.416 (best 0.416), test acc: 0.405 (best 0.405)\n",
      "Epoch: 20, loss: 1.218, val acc: 0.500 (best 0.500), test acc: 0.484 (best 0.484)\n",
      "Epoch: 25, loss: 0.900, val acc: 0.628 (best 0.628), test acc: 0.581 (best 0.581)\n",
      "Epoch: 30, loss: 0.604, val acc: 0.700 (best 0.700), test acc: 0.678 (best 0.678)\n",
      "Epoch: 35, loss: 0.372, val acc: 0.758 (best 0.758), test acc: 0.732 (best 0.732)\n",
      "Epoch: 40, loss: 0.218, val acc: 0.748 (best 0.760), test acc: 0.760 (best 0.738)\n",
      "Epoch: 45, loss: 0.128, val acc: 0.748 (best 0.760), test acc: 0.766 (best 0.738)\n",
      "Epoch: 50, loss: 0.078, val acc: 0.754 (best 0.760), test acc: 0.765 (best 0.738)\n",
      "Epoch: 55, loss: 0.050, val acc: 0.758 (best 0.760), test acc: 0.765 (best 0.738)\n",
      "Epoch: 60, loss: 0.035, val acc: 0.760 (best 0.760), test acc: 0.764 (best 0.738)\n",
      "Epoch: 65, loss: 0.026, val acc: 0.760 (best 0.760), test acc: 0.761 (best 0.738)\n",
      "Epoch: 70, loss: 0.020, val acc: 0.760 (best 0.762), test acc: 0.762 (best 0.762)\n",
      "Epoch: 75, loss: 0.017, val acc: 0.758 (best 0.762), test acc: 0.762 (best 0.762)\n",
      "Epoch: 80, loss: 0.014, val acc: 0.756 (best 0.762), test acc: 0.759 (best 0.762)\n",
      "Epoch: 85, loss: 0.012, val acc: 0.756 (best 0.762), test acc: 0.759 (best 0.762)\n",
      "Epoch: 90, loss: 0.011, val acc: 0.754 (best 0.762), test acc: 0.757 (best 0.762)\n",
      "Epoch: 95, loss: 0.010, val acc: 0.752 (best 0.762), test acc: 0.757 (best 0.762)\n",
      "Epoch: 100, loss: 0.009, val acc: 0.752 (best 0.762), test acc: 0.759 (best 0.762)\n",
      "Epoch: 105, loss: 0.008, val acc: 0.752 (best 0.762), test acc: 0.758 (best 0.762)\n",
      "Epoch: 110, loss: 0.007, val acc: 0.752 (best 0.762), test acc: 0.759 (best 0.762)\n",
      "Epoch: 115, loss: 0.007, val acc: 0.750 (best 0.762), test acc: 0.758 (best 0.762)\n",
      "Epoch: 120, loss: 0.006, val acc: 0.750 (best 0.762), test acc: 0.759 (best 0.762)\n",
      "Epoch: 125, loss: 0.006, val acc: 0.748 (best 0.762), test acc: 0.758 (best 0.762)\n",
      "Epoch: 130, loss: 0.006, val acc: 0.748 (best 0.762), test acc: 0.758 (best 0.762)\n",
      "Epoch: 135, loss: 0.005, val acc: 0.750 (best 0.762), test acc: 0.758 (best 0.762)\n",
      "Epoch: 140, loss: 0.005, val acc: 0.750 (best 0.762), test acc: 0.758 (best 0.762)\n",
      "Epoch: 145, loss: 0.005, val acc: 0.750 (best 0.762), test acc: 0.759 (best 0.762)\n",
      "Epoch: 150, loss: 0.004, val acc: 0.750 (best 0.762), test acc: 0.758 (best 0.762)\n",
      "Epoch: 155, loss: 0.004, val acc: 0.750 (best 0.762), test acc: 0.759 (best 0.762)\n",
      "Epoch: 160, loss: 0.004, val acc: 0.750 (best 0.762), test acc: 0.759 (best 0.762)\n",
      "Epoch: 165, loss: 0.004, val acc: 0.750 (best 0.762), test acc: 0.759 (best 0.762)\n",
      "Epoch: 170, loss: 0.004, val acc: 0.750 (best 0.762), test acc: 0.759 (best 0.762)\n",
      "Epoch: 175, loss: 0.003, val acc: 0.752 (best 0.762), test acc: 0.759 (best 0.762)\n",
      "Epoch: 180, loss: 0.003, val acc: 0.752 (best 0.762), test acc: 0.758 (best 0.762)\n",
      "Epoch: 185, loss: 0.003, val acc: 0.752 (best 0.762), test acc: 0.758 (best 0.762)\n",
      "Epoch: 190, loss: 0.003, val acc: 0.752 (best 0.762), test acc: 0.758 (best 0.762)\n",
      "Epoch: 195, loss: 0.003, val acc: 0.752 (best 0.762), test acc: 0.758 (best 0.762)\n"
     ]
    }
   ],
   "source": [
    "import dgl.data\n",
    "\n",
    "dataset = dgl.data.CoraGraphDataset()\n",
    "g = dataset[0] # dataset has only one graph\n",
    "\n",
    "def train(g, model, epochs: int):\n",
    "    optimizer = torch.optim.Adam(model.parameters(), lr=0.01)\n",
    "    all_logits = []\n",
    "    best_val_acc = 0\n",
    "    best_test_acc = 0\n",
    "    \n",
    "    print(g.ndata.keys())\n",
    "    features = g.ndata['feat']\n",
    "    labels = g.ndata['label']\n",
    "    train_mask = g.ndata['train_mask']\n",
    "    val_mask = g.ndata['val_mask']\n",
    "    test_mask = g.ndata['test_mask']\n",
    "    \n",
    "    for epoch in range(epochs):\n",
    "        # Forward\n",
    "        logits = model(g, features)\n",
    "        \n",
    "        # Compute prediction\n",
    "        pred = logits.argmax(1)\n",
    "        \n",
    "        # Compute loss (only on nodes of the training set!)\n",
    "        loss = F.cross_entropy(logits[train_mask], labels[train_mask])\n",
    "        \n",
    "        # Compute accuracy on training/validation/test\n",
    "        train_acc = (pred[train_mask] == labels[train_mask]).float().mean()\n",
    "        val_acc = (pred[val_mask] == labels[val_mask]).float().mean()\n",
    "        test_acc = (pred[test_mask] == labels[test_mask]).float().mean()\n",
    "        \n",
    "        # Save the best validation accuracy and the corresponding test accuracy.\n",
    "        if best_val_acc < val_acc:\n",
    "            best_val_acc = val_acc\n",
    "            best_test_acc = test_acc\n",
    "            \n",
    "        # Backward\n",
    "        optimizer.zero_grad()\n",
    "        loss.backward()\n",
    "        optimizer.step()\n",
    "        all_logits.append(logits.detach())\n",
    "        \n",
    "        if epoch % 5 == 0:\n",
    "            print(f'Epoch: {epoch}, loss: {loss:.3f}, val acc: {val_acc:.3f} (best {best_val_acc:.3f}), test acc: {test_acc:.3f} (best {best_test_acc:.3f})')\n",
    "            \n",
    "#g = g.to('cuda')\n",
    "model = GraphSAGENet(g.ndata['feat'].shape[1], 16, dataset.num_classes)\n",
    "train(g, model, epochs=200)"
   ]
  },
  {
   "cell_type": "markdown",
   "metadata": {},
   "source": [
    "Incorporating edge features like weights into a SAGEConv layer"
   ]
  },
  {
   "cell_type": "code",
   "execution_count": 5,
   "metadata": {},
   "outputs": [],
   "source": [
    "class WeightedSAGEConv(nn.Module):\n",
    "    \"\"\"Graph convolution module used by the GraphSAGE model with edge weights.\n",
    "\n",
    "    Parameters\n",
    "    ----------\n",
    "    in_feat : int\n",
    "        Input feature size.\n",
    "    out_feat : int\n",
    "        Output feature size.\n",
    "    \"\"\"\n",
    "    def __init__(self, in_feat, out_feat):\n",
    "        super(WeightedSAGEConv, self).__init__()\n",
    "        # A linear submodule for projecting the input and neighbor feature to the output.\n",
    "        self.linear = nn.Linear(in_feat * 2, out_feat)\n",
    "\n",
    "    def forward(self, g, h, w):\n",
    "        \"\"\"Forward computation\n",
    "\n",
    "        Parameters\n",
    "        ----------\n",
    "        g : Graph\n",
    "            The input graph.\n",
    "        h : Tensor\n",
    "            The input node feature.\n",
    "        w : Tensor\n",
    "            The edge weight.\n",
    "        \"\"\"\n",
    "        with g.local_scope():\n",
    "            g.ndata['h'] = h\n",
    "            g.edata['w'] = w\n",
    "            g.update_all(message_func=fn.u_mul_e('h', 'w', 'm'), reduce_func=fn.mean('m', 'h_N'))\n",
    "            h_N = g.ndata['h_N']\n",
    "            h_total = torch.cat([h, h_N], dim=1)\n",
    "            return self.linear(h_total)"
   ]
  },
  {
   "cell_type": "markdown",
   "metadata": {},
   "source": [
    "Because the graph in this dataset does not have edge weights, we manually assign all edge weights to one in the `forward()` function of the model. "
   ]
  },
  {
   "cell_type": "code",
   "execution_count": 6,
   "metadata": {},
   "outputs": [
    {
     "name": "stdout",
     "output_type": "stream",
     "text": [
      "dict_keys(['feat', 'label', 'test_mask', 'val_mask', 'train_mask'])\n",
      "Epoch: 0, loss: 1.951, val acc: 0.316 (best 0.316), test acc: 0.319 (best 0.319)\n",
      "Epoch: 5, loss: 1.884, val acc: 0.354 (best 0.360), test acc: 0.388 (best 0.372)\n",
      "Epoch: 10, loss: 1.760, val acc: 0.468 (best 0.570), test acc: 0.462 (best 0.553)\n",
      "Epoch: 15, loss: 1.571, val acc: 0.482 (best 0.570), test acc: 0.481 (best 0.553)\n",
      "Epoch: 20, loss: 1.316, val acc: 0.596 (best 0.596), test acc: 0.565 (best 0.565)\n",
      "Epoch: 25, loss: 1.016, val acc: 0.658 (best 0.658), test acc: 0.652 (best 0.652)\n",
      "Epoch: 30, loss: 0.717, val acc: 0.700 (best 0.700), test acc: 0.705 (best 0.705)\n",
      "Epoch: 35, loss: 0.466, val acc: 0.724 (best 0.724), test acc: 0.731 (best 0.731)\n",
      "Epoch: 40, loss: 0.288, val acc: 0.736 (best 0.742), test acc: 0.747 (best 0.740)\n",
      "Epoch: 45, loss: 0.175, val acc: 0.736 (best 0.742), test acc: 0.756 (best 0.740)\n",
      "Epoch: 50, loss: 0.108, val acc: 0.738 (best 0.742), test acc: 0.764 (best 0.740)\n",
      "Epoch: 55, loss: 0.069, val acc: 0.740 (best 0.742), test acc: 0.765 (best 0.740)\n",
      "Epoch: 60, loss: 0.047, val acc: 0.744 (best 0.748), test acc: 0.769 (best 0.768)\n",
      "Epoch: 65, loss: 0.033, val acc: 0.736 (best 0.748), test acc: 0.764 (best 0.768)\n",
      "Epoch: 70, loss: 0.025, val acc: 0.736 (best 0.748), test acc: 0.763 (best 0.768)\n",
      "Epoch: 75, loss: 0.020, val acc: 0.736 (best 0.748), test acc: 0.765 (best 0.768)\n",
      "Epoch: 80, loss: 0.016, val acc: 0.736 (best 0.748), test acc: 0.764 (best 0.768)\n",
      "Epoch: 85, loss: 0.014, val acc: 0.740 (best 0.748), test acc: 0.766 (best 0.768)\n",
      "Epoch: 90, loss: 0.012, val acc: 0.744 (best 0.748), test acc: 0.764 (best 0.768)\n",
      "Epoch: 95, loss: 0.011, val acc: 0.748 (best 0.748), test acc: 0.763 (best 0.768)\n",
      "Epoch: 100, loss: 0.009, val acc: 0.748 (best 0.748), test acc: 0.763 (best 0.768)\n",
      "Epoch: 105, loss: 0.009, val acc: 0.748 (best 0.748), test acc: 0.762 (best 0.768)\n",
      "Epoch: 110, loss: 0.008, val acc: 0.748 (best 0.748), test acc: 0.762 (best 0.768)\n",
      "Epoch: 115, loss: 0.007, val acc: 0.748 (best 0.748), test acc: 0.761 (best 0.768)\n",
      "Epoch: 120, loss: 0.007, val acc: 0.746 (best 0.748), test acc: 0.761 (best 0.768)\n",
      "Epoch: 125, loss: 0.006, val acc: 0.748 (best 0.748), test acc: 0.760 (best 0.768)\n",
      "Epoch: 130, loss: 0.006, val acc: 0.744 (best 0.748), test acc: 0.760 (best 0.768)\n",
      "Epoch: 135, loss: 0.005, val acc: 0.744 (best 0.748), test acc: 0.760 (best 0.768)\n",
      "Epoch: 140, loss: 0.005, val acc: 0.744 (best 0.748), test acc: 0.760 (best 0.768)\n",
      "Epoch: 145, loss: 0.005, val acc: 0.744 (best 0.748), test acc: 0.760 (best 0.768)\n",
      "Epoch: 150, loss: 0.005, val acc: 0.744 (best 0.748), test acc: 0.761 (best 0.768)\n",
      "Epoch: 155, loss: 0.004, val acc: 0.744 (best 0.748), test acc: 0.761 (best 0.768)\n",
      "Epoch: 160, loss: 0.004, val acc: 0.744 (best 0.748), test acc: 0.761 (best 0.768)\n",
      "Epoch: 165, loss: 0.004, val acc: 0.744 (best 0.748), test acc: 0.761 (best 0.768)\n",
      "Epoch: 170, loss: 0.004, val acc: 0.744 (best 0.748), test acc: 0.761 (best 0.768)\n",
      "Epoch: 175, loss: 0.004, val acc: 0.744 (best 0.748), test acc: 0.761 (best 0.768)\n",
      "Epoch: 180, loss: 0.003, val acc: 0.744 (best 0.748), test acc: 0.760 (best 0.768)\n",
      "Epoch: 185, loss: 0.003, val acc: 0.744 (best 0.748), test acc: 0.760 (best 0.768)\n",
      "Epoch: 190, loss: 0.003, val acc: 0.744 (best 0.748), test acc: 0.760 (best 0.768)\n",
      "Epoch: 195, loss: 0.003, val acc: 0.744 (best 0.748), test acc: 0.758 (best 0.768)\n"
     ]
    }
   ],
   "source": [
    "class WeightedGrapSAGENet(nn.Module):\n",
    "    def __init__(self, in_feats, h_feats, num_classes):\n",
    "        super(WeightedGrapSAGENet, self).__init__()\n",
    "        self.conv1 = WeightedSAGEConv(in_feats, h_feats)\n",
    "        self.conv2 = WeightedSAGEConv(h_feats, num_classes)\n",
    "\n",
    "    def forward(self, g, in_feat):\n",
    "        h = self.conv1(g, in_feat, torch.ones(g.num_edges()).to(g.device))\n",
    "        h = F.relu(h)\n",
    "        h = self.conv2(g, h, torch.ones(g.num_edges()).to(g.device))\n",
    "        return h\n",
    "\n",
    "model = WeightedGrapSAGENet(g.ndata['feat'].shape[1], 16, dataset.num_classes)\n",
    "train(g, model, 200)"
   ]
  },
  {
   "cell_type": "markdown",
   "metadata": {},
   "source": [
    "### Custom message and reduce functions examples"
   ]
  },
  {
   "cell_type": "code",
   "execution_count": 7,
   "metadata": {},
   "outputs": [],
   "source": [
    "def custom_u_mul_e(edges): # edges has 3 members: src, dst (source/destination node), data (edge feature)\n",
    "    return {'m': edges.src['h'] * edges.data['w']}\n",
    "\n",
    "def custom_sum(nodes):\n",
    "    return {'h': nodes.mailbox['m'].sum(1)}"
   ]
  },
  {
   "cell_type": "code",
   "execution_count": 8,
   "metadata": {},
   "outputs": [
    {
     "name": "stdout",
     "output_type": "stream",
     "text": [
      "tensor([[0., 0., 0.,  ..., 0., 0., 0.],\n",
      "        [0., 0., 0.,  ..., 0., 0., 0.],\n",
      "        [0., 0., 0.,  ..., 0., 0., 0.],\n",
      "        ...,\n",
      "        [0., 0., 0.,  ..., 0., 0., 0.],\n",
      "        [0., 0., 0.,  ..., 0., 0., 0.],\n",
      "        [0., 0., 0.,  ..., 0., 0., 0.]])\n"
     ]
    }
   ],
   "source": [
    "print(g.ndata['feat'])"
   ]
  },
  {
   "cell_type": "code",
   "execution_count": 12,
   "metadata": {},
   "outputs": [
    {
     "name": "stdout",
     "output_type": "stream",
     "text": [
      "2708\n",
      "1433\n"
     ]
    }
   ],
   "source": [
    "print(g.number_of_nodes())\n",
    "print(len(g.ndata['feat'][0]))"
   ]
  },
  {
   "cell_type": "code",
   "execution_count": null,
   "metadata": {},
   "outputs": [],
   "source": []
  }
 ],
 "metadata": {
  "kernelspec": {
   "display_name": "venv",
   "language": "python",
   "name": "venv"
  },
  "language_info": {
   "codemirror_mode": {
    "name": "ipython",
    "version": 3
   },
   "file_extension": ".py",
   "mimetype": "text/x-python",
   "name": "python",
   "nbconvert_exporter": "python",
   "pygments_lexer": "ipython3",
   "version": "3.8.5"
  }
 },
 "nbformat": 4,
 "nbformat_minor": 4
}

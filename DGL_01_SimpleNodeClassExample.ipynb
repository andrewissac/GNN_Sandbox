{
 "cells": [
  {
   "cell_type": "markdown",
   "metadata": {},
   "source": [
    "# Goal:\n",
    "\n",
    "- Load a DGL-provided dataset.\n",
    "\n",
    "- Build a GNN model with DGL-provided neural network modules.\n",
    "\n",
    "- Train and evaluate a GNN model for node classification on either CPU or GPU."
   ]
  },
  {
   "cell_type": "code",
   "execution_count": 1,
   "metadata": {},
   "outputs": [
    {
     "name": "stderr",
     "output_type": "stream",
     "text": [
      "Using backend: pytorch\n"
     ]
    }
   ],
   "source": [
    "import dgl\n",
    "import torch\n",
    "import torch.nn as nn\n",
    "import torch.nn.functional as F"
   ]
  },
  {
   "cell_type": "code",
   "execution_count": 2,
   "metadata": {},
   "outputs": [
    {
     "name": "stdout",
     "output_type": "stream",
     "text": [
      "  NumNodes: 2708\n",
      "  NumEdges: 10556\n",
      "  NumFeats: 1433\n",
      "  NumClasses: 7\n",
      "  NumTrainingSamples: 140\n",
      "  NumValidationSamples: 500\n",
      "  NumTestSamples: 1000\n",
      "Done loading data from cached files.\n",
      "Number of categories: 7\n"
     ]
    }
   ],
   "source": [
    "import dgl.data\n",
    "\n",
    "dataset = dgl.data.CoraGraphDataset()\n",
    "print(f'Number of categories: {dataset.num_classes}')"
   ]
  },
  {
   "cell_type": "code",
   "execution_count": 3,
   "metadata": {},
   "outputs": [],
   "source": [
    "g = dataset[0] # dataset has only one graph"
   ]
  },
  {
   "cell_type": "markdown",
   "metadata": {},
   "source": [
    "A DGL graph can store node features and edge features in two dictionary-like attributes called **ndata** and **edata**. In the DGL Cora dataset, the graph contains the following node features:\n",
    "\n",
    "- **train_mask**: A boolean tensor indicating whether the node is in the training set.\n",
    "\n",
    "- **val_mask**: A boolean tensor indicating whether the node is in the validation set.\n",
    "\n",
    "- **test_mask**: A boolean tensor indicating whether the node is in the test set.\n",
    "\n",
    "- **label**: The ground truth node category.\n",
    "\n",
    "- **feat**: The node features."
   ]
  },
  {
   "cell_type": "code",
   "execution_count": 4,
   "metadata": {},
   "outputs": [
    {
     "name": "stdout",
     "output_type": "stream",
     "text": [
      "Node features:\n",
      "{'feat': tensor([[0., 0., 0.,  ..., 0., 0., 0.],\n",
      "        [0., 0., 0.,  ..., 0., 0., 0.],\n",
      "        [0., 0., 0.,  ..., 0., 0., 0.],\n",
      "        ...,\n",
      "        [0., 0., 0.,  ..., 0., 0., 0.],\n",
      "        [0., 0., 0.,  ..., 0., 0., 0.],\n",
      "        [0., 0., 0.,  ..., 0., 0., 0.]]), 'label': tensor([3, 4, 4,  ..., 3, 3, 3]), 'test_mask': tensor([False, False, False,  ...,  True,  True,  True]), 'val_mask': tensor([False, False, False,  ..., False, False, False]), 'train_mask': tensor([ True,  True,  True,  ..., False, False, False])}\n",
      "Edge features:\n",
      "{}\n"
     ]
    }
   ],
   "source": [
    "print('Node features:')\n",
    "print(g.ndata)\n",
    "print('Edge features:')\n",
    "print(g.edata)"
   ]
  },
  {
   "cell_type": "markdown",
   "metadata": {},
   "source": [
    "# Simple 2 layer Graph Convolutional Network (GCN)"
   ]
  },
  {
   "cell_type": "code",
   "execution_count": 5,
   "metadata": {},
   "outputs": [],
   "source": [
    "from dgl.nn import GraphConv\n",
    "\n",
    "class GCN(nn.Module):\n",
    "    def __init__(self, input_dim, hidden_dim, num_classes):\n",
    "        super(GCN, self).__init__()\n",
    "        self.conv1 = GraphConv(input_dim, hidden_dim)\n",
    "        self.conv2 = GraphConv(hidden_dim, hidden_dim)\n",
    "    \n",
    "    def forward(self, g, input_feat):\n",
    "        h = self.conv1(g, input_feat)\n",
    "        h = F.relu(h)\n",
    "        h = self.conv2(g, h)\n",
    "        return h"
   ]
  },
  {
   "cell_type": "code",
   "execution_count": 6,
   "metadata": {},
   "outputs": [],
   "source": [
    "def train(g, model, epochs: int):\n",
    "    optimizer = torch.optim.Adam(model.parameters(), lr=0.01)\n",
    "    best_val_acc = 0\n",
    "    best_test_acc = 0\n",
    "    \n",
    "    features = g.ndata['feat']\n",
    "    labels = g.ndata['label']\n",
    "    train_mask = g.ndata['train_mask']\n",
    "    val_mask = g.ndata['val_mask']\n",
    "    test_mask = g.ndata['test_mask']\n",
    "    \n",
    "    for epoch in range(epochs):\n",
    "        # Forward\n",
    "        logits = model(g, features)\n",
    "        \n",
    "        # compute prediction\n",
    "        pred = logits.argmax(1)\n",
    "        \n",
    "        # compute loss (only of nodes in the training set!)\n",
    "        loss = F.cross_entropy(logits[train_mask], labels[train_mask])\n",
    "        \n",
    "        # compute accuracy on train/val/test\n",
    "        train_acc = (pred[train_mask] == labels[train_mask]).float().mean()\n",
    "        val_acc = (pred[val_mask] == labels[val_mask]).float().mean()\n",
    "        test_acc = (pred[test_mask] == labels[test_mask]).float().mean()\n",
    "        \n",
    "        # Save the best validation accuracy and the corresponding test accuracy.\n",
    "        if best_val_acc < val_acc:\n",
    "            best_val_acc = val_acc\n",
    "            best_test_acc = test_acc\n",
    "            \n",
    "        # Backward\n",
    "        optimizer.zero_grad()\n",
    "        loss.backward()\n",
    "        optimizer.step()\n",
    "        \n",
    "        if epoch % 5 == 0:\n",
    "            print(f'Epoch: {epoch}, loss: {loss:.3f}, val acc: {val_acc:.3f} (best {best_val_acc:.3f}), test acc: {test_acc:.3f} (best {best_test_acc:.3f})')\n"
   ]
  },
  {
   "cell_type": "code",
   "execution_count": 7,
   "metadata": {},
   "outputs": [
    {
     "name": "stdout",
     "output_type": "stream",
     "text": [
      "Epoch: 0, loss: 2.773, val acc: 0.136 (best 0.136), test acc: 0.118 (best 0.118)\n",
      "Epoch: 5, loss: 2.640, val acc: 0.490 (best 0.490), test acc: 0.480 (best 0.480)\n",
      "Epoch: 10, loss: 2.449, val acc: 0.500 (best 0.506), test acc: 0.486 (best 0.488)\n",
      "Epoch: 15, loss: 2.225, val acc: 0.436 (best 0.506), test acc: 0.428 (best 0.488)\n",
      "Epoch: 20, loss: 2.021, val acc: 0.354 (best 0.506), test acc: 0.362 (best 0.488)\n",
      "Epoch: 25, loss: 1.856, val acc: 0.344 (best 0.506), test acc: 0.355 (best 0.488)\n",
      "Epoch: 30, loss: 1.718, val acc: 0.480 (best 0.506), test acc: 0.505 (best 0.488)\n",
      "Epoch: 35, loss: 1.586, val acc: 0.566 (best 0.566), test acc: 0.554 (best 0.554)\n",
      "Epoch: 40, loss: 1.444, val acc: 0.704 (best 0.704), test acc: 0.704 (best 0.704)\n",
      "Epoch: 45, loss: 1.291, val acc: 0.746 (best 0.748), test acc: 0.756 (best 0.754)\n",
      "Epoch: 50, loss: 1.130, val acc: 0.752 (best 0.752), test acc: 0.753 (best 0.757)\n",
      "Epoch: 55, loss: 0.970, val acc: 0.762 (best 0.762), test acc: 0.761 (best 0.761)\n",
      "Epoch: 60, loss: 0.817, val acc: 0.774 (best 0.774), test acc: 0.774 (best 0.774)\n",
      "Epoch: 65, loss: 0.678, val acc: 0.774 (best 0.774), test acc: 0.777 (best 0.774)\n",
      "Epoch: 70, loss: 0.558, val acc: 0.772 (best 0.774), test acc: 0.776 (best 0.774)\n",
      "Epoch: 75, loss: 0.458, val acc: 0.774 (best 0.774), test acc: 0.780 (best 0.774)\n",
      "Epoch: 80, loss: 0.375, val acc: 0.774 (best 0.778), test acc: 0.782 (best 0.780)\n",
      "Epoch: 85, loss: 0.310, val acc: 0.778 (best 0.778), test acc: 0.786 (best 0.780)\n",
      "Epoch: 90, loss: 0.257, val acc: 0.778 (best 0.780), test acc: 0.784 (best 0.786)\n",
      "Epoch: 95, loss: 0.215, val acc: 0.780 (best 0.780), test acc: 0.782 (best 0.786)\n"
     ]
    }
   ],
   "source": [
    "g = g.to('cuda')\n",
    "model = GCN(g.ndata['feat'].shape[1], 16, dataset.num_classes).to('cuda')\n",
    "train(g, model, 100)"
   ]
  },
  {
   "cell_type": "code",
   "execution_count": null,
   "metadata": {},
   "outputs": [],
   "source": []
  }
 ],
 "metadata": {
  "kernelspec": {
   "display_name": "venv",
   "language": "python",
   "name": "venv"
  },
  "language_info": {
   "codemirror_mode": {
    "name": "ipython",
    "version": 3
   },
   "file_extension": ".py",
   "mimetype": "text/x-python",
   "name": "python",
   "nbconvert_exporter": "python",
   "pygments_lexer": "ipython3",
   "version": "3.8.5"
  }
 },
 "nbformat": 4,
 "nbformat_minor": 4
}

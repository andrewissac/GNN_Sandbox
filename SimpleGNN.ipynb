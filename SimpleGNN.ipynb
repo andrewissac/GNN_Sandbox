{
 "cells": [
  {
   "cell_type": "code",
   "execution_count": 1,
   "metadata": {},
   "outputs": [
    {
     "name": "stderr",
     "output_type": "stream",
     "text": [
      "Using backend: pytorch\n"
     ]
    }
   ],
   "source": [
    "import dgl\n",
    "import math\n",
    "import torch\n",
    "import numpy as np\n",
    "from os import path\n",
    "from pathlib import Path\n",
    "from dgl.data import DGLDataset\n",
    "from ToyDGLDataset import ToyDGLDataset, GetNodeFeatureVec, GetEdgeFeatureVec"
   ]
  },
  {
   "cell_type": "code",
   "execution_count": 2,
   "metadata": {},
   "outputs": [
    {
     "name": "stdout",
     "output_type": "stream",
     "text": [
      "Done loading data from cached files.\n"
     ]
    }
   ],
   "source": [
    "datasetName = 'ToyDataset01'\n",
    "datasetDir = path.join('/home/andrew/GNN_Sandbox/GraphDatasets', datasetName)\n",
    "dataset = ToyDGLDataset(datasetName, datasetDir)"
   ]
  },
  {
   "cell_type": "code",
   "execution_count": 3,
   "metadata": {},
   "outputs": [
    {
     "name": "stdout",
     "output_type": "stream",
     "text": [
      "Num Graph classes: 2\n",
      "Graph classes: [0, 1]\n",
      "Number of graphs: 20\n",
      "Number of all nodes in all graphs: 982\n",
      "Number of all edges in all graphs: 55454\n",
      "Dim node features: 5\n",
      "Node feature keys: ['P_t', 'Eta', 'Phi', 'Mass', 'Type']\n",
      "Dim edge features: 3\n",
      "Edge feature keys: ['DeltaPhi', 'DeltaEta', 'RapiditySquared']\n"
     ]
    }
   ],
   "source": [
    "dataset.printProperties()"
   ]
  },
  {
   "cell_type": "code",
   "execution_count": 5,
   "metadata": {},
   "outputs": [
    {
     "name": "stdout",
     "output_type": "stream",
     "text": [
      "20\n",
      "Graph(num_nodes=27, num_edges=702,\n",
      "      ndata_schemes={'Type': Scheme(shape=(), dtype=torch.float64), 'Mass': Scheme(shape=(), dtype=torch.float64), 'Eta': Scheme(shape=(), dtype=torch.float64), 'Phi': Scheme(shape=(), dtype=torch.float64), 'P_t': Scheme(shape=(), dtype=torch.float64)}\n",
      "      edata_schemes={'RapiditySquared': Scheme(shape=(), dtype=torch.float64), 'DeltaEta': Scheme(shape=(), dtype=torch.float64), 'DeltaPhi': Scheme(shape=(), dtype=torch.float64)})\n",
      "Label: 0\n",
      "tensor([[ 0.0000,  0.9674, -1.3320,  3.7294, 39.5653],\n",
      "        [ 1.0000,  0.3934, -1.3661,  1.9948, 73.1044],\n",
      "        [ 1.0000,  0.5667,  8.0511,  5.2543, 12.7182],\n",
      "        [ 1.0000,  0.1026,  1.7799,  6.2018, 27.1879],\n",
      "        [ 1.0000,  0.7496,  8.1134,  4.1509, 15.2236],\n",
      "        [ 2.0000,  0.5874, -0.2570,  0.3350, 76.8397],\n",
      "        [ 2.0000,  0.9794,  2.1959,  3.6444, 13.5918],\n",
      "        [ 1.0000,  0.8795, -3.0623,  4.4351, 27.9040],\n",
      "        [ 0.0000,  0.3838, -8.1866,  2.3626, 49.4673],\n",
      "        [ 0.0000,  0.8694, -4.4079,  6.0767, 32.4242],\n",
      "        [ 1.0000,  0.3085, -5.2582,  5.1391, 79.8573],\n",
      "        [ 1.0000,  0.7758, -8.3563,  4.9275, 75.9240],\n",
      "        [ 1.0000,  0.9418, -2.9472,  1.9089, 33.9893],\n",
      "        [ 2.0000,  0.1067,  1.3355,  1.1998, 39.5686],\n",
      "        [ 0.0000,  0.1919, -0.9521,  6.1801, 77.8903],\n",
      "        [ 1.0000,  0.6101, -1.4621,  4.0773, 39.6241],\n",
      "        [ 1.0000,  0.2480,  4.4657,  3.0238, 53.0045],\n",
      "        [ 2.0000,  0.8403,  4.2056,  2.1059, 59.4497],\n",
      "        [ 0.0000,  0.2966, -1.5650,  5.0762, 32.7625],\n",
      "        [ 1.0000,  0.1035, -6.5537,  5.0882, 69.3063],\n",
      "        [ 1.0000,  0.2847,  3.0186,  1.5010, 11.8629],\n",
      "        [ 1.0000,  0.2536, -5.8538,  3.2886, 45.8596],\n",
      "        [ 1.0000,  0.9631,  6.4019,  1.9021, 25.0803],\n",
      "        [ 2.0000,  0.2842,  7.0903,  5.5619, 66.8638],\n",
      "        [ 1.0000,  0.5878,  0.4132,  2.6722, 60.6635],\n",
      "        [ 1.0000,  0.6918, -4.7348,  4.4073, 66.1640],\n",
      "        [ 1.0000,  0.9901,  9.0080,  1.1415, 76.6520]])\n"
     ]
    }
   ],
   "source": [
    "print(len(dataset))\n",
    "graph, label = dataset[0]\n",
    "print(graph)\n",
    "print(f'Label: {label}')\n",
    "print(GetNodeFeatureVec(graph))"
   ]
  },
  {
   "cell_type": "code",
   "execution_count": 6,
   "metadata": {},
   "outputs": [],
   "source": [
    "from dgl.dataloading import GraphDataLoader\n",
    "from torch.utils.data.sampler import SubsetRandomSampler\n",
    "\n",
    "num_examples = len(dataset)\n",
    "splitIndices = dataset.get_split_indices()\n",
    "\n",
    "train_sampler = SubsetRandomSampler(splitIndices['train'])\n",
    "test_sampler = SubsetRandomSampler(splitIndices['test'])\n",
    "\n",
    "train_dataloader = GraphDataLoader(dataset, sampler=train_sampler, batch_size=32, drop_last=False)\n",
    "test_dataloader = GraphDataLoader(dataset, sampler=test_sampler, batch_size=32, drop_last=False)"
   ]
  },
  {
   "cell_type": "code",
   "execution_count": 7,
   "metadata": {},
   "outputs": [
    {
     "name": "stdout",
     "output_type": "stream",
     "text": [
      "[Graph(num_nodes=554, num_edges=31144,\n",
      "      ndata_schemes={'Type': Scheme(shape=(), dtype=torch.float64), 'Mass': Scheme(shape=(), dtype=torch.float64), 'Eta': Scheme(shape=(), dtype=torch.float64), 'Phi': Scheme(shape=(), dtype=torch.float64), 'P_t': Scheme(shape=(), dtype=torch.float64)}\n",
      "      edata_schemes={'RapiditySquared': Scheme(shape=(), dtype=torch.float64), 'DeltaEta': Scheme(shape=(), dtype=torch.float64), 'DeltaPhi': Scheme(shape=(), dtype=torch.float64)}), tensor([1, 0, 1, 1, 0, 1, 0, 1, 0, 1, 0, 0])]\n"
     ]
    }
   ],
   "source": [
    "it = iter(train_dataloader)\n",
    "batch = next(it)\n",
    "print(batch)"
   ]
  },
  {
   "cell_type": "code",
   "execution_count": 8,
   "metadata": {},
   "outputs": [
    {
     "name": "stdout",
     "output_type": "stream",
     "text": [
      "Number of nodes for each graph element in the batch: tensor([59, 25, 70, 68, 27, 63, 30, 56, 26, 88, 17, 25])\n",
      "Number of edges for each graph element in the batch: tensor([3422,  600, 4830, 4556,  702, 3906,  870, 3080,  650, 7656,  272,  600])\n",
      "tensor([1, 0, 1, 1, 0, 1, 0, 1, 0, 1, 0, 0])\n",
      "The original graphs in the minibatch:\n",
      "[Graph(num_nodes=59, num_edges=3422,\n",
      "      ndata_schemes={'Type': Scheme(shape=(), dtype=torch.float64), 'Mass': Scheme(shape=(), dtype=torch.float64), 'Eta': Scheme(shape=(), dtype=torch.float64), 'Phi': Scheme(shape=(), dtype=torch.float64), 'P_t': Scheme(shape=(), dtype=torch.float64)}\n",
      "      edata_schemes={'RapiditySquared': Scheme(shape=(), dtype=torch.float64), 'DeltaEta': Scheme(shape=(), dtype=torch.float64), 'DeltaPhi': Scheme(shape=(), dtype=torch.float64)}), Graph(num_nodes=25, num_edges=600,\n",
      "      ndata_schemes={'Type': Scheme(shape=(), dtype=torch.float64), 'Mass': Scheme(shape=(), dtype=torch.float64), 'Eta': Scheme(shape=(), dtype=torch.float64), 'Phi': Scheme(shape=(), dtype=torch.float64), 'P_t': Scheme(shape=(), dtype=torch.float64)}\n",
      "      edata_schemes={'RapiditySquared': Scheme(shape=(), dtype=torch.float64), 'DeltaEta': Scheme(shape=(), dtype=torch.float64), 'DeltaPhi': Scheme(shape=(), dtype=torch.float64)}), Graph(num_nodes=70, num_edges=4830,\n",
      "      ndata_schemes={'Type': Scheme(shape=(), dtype=torch.float64), 'Mass': Scheme(shape=(), dtype=torch.float64), 'Eta': Scheme(shape=(), dtype=torch.float64), 'Phi': Scheme(shape=(), dtype=torch.float64), 'P_t': Scheme(shape=(), dtype=torch.float64)}\n",
      "      edata_schemes={'RapiditySquared': Scheme(shape=(), dtype=torch.float64), 'DeltaEta': Scheme(shape=(), dtype=torch.float64), 'DeltaPhi': Scheme(shape=(), dtype=torch.float64)}), Graph(num_nodes=68, num_edges=4556,\n",
      "      ndata_schemes={'Type': Scheme(shape=(), dtype=torch.float64), 'Mass': Scheme(shape=(), dtype=torch.float64), 'Eta': Scheme(shape=(), dtype=torch.float64), 'Phi': Scheme(shape=(), dtype=torch.float64), 'P_t': Scheme(shape=(), dtype=torch.float64)}\n",
      "      edata_schemes={'RapiditySquared': Scheme(shape=(), dtype=torch.float64), 'DeltaEta': Scheme(shape=(), dtype=torch.float64), 'DeltaPhi': Scheme(shape=(), dtype=torch.float64)}), Graph(num_nodes=27, num_edges=702,\n",
      "      ndata_schemes={'Type': Scheme(shape=(), dtype=torch.float64), 'Mass': Scheme(shape=(), dtype=torch.float64), 'Eta': Scheme(shape=(), dtype=torch.float64), 'Phi': Scheme(shape=(), dtype=torch.float64), 'P_t': Scheme(shape=(), dtype=torch.float64)}\n",
      "      edata_schemes={'RapiditySquared': Scheme(shape=(), dtype=torch.float64), 'DeltaEta': Scheme(shape=(), dtype=torch.float64), 'DeltaPhi': Scheme(shape=(), dtype=torch.float64)}), Graph(num_nodes=63, num_edges=3906,\n",
      "      ndata_schemes={'Type': Scheme(shape=(), dtype=torch.float64), 'Mass': Scheme(shape=(), dtype=torch.float64), 'Eta': Scheme(shape=(), dtype=torch.float64), 'Phi': Scheme(shape=(), dtype=torch.float64), 'P_t': Scheme(shape=(), dtype=torch.float64)}\n",
      "      edata_schemes={'RapiditySquared': Scheme(shape=(), dtype=torch.float64), 'DeltaEta': Scheme(shape=(), dtype=torch.float64), 'DeltaPhi': Scheme(shape=(), dtype=torch.float64)}), Graph(num_nodes=30, num_edges=870,\n",
      "      ndata_schemes={'Type': Scheme(shape=(), dtype=torch.float64), 'Mass': Scheme(shape=(), dtype=torch.float64), 'Eta': Scheme(shape=(), dtype=torch.float64), 'Phi': Scheme(shape=(), dtype=torch.float64), 'P_t': Scheme(shape=(), dtype=torch.float64)}\n",
      "      edata_schemes={'RapiditySquared': Scheme(shape=(), dtype=torch.float64), 'DeltaEta': Scheme(shape=(), dtype=torch.float64), 'DeltaPhi': Scheme(shape=(), dtype=torch.float64)}), Graph(num_nodes=56, num_edges=3080,\n",
      "      ndata_schemes={'Type': Scheme(shape=(), dtype=torch.float64), 'Mass': Scheme(shape=(), dtype=torch.float64), 'Eta': Scheme(shape=(), dtype=torch.float64), 'Phi': Scheme(shape=(), dtype=torch.float64), 'P_t': Scheme(shape=(), dtype=torch.float64)}\n",
      "      edata_schemes={'RapiditySquared': Scheme(shape=(), dtype=torch.float64), 'DeltaEta': Scheme(shape=(), dtype=torch.float64), 'DeltaPhi': Scheme(shape=(), dtype=torch.float64)}), Graph(num_nodes=26, num_edges=650,\n",
      "      ndata_schemes={'Type': Scheme(shape=(), dtype=torch.float64), 'Mass': Scheme(shape=(), dtype=torch.float64), 'Eta': Scheme(shape=(), dtype=torch.float64), 'Phi': Scheme(shape=(), dtype=torch.float64), 'P_t': Scheme(shape=(), dtype=torch.float64)}\n",
      "      edata_schemes={'RapiditySquared': Scheme(shape=(), dtype=torch.float64), 'DeltaEta': Scheme(shape=(), dtype=torch.float64), 'DeltaPhi': Scheme(shape=(), dtype=torch.float64)}), Graph(num_nodes=88, num_edges=7656,\n",
      "      ndata_schemes={'Type': Scheme(shape=(), dtype=torch.float64), 'Mass': Scheme(shape=(), dtype=torch.float64), 'Eta': Scheme(shape=(), dtype=torch.float64), 'Phi': Scheme(shape=(), dtype=torch.float64), 'P_t': Scheme(shape=(), dtype=torch.float64)}\n",
      "      edata_schemes={'RapiditySquared': Scheme(shape=(), dtype=torch.float64), 'DeltaEta': Scheme(shape=(), dtype=torch.float64), 'DeltaPhi': Scheme(shape=(), dtype=torch.float64)}), Graph(num_nodes=17, num_edges=272,\n",
      "      ndata_schemes={'Type': Scheme(shape=(), dtype=torch.float64), 'Mass': Scheme(shape=(), dtype=torch.float64), 'Eta': Scheme(shape=(), dtype=torch.float64), 'Phi': Scheme(shape=(), dtype=torch.float64), 'P_t': Scheme(shape=(), dtype=torch.float64)}\n",
      "      edata_schemes={'RapiditySquared': Scheme(shape=(), dtype=torch.float64), 'DeltaEta': Scheme(shape=(), dtype=torch.float64), 'DeltaPhi': Scheme(shape=(), dtype=torch.float64)}), Graph(num_nodes=25, num_edges=600,\n",
      "      ndata_schemes={'Type': Scheme(shape=(), dtype=torch.float64), 'Mass': Scheme(shape=(), dtype=torch.float64), 'Eta': Scheme(shape=(), dtype=torch.float64), 'Phi': Scheme(shape=(), dtype=torch.float64), 'P_t': Scheme(shape=(), dtype=torch.float64)}\n",
      "      edata_schemes={'RapiditySquared': Scheme(shape=(), dtype=torch.float64), 'DeltaEta': Scheme(shape=(), dtype=torch.float64), 'DeltaPhi': Scheme(shape=(), dtype=torch.float64)})]\n"
     ]
    }
   ],
   "source": [
    "batched_graph, labels = batch\n",
    "print('Number of nodes for each graph element in the batch:', batched_graph.batch_num_nodes())\n",
    "print('Number of edges for each graph element in the batch:', batched_graph.batch_num_edges())\n",
    "print(labels)\n",
    "# Recover the original graph elements from the minibatch\n",
    "graphs = dgl.unbatch(batched_graph)\n",
    "print('The original graphs in the minibatch:')\n",
    "print(graphs)"
   ]
  },
  {
   "cell_type": "code",
   "execution_count": 9,
   "metadata": {},
   "outputs": [],
   "source": [
    "from dgl.nn import GraphConv\n",
    "import torch.nn as nn\n",
    "import torch.nn.functional as F\n",
    "\n",
    "class GCN(nn.Module):\n",
    "    def __init__(self, in_feats, h_feats, num_classes):\n",
    "        super(GCN, self).__init__()\n",
    "        self.conv1 = GraphConv(in_feats, h_feats)\n",
    "        self.conv2 = GraphConv(h_feats, num_classes)\n",
    "\n",
    "    def forward(self, g, in_feat):\n",
    "        h = self.conv1(g, in_feat)\n",
    "        h = F.relu(h)\n",
    "        h = self.conv2(g, h)\n",
    "        g.ndata['h'] = h\n",
    "        return dgl.mean_nodes(g, 'h')"
   ]
  },
  {
   "cell_type": "code",
   "execution_count": 10,
   "metadata": {},
   "outputs": [
    {
     "name": "stdout",
     "output_type": "stream",
     "text": [
      "Epoch: 0, Loss: 5.563\n",
      "Epoch: 1, Loss: 4.493\n",
      "Epoch: 2, Loss: 3.434\n",
      "Epoch: 3, Loss: 2.392\n",
      "Epoch: 4, Loss: 1.431\n",
      "Epoch: 5, Loss: 0.827\n",
      "Epoch: 6, Loss: 0.943\n",
      "Epoch: 7, Loss: 1.346\n",
      "Epoch: 8, Loss: 1.631\n",
      "Epoch: 9, Loss: 1.753\n",
      "Epoch: 10, Loss: 1.739\n",
      "Epoch: 11, Loss: 1.623\n",
      "Epoch: 12, Loss: 1.435\n",
      "Epoch: 13, Loss: 1.208\n",
      "Epoch: 14, Loss: 0.985\n",
      "Epoch: 15, Loss: 0.821\n",
      "Epoch: 16, Loss: 0.766\n",
      "Epoch: 17, Loss: 0.819\n",
      "Epoch: 18, Loss: 0.921\n",
      "Epoch: 19, Loss: 1.007\n",
      "Epoch: 20, Loss: 1.043\n",
      "Epoch: 21, Loss: 1.027\n",
      "Epoch: 22, Loss: 0.967\n",
      "Epoch: 23, Loss: 0.885\n",
      "Epoch: 24, Loss: 0.809\n",
      "Epoch: 25, Loss: 0.761\n",
      "Epoch: 26, Loss: 0.752\n",
      "Epoch: 27, Loss: 0.774\n",
      "Epoch: 28, Loss: 0.809\n",
      "Epoch: 29, Loss: 0.837\n",
      "Epoch: 30, Loss: 0.849\n",
      "Epoch: 31, Loss: 0.841\n",
      "Epoch: 32, Loss: 0.817\n",
      "Epoch: 33, Loss: 0.786\n",
      "Epoch: 34, Loss: 0.758\n",
      "Epoch: 35, Loss: 0.742\n",
      "Epoch: 36, Loss: 0.740\n",
      "Epoch: 37, Loss: 0.749\n",
      "Epoch: 38, Loss: 0.763\n",
      "Epoch: 39, Loss: 0.772\n",
      "Epoch: 40, Loss: 0.773\n",
      "Epoch: 41, Loss: 0.765\n",
      "Epoch: 42, Loss: 0.752\n",
      "Epoch: 43, Loss: 0.739\n",
      "Epoch: 44, Loss: 0.730\n",
      "Epoch: 45, Loss: 0.728\n",
      "Epoch: 46, Loss: 0.730\n",
      "Epoch: 47, Loss: 0.735\n",
      "Epoch: 48, Loss: 0.738\n",
      "Epoch: 49, Loss: 0.738\n",
      "Test accuracy: 0.5\n"
     ]
    }
   ],
   "source": [
    "# Create the model with given dimensions\n",
    "model = GCN(dataset.dim_nfeats, 16, dataset.num_graph_classes)\n",
    "optimizer = torch.optim.Adam(model.parameters(), lr=0.01)\n",
    "\n",
    "for epoch in range(50):\n",
    "    for batched_graph, labels in train_dataloader:\n",
    "        nodeFeatVec = GetNodeFeatureVec(batched_graph)\n",
    "        pred = model(batched_graph, nodeFeatVec)\n",
    "        loss = F.cross_entropy(pred, labels)\n",
    "        optimizer.zero_grad()\n",
    "        loss.backward()\n",
    "        optimizer.step()\n",
    "    #if epoch % 5 == 0:\n",
    "    print(f'Epoch: {epoch}, Loss: {loss:.3f}')\n",
    "\n",
    "num_correct = 0\n",
    "num_tests = 0\n",
    "for batched_graph, labels in test_dataloader:\n",
    "    nodeFeatVec = GetNodeFeatureVec(batched_graph)\n",
    "    pred = model(batched_graph, nodeFeatVec)\n",
    "    num_correct += (pred.argmax(1) == labels).sum().item()\n",
    "    num_tests += len(labels)\n",
    "\n",
    "print('Test accuracy:', num_correct / num_tests)"
   ]
  },
  {
   "cell_type": "code",
   "execution_count": 11,
   "metadata": {},
   "outputs": [
    {
     "name": "stdout",
     "output_type": "stream",
     "text": [
      "tensor([ 0,  1,  2,  3,  4,  5,  6,  7,  8,  9, 10, 11, 12, 13, 14, 15, 16, 17,\n",
      "        18, 19, 20, 21, 22, 23, 24, 25, 26])\n"
     ]
    }
   ],
   "source": [
    "print(graph.nodes())print(GetEdges)"
   ]
  },
  {
   "cell_type": "code",
   "execution_count": 14,
   "metadata": {},
   "outputs": [
    {
     "name": "stdout",
     "output_type": "stream",
     "text": [
      "NodeSpace(data={'Type': tensor([0.], dtype=torch.float64), 'Mass': tensor([0.9674], dtype=torch.float64), 'Eta': tensor([-1.3320], dtype=torch.float64), 'Phi': tensor([3.7294], dtype=torch.float64), 'P_t': tensor([39.5653], dtype=torch.float64)})\n"
     ]
    }
   ],
   "source": [
    "print(graph.dstnodes[0])"
   ]
  },
  {
   "cell_type": "code",
   "execution_count": 18,
   "metadata": {},
   "outputs": [
    {
     "name": "stdout",
     "output_type": "stream",
     "text": [
      "tensor([[ 0,  1],\n",
      "        [ 0,  2],\n",
      "        [ 0,  3],\n",
      "        ...,\n",
      "        [26, 23],\n",
      "        [26, 24],\n",
      "        [26, 25]])\n",
      "NodeSpace(data={'Type': tensor([0., 1.], dtype=torch.float64), 'Mass': tensor([0.9674, 0.3934], dtype=torch.float64), 'Eta': tensor([-1.3320, -1.3661], dtype=torch.float64), 'Phi': tensor([3.7294, 1.9948], dtype=torch.float64), 'P_t': tensor([39.5653, 73.1044], dtype=torch.float64)})\n"
     ]
    }
   ],
   "source": [
    "print(torch.dstack(graph.edges()).squeeze())\n",
    "print(graph.nodes[[0,1]])\n"
   ]
  },
  {
   "cell_type": "code",
   "execution_count": 20,
   "metadata": {},
   "outputs": [
    {
     "name": "stdout",
     "output_type": "stream",
     "text": [
      "(tensor([0, 0, 0, 0, 0, 0, 0, 0, 0, 0, 0, 0, 0, 0, 0, 0, 0, 0, 0, 0, 0, 0, 0, 0,\n",
      "        0, 0]), tensor([ 1,  2,  3,  4,  5,  6,  7,  8,  9, 10, 11, 12, 13, 14, 15, 16, 17, 18,\n",
      "        19, 20, 21, 22, 23, 24, 25, 26]))\n"
     ]
    }
   ],
   "source": [
    "print(graph.out_edges(0))"
   ]
  },
  {
   "cell_type": "code",
   "execution_count": 64,
   "metadata": {},
   "outputs": [
    {
     "name": "stdout",
     "output_type": "stream",
     "text": [
      "tensor([ 0,  1,  2,  3,  4,  5,  6,  7,  8,  9, 10, 11, 12, 13, 14, 15, 16, 17,\n",
      "        18, 19, 20, 21, 22, 23, 24, 25])\n",
      "tensor([[ 0,  1],\n",
      "        [ 0,  2],\n",
      "        [ 0,  3],\n",
      "        [ 0,  4],\n",
      "        [ 0,  5],\n",
      "        [ 0,  6],\n",
      "        [ 0,  7],\n",
      "        [ 0,  8],\n",
      "        [ 0,  9],\n",
      "        [ 0, 10],\n",
      "        [ 0, 11],\n",
      "        [ 0, 12],\n",
      "        [ 0, 13],\n",
      "        [ 0, 14],\n",
      "        [ 0, 15],\n",
      "        [ 0, 16],\n",
      "        [ 0, 17],\n",
      "        [ 0, 18],\n",
      "        [ 0, 19],\n",
      "        [ 0, 20],\n",
      "        [ 0, 21],\n",
      "        [ 0, 22],\n",
      "        [ 0, 23],\n",
      "        [ 0, 24],\n",
      "        [ 0, 25],\n",
      "        [ 0, 26]])\n",
      "tensor([ 0,  1,  2,  3,  4,  5,  6,  7,  8,  9, 10, 11, 12, 13, 14, 15, 16, 17,\n",
      "        18, 19, 20, 21, 22, 23, 24, 25])\n",
      "(tensor([ 0,  0,  0,  0,  0,  0,  0,  0,  0,  0,  0,  0,  0,  0,  0,  0,  0,  0,\n",
      "         0,  0,  0,  0,  0,  0,  0,  0,  1,  1,  1,  1,  1,  1,  1,  1,  1,  1,\n",
      "         1,  1,  1,  1,  1,  1,  1,  1,  1,  1,  1,  1,  1,  1,  1,  1,  2,  2,\n",
      "         2,  2,  2,  2,  2,  2,  2,  2,  2,  2,  2,  2,  2,  2,  2,  2,  2,  2,\n",
      "         2,  2,  2,  2,  2,  2,  3,  3,  3,  3,  3,  3,  3,  3,  3,  3,  3,  3,\n",
      "         3,  3,  3,  3,  3,  3,  3,  3,  3,  3,  3,  3,  3,  3,  4,  4,  4,  4,\n",
      "         4,  4,  4,  4,  4,  4,  4,  4,  4,  4,  4,  4,  4,  4,  4,  4,  4,  4,\n",
      "         4,  4,  4,  4,  5,  5,  5,  5,  5,  5,  5,  5,  5,  5,  5,  5,  5,  5,\n",
      "         5,  5,  5,  5,  5,  5,  5,  5,  5,  5,  5,  5,  6,  6,  6,  6,  6,  6,\n",
      "         6,  6,  6,  6,  6,  6,  6,  6,  6,  6,  6,  6,  6,  6,  6,  6,  6,  6,\n",
      "         6,  6,  7,  7,  7,  7,  7,  7,  7,  7,  7,  7,  7,  7,  7,  7,  7,  7,\n",
      "         7,  7,  7,  7,  7,  7,  7,  7,  7,  7,  8,  8,  8,  8,  8,  8,  8,  8,\n",
      "         8,  8,  8,  8,  8,  8,  8,  8,  8,  8,  8,  8,  8,  8,  8,  8,  8,  8,\n",
      "         9,  9,  9,  9,  9,  9,  9,  9,  9,  9,  9,  9,  9,  9,  9,  9,  9,  9,\n",
      "         9,  9,  9,  9,  9,  9,  9,  9, 10, 10, 10, 10, 10, 10, 10, 10, 10, 10,\n",
      "        10, 10, 10, 10, 10, 10, 10, 10, 10, 10, 10, 10, 10, 10, 10, 10, 11, 11,\n",
      "        11, 11, 11, 11, 11, 11, 11, 11, 11, 11, 11, 11, 11, 11, 11, 11, 11, 11,\n",
      "        11, 11, 11, 11, 11, 11, 12, 12, 12, 12, 12, 12, 12, 12, 12, 12, 12, 12,\n",
      "        12, 12, 12, 12, 12, 12, 12, 12, 12, 12, 12, 12, 12, 12, 13, 13, 13, 13,\n",
      "        13, 13, 13, 13, 13, 13, 13, 13, 13, 13, 13, 13, 13, 13, 13, 13, 13, 13,\n",
      "        13, 13, 13, 13, 14, 14, 14, 14, 14, 14, 14, 14, 14, 14, 14, 14, 14, 14,\n",
      "        14, 14, 14, 14, 14, 14, 14, 14, 14, 14, 14, 14, 15, 15, 15, 15, 15, 15,\n",
      "        15, 15, 15, 15, 15, 15, 15, 15, 15, 15, 15, 15, 15, 15, 15, 15, 15, 15,\n",
      "        15, 15, 16, 16, 16, 16, 16, 16, 16, 16, 16, 16, 16, 16, 16, 16, 16, 16,\n",
      "        16, 16, 16, 16, 16, 16, 16, 16, 16, 16, 17, 17, 17, 17, 17, 17, 17, 17,\n",
      "        17, 17, 17, 17, 17, 17, 17, 17, 17, 17, 17, 17, 17, 17, 17, 17, 17, 17,\n",
      "        18, 18, 18, 18, 18, 18, 18, 18, 18, 18, 18, 18, 18, 18, 18, 18, 18, 18,\n",
      "        18, 18, 18, 18, 18, 18, 18, 18, 19, 19, 19, 19, 19, 19, 19, 19, 19, 19,\n",
      "        19, 19, 19, 19, 19, 19, 19, 19, 19, 19, 19, 19, 19, 19, 19, 19, 20, 20,\n",
      "        20, 20, 20, 20, 20, 20, 20, 20, 20, 20, 20, 20, 20, 20, 20, 20, 20, 20,\n",
      "        20, 20, 20, 20, 20, 20, 21, 21, 21, 21, 21, 21, 21, 21, 21, 21, 21, 21,\n",
      "        21, 21, 21, 21, 21, 21, 21, 21, 21, 21, 21, 21, 21, 21, 22, 22, 22, 22,\n",
      "        22, 22, 22, 22, 22, 22, 22, 22, 22, 22, 22, 22, 22, 22, 22, 22, 22, 22,\n",
      "        22, 22, 22, 22, 23, 23, 23, 23, 23, 23, 23, 23, 23, 23, 23, 23, 23, 23,\n",
      "        23, 23, 23, 23, 23, 23, 23, 23, 23, 23, 23, 23, 24, 24, 24, 24, 24, 24,\n",
      "        24, 24, 24, 24, 24, 24, 24, 24, 24, 24, 24, 24, 24, 24, 24, 24, 24, 24,\n",
      "        24, 24, 25, 25, 25, 25, 25, 25, 25, 25, 25, 25, 25, 25, 25, 25, 25, 25,\n",
      "        25, 25, 25, 25, 25, 25, 25, 25, 25, 25, 26, 26, 26, 26, 26, 26, 26, 26,\n",
      "        26, 26, 26, 26, 26, 26, 26, 26, 26, 26, 26, 26, 26, 26, 26, 26, 26, 26]), tensor([ 1,  2,  3,  4,  5,  6,  7,  8,  9, 10, 11, 12, 13, 14, 15, 16, 17, 18,\n",
      "        19, 20, 21, 22, 23, 24, 25, 26,  0,  2,  3,  4,  5,  6,  7,  8,  9, 10,\n",
      "        11, 12, 13, 14, 15, 16, 17, 18, 19, 20, 21, 22, 23, 24, 25, 26,  0,  1,\n",
      "         3,  4,  5,  6,  7,  8,  9, 10, 11, 12, 13, 14, 15, 16, 17, 18, 19, 20,\n",
      "        21, 22, 23, 24, 25, 26,  0,  1,  2,  4,  5,  6,  7,  8,  9, 10, 11, 12,\n",
      "        13, 14, 15, 16, 17, 18, 19, 20, 21, 22, 23, 24, 25, 26,  0,  1,  2,  3,\n",
      "         5,  6,  7,  8,  9, 10, 11, 12, 13, 14, 15, 16, 17, 18, 19, 20, 21, 22,\n",
      "        23, 24, 25, 26,  0,  1,  2,  3,  4,  6,  7,  8,  9, 10, 11, 12, 13, 14,\n",
      "        15, 16, 17, 18, 19, 20, 21, 22, 23, 24, 25, 26,  0,  1,  2,  3,  4,  5,\n",
      "         7,  8,  9, 10, 11, 12, 13, 14, 15, 16, 17, 18, 19, 20, 21, 22, 23, 24,\n",
      "        25, 26,  0,  1,  2,  3,  4,  5,  6,  8,  9, 10, 11, 12, 13, 14, 15, 16,\n",
      "        17, 18, 19, 20, 21, 22, 23, 24, 25, 26,  0,  1,  2,  3,  4,  5,  6,  7,\n",
      "         9, 10, 11, 12, 13, 14, 15, 16, 17, 18, 19, 20, 21, 22, 23, 24, 25, 26,\n",
      "         0,  1,  2,  3,  4,  5,  6,  7,  8, 10, 11, 12, 13, 14, 15, 16, 17, 18,\n",
      "        19, 20, 21, 22, 23, 24, 25, 26,  0,  1,  2,  3,  4,  5,  6,  7,  8,  9,\n",
      "        11, 12, 13, 14, 15, 16, 17, 18, 19, 20, 21, 22, 23, 24, 25, 26,  0,  1,\n",
      "         2,  3,  4,  5,  6,  7,  8,  9, 10, 12, 13, 14, 15, 16, 17, 18, 19, 20,\n",
      "        21, 22, 23, 24, 25, 26,  0,  1,  2,  3,  4,  5,  6,  7,  8,  9, 10, 11,\n",
      "        13, 14, 15, 16, 17, 18, 19, 20, 21, 22, 23, 24, 25, 26,  0,  1,  2,  3,\n",
      "         4,  5,  6,  7,  8,  9, 10, 11, 12, 14, 15, 16, 17, 18, 19, 20, 21, 22,\n",
      "        23, 24, 25, 26,  0,  1,  2,  3,  4,  5,  6,  7,  8,  9, 10, 11, 12, 13,\n",
      "        15, 16, 17, 18, 19, 20, 21, 22, 23, 24, 25, 26,  0,  1,  2,  3,  4,  5,\n",
      "         6,  7,  8,  9, 10, 11, 12, 13, 14, 16, 17, 18, 19, 20, 21, 22, 23, 24,\n",
      "        25, 26,  0,  1,  2,  3,  4,  5,  6,  7,  8,  9, 10, 11, 12, 13, 14, 15,\n",
      "        17, 18, 19, 20, 21, 22, 23, 24, 25, 26,  0,  1,  2,  3,  4,  5,  6,  7,\n",
      "         8,  9, 10, 11, 12, 13, 14, 15, 16, 18, 19, 20, 21, 22, 23, 24, 25, 26,\n",
      "         0,  1,  2,  3,  4,  5,  6,  7,  8,  9, 10, 11, 12, 13, 14, 15, 16, 17,\n",
      "        19, 20, 21, 22, 23, 24, 25, 26,  0,  1,  2,  3,  4,  5,  6,  7,  8,  9,\n",
      "        10, 11, 12, 13, 14, 15, 16, 17, 18, 20, 21, 22, 23, 24, 25, 26,  0,  1,\n",
      "         2,  3,  4,  5,  6,  7,  8,  9, 10, 11, 12, 13, 14, 15, 16, 17, 18, 19,\n",
      "        21, 22, 23, 24, 25, 26,  0,  1,  2,  3,  4,  5,  6,  7,  8,  9, 10, 11,\n",
      "        12, 13, 14, 15, 16, 17, 18, 19, 20, 22, 23, 24, 25, 26,  0,  1,  2,  3,\n",
      "         4,  5,  6,  7,  8,  9, 10, 11, 12, 13, 14, 15, 16, 17, 18, 19, 20, 21,\n",
      "        23, 24, 25, 26,  0,  1,  2,  3,  4,  5,  6,  7,  8,  9, 10, 11, 12, 13,\n",
      "        14, 15, 16, 17, 18, 19, 20, 21, 22, 24, 25, 26,  0,  1,  2,  3,  4,  5,\n",
      "         6,  7,  8,  9, 10, 11, 12, 13, 14, 15, 16, 17, 18, 19, 20, 21, 22, 23,\n",
      "        25, 26,  0,  1,  2,  3,  4,  5,  6,  7,  8,  9, 10, 11, 12, 13, 14, 15,\n",
      "        16, 17, 18, 19, 20, 21, 22, 23, 24, 26,  0,  1,  2,  3,  4,  5,  6,  7,\n",
      "         8,  9, 10, 11, 12, 13, 14, 15, 16, 17, 18, 19, 20, 21, 22, 23, 24, 25]), tensor([  0,   1,   2,   3,   4,   5,   6,   7,   8,   9,  10,  11,  12,  13,\n",
      "         14,  15,  16,  17,  18,  19,  20,  21,  22,  23,  24,  25,  26,  27,\n",
      "         28,  29,  30,  31,  32,  33,  34,  35,  36,  37,  38,  39,  40,  41,\n",
      "         42,  43,  44,  45,  46,  47,  48,  49,  50,  51,  52,  53,  54,  55,\n",
      "         56,  57,  58,  59,  60,  61,  62,  63,  64,  65,  66,  67,  68,  69,\n",
      "         70,  71,  72,  73,  74,  75,  76,  77,  78,  79,  80,  81,  82,  83,\n",
      "         84,  85,  86,  87,  88,  89,  90,  91,  92,  93,  94,  95,  96,  97,\n",
      "         98,  99, 100, 101, 102, 103, 104, 105, 106, 107, 108, 109, 110, 111,\n",
      "        112, 113, 114, 115, 116, 117, 118, 119, 120, 121, 122, 123, 124, 125,\n",
      "        126, 127, 128, 129, 130, 131, 132, 133, 134, 135, 136, 137, 138, 139,\n",
      "        140, 141, 142, 143, 144, 145, 146, 147, 148, 149, 150, 151, 152, 153,\n",
      "        154, 155, 156, 157, 158, 159, 160, 161, 162, 163, 164, 165, 166, 167,\n",
      "        168, 169, 170, 171, 172, 173, 174, 175, 176, 177, 178, 179, 180, 181,\n",
      "        182, 183, 184, 185, 186, 187, 188, 189, 190, 191, 192, 193, 194, 195,\n",
      "        196, 197, 198, 199, 200, 201, 202, 203, 204, 205, 206, 207, 208, 209,\n",
      "        210, 211, 212, 213, 214, 215, 216, 217, 218, 219, 220, 221, 222, 223,\n",
      "        224, 225, 226, 227, 228, 229, 230, 231, 232, 233, 234, 235, 236, 237,\n",
      "        238, 239, 240, 241, 242, 243, 244, 245, 246, 247, 248, 249, 250, 251,\n",
      "        252, 253, 254, 255, 256, 257, 258, 259, 260, 261, 262, 263, 264, 265,\n",
      "        266, 267, 268, 269, 270, 271, 272, 273, 274, 275, 276, 277, 278, 279,\n",
      "        280, 281, 282, 283, 284, 285, 286, 287, 288, 289, 290, 291, 292, 293,\n",
      "        294, 295, 296, 297, 298, 299, 300, 301, 302, 303, 304, 305, 306, 307,\n",
      "        308, 309, 310, 311, 312, 313, 314, 315, 316, 317, 318, 319, 320, 321,\n",
      "        322, 323, 324, 325, 326, 327, 328, 329, 330, 331, 332, 333, 334, 335,\n",
      "        336, 337, 338, 339, 340, 341, 342, 343, 344, 345, 346, 347, 348, 349,\n",
      "        350, 351, 352, 353, 354, 355, 356, 357, 358, 359, 360, 361, 362, 363,\n",
      "        364, 365, 366, 367, 368, 369, 370, 371, 372, 373, 374, 375, 376, 377,\n",
      "        378, 379, 380, 381, 382, 383, 384, 385, 386, 387, 388, 389, 390, 391,\n",
      "        392, 393, 394, 395, 396, 397, 398, 399, 400, 401, 402, 403, 404, 405,\n",
      "        406, 407, 408, 409, 410, 411, 412, 413, 414, 415, 416, 417, 418, 419,\n",
      "        420, 421, 422, 423, 424, 425, 426, 427, 428, 429, 430, 431, 432, 433,\n",
      "        434, 435, 436, 437, 438, 439, 440, 441, 442, 443, 444, 445, 446, 447,\n",
      "        448, 449, 450, 451, 452, 453, 454, 455, 456, 457, 458, 459, 460, 461,\n",
      "        462, 463, 464, 465, 466, 467, 468, 469, 470, 471, 472, 473, 474, 475,\n",
      "        476, 477, 478, 479, 480, 481, 482, 483, 484, 485, 486, 487, 488, 489,\n",
      "        490, 491, 492, 493, 494, 495, 496, 497, 498, 499, 500, 501, 502, 503,\n",
      "        504, 505, 506, 507, 508, 509, 510, 511, 512, 513, 514, 515, 516, 517,\n",
      "        518, 519, 520, 521, 522, 523, 524, 525, 526, 527, 528, 529, 530, 531,\n",
      "        532, 533, 534, 535, 536, 537, 538, 539, 540, 541, 542, 543, 544, 545,\n",
      "        546, 547, 548, 549, 550, 551, 552, 553, 554, 555, 556, 557, 558, 559,\n",
      "        560, 561, 562, 563, 564, 565, 566, 567, 568, 569, 570, 571, 572, 573,\n",
      "        574, 575, 576, 577, 578, 579, 580, 581, 582, 583, 584, 585, 586, 587,\n",
      "        588, 589, 590, 591, 592, 593, 594, 595, 596, 597, 598, 599, 600, 601,\n",
      "        602, 603, 604, 605, 606, 607, 608, 609, 610, 611, 612, 613, 614, 615,\n",
      "        616, 617, 618, 619, 620, 621, 622, 623, 624, 625, 626, 627, 628, 629,\n",
      "        630, 631, 632, 633, 634, 635, 636, 637, 638, 639, 640, 641, 642, 643,\n",
      "        644, 645, 646, 647, 648, 649, 650, 651, 652, 653, 654, 655, 656, 657,\n",
      "        658, 659, 660, 661, 662, 663, 664, 665, 666, 667, 668, 669, 670, 671,\n",
      "        672, 673, 674, 675, 676, 677, 678, 679, 680, 681, 682, 683, 684, 685,\n",
      "        686, 687, 688, 689, 690, 691, 692, 693, 694, 695, 696, 697, 698, 699,\n",
      "        700, 701]))\n"
     ]
    }
   ],
   "source": [
    "def GetEdgeListOfNode(edgeList, nodeLabel: int):\n",
    "    \"\"\"\n",
    "    returns tensor of [srcNodeID, dstNodeId, edgeID]\n",
    "    \"\"\"\n",
    "    return torch.dstack(graph.out_edges(nodeLabel)).squeeze()\n",
    "\n",
    "def GetEdgeList(graph):\n",
    "    \"\"\"\n",
    "    returns a tensor of [srcNodeID, dstNodeId, edgeID] of the whole graph\n",
    "    \"\"\"\n",
    "    #return torch.dstack(graph.edges('all', order='srcdst')).squeeze()\n",
    "    return graph.edges('all', order='srcdst')\n",
    "\n",
    "u, v, eid = GetEdgeList(graph)\n",
    "sourceNodeID = 0\n",
    "print((u == sourceNodeID).nonzero(as_tuple=True)[0])\n",
    "    \n",
    "print(GetEdgeListOfNode(graph, 0))\n",
    "u, v = graph.out_edges(0)\n",
    "print(graph.edge_ids(u, v))\n",
    "#print(graph.edges('all', order='srcdst'))\n",
    "print(GetEdgeList(graph))"
   ]
  },
  {
   "cell_type": "code",
   "execution_count": 53,
   "metadata": {},
   "outputs": [
    {
     "name": "stdout",
     "output_type": "stream",
     "text": [
      "tensor([ 25, 676])\n",
      "tensor([113.6136,  10.3400,   2.5879])\n",
      "tensor([113.6136,  10.3400,   2.5879])\n"
     ]
    }
   ],
   "source": [
    "def ConcatNodeAndEdgeFeatures(graph, nodeLabel: int):\n",
    "    pass\n",
    "\n",
    "print(graph.edge_ids([0, 26], [26, 0]))\n",
    "\n",
    "edgeFeatureVec = GetEdgeFeatureVec(graph)\n",
    "print(edgeFeatureVec[25])\n",
    "print(edgeFeatureVec[676])\n",
    "#print(len(edgeFeatureVec))\n",
    "#print(edgeFeatureVec)"
   ]
  },
  {
   "cell_type": "code",
   "execution_count": 51,
   "metadata": {},
   "outputs": [
    {
     "name": "stdout",
     "output_type": "stream",
     "text": [
      "tensor([1.7346, 1.5249, 2.4724, 0.4215, 3.3944, 0.0850, 0.7057, 1.3668, 2.3474,\n",
      "        1.4097, 1.1981, 1.8204, 2.5296, 2.4507, 0.3479, 0.7056, 1.6235, 1.3469,\n",
      "        1.3588, 2.2284, 0.4408, 1.8273, 1.8325, 1.0572, 0.6779, 2.5879, 1.7346,\n",
      "        3.2595, 4.2070, 2.1561, 1.6598, 1.6496, 2.4403, 0.3678, 4.0820, 3.1443,\n",
      "        2.9327, 0.0858, 0.7950, 4.1853, 2.0825, 1.0290, 0.1111, 3.0815, 3.0934,\n",
      "        0.4938, 1.2938, 0.0927, 3.5671, 0.6774, 2.4125, 0.8533, 1.5249, 3.2595,\n",
      "        0.9475, 1.1034, 4.9193, 1.6099, 0.8192, 2.8917, 0.8224, 0.1152, 0.3268,\n",
      "        3.3453, 4.0545, 0.9258, 1.1770, 2.2305, 3.1484, 0.1780, 0.1661, 3.7533,\n",
      "        1.9657, 3.3522, 0.3076, 2.5821, 0.8470, 4.1128, 2.4724, 4.2070, 0.9475,\n",
      "        2.0509, 5.8668, 2.5574, 1.7667, 3.8392, 0.1250, 1.0627, 1.2743, 4.2928,\n",
      "        5.0020, 0.0217, 2.1245, 3.1780, 4.0959, 1.1255, 1.1136, 4.7008, 2.9132,\n",
      "        4.2997, 0.6399, 3.5296, 1.7945, 5.0602, 0.4215, 2.1561, 1.1034, 2.0509,\n",
      "        3.8159, 0.5065, 0.2842, 1.7883, 1.9259, 0.9883, 0.7766, 2.2419, 2.9511,\n",
      "        2.0292, 0.0736, 1.1271, 2.0450, 0.9254, 0.9373, 2.6499, 0.8623, 2.2488,\n",
      "        1.4110, 1.4787, 0.2564, 3.0093, 3.3944, 1.6598, 4.9193, 5.8668, 3.8159,\n",
      "        3.3094, 4.1001, 2.0276, 5.7417, 4.8041, 4.5925, 1.5739, 0.8648, 5.8451,\n",
      "        3.7423, 2.6888, 1.7709, 4.7412, 4.7532, 1.1660, 2.9536, 1.5670, 5.2269,\n",
      "        2.3372, 4.0723, 0.8065, 0.0850, 1.6496, 1.6099, 2.5574, 0.5065, 3.3094,\n",
      "        0.7907, 1.2818, 2.4324, 1.4947, 1.2831, 1.7354, 2.4446, 2.5357, 0.4329,\n",
      "        0.6206, 1.5385, 1.4319, 1.4438, 2.1434, 0.3558, 1.7423, 1.9175, 0.9722,\n",
      "        0.7629, 2.5029, 0.7057, 2.4403, 0.8192, 1.7667, 0.2842, 4.1001, 0.7907,\n",
      "        2.0725, 1.6417, 0.7040, 0.4924, 2.5261, 3.2353, 1.7450, 0.3578, 1.4113,\n",
      "        2.3292, 0.6412, 0.6531, 2.9341, 1.1465, 2.5330, 1.1268, 1.7629, 0.0278,\n",
      "        3.2936, 1.3668, 0.3678, 2.8917, 3.8392, 1.7883, 2.0276, 1.2818, 2.0725,\n",
      "        3.7142, 2.7766, 2.5649, 0.4536, 1.1627, 3.8175, 1.7147, 0.6612, 0.2566,\n",
      "        2.7137, 2.7256, 0.8616, 0.9260, 0.4605, 3.1993, 0.3096, 2.0447, 1.2210,\n",
      "        2.3474, 4.0820, 0.8224, 0.1250, 1.9259, 5.7417, 2.4324, 1.6417, 3.7142,\n",
      "        0.9376, 1.1493, 4.1678, 4.8769, 0.1034, 1.9994, 3.0530, 3.9708, 1.0005,\n",
      "        0.9886, 4.5757, 2.7882, 4.1747, 0.5149, 3.4046, 1.6695, 4.9352, 1.4097,\n",
      "        3.1443, 0.1152, 1.0627, 0.9883, 4.8041, 1.4947, 0.7040, 2.7766, 0.9376,\n",
      "        0.2117, 3.2302, 3.9393, 1.0410, 1.0618, 2.1153, 3.0332, 0.0629, 0.0509,\n",
      "        3.6381, 1.8505, 3.2371, 0.4227, 2.4670, 0.7318, 3.9976, 1.1981, 2.9327,\n",
      "        0.3268, 1.2743, 0.7766, 4.5925, 1.2831, 0.4924, 2.5649, 1.1493, 0.2117,\n",
      "        3.0185, 3.7277, 1.2526, 0.8502, 1.9037, 2.8216, 0.1488, 0.1607, 3.4265,\n",
      "        1.6389, 3.0254, 0.6344, 2.2553, 0.5202, 3.7859, 1.8204, 0.0858, 3.3453,\n",
      "        4.2928, 2.2419, 1.5739, 1.7354, 2.5261, 0.4536, 4.1678, 3.2302, 3.0185,\n",
      "        0.7091, 4.2712, 2.1684, 1.1148, 0.1970, 3.1673, 3.1792, 0.4079, 1.3796,\n",
      "        0.0069, 3.6529, 0.7632, 2.4983, 0.7674, 2.5296, 0.7950, 4.0545, 5.0020,\n",
      "        2.9511, 0.8648, 2.4446, 3.2353, 1.1627, 4.8769, 3.9393, 3.7277, 0.7091,\n",
      "        4.9803, 2.8775, 1.8240, 0.9061, 3.8764, 3.8884, 0.3012, 2.0888, 0.7022,\n",
      "        4.3621, 1.4724, 3.2075, 0.0583, 2.4507, 4.1853, 0.9258, 0.0217, 2.0292,\n",
      "        5.8451, 2.5357, 1.7450, 3.8175, 0.1034, 1.0410, 1.2526, 4.2712, 4.9803,\n",
      "        2.1028, 3.1563, 4.0742, 1.1039, 1.0919, 4.6791, 2.8915, 4.2780, 0.6182,\n",
      "        3.5079, 1.7728, 5.0386, 0.3479, 2.0825, 1.1770, 2.1245, 0.0736, 3.7423,\n",
      "        0.4329, 0.3578, 1.7147, 1.9994, 1.0618, 0.8502, 2.1684, 2.8775, 2.1028,\n",
      "        1.0535, 1.9714, 0.9989, 1.0109, 2.5763, 0.7887, 2.1753, 1.4846, 1.4051,\n",
      "        0.3300, 2.9358, 0.7056, 1.0290, 2.2305, 3.1780, 1.1271, 2.6888, 0.6206,\n",
      "        1.4113, 0.6612, 3.0530, 2.1153, 1.9037, 1.1148, 1.8240, 3.1563, 1.0535,\n",
      "        0.9179, 2.0525, 2.0644, 1.5228, 0.2648, 1.1217, 2.5381, 0.3516, 1.3835,\n",
      "        1.8822, 1.6235, 0.1111, 3.1484, 4.0959, 2.0450, 1.7709, 1.5385, 2.3292,\n",
      "        0.2566, 3.9708, 3.0332, 2.8216, 0.1970, 0.9061, 4.0742, 1.9714, 0.9179,\n",
      "        2.9703, 2.9823, 0.6049, 1.1827, 0.2039, 3.4560, 0.5663, 2.3014, 0.9644,\n",
      "        1.3469, 3.0815, 0.1780, 1.1255, 0.9254, 4.7412, 1.4319, 0.6412, 2.7137,\n",
      "        1.0005, 0.0629, 0.1488, 3.1673, 3.8764, 1.1039, 0.9989, 2.0525, 2.9703,\n",
      "        0.0119, 3.5752, 1.7877, 3.1742, 0.4856, 2.4041, 0.6690, 3.9347, 1.3588,\n",
      "        3.0934, 0.1661, 1.1136, 0.9373, 4.7532, 1.4438, 0.6531, 2.7256, 0.9886,\n",
      "        0.0509, 0.1607, 3.1792, 3.8884, 1.0919, 1.0109, 2.0644, 2.9823, 0.0119,\n",
      "        3.5872, 1.7996, 3.1861, 0.4737, 2.4160, 0.6809, 3.9467, 2.2284, 0.4938,\n",
      "        3.7533, 4.7008, 2.6499, 1.1660, 2.1434, 2.9341, 0.8616, 4.5757, 3.6381,\n",
      "        3.4265, 0.4079, 0.3012, 4.6791, 2.5763, 1.5228, 0.6049, 3.5752, 3.5872,\n",
      "        1.7876, 0.4010, 4.0609, 1.1712, 2.9063, 0.3595, 0.4408, 1.2938, 1.9657,\n",
      "        2.9132, 0.8623, 2.9536, 0.3558, 1.1465, 0.9260, 2.7882, 1.8505, 1.6389,\n",
      "        1.3796, 2.0888, 2.8915, 0.7887, 0.2648, 1.1827, 1.7877, 1.7996, 1.7876,\n",
      "        1.3865, 2.2733, 0.6164, 1.1187, 2.1471, 1.8273, 0.0927, 3.3522, 4.2997,\n",
      "        2.2488, 1.5670, 1.7423, 2.5330, 0.4605, 4.1747, 3.2371, 3.0254, 0.0069,\n",
      "        0.7022, 4.2780, 2.1753, 1.1217, 0.2039, 3.1742, 3.1861, 0.4010, 1.3865,\n",
      "        3.6598, 0.7701, 2.5052, 0.7605, 1.8325, 3.5671, 0.3076, 0.6399, 1.4110,\n",
      "        5.2269, 1.9175, 1.1268, 3.1993, 0.5149, 0.4227, 0.6344, 3.6529, 4.3621,\n",
      "        0.6182, 1.4846, 2.5381, 3.4560, 0.4856, 0.4737, 4.0609, 2.2733, 3.6598,\n",
      "        2.8897, 1.1546, 4.4203, 1.0572, 0.6774, 2.5821, 3.5296, 1.4787, 2.3372,\n",
      "        0.9722, 1.7629, 0.3096, 3.4046, 2.4670, 2.2553, 0.7632, 1.4724, 3.5079,\n",
      "        1.4051, 0.3516, 0.5663, 2.4041, 2.4160, 1.1712, 0.6164, 0.7701, 2.8897,\n",
      "        1.7351, 1.5306, 0.6779, 2.4125, 0.8470, 1.7945, 0.2564, 4.0723, 0.7629,\n",
      "        0.0278, 2.0447, 1.6695, 0.7318, 0.5202, 2.4983, 3.2075, 1.7728, 0.3300,\n",
      "        1.3835, 2.3014, 0.6690, 0.6809, 2.9063, 1.1187, 2.5052, 1.1546, 1.7351,\n",
      "        3.2658, 2.5879, 0.8533, 4.1128, 5.0602, 3.0093, 0.8065, 2.5029, 3.2936,\n",
      "        1.2210, 4.9352, 3.9976, 3.7859, 0.7674, 0.0583, 5.0386, 2.9358, 1.8822,\n",
      "        0.9644, 3.9347, 3.9467, 0.3595, 2.1471, 0.7605, 4.4203, 1.5306, 3.2658],\n",
      "       dtype=torch.float64)\n",
      "tensor([39.5653, 73.1044, 12.7182, 27.1879, 15.2236, 76.8397, 13.5918, 27.9040,\n",
      "        49.4673, 32.4242, 79.8573, 75.9241, 33.9893, 39.5686, 77.8903, 39.6241,\n",
      "        53.0045, 59.4497, 32.7625, 69.3063, 11.8629, 45.8596, 25.0803, 66.8638,\n",
      "        60.6635, 66.1640, 76.6520], dtype=torch.float64)\n"
     ]
    }
   ],
   "source": [
    "print(graph.edata['DeltaPhi'])\n",
    "print(graph.dstdata['P_t'])"
   ]
  },
  {
   "cell_type": "code",
   "execution_count": null,
   "metadata": {},
   "outputs": [],
   "source": []
  }
 ],
 "metadata": {
  "kernelspec": {
   "display_name": "venv",
   "language": "python",
   "name": "venv"
  },
  "language_info": {
   "codemirror_mode": {
    "name": "ipython",
    "version": 3
   },
   "file_extension": ".py",
   "mimetype": "text/x-python",
   "name": "python",
   "nbconvert_exporter": "python",
   "pygments_lexer": "ipython3",
   "version": "3.8.5"
  }
 },
 "nbformat": 4,
 "nbformat_minor": 4
}

{
 "cells": [
  {
   "cell_type": "code",
   "execution_count": 1,
   "metadata": {},
   "outputs": [
    {
     "name": "stderr",
     "output_type": "stream",
     "text": [
      "Using backend: pytorch\n"
     ]
    }
   ],
   "source": [
    "import dgl\n",
    "import math\n",
    "import torch\n",
    "import numpy as np\n",
    "from os import path\n",
    "from pathlib import Path\n",
    "from dgl.data import DGLDataset\n",
    "from ToyDGLDataset import ToyDGLDataset, GetNodeFeatureVectors, GetEdgeFeatureVectors, GetNeighborNodes, GetEdgeList"
   ]
  },
  {
   "cell_type": "code",
   "execution_count": 2,
   "metadata": {},
   "outputs": [
    {
     "name": "stdout",
     "output_type": "stream",
     "text": [
      "Done loading data from cached files.\n"
     ]
    }
   ],
   "source": [
    "datasetName = 'ToyDataset01'\n",
    "datasetDir = path.join('/home/andrew/GNN_Sandbox/GraphDatasets', datasetName)\n",
    "dataset = ToyDGLDataset(datasetName, datasetDir)"
   ]
  },
  {
   "cell_type": "code",
   "execution_count": 3,
   "metadata": {},
   "outputs": [
    {
     "name": "stdout",
     "output_type": "stream",
     "text": [
      "Num Graph classes: 2\n",
      "Graph classes: [0, 1]\n",
      "Number of graphs: 4000\n",
      "Number of all nodes in all graphs: 187464\n",
      "Number of all edges in all graphs: 10140816\n",
      "Dim node features: 5\n",
      "Node feature keys: ['P_t', 'Eta', 'Phi', 'Mass', 'Type']\n",
      "Dim edge features: 3\n",
      "Edge feature keys: ['DeltaEta', 'DeltaPhi', 'RapiditySquared']\n"
     ]
    }
   ],
   "source": [
    "dataset.printProperties()"
   ]
  },
  {
   "cell_type": "code",
   "execution_count": 4,
   "metadata": {},
   "outputs": [
    {
     "name": "stdout",
     "output_type": "stream",
     "text": [
      "4000\n",
      "Graph(num_nodes=14, num_edges=182,\n",
      "      ndata_schemes={'feat': Scheme(shape=(5,), dtype=torch.float64)}\n",
      "      edata_schemes={'feat': Scheme(shape=(3,), dtype=torch.float64)})\n",
      "Label: 0\n",
      "tensor([[ 8.2500e+01,  2.4013e+00,  4.4686e+00,  6.9914e-01,  1.0000e+00],\n",
      "        [ 3.3428e+01,  6.1951e+00,  4.7875e+00,  2.0964e-01,  0.0000e+00],\n",
      "        [ 8.8582e+01, -4.9841e+00,  5.8098e+00,  4.0086e-01,  2.0000e+00],\n",
      "        [ 9.1063e+01, -1.9321e+00,  1.6134e+00,  4.3644e-01,  0.0000e+00],\n",
      "        [ 8.3695e+01,  8.4926e+00,  5.9178e+00,  9.9072e-01,  1.0000e+00],\n",
      "        [ 8.3720e+01, -5.7298e+00,  3.1423e+00,  5.3718e-01,  2.0000e+00],\n",
      "        [ 4.0792e+01, -6.3605e+00,  4.7412e+00,  7.0650e-01,  1.0000e+00],\n",
      "        [ 1.6013e+01, -9.9891e+00,  4.0879e+00,  9.9766e-01,  1.0000e+00],\n",
      "        [ 8.3934e+01,  5.7967e+00,  5.4796e+00,  6.5208e-01,  1.0000e+00],\n",
      "        [ 1.1577e+01,  7.7988e+00,  1.1120e+00,  4.8540e-01,  0.0000e+00],\n",
      "        [ 7.7765e+01,  2.9263e+00,  4.8746e+00,  7.1705e-01,  1.0000e+00],\n",
      "        [ 7.7500e+01,  4.9447e-01,  3.2061e+00,  4.0157e-01,  0.0000e+00],\n",
      "        [ 9.7947e+01, -8.5693e+00,  1.7491e+00,  8.7368e-01,  1.0000e+00],\n",
      "        [ 3.0526e+01,  7.5449e+00,  4.2836e+00,  9.5895e-02,  1.0000e+00]])\n"
     ]
    }
   ],
   "source": [
    "print(len(dataset))\n",
    "graph, label = dataset[0]\n",
    "print(graph)\n",
    "print(f'Label: {label}')\n",
    "print(GetNodeFeatureVectors(graph))"
   ]
  },
  {
   "cell_type": "code",
   "execution_count": 5,
   "metadata": {},
   "outputs": [],
   "source": [
    "from dgl.dataloading import GraphDataLoader\n",
    "from torch.utils.data.sampler import SubsetRandomSampler\n",
    "\n",
    "num_examples = len(dataset)\n",
    "splitIndices = dataset.get_split_indices()\n",
    "\n",
    "train_sampler = SubsetRandomSampler(splitIndices['train'])\n",
    "test_sampler = SubsetRandomSampler(splitIndices['test'])\n",
    "\n",
    "train_dataloader = GraphDataLoader(dataset, sampler=train_sampler, batch_size=32, drop_last=False)\n",
    "test_dataloader = GraphDataLoader(dataset, sampler=test_sampler, batch_size=32, drop_last=False)"
   ]
  },
  {
   "cell_type": "code",
   "execution_count": 6,
   "metadata": {},
   "outputs": [
    {
     "name": "stdout",
     "output_type": "stream",
     "text": [
      "[Graph(num_nodes=1346, num_edges=67446,\n",
      "      ndata_schemes={'feat': Scheme(shape=(5,), dtype=torch.float64)}\n",
      "      edata_schemes={'feat': Scheme(shape=(3,), dtype=torch.float64)}), tensor([1, 0, 0, 1, 0, 1, 0, 0, 0, 0, 1, 0, 0, 0, 0, 0, 0, 0, 0, 1, 0, 0, 1, 0,\n",
      "        1, 0, 1, 1, 1, 0, 1, 0])]\n"
     ]
    }
   ],
   "source": [
    "it = iter(train_dataloader)\n",
    "batch = next(it)\n",
    "print(batch)"
   ]
  },
  {
   "cell_type": "code",
   "execution_count": 7,
   "metadata": {},
   "outputs": [
    {
     "name": "stdout",
     "output_type": "stream",
     "text": [
      "Number of nodes for each graph element in the batch: tensor([61, 58, 39, 60, 44, 62, 51, 32, 30, 23, 61, 38, 30, 17, 28, 28, 22, 34,\n",
      "        18, 67, 29, 33, 76, 25, 72, 17, 70, 64, 76, 26, 45, 10])\n",
      "Number of edges for each graph element in the batch: tensor([3660, 3306, 1482, 3540, 1892, 3782, 2550,  992,  870,  506, 3660, 1406,\n",
      "         870,  272,  756,  756,  462, 1122,  306, 4422,  812, 1056, 5700,  600,\n",
      "        5112,  272, 4830, 4032, 5700,  650, 1980,   90])\n",
      "tensor([1, 0, 0, 1, 0, 1, 0, 0, 0, 0, 1, 0, 0, 0, 0, 0, 0, 0, 0, 1, 0, 0, 1, 0,\n",
      "        1, 0, 1, 1, 1, 0, 1, 0])\n",
      "The original graphs in the minibatch:\n",
      "[Graph(num_nodes=61, num_edges=3660,\n",
      "      ndata_schemes={'feat': Scheme(shape=(5,), dtype=torch.float64)}\n",
      "      edata_schemes={'feat': Scheme(shape=(3,), dtype=torch.float64)}), Graph(num_nodes=58, num_edges=3306,\n",
      "      ndata_schemes={'feat': Scheme(shape=(5,), dtype=torch.float64)}\n",
      "      edata_schemes={'feat': Scheme(shape=(3,), dtype=torch.float64)}), Graph(num_nodes=39, num_edges=1482,\n",
      "      ndata_schemes={'feat': Scheme(shape=(5,), dtype=torch.float64)}\n",
      "      edata_schemes={'feat': Scheme(shape=(3,), dtype=torch.float64)}), Graph(num_nodes=60, num_edges=3540,\n",
      "      ndata_schemes={'feat': Scheme(shape=(5,), dtype=torch.float64)}\n",
      "      edata_schemes={'feat': Scheme(shape=(3,), dtype=torch.float64)}), Graph(num_nodes=44, num_edges=1892,\n",
      "      ndata_schemes={'feat': Scheme(shape=(5,), dtype=torch.float64)}\n",
      "      edata_schemes={'feat': Scheme(shape=(3,), dtype=torch.float64)}), Graph(num_nodes=62, num_edges=3782,\n",
      "      ndata_schemes={'feat': Scheme(shape=(5,), dtype=torch.float64)}\n",
      "      edata_schemes={'feat': Scheme(shape=(3,), dtype=torch.float64)}), Graph(num_nodes=51, num_edges=2550,\n",
      "      ndata_schemes={'feat': Scheme(shape=(5,), dtype=torch.float64)}\n",
      "      edata_schemes={'feat': Scheme(shape=(3,), dtype=torch.float64)}), Graph(num_nodes=32, num_edges=992,\n",
      "      ndata_schemes={'feat': Scheme(shape=(5,), dtype=torch.float64)}\n",
      "      edata_schemes={'feat': Scheme(shape=(3,), dtype=torch.float64)}), Graph(num_nodes=30, num_edges=870,\n",
      "      ndata_schemes={'feat': Scheme(shape=(5,), dtype=torch.float64)}\n",
      "      edata_schemes={'feat': Scheme(shape=(3,), dtype=torch.float64)}), Graph(num_nodes=23, num_edges=506,\n",
      "      ndata_schemes={'feat': Scheme(shape=(5,), dtype=torch.float64)}\n",
      "      edata_schemes={'feat': Scheme(shape=(3,), dtype=torch.float64)}), Graph(num_nodes=61, num_edges=3660,\n",
      "      ndata_schemes={'feat': Scheme(shape=(5,), dtype=torch.float64)}\n",
      "      edata_schemes={'feat': Scheme(shape=(3,), dtype=torch.float64)}), Graph(num_nodes=38, num_edges=1406,\n",
      "      ndata_schemes={'feat': Scheme(shape=(5,), dtype=torch.float64)}\n",
      "      edata_schemes={'feat': Scheme(shape=(3,), dtype=torch.float64)}), Graph(num_nodes=30, num_edges=870,\n",
      "      ndata_schemes={'feat': Scheme(shape=(5,), dtype=torch.float64)}\n",
      "      edata_schemes={'feat': Scheme(shape=(3,), dtype=torch.float64)}), Graph(num_nodes=17, num_edges=272,\n",
      "      ndata_schemes={'feat': Scheme(shape=(5,), dtype=torch.float64)}\n",
      "      edata_schemes={'feat': Scheme(shape=(3,), dtype=torch.float64)}), Graph(num_nodes=28, num_edges=756,\n",
      "      ndata_schemes={'feat': Scheme(shape=(5,), dtype=torch.float64)}\n",
      "      edata_schemes={'feat': Scheme(shape=(3,), dtype=torch.float64)}), Graph(num_nodes=28, num_edges=756,\n",
      "      ndata_schemes={'feat': Scheme(shape=(5,), dtype=torch.float64)}\n",
      "      edata_schemes={'feat': Scheme(shape=(3,), dtype=torch.float64)}), Graph(num_nodes=22, num_edges=462,\n",
      "      ndata_schemes={'feat': Scheme(shape=(5,), dtype=torch.float64)}\n",
      "      edata_schemes={'feat': Scheme(shape=(3,), dtype=torch.float64)}), Graph(num_nodes=34, num_edges=1122,\n",
      "      ndata_schemes={'feat': Scheme(shape=(5,), dtype=torch.float64)}\n",
      "      edata_schemes={'feat': Scheme(shape=(3,), dtype=torch.float64)}), Graph(num_nodes=18, num_edges=306,\n",
      "      ndata_schemes={'feat': Scheme(shape=(5,), dtype=torch.float64)}\n",
      "      edata_schemes={'feat': Scheme(shape=(3,), dtype=torch.float64)}), Graph(num_nodes=67, num_edges=4422,\n",
      "      ndata_schemes={'feat': Scheme(shape=(5,), dtype=torch.float64)}\n",
      "      edata_schemes={'feat': Scheme(shape=(3,), dtype=torch.float64)}), Graph(num_nodes=29, num_edges=812,\n",
      "      ndata_schemes={'feat': Scheme(shape=(5,), dtype=torch.float64)}\n",
      "      edata_schemes={'feat': Scheme(shape=(3,), dtype=torch.float64)}), Graph(num_nodes=33, num_edges=1056,\n",
      "      ndata_schemes={'feat': Scheme(shape=(5,), dtype=torch.float64)}\n",
      "      edata_schemes={'feat': Scheme(shape=(3,), dtype=torch.float64)}), Graph(num_nodes=76, num_edges=5700,\n",
      "      ndata_schemes={'feat': Scheme(shape=(5,), dtype=torch.float64)}\n",
      "      edata_schemes={'feat': Scheme(shape=(3,), dtype=torch.float64)}), Graph(num_nodes=25, num_edges=600,\n",
      "      ndata_schemes={'feat': Scheme(shape=(5,), dtype=torch.float64)}\n",
      "      edata_schemes={'feat': Scheme(shape=(3,), dtype=torch.float64)}), Graph(num_nodes=72, num_edges=5112,\n",
      "      ndata_schemes={'feat': Scheme(shape=(5,), dtype=torch.float64)}\n",
      "      edata_schemes={'feat': Scheme(shape=(3,), dtype=torch.float64)}), Graph(num_nodes=17, num_edges=272,\n",
      "      ndata_schemes={'feat': Scheme(shape=(5,), dtype=torch.float64)}\n",
      "      edata_schemes={'feat': Scheme(shape=(3,), dtype=torch.float64)}), Graph(num_nodes=70, num_edges=4830,\n",
      "      ndata_schemes={'feat': Scheme(shape=(5,), dtype=torch.float64)}\n",
      "      edata_schemes={'feat': Scheme(shape=(3,), dtype=torch.float64)}), Graph(num_nodes=64, num_edges=4032,\n",
      "      ndata_schemes={'feat': Scheme(shape=(5,), dtype=torch.float64)}\n",
      "      edata_schemes={'feat': Scheme(shape=(3,), dtype=torch.float64)}), Graph(num_nodes=76, num_edges=5700,\n",
      "      ndata_schemes={'feat': Scheme(shape=(5,), dtype=torch.float64)}\n",
      "      edata_schemes={'feat': Scheme(shape=(3,), dtype=torch.float64)}), Graph(num_nodes=26, num_edges=650,\n",
      "      ndata_schemes={'feat': Scheme(shape=(5,), dtype=torch.float64)}\n",
      "      edata_schemes={'feat': Scheme(shape=(3,), dtype=torch.float64)}), Graph(num_nodes=45, num_edges=1980,\n",
      "      ndata_schemes={'feat': Scheme(shape=(5,), dtype=torch.float64)}\n",
      "      edata_schemes={'feat': Scheme(shape=(3,), dtype=torch.float64)}), Graph(num_nodes=10, num_edges=90,\n",
      "      ndata_schemes={'feat': Scheme(shape=(5,), dtype=torch.float64)}\n",
      "      edata_schemes={'feat': Scheme(shape=(3,), dtype=torch.float64)})]\n"
     ]
    }
   ],
   "source": [
    "batched_graph, labels = batch\n",
    "print('Number of nodes for each graph element in the batch:', batched_graph.batch_num_nodes())\n",
    "print('Number of edges for each graph element in the batch:', batched_graph.batch_num_edges())\n",
    "print(labels)\n",
    "# Recover the original graph elements from the minibatch\n",
    "graphs = dgl.unbatch(batched_graph)\n",
    "print('The original graphs in the minibatch:')\n",
    "print(graphs)"
   ]
  },
  {
   "cell_type": "code",
   "execution_count": 8,
   "metadata": {},
   "outputs": [],
   "source": [
    "from dgl.nn import GraphConv\n",
    "import torch.nn as nn\n",
    "import torch.nn.functional as F\n",
    "\n",
    "class GCN(nn.Module):\n",
    "    def __init__(self, in_feats, h_feats, num_classes):\n",
    "        super(GCN, self).__init__()\n",
    "        self.conv1 = GraphConv(in_feats, h_feats)\n",
    "        self.conv2 = GraphConv(h_feats, num_classes)\n",
    "\n",
    "    def forward(self, g, in_feat):\n",
    "        h = self.conv1(g, in_feat)\n",
    "        h = F.relu(h)\n",
    "        h = self.conv2(g, h)\n",
    "        g.ndata['h'] = h\n",
    "        return dgl.mean_nodes(g, 'h')"
   ]
  },
  {
   "cell_type": "code",
   "execution_count": 9,
   "metadata": {},
   "outputs": [
    {
     "name": "stdout",
     "output_type": "stream",
     "text": [
      "Epoch: 0, Loss: 0.600\n",
      "Epoch: 1, Loss: 0.520\n",
      "Epoch: 2, Loss: 0.454\n",
      "Epoch: 3, Loss: 0.434\n",
      "Epoch: 4, Loss: 0.297\n",
      "Epoch: 5, Loss: 0.319\n",
      "Epoch: 6, Loss: 0.314\n",
      "Epoch: 7, Loss: 0.273\n",
      "Epoch: 8, Loss: 0.164\n",
      "Epoch: 9, Loss: 0.397\n",
      "Epoch: 10, Loss: 0.146\n",
      "Epoch: 11, Loss: 0.252\n",
      "Epoch: 12, Loss: 0.140\n",
      "Epoch: 13, Loss: 0.220\n",
      "Epoch: 14, Loss: 0.051\n",
      "Epoch: 15, Loss: 0.116\n",
      "Epoch: 16, Loss: 0.107\n",
      "Epoch: 17, Loss: 0.128\n",
      "Epoch: 18, Loss: 0.173\n",
      "Epoch: 19, Loss: 0.146\n",
      "Epoch: 20, Loss: 0.151\n",
      "Epoch: 21, Loss: 0.207\n",
      "Epoch: 22, Loss: 0.172\n",
      "Epoch: 23, Loss: 0.180\n",
      "Epoch: 24, Loss: 0.039\n",
      "Epoch: 25, Loss: 0.036\n",
      "Epoch: 26, Loss: 0.075\n",
      "Epoch: 27, Loss: 0.100\n",
      "Epoch: 28, Loss: 0.105\n",
      "Epoch: 29, Loss: 0.038\n",
      "Epoch: 30, Loss: 0.207\n",
      "Epoch: 31, Loss: 0.069\n",
      "Epoch: 32, Loss: 0.073\n",
      "Epoch: 33, Loss: 0.047\n",
      "Epoch: 34, Loss: 0.129\n",
      "Epoch: 35, Loss: 0.127\n",
      "Epoch: 36, Loss: 0.040\n",
      "Epoch: 37, Loss: 0.089\n",
      "Epoch: 38, Loss: 0.112\n",
      "Epoch: 39, Loss: 0.100\n",
      "Epoch: 40, Loss: 0.046\n",
      "Epoch: 41, Loss: 0.082\n",
      "Epoch: 42, Loss: 0.355\n",
      "Epoch: 43, Loss: 0.014\n",
      "Epoch: 44, Loss: 0.155\n",
      "Epoch: 45, Loss: 0.035\n",
      "Epoch: 46, Loss: 0.062\n",
      "Epoch: 47, Loss: 0.115\n",
      "Epoch: 48, Loss: 0.045\n",
      "Epoch: 49, Loss: 0.209\n",
      "Test accuracy: 0.9625\n"
     ]
    }
   ],
   "source": [
    "# Create the model with given dimensions\n",
    "model = GCN(dataset.dim_nfeats, 16, dataset.num_graph_classes)\n",
    "optimizer = torch.optim.Adam(model.parameters(), lr=0.01)\n",
    "\n",
    "for epoch in range(50):\n",
    "    for batched_graph, labels in train_dataloader:\n",
    "        nodeFeatVec = GetNodeFeatureVectors(batched_graph)\n",
    "        pred = model(batched_graph, nodeFeatVec)\n",
    "        loss = F.cross_entropy(pred, labels)\n",
    "        optimizer.zero_grad()\n",
    "        loss.backward()\n",
    "        optimizer.step()\n",
    "    #if epoch % 5 == 0:\n",
    "    print(f'Epoch: {epoch}, Loss: {loss:.3f}')\n",
    "\n",
    "num_correct = 0\n",
    "num_tests = 0\n",
    "for batched_graph, labels in test_dataloader:\n",
    "    nodeFeatVec = GetNodeFeatureVectors(batched_graph)\n",
    "    pred = model(batched_graph, nodeFeatVec)\n",
    "    num_correct += (pred.argmax(1) == labels).sum().item()\n",
    "    num_tests += len(labels)\n",
    "\n",
    "print('Test accuracy:', num_correct / num_tests)"
   ]
  },
  {
   "cell_type": "code",
   "execution_count": 10,
   "metadata": {},
   "outputs": [
    {
     "name": "stdout",
     "output_type": "stream",
     "text": [
      "NodeSpace(data={'feat': tensor([[82.4999,  2.4013,  4.4686,  0.6991,  1.0000],\n",
      "        [33.4276,  6.1951,  4.7875,  0.2096,  0.0000]], dtype=torch.float64)})\n",
      "NodeSpace(data={'feat': tensor([[82.4999,  2.4013,  4.4686,  0.6991,  1.0000]], dtype=torch.float64)})\n",
      "NodeSpace(data={'feat': tensor([[33.4276,  6.1951,  4.7875,  0.2096,  0.0000]], dtype=torch.float64)})\n",
      "NodeSpace(data={'feat': tensor([[77.7649,  2.9263,  4.8746,  0.7170,  1.0000]], dtype=torch.float64)})\n",
      "NodeSpace(data={'feat': tensor([[91.0627, -1.9321,  1.6134,  0.4364,  0.0000]], dtype=torch.float64)})\n"
     ]
    }
   ],
   "source": [
    "print(graph.nodes[[0,1]])\n",
    "print(graph.nodes[0])\n",
    "print(graph.nodes[1])\n",
    "print(graph.nodes[10])\n",
    "print(graph.nodes[3])"
   ]
  },
  {
   "cell_type": "code",
   "execution_count": 11,
   "metadata": {},
   "outputs": [
    {
     "name": "stdout",
     "output_type": "stream",
     "text": [
      "EdgeSpace(data={'feat': tensor([[ 3.7938,  0.3189, 14.4946],\n",
      "        [ 7.3855,  1.3411, 56.3441]], dtype=torch.float64)})\n",
      "EdgeSpace(data={'feat': tensor([[ 4.8584,  3.2611, 34.2393]], dtype=torch.float64)})\n",
      "EdgeSpace(data={'feat': tensor([[ 4.8584,  3.2611, 34.2393]], dtype=torch.float64)})\n",
      "EdgeSpace(data={'feat': tensor([[ 3.7938,  0.3189, 14.4946]], dtype=torch.float64)})\n",
      "EdgeSpace(data={'feat': tensor([[ 7.3855,  1.3411, 56.3441]], dtype=torch.float64)})\n"
     ]
    }
   ],
   "source": [
    "#print(graph.out_edges(7))\n",
    "#print(graph.edges[(0,1)]) # src, dst\n",
    "#print(graph.edges[0,1]) # src, dst\n",
    "print(graph.edges[[0, 0], [1,2]]) # src, dst\n",
    "print(graph.edges[[10], [3]])\n",
    "print(graph.edges[[3], [10]])\n",
    "print(graph.edges[0])\n",
    "print(graph.edges[1])\n",
    "#print(graph.edges[0]) # eid"
   ]
  },
  {
   "cell_type": "code",
   "execution_count": 12,
   "metadata": {},
   "outputs": [
    {
     "name": "stdout",
     "output_type": "stream",
     "text": [
      "NodeSpace(data={'feat': tensor([[82.4999,  2.4013,  4.4686,  0.6991,  1.0000]], dtype=torch.float64)})\n",
      "tensor([[ 8.2500e+01,  2.4013e+00,  4.4686e+00,  6.9914e-01,  1.0000e+00],\n",
      "        [ 3.3428e+01,  6.1951e+00,  4.7875e+00,  2.0964e-01,  0.0000e+00],\n",
      "        [ 8.8582e+01, -4.9841e+00,  5.8098e+00,  4.0086e-01,  2.0000e+00],\n",
      "        [ 9.1063e+01, -1.9321e+00,  1.6134e+00,  4.3644e-01,  0.0000e+00],\n",
      "        [ 8.3695e+01,  8.4926e+00,  5.9178e+00,  9.9072e-01,  1.0000e+00],\n",
      "        [ 8.3720e+01, -5.7298e+00,  3.1423e+00,  5.3718e-01,  2.0000e+00],\n",
      "        [ 4.0792e+01, -6.3605e+00,  4.7412e+00,  7.0650e-01,  1.0000e+00],\n",
      "        [ 1.6013e+01, -9.9891e+00,  4.0879e+00,  9.9766e-01,  1.0000e+00],\n",
      "        [ 8.3934e+01,  5.7967e+00,  5.4796e+00,  6.5208e-01,  1.0000e+00],\n",
      "        [ 1.1577e+01,  7.7988e+00,  1.1120e+00,  4.8540e-01,  0.0000e+00],\n",
      "        [ 7.7765e+01,  2.9263e+00,  4.8746e+00,  7.1705e-01,  1.0000e+00],\n",
      "        [ 7.7500e+01,  4.9447e-01,  3.2061e+00,  4.0157e-01,  0.0000e+00],\n",
      "        [ 9.7947e+01, -8.5693e+00,  1.7491e+00,  8.7368e-01,  1.0000e+00],\n",
      "        [ 3.0526e+01,  7.5449e+00,  4.2836e+00,  9.5895e-02,  1.0000e+00]],\n",
      "       dtype=torch.float64)\n",
      "(tensor([0, 0, 0, 0, 0, 0, 0, 0, 0, 0, 0, 0, 0]), tensor([ 1,  2,  3,  4,  5,  6,  7,  8,  9, 10, 11, 12, 13]))\n"
     ]
    }
   ],
   "source": [
    "edgeList = GetNeighborNodes(graph, 0)\n",
    "nodeFeat = graph.ndata['feat']\n",
    "print(graph.nodes[0])\n",
    "print(nodeFeat)\n",
    "print(edgeList)\n"
   ]
  },
  {
   "cell_type": "code",
   "execution_count": 15,
   "metadata": {},
   "outputs": [
    {
     "name": "stdout",
     "output_type": "stream",
     "text": [
      "tensor([ 82.4999,   2.4013,   4.4686,   0.6991,   1.0000,   3.7938,   0.3189,\n",
      "         14.4946,   7.3855,   1.3411,  56.3441,   4.3334,   2.8552,  26.9309,\n",
      "          6.0913,   1.4491,  39.2035,   8.1311,   1.3263,  67.8747,   8.7619,\n",
      "          0.2726,  76.8443,  12.3904,   0.3807, 153.6669,   3.3954,   1.0109,\n",
      "         12.5504,   5.3975,   3.3566,  40.3997,   0.5250,   0.4059,   0.4404,\n",
      "          1.9069,   1.2625,   5.2301,  10.9706,   2.7195, 127.7507,   5.1435,\n",
      "          0.1850,  26.4903], dtype=torch.float64)\n",
      "(1, 2, 3)\n"
     ]
    }
   ],
   "source": [
    "def ConcatNodeAndEdgeFeatures(graph, nodeFeat, nodeLabel: int):\n",
    "    neighbors = GetNeighborNodes(graph, nodeLabel)\n",
    "    nfeat = nodeFeat[nodeLabel]\n",
    "    efeat = torch.reshape(graph.edges[neighbors].data['feat'], (-1,))\n",
    "    #print(nfeat)\n",
    "    #print(efeat)\n",
    "    return torch.cat((nfeat, efeat))\n",
    "    \n",
    "x = ConcatNodeAndEdgeFeatures(graph, nodeFeat, 0)\n",
    "print(x)\n",
    "\n",
    "edgeFeatureVec = GetEdgeFeatureVectors(graph)\n",
    "\n",
    "x = (1,2,3)\n",
    "print(x)\n"
   ]
  },
  {
   "cell_type": "code",
   "execution_count": 14,
   "metadata": {},
   "outputs": [
    {
     "ename": "KeyError",
     "evalue": "'DeltaPhi'",
     "output_type": "error",
     "traceback": [
      "\u001b[0;31m---------------------------------------------------------------------------\u001b[0m",
      "\u001b[0;31mKeyError\u001b[0m                                  Traceback (most recent call last)",
      "\u001b[0;32m<ipython-input-14-69b0fac9b497>\u001b[0m in \u001b[0;36m<module>\u001b[0;34m\u001b[0m\n\u001b[0;32m----> 1\u001b[0;31m \u001b[0mprint\u001b[0m\u001b[0;34m(\u001b[0m\u001b[0mgraph\u001b[0m\u001b[0;34m.\u001b[0m\u001b[0medata\u001b[0m\u001b[0;34m[\u001b[0m\u001b[0;34m'DeltaPhi'\u001b[0m\u001b[0;34m]\u001b[0m\u001b[0;34m)\u001b[0m\u001b[0;34m\u001b[0m\u001b[0;34m\u001b[0m\u001b[0m\n\u001b[0m\u001b[1;32m      2\u001b[0m \u001b[0mprint\u001b[0m\u001b[0;34m(\u001b[0m\u001b[0mgraph\u001b[0m\u001b[0;34m.\u001b[0m\u001b[0mdstdata\u001b[0m\u001b[0;34m[\u001b[0m\u001b[0;34m'P_t'\u001b[0m\u001b[0;34m]\u001b[0m\u001b[0;34m)\u001b[0m\u001b[0;34m\u001b[0m\u001b[0;34m\u001b[0m\u001b[0m\n",
      "\u001b[0;32m~/PycharmProjects/GNNSandbox/venv/lib/python3.8/site-packages/dgl/view.py\u001b[0m in \u001b[0;36m__getitem__\u001b[0;34m(self, key)\u001b[0m\n\u001b[1;32m    179\u001b[0m             \u001b[0;32mreturn\u001b[0m \u001b[0mret\u001b[0m\u001b[0;34m\u001b[0m\u001b[0;34m\u001b[0m\u001b[0m\n\u001b[1;32m    180\u001b[0m         \u001b[0;32melse\u001b[0m\u001b[0;34m:\u001b[0m\u001b[0;34m\u001b[0m\u001b[0;34m\u001b[0m\u001b[0m\n\u001b[0;32m--> 181\u001b[0;31m             \u001b[0;32mreturn\u001b[0m \u001b[0mself\u001b[0m\u001b[0;34m.\u001b[0m\u001b[0m_graph\u001b[0m\u001b[0;34m.\u001b[0m\u001b[0m_get_e_repr\u001b[0m\u001b[0;34m(\u001b[0m\u001b[0mself\u001b[0m\u001b[0;34m.\u001b[0m\u001b[0m_etid\u001b[0m\u001b[0;34m,\u001b[0m \u001b[0mself\u001b[0m\u001b[0;34m.\u001b[0m\u001b[0m_edges\u001b[0m\u001b[0;34m)\u001b[0m\u001b[0;34m[\u001b[0m\u001b[0mkey\u001b[0m\u001b[0;34m]\u001b[0m\u001b[0;34m\u001b[0m\u001b[0;34m\u001b[0m\u001b[0m\n\u001b[0m\u001b[1;32m    182\u001b[0m \u001b[0;34m\u001b[0m\u001b[0m\n\u001b[1;32m    183\u001b[0m     \u001b[0;32mdef\u001b[0m \u001b[0m__setitem__\u001b[0m\u001b[0;34m(\u001b[0m\u001b[0mself\u001b[0m\u001b[0;34m,\u001b[0m \u001b[0mkey\u001b[0m\u001b[0;34m,\u001b[0m \u001b[0mval\u001b[0m\u001b[0;34m)\u001b[0m\u001b[0;34m:\u001b[0m\u001b[0;34m\u001b[0m\u001b[0;34m\u001b[0m\u001b[0m\n",
      "\u001b[0;31mKeyError\u001b[0m: 'DeltaPhi'"
     ]
    }
   ],
   "source": [
    "print(graph.edata['DeltaPhi'])\n",
    "print(graph.dstdata['P_t'])"
   ]
  },
  {
   "cell_type": "code",
   "execution_count": null,
   "metadata": {},
   "outputs": [],
   "source": [
    "a = torch.tensor(np.arange(5,10))\n",
    "b = torch.tensor(np.arange(9).reshape((3,3)))\n",
    "\n",
    "print(a)\n",
    "print(b)\n",
    "b = torch.reshape(b, (-1,))\n",
    "print(b)\n",
    "print(torch.cat((a,b), dim=0))"
   ]
  },
  {
   "cell_type": "code",
   "execution_count": null,
   "metadata": {},
   "outputs": [],
   "source": []
  }
 ],
 "metadata": {
  "kernelspec": {
   "display_name": "venv",
   "language": "python",
   "name": "venv"
  },
  "language_info": {
   "codemirror_mode": {
    "name": "ipython",
    "version": 3
   },
   "file_extension": ".py",
   "mimetype": "text/x-python",
   "name": "python",
   "nbconvert_exporter": "python",
   "pygments_lexer": "ipython3",
   "version": "3.8.5"
  }
 },
 "nbformat": 4,
 "nbformat_minor": 4
}

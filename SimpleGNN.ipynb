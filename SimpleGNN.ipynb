{
 "cells": [
  {
   "cell_type": "code",
   "execution_count": 1,
   "metadata": {},
   "outputs": [
    {
     "name": "stderr",
     "output_type": "stream",
     "text": [
      "Using backend: pytorch\n"
     ]
    }
   ],
   "source": [
    "import dgl\n",
    "import math\n",
    "import torch\n",
    "import numpy as np\n",
    "from os import path\n",
    "from pathlib import Path\n",
    "from dgl.data import DGLDataset\n",
    "from ToyDGLDataset import ToyDGLDataset, GetNodeFeatureVectors, GetEdgeFeatureVectors, GetNeighborNodes, GetEdgeList"
   ]
  },
  {
   "cell_type": "code",
   "execution_count": 2,
   "metadata": {},
   "outputs": [
    {
     "name": "stdout",
     "output_type": "stream",
     "text": [
      "Done loading data from cached files.\n"
     ]
    }
   ],
   "source": [
    "datasetName = 'ToyDataset01'\n",
    "datasetDir = path.join('/home/andrew/GNN_Sandbox/GraphDatasets', datasetName)\n",
    "dataset = ToyDGLDataset(datasetName, datasetDir)"
   ]
  },
  {
   "cell_type": "code",
   "execution_count": 3,
   "metadata": {},
   "outputs": [
    {
     "name": "stdout",
     "output_type": "stream",
     "text": [
      "Num Graph classes: 2\n",
      "Graph classes: [0, 1]\n",
      "Number of graphs: 4000\n",
      "Number of all nodes in all graphs: 187464\n",
      "Number of all edges in all graphs: 10140816\n",
      "Dim node features: 5\n",
      "Node feature keys: ['P_t', 'Eta', 'Phi', 'Mass', 'Type']\n",
      "Dim edge features: 3\n",
      "Edge feature keys: ['DeltaEta', 'DeltaPhi', 'RapiditySquared']\n"
     ]
    }
   ],
   "source": [
    "dataset.printProperties()"
   ]
  },
  {
   "cell_type": "code",
   "execution_count": 4,
   "metadata": {},
   "outputs": [
    {
     "name": "stdout",
     "output_type": "stream",
     "text": [
      "Graph(num_nodes=14, num_edges=182,\n",
      "      ndata_schemes={'feat': Scheme(shape=(5,), dtype=torch.float64)}\n",
      "      edata_schemes={'feat': Scheme(shape=(3,), dtype=torch.float64)})\n",
      "Label: 0\n",
      "tensor([[ 8.2500e+01,  2.4013e+00,  4.4686e+00,  6.9914e-01,  1.0000e+00],\n",
      "        [ 3.3428e+01,  6.1951e+00,  4.7875e+00,  2.0964e-01,  0.0000e+00],\n",
      "        [ 8.8582e+01, -4.9841e+00,  5.8098e+00,  4.0086e-01,  2.0000e+00],\n",
      "        [ 9.1063e+01, -1.9321e+00,  1.6134e+00,  4.3644e-01,  0.0000e+00],\n",
      "        [ 8.3695e+01,  8.4926e+00,  5.9178e+00,  9.9072e-01,  1.0000e+00],\n",
      "        [ 8.3720e+01, -5.7298e+00,  3.1423e+00,  5.3718e-01,  2.0000e+00],\n",
      "        [ 4.0792e+01, -6.3605e+00,  4.7412e+00,  7.0650e-01,  1.0000e+00],\n",
      "        [ 1.6013e+01, -9.9891e+00,  4.0879e+00,  9.9766e-01,  1.0000e+00],\n",
      "        [ 8.3934e+01,  5.7967e+00,  5.4796e+00,  6.5208e-01,  1.0000e+00],\n",
      "        [ 1.1577e+01,  7.7988e+00,  1.1120e+00,  4.8540e-01,  0.0000e+00],\n",
      "        [ 7.7765e+01,  2.9263e+00,  4.8746e+00,  7.1705e-01,  1.0000e+00],\n",
      "        [ 7.7500e+01,  4.9447e-01,  3.2061e+00,  4.0157e-01,  0.0000e+00],\n",
      "        [ 9.7947e+01, -8.5693e+00,  1.7491e+00,  8.7368e-01,  1.0000e+00],\n",
      "        [ 3.0526e+01,  7.5449e+00,  4.2836e+00,  9.5895e-02,  1.0000e+00]])\n"
     ]
    }
   ],
   "source": [
    "graph, label = dataset[0]\n",
    "print(graph)\n",
    "print(f'Label: {label}')\n",
    "print(GetNodeFeatureVectors(graph))"
   ]
  },
  {
   "cell_type": "code",
   "execution_count": 5,
   "metadata": {},
   "outputs": [],
   "source": [
    "from dgl.dataloading import GraphDataLoader\n",
    "from torch.utils.data.sampler import SubsetRandomSampler\n",
    "\n",
    "splitIndices = dataset.get_split_indices()\n",
    "\n",
    "train_sampler = SubsetRandomSampler(splitIndices['train'])\n",
    "val_sampler = SubsetRandomSampler(splitIndices['valid'])\n",
    "test_sampler = SubsetRandomSampler(splitIndices['test'])\n",
    "\n",
    "\n",
    "train_dataloader = GraphDataLoader(dataset, sampler=train_sampler, batch_size=32, drop_last=False)\n",
    "val_dataloader = GraphDataLoader(dataset, sampler=val_sampler, batch_size=32, drop_last=False)\n",
    "test_dataloader = GraphDataLoader(dataset, sampler=test_sampler, batch_size=32, drop_last=False)"
   ]
  },
  {
   "cell_type": "code",
   "execution_count": 6,
   "metadata": {},
   "outputs": [
    {
     "name": "stdout",
     "output_type": "stream",
     "text": [
      "[Graph(num_nodes=1395, num_edges=65818,\n",
      "      ndata_schemes={'feat': Scheme(shape=(5,), dtype=torch.float64)}\n",
      "      edata_schemes={'feat': Scheme(shape=(3,), dtype=torch.float64)}), tensor([0, 0, 1, 0, 0, 0, 1, 0, 1, 1, 1, 1, 0, 0, 0, 0, 0, 1, 1, 1, 0, 0, 1, 1,\n",
      "        0, 0, 0, 0, 0, 1, 0, 0])]\n"
     ]
    }
   ],
   "source": [
    "it = iter(train_dataloader)\n",
    "batch = next(it)\n",
    "print(batch)"
   ]
  },
  {
   "cell_type": "code",
   "execution_count": 7,
   "metadata": {},
   "outputs": [
    {
     "name": "stdout",
     "output_type": "stream",
     "text": [
      "Number of nodes for each graph element in the batch: tensor([23, 42, 51, 38, 38, 21, 69, 48, 63, 54, 58, 50, 27, 28, 57, 30, 42, 61,\n",
      "        59, 70, 42, 27, 70, 42, 33, 25, 35, 39, 38, 49, 35, 31])\n",
      "Number of edges for each graph element in the batch: tensor([ 506, 1722, 2550, 1406, 1406,  420, 4692, 2256, 3906, 2862, 3306, 2450,\n",
      "         702,  756, 3192,  870, 1722, 3660, 3422, 4830, 1722,  702, 4830, 1722,\n",
      "        1056,  600, 1190, 1482, 1406, 2352, 1190,  930])\n",
      "tensor([0, 0, 1, 0, 0, 0, 1, 0, 1, 1, 1, 1, 0, 0, 0, 0, 0, 1, 1, 1, 0, 0, 1, 1,\n",
      "        0, 0, 0, 0, 0, 1, 0, 0])\n",
      "The original graphs in the minibatch:\n",
      "[Graph(num_nodes=23, num_edges=506,\n",
      "      ndata_schemes={'feat': Scheme(shape=(5,), dtype=torch.float64)}\n",
      "      edata_schemes={'feat': Scheme(shape=(3,), dtype=torch.float64)}), Graph(num_nodes=42, num_edges=1722,\n",
      "      ndata_schemes={'feat': Scheme(shape=(5,), dtype=torch.float64)}\n",
      "      edata_schemes={'feat': Scheme(shape=(3,), dtype=torch.float64)}), Graph(num_nodes=51, num_edges=2550,\n",
      "      ndata_schemes={'feat': Scheme(shape=(5,), dtype=torch.float64)}\n",
      "      edata_schemes={'feat': Scheme(shape=(3,), dtype=torch.float64)}), Graph(num_nodes=38, num_edges=1406,\n",
      "      ndata_schemes={'feat': Scheme(shape=(5,), dtype=torch.float64)}\n",
      "      edata_schemes={'feat': Scheme(shape=(3,), dtype=torch.float64)}), Graph(num_nodes=38, num_edges=1406,\n",
      "      ndata_schemes={'feat': Scheme(shape=(5,), dtype=torch.float64)}\n",
      "      edata_schemes={'feat': Scheme(shape=(3,), dtype=torch.float64)}), Graph(num_nodes=21, num_edges=420,\n",
      "      ndata_schemes={'feat': Scheme(shape=(5,), dtype=torch.float64)}\n",
      "      edata_schemes={'feat': Scheme(shape=(3,), dtype=torch.float64)}), Graph(num_nodes=69, num_edges=4692,\n",
      "      ndata_schemes={'feat': Scheme(shape=(5,), dtype=torch.float64)}\n",
      "      edata_schemes={'feat': Scheme(shape=(3,), dtype=torch.float64)}), Graph(num_nodes=48, num_edges=2256,\n",
      "      ndata_schemes={'feat': Scheme(shape=(5,), dtype=torch.float64)}\n",
      "      edata_schemes={'feat': Scheme(shape=(3,), dtype=torch.float64)}), Graph(num_nodes=63, num_edges=3906,\n",
      "      ndata_schemes={'feat': Scheme(shape=(5,), dtype=torch.float64)}\n",
      "      edata_schemes={'feat': Scheme(shape=(3,), dtype=torch.float64)}), Graph(num_nodes=54, num_edges=2862,\n",
      "      ndata_schemes={'feat': Scheme(shape=(5,), dtype=torch.float64)}\n",
      "      edata_schemes={'feat': Scheme(shape=(3,), dtype=torch.float64)}), Graph(num_nodes=58, num_edges=3306,\n",
      "      ndata_schemes={'feat': Scheme(shape=(5,), dtype=torch.float64)}\n",
      "      edata_schemes={'feat': Scheme(shape=(3,), dtype=torch.float64)}), Graph(num_nodes=50, num_edges=2450,\n",
      "      ndata_schemes={'feat': Scheme(shape=(5,), dtype=torch.float64)}\n",
      "      edata_schemes={'feat': Scheme(shape=(3,), dtype=torch.float64)}), Graph(num_nodes=27, num_edges=702,\n",
      "      ndata_schemes={'feat': Scheme(shape=(5,), dtype=torch.float64)}\n",
      "      edata_schemes={'feat': Scheme(shape=(3,), dtype=torch.float64)}), Graph(num_nodes=28, num_edges=756,\n",
      "      ndata_schemes={'feat': Scheme(shape=(5,), dtype=torch.float64)}\n",
      "      edata_schemes={'feat': Scheme(shape=(3,), dtype=torch.float64)}), Graph(num_nodes=57, num_edges=3192,\n",
      "      ndata_schemes={'feat': Scheme(shape=(5,), dtype=torch.float64)}\n",
      "      edata_schemes={'feat': Scheme(shape=(3,), dtype=torch.float64)}), Graph(num_nodes=30, num_edges=870,\n",
      "      ndata_schemes={'feat': Scheme(shape=(5,), dtype=torch.float64)}\n",
      "      edata_schemes={'feat': Scheme(shape=(3,), dtype=torch.float64)}), Graph(num_nodes=42, num_edges=1722,\n",
      "      ndata_schemes={'feat': Scheme(shape=(5,), dtype=torch.float64)}\n",
      "      edata_schemes={'feat': Scheme(shape=(3,), dtype=torch.float64)}), Graph(num_nodes=61, num_edges=3660,\n",
      "      ndata_schemes={'feat': Scheme(shape=(5,), dtype=torch.float64)}\n",
      "      edata_schemes={'feat': Scheme(shape=(3,), dtype=torch.float64)}), Graph(num_nodes=59, num_edges=3422,\n",
      "      ndata_schemes={'feat': Scheme(shape=(5,), dtype=torch.float64)}\n",
      "      edata_schemes={'feat': Scheme(shape=(3,), dtype=torch.float64)}), Graph(num_nodes=70, num_edges=4830,\n",
      "      ndata_schemes={'feat': Scheme(shape=(5,), dtype=torch.float64)}\n",
      "      edata_schemes={'feat': Scheme(shape=(3,), dtype=torch.float64)}), Graph(num_nodes=42, num_edges=1722,\n",
      "      ndata_schemes={'feat': Scheme(shape=(5,), dtype=torch.float64)}\n",
      "      edata_schemes={'feat': Scheme(shape=(3,), dtype=torch.float64)}), Graph(num_nodes=27, num_edges=702,\n",
      "      ndata_schemes={'feat': Scheme(shape=(5,), dtype=torch.float64)}\n",
      "      edata_schemes={'feat': Scheme(shape=(3,), dtype=torch.float64)}), Graph(num_nodes=70, num_edges=4830,\n",
      "      ndata_schemes={'feat': Scheme(shape=(5,), dtype=torch.float64)}\n",
      "      edata_schemes={'feat': Scheme(shape=(3,), dtype=torch.float64)}), Graph(num_nodes=42, num_edges=1722,\n",
      "      ndata_schemes={'feat': Scheme(shape=(5,), dtype=torch.float64)}\n",
      "      edata_schemes={'feat': Scheme(shape=(3,), dtype=torch.float64)}), Graph(num_nodes=33, num_edges=1056,\n",
      "      ndata_schemes={'feat': Scheme(shape=(5,), dtype=torch.float64)}\n",
      "      edata_schemes={'feat': Scheme(shape=(3,), dtype=torch.float64)}), Graph(num_nodes=25, num_edges=600,\n",
      "      ndata_schemes={'feat': Scheme(shape=(5,), dtype=torch.float64)}\n",
      "      edata_schemes={'feat': Scheme(shape=(3,), dtype=torch.float64)}), Graph(num_nodes=35, num_edges=1190,\n",
      "      ndata_schemes={'feat': Scheme(shape=(5,), dtype=torch.float64)}\n",
      "      edata_schemes={'feat': Scheme(shape=(3,), dtype=torch.float64)}), Graph(num_nodes=39, num_edges=1482,\n",
      "      ndata_schemes={'feat': Scheme(shape=(5,), dtype=torch.float64)}\n",
      "      edata_schemes={'feat': Scheme(shape=(3,), dtype=torch.float64)}), Graph(num_nodes=38, num_edges=1406,\n",
      "      ndata_schemes={'feat': Scheme(shape=(5,), dtype=torch.float64)}\n",
      "      edata_schemes={'feat': Scheme(shape=(3,), dtype=torch.float64)}), Graph(num_nodes=49, num_edges=2352,\n",
      "      ndata_schemes={'feat': Scheme(shape=(5,), dtype=torch.float64)}\n",
      "      edata_schemes={'feat': Scheme(shape=(3,), dtype=torch.float64)}), Graph(num_nodes=35, num_edges=1190,\n",
      "      ndata_schemes={'feat': Scheme(shape=(5,), dtype=torch.float64)}\n",
      "      edata_schemes={'feat': Scheme(shape=(3,), dtype=torch.float64)}), Graph(num_nodes=31, num_edges=930,\n",
      "      ndata_schemes={'feat': Scheme(shape=(5,), dtype=torch.float64)}\n",
      "      edata_schemes={'feat': Scheme(shape=(3,), dtype=torch.float64)})]\n"
     ]
    }
   ],
   "source": [
    "batched_graph, labels = batch\n",
    "print('Number of nodes for each graph element in the batch:', batched_graph.batch_num_nodes())\n",
    "print('Number of edges for each graph element in the batch:', batched_graph.batch_num_edges())\n",
    "print(labels)\n",
    "# Recover the original graph elements from the minibatch\n",
    "graphs = dgl.unbatch(batched_graph)\n",
    "print('The original graphs in the minibatch:')\n",
    "print(graphs)"
   ]
  },
  {
   "cell_type": "code",
   "execution_count": 8,
   "metadata": {},
   "outputs": [],
   "source": [
    "from dgl.nn import GraphConv\n",
    "import torch.nn as nn\n",
    "import torch.nn.functional as F\n",
    "\n",
    "class GCN(nn.Module):\n",
    "    def __init__(self, in_feats, h_feats, num_classes):\n",
    "        super(GCN, self).__init__()\n",
    "        self.conv1 = GraphConv(in_feats, h_feats)\n",
    "        self.conv2 = GraphConv(h_feats, num_classes)\n",
    "        \n",
    "    def reset_parameters(self):\n",
    "        self.conv1.reset_parameters()\n",
    "        self.conv2.reset_parameters()\n",
    "\n",
    "    def forward(self, g, in_feat):\n",
    "        h = self.conv1(g, in_feat)\n",
    "        h = F.relu(h)\n",
    "        h = self.conv2(g, h)\n",
    "        g.ndata['h'] = h\n",
    "        return dgl.mean_nodes(g, 'h')"
   ]
  },
  {
   "cell_type": "code",
   "execution_count": 9,
   "metadata": {},
   "outputs": [],
   "source": [
    "# The evaluation function\n",
    "def eval(model, device, dataloader):\n",
    "    model = model.to(device)\n",
    "    model.eval()\n",
    "    y_true = []\n",
    "    y_logits = []\n",
    "\n",
    "    for batched_graph, labels in dataloader:\n",
    "        batched_graph = batched_graph.to(device)\n",
    "        labels = labels.to(device)\n",
    "        nodeFeatVec = GetNodeFeatureVectors(batched_graph)\n",
    "\n",
    "        with torch.no_grad():\n",
    "            pred = model(batched_graph, nodeFeatVec)\n",
    "\n",
    "        y_true.append(labels.detach().cpu())\n",
    "        y_logits.append(pred.detach().cpu())\n",
    "\n",
    "    y_true = torch.cat(y_true, dim = 0).numpy()\n",
    "    y_logits = torch.cat(y_logits, dim = 0).numpy()\n",
    "    y_pred = y_logits.argmax(1)\n",
    "    \n",
    "    num_correct_pred = (y_pred == y_true).sum().item()\n",
    "    num_total_pred = len(y_true)\n",
    "    acc =  num_correct_pred / num_total_pred\n",
    "    \n",
    "    evalDict = {\"y_true\": y_true, \"y_logits\": y_logits, \"y_pred\": y_pred, \"acc\": acc}\n",
    "\n",
    "    return evalDict"
   ]
  },
  {
   "cell_type": "code",
   "execution_count": 10,
   "metadata": {},
   "outputs": [],
   "source": [
    "import copy\n",
    "from TrainResults import TrainResults\n",
    "\n",
    "def train(model, device, dataloader, optimizer, loss_fn, epochs):\n",
    "    print(f'Device: {device}')\n",
    "    model = model.to(device)\n",
    "    model.train()\n",
    "    \n",
    "    results = TrainResults()\n",
    "\n",
    "    for epoch in range(epochs):\n",
    "        for batched_graph, labels in dataloader:\n",
    "            batched_graph = batched_graph.to(device)\n",
    "            labels = labels.to(device)\n",
    "            nodeFeatVec = GetNodeFeatureVectors(batched_graph)\n",
    "\n",
    "            #forward\n",
    "            pred =  model(batched_graph, nodeFeatVec)\n",
    "\n",
    "            # compute loss\n",
    "            loss = loss_fn(pred, labels)\n",
    "\n",
    "            # backward\n",
    "            optimizer.zero_grad()\n",
    "            loss.backward()\n",
    "            optimizer.step()\n",
    "\n",
    "        train_result = eval(model, device, train_dataloader)\n",
    "        val_result = eval(model, device, val_dataloader)\n",
    "        test_result = eval(model, device, test_dataloader)\n",
    "        results.addResult(model, loss.detach().cpu().numpy(), train_result['acc'], val_result['acc'], test_result['acc'])\n",
    "        results.printLastResult()\n",
    "        \n",
    "    return results"
   ]
  },
  {
   "cell_type": "code",
   "execution_count": 11,
   "metadata": {},
   "outputs": [
    {
     "name": "stdout",
     "output_type": "stream",
     "text": [
      "Device: cuda\n",
      "Epoch: 00, Loss: 0.5313, Train: 79.54%, Valid: 79.12% Test: 77.25%\n",
      "Epoch: 01, Loss: 0.3304, Train: 88.88%, Valid: 87.50% Test: 88.88%\n",
      "Epoch: 02, Loss: 0.3271, Train: 93.67%, Valid: 93.75% Test: 93.88%\n",
      "Epoch: 03, Loss: 0.2359, Train: 93.08%, Valid: 93.12% Test: 91.12%\n",
      "Epoch: 04, Loss: 0.3361, Train: 95.25%, Valid: 95.00% Test: 95.12%\n",
      "Epoch: 05, Loss: 0.1040, Train: 92.71%, Valid: 92.38% Test: 93.00%\n",
      "Epoch: 06, Loss: 0.1758, Train: 95.12%, Valid: 95.00% Test: 95.25%\n",
      "Epoch: 07, Loss: 0.1212, Train: 93.00%, Valid: 92.88% Test: 94.00%\n",
      "Epoch: 08, Loss: 0.1594, Train: 95.75%, Valid: 95.75% Test: 96.00%\n",
      "Epoch: 09, Loss: 0.0740, Train: 95.71%, Valid: 95.50% Test: 96.00%\n",
      "Epoch: 10, Loss: 0.0973, Train: 90.83%, Valid: 89.88% Test: 92.00%\n",
      "Epoch: 11, Loss: 0.2715, Train: 96.12%, Valid: 96.00% Test: 95.50%\n",
      "Epoch: 12, Loss: 0.1356, Train: 96.33%, Valid: 96.12% Test: 95.75%\n",
      "Epoch: 13, Loss: 0.1208, Train: 95.75%, Valid: 95.62% Test: 95.88%\n",
      "Epoch: 14, Loss: 0.1271, Train: 95.96%, Valid: 95.62% Test: 95.25%\n",
      "Epoch: 15, Loss: 0.0309, Train: 96.25%, Valid: 95.88% Test: 96.12%\n",
      "Epoch: 16, Loss: 0.1132, Train: 95.29%, Valid: 95.62% Test: 94.25%\n",
      "Epoch: 17, Loss: 0.2781, Train: 95.88%, Valid: 95.88% Test: 94.88%\n",
      "Epoch: 18, Loss: 0.1349, Train: 96.58%, Valid: 96.38% Test: 96.50%\n",
      "Epoch: 19, Loss: 0.3756, Train: 96.12%, Valid: 96.12% Test: 96.25%\n",
      "Epoch: 20, Loss: 0.2058, Train: 96.79%, Valid: 96.88% Test: 96.62%\n",
      "Epoch: 21, Loss: 0.1609, Train: 95.67%, Valid: 95.75% Test: 94.62%\n",
      "Epoch: 22, Loss: 0.0644, Train: 97.04%, Valid: 96.62% Test: 96.38%\n",
      "Epoch: 23, Loss: 0.3009, Train: 96.88%, Valid: 96.88% Test: 97.12%\n",
      "Epoch: 24, Loss: 0.0724, Train: 96.92%, Valid: 97.00% Test: 97.00%\n",
      "Epoch: 25, Loss: 0.1081, Train: 97.08%, Valid: 96.50% Test: 96.75%\n",
      "Epoch: 26, Loss: 0.1830, Train: 97.04%, Valid: 96.50% Test: 96.62%\n",
      "Epoch: 27, Loss: 0.1813, Train: 97.29%, Valid: 97.12% Test: 97.00%\n",
      "Epoch: 28, Loss: 0.1183, Train: 96.67%, Valid: 96.50% Test: 96.75%\n",
      "Epoch: 29, Loss: 0.1652, Train: 95.67%, Valid: 95.50% Test: 96.12%\n",
      "Epoch: 30, Loss: 0.0205, Train: 96.96%, Valid: 96.75% Test: 97.12%\n",
      "Epoch: 31, Loss: 0.0707, Train: 97.58%, Valid: 97.12% Test: 97.38%\n",
      "Epoch: 32, Loss: 0.0743, Train: 96.25%, Valid: 96.12% Test: 95.50%\n",
      "Epoch: 33, Loss: 0.1350, Train: 91.67%, Valid: 91.50% Test: 91.12%\n",
      "Epoch: 34, Loss: 0.1608, Train: 97.79%, Valid: 97.00% Test: 97.50%\n",
      "Epoch: 35, Loss: 0.0697, Train: 97.71%, Valid: 97.12% Test: 97.75%\n",
      "Epoch: 36, Loss: 0.1092, Train: 94.83%, Valid: 94.88% Test: 96.00%\n",
      "Epoch: 37, Loss: 0.0572, Train: 97.46%, Valid: 97.75% Test: 97.12%\n",
      "Epoch: 38, Loss: 0.0271, Train: 91.29%, Valid: 91.50% Test: 92.62%\n",
      "Epoch: 39, Loss: 0.1392, Train: 97.46%, Valid: 97.62% Test: 97.38%\n",
      "Epoch: 40, Loss: 0.2476, Train: 95.92%, Valid: 96.25% Test: 95.12%\n",
      "Epoch: 41, Loss: 0.0978, Train: 98.21%, Valid: 97.12% Test: 97.75%\n",
      "Epoch: 42, Loss: 0.0253, Train: 97.12%, Valid: 96.50% Test: 97.50%\n",
      "Epoch: 43, Loss: 0.1039, Train: 97.96%, Valid: 98.00% Test: 97.38%\n",
      "Epoch: 44, Loss: 0.1369, Train: 97.08%, Valid: 97.38% Test: 97.12%\n",
      "Epoch: 45, Loss: 0.0584, Train: 98.38%, Valid: 97.62% Test: 98.00%\n",
      "Epoch: 46, Loss: 0.1233, Train: 98.67%, Valid: 97.88% Test: 98.12%\n",
      "Epoch: 47, Loss: 0.1136, Train: 96.00%, Valid: 95.75% Test: 96.75%\n",
      "Epoch: 48, Loss: 0.1261, Train: 98.08%, Valid: 97.25% Test: 97.88%\n",
      "Epoch: 49, Loss: 0.0618, Train: 97.79%, Valid: 98.38% Test: 97.12%\n"
     ]
    }
   ],
   "source": [
    "device = 'cuda' if torch.cuda.is_available() else 'cpu'\n",
    "\n",
    "# Create the model with given dimensions\n",
    "model = GCN(dataset.dim_nfeats, 16, dataset.num_graph_classes).to(device)\n",
    "model.reset_parameters()\n",
    "optimizer = torch.optim.Adam(model.parameters(), lr=0.01)\n",
    "loss_fn = nn.CrossEntropyLoss()\n",
    "epochs = 50\n",
    "\n",
    "result = train(model, device, train_dataloader, optimizer, loss_fn, epochs)\n"
   ]
  },
  {
   "cell_type": "code",
   "execution_count": 12,
   "metadata": {},
   "outputs": [
    {
     "name": "stdout",
     "output_type": "stream",
     "text": [
      "Epoch: 49, Loss: 0.0618, Train: 97.79%, Valid: 98.38% Test: 97.12%\n"
     ]
    },
    {
     "data": {
      "image/png": "[encoded data removed]",
      "text/plain": [
       "<Figure size 576x432 with 1 Axes>"
      ]
     },
     "metadata": {
      "needs_background": "light"
     },
     "output_type": "display_data"
    },
    {
     "data": {
      "image/png": "[encoded data removed]",
      "text/plain": [
       "<Figure size 576x432 with 1 Axes>"
      ]
     },
     "metadata": {
      "needs_background": "light"
     },
     "output_type": "display_data"
    }
   ],
   "source": [
    "result.printBestResult()\n",
    "result.plotLoss()\n",
    "result.plotAcc()"
   ]
  },
  {
   "cell_type": "code",
   "execution_count": 13,
   "metadata": {},
   "outputs": [
    {
     "name": "stdout",
     "output_type": "stream",
     "text": [
      "NodeSpace(data={'feat': tensor([[82.4999,  2.4013,  4.4686,  0.6991,  1.0000],\n",
      "        [33.4276,  6.1951,  4.7875,  0.2096,  0.0000]], dtype=torch.float64)})\n",
      "NodeSpace(data={'feat': tensor([[82.4999,  2.4013,  4.4686,  0.6991,  1.0000]], dtype=torch.float64)})\n",
      "NodeSpace(data={'feat': tensor([[33.4276,  6.1951,  4.7875,  0.2096,  0.0000]], dtype=torch.float64)})\n",
      "NodeSpace(data={'feat': tensor([[77.7649,  2.9263,  4.8746,  0.7170,  1.0000]], dtype=torch.float64)})\n",
      "NodeSpace(data={'feat': tensor([[91.0627, -1.9321,  1.6134,  0.4364,  0.0000]], dtype=torch.float64)})\n"
     ]
    }
   ],
   "source": [
    "print(graph.nodes[[0,1]])\n",
    "print(graph.nodes[0])\n",
    "print(graph.nodes[1])\n",
    "print(graph.nodes[10])\n",
    "print(graph.nodes[3])"
   ]
  },
  {
   "cell_type": "code",
   "execution_count": 14,
   "metadata": {},
   "outputs": [
    {
     "name": "stdout",
     "output_type": "stream",
     "text": [
      "EdgeSpace(data={'feat': tensor([[ 3.7938,  0.3189, 14.4946],\n",
      "        [ 7.3855,  1.3411, 56.3441]], dtype=torch.float64)})\n",
      "EdgeSpace(data={'feat': tensor([[ 4.8584,  3.2611, 34.2393]], dtype=torch.float64)})\n",
      "EdgeSpace(data={'feat': tensor([[ 4.8584,  3.2611, 34.2393]], dtype=torch.float64)})\n",
      "EdgeSpace(data={'feat': tensor([[ 3.7938,  0.3189, 14.4946]], dtype=torch.float64)})\n",
      "EdgeSpace(data={'feat': tensor([[ 7.3855,  1.3411, 56.3441]], dtype=torch.float64)})\n"
     ]
    }
   ],
   "source": [
    "#print(graph.out_edges(7))\n",
    "#print(graph.edges[(0,1)]) # src, dst\n",
    "#print(graph.edges[0,1]) # src, dst\n",
    "print(graph.edges[[0, 0], [1,2]]) # src, dst\n",
    "print(graph.edges[[10], [3]])\n",
    "print(graph.edges[[3], [10]])\n",
    "print(graph.edges[0])\n",
    "print(graph.edges[1])\n",
    "#print(graph.edges[0]) # eid"
   ]
  },
  {
   "cell_type": "code",
   "execution_count": 15,
   "metadata": {},
   "outputs": [
    {
     "name": "stdout",
     "output_type": "stream",
     "text": [
      "NodeSpace(data={'feat': tensor([[82.4999,  2.4013,  4.4686,  0.6991,  1.0000]], dtype=torch.float64)})\n",
      "tensor([[ 8.2500e+01,  2.4013e+00,  4.4686e+00,  6.9914e-01,  1.0000e+00],\n",
      "        [ 3.3428e+01,  6.1951e+00,  4.7875e+00,  2.0964e-01,  0.0000e+00],\n",
      "        [ 8.8582e+01, -4.9841e+00,  5.8098e+00,  4.0086e-01,  2.0000e+00],\n",
      "        [ 9.1063e+01, -1.9321e+00,  1.6134e+00,  4.3644e-01,  0.0000e+00],\n",
      "        [ 8.3695e+01,  8.4926e+00,  5.9178e+00,  9.9072e-01,  1.0000e+00],\n",
      "        [ 8.3720e+01, -5.7298e+00,  3.1423e+00,  5.3718e-01,  2.0000e+00],\n",
      "        [ 4.0792e+01, -6.3605e+00,  4.7412e+00,  7.0650e-01,  1.0000e+00],\n",
      "        [ 1.6013e+01, -9.9891e+00,  4.0879e+00,  9.9766e-01,  1.0000e+00],\n",
      "        [ 8.3934e+01,  5.7967e+00,  5.4796e+00,  6.5208e-01,  1.0000e+00],\n",
      "        [ 1.1577e+01,  7.7988e+00,  1.1120e+00,  4.8540e-01,  0.0000e+00],\n",
      "        [ 7.7765e+01,  2.9263e+00,  4.8746e+00,  7.1705e-01,  1.0000e+00],\n",
      "        [ 7.7500e+01,  4.9447e-01,  3.2061e+00,  4.0157e-01,  0.0000e+00],\n",
      "        [ 9.7947e+01, -8.5693e+00,  1.7491e+00,  8.7368e-01,  1.0000e+00],\n",
      "        [ 3.0526e+01,  7.5449e+00,  4.2836e+00,  9.5895e-02,  1.0000e+00]],\n",
      "       dtype=torch.float64)\n",
      "(tensor([0, 0, 0, 0, 0, 0, 0, 0, 0, 0, 0, 0, 0]), tensor([ 1,  2,  3,  4,  5,  6,  7,  8,  9, 10, 11, 12, 13]))\n"
     ]
    }
   ],
   "source": [
    "edgeList = GetNeighborNodes(graph, 0)\n",
    "nodeFeat = graph.ndata['feat']\n",
    "print(graph.nodes[0])\n",
    "print(nodeFeat)\n",
    "print(edgeList)\n"
   ]
  },
  {
   "cell_type": "code",
   "execution_count": 16,
   "metadata": {},
   "outputs": [
    {
     "name": "stdout",
     "output_type": "stream",
     "text": [
      "tensor([ 82.4999,   2.4013,   4.4686,   0.6991,   1.0000,   3.7938,   0.3189,\n",
      "         14.4946,   7.3855,   1.3411,  56.3441,   4.3334,   2.8552,  26.9309,\n",
      "          6.0913,   1.4491,  39.2035,   8.1311,   1.3263,  67.8747,   8.7619,\n",
      "          0.2726,  76.8443,  12.3904,   0.3807, 153.6669,   3.3954,   1.0109,\n",
      "         12.5504,   5.3975,   3.3566,  40.3997,   0.5250,   0.4059,   0.4404,\n",
      "          1.9069,   1.2625,   5.2301,  10.9706,   2.7195, 127.7507,   5.1435,\n",
      "          0.1850,  26.4903], dtype=torch.float64)\n",
      "(1, 2, 3)\n"
     ]
    }
   ],
   "source": [
    "def ConcatNodeAndEdgeFeatures(graph, nodeFeat, nodeLabel: int):\n",
    "    neighbors = GetNeighborNodes(graph, nodeLabel)\n",
    "    nfeat = nodeFeat[nodeLabel]\n",
    "    efeat = torch.reshape(graph.edges[neighbors].data['feat'], (-1,))\n",
    "    #print(nfeat)\n",
    "    #print(efeat)\n",
    "    return torch.cat((nfeat, efeat))\n",
    "    \n",
    "x = ConcatNodeAndEdgeFeatures(graph, nodeFeat, 0)\n",
    "print(x)\n",
    "\n",
    "edgeFeatureVec = GetEdgeFeatureVectors(graph)\n",
    "\n",
    "x = (1,2,3)\n",
    "print(x)\n"
   ]
  },
  {
   "cell_type": "code",
   "execution_count": null,
   "metadata": {},
   "outputs": [],
   "source": []
  }
 ],
 "metadata": {
  "kernelspec": {
   "display_name": "venv",
   "language": "python",
   "name": "venv"
  },
  "language_info": {
   "codemirror_mode": {
    "name": "ipython",
    "version": 3
   },
   "file_extension": ".py",
   "mimetype": "text/x-python",
   "name": "python",
   "nbconvert_exporter": "python",
   "pygments_lexer": "ipython3",
   "version": "3.8.5"
  }
 },
 "nbformat": 4,
 "nbformat_minor": 4
}

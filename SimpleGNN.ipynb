{
 "cells": [
  {
   "cell_type": "code",
   "execution_count": 1,
   "metadata": {},
   "outputs": [
    {
     "name": "stderr",
     "output_type": "stream",
     "text": [
      "Using backend: pytorch\n"
     ]
    }
   ],
   "source": [
    "import dgl\n",
    "import math\n",
    "import torch\n",
    "import numpy as np\n",
    "from os import path\n",
    "from pathlib import Path\n",
    "from dgl.data import DGLDataset\n",
    "from ToyDGLDataset import ToyDGLDataset, GetNodeFeatureVectors, GetEdgeFeatureVectors, GetNeighborNodes, GetEdgeList"
   ]
  },
  {
   "cell_type": "code",
   "execution_count": 2,
   "metadata": {},
   "outputs": [
    {
     "name": "stdout",
     "output_type": "stream",
     "text": [
      "Done loading data from cached files.\n"
     ]
    }
   ],
   "source": [
    "datasetName = 'ToyDataset01'\n",
    "datasetDir = path.join('/home/andrew/GNN_Sandbox/GraphDatasets', datasetName)\n",
    "dataset = ToyDGLDataset(datasetName, datasetDir)"
   ]
  },
  {
   "cell_type": "code",
   "execution_count": 3,
   "metadata": {},
   "outputs": [
    {
     "name": "stdout",
     "output_type": "stream",
     "text": [
      "Num Graph classes: 2\n",
      "Graph classes: [0, 1]\n",
      "Number of graphs: 20\n",
      "Number of all nodes in all graphs: 916\n",
      "Number of all edges in all graphs: 48304\n",
      "Dim node features: 5\n",
      "Node feature keys: ['P_t', 'Eta', 'Phi', 'Mass', 'Type']\n",
      "Dim edge features: 3\n",
      "Edge feature keys: ['DeltaPhi', 'DeltaEta', 'RapiditySquared']\n"
     ]
    }
   ],
   "source": [
    "dataset.printProperties()"
   ]
  },
  {
   "cell_type": "code",
   "execution_count": 4,
   "metadata": {},
   "outputs": [
    {
     "name": "stdout",
     "output_type": "stream",
     "text": [
      "20\n",
      "Graph(num_nodes=15, num_edges=210,\n",
      "      ndata_schemes={'Type': Scheme(shape=(), dtype=torch.float64), 'Mass': Scheme(shape=(), dtype=torch.float64), 'Eta': Scheme(shape=(), dtype=torch.float64), 'Phi': Scheme(shape=(), dtype=torch.float64), 'P_t': Scheme(shape=(), dtype=torch.float64), 'label': Scheme(shape=(), dtype=torch.int64)}\n",
      "      edata_schemes={'RapiditySquared': Scheme(shape=(), dtype=torch.float64), 'DeltaEta': Scheme(shape=(), dtype=torch.float64), 'DeltaPhi': Scheme(shape=(), dtype=torch.float64)})\n",
      "Label: 0\n",
      "tensor([[ 0.0000e+00,  1.6273e-01,  6.9731e-02,  1.5032e+00,  2.3221e+01],\n",
      "        [ 0.0000e+00,  4.4825e-01,  9.0394e+00,  1.0488e+00,  7.6783e+01],\n",
      "        [ 1.0000e+00,  5.3471e-01,  6.4118e+00,  5.6615e+00,  8.9785e+01],\n",
      "        [ 2.0000e+00,  6.7258e-01,  1.1639e+00,  2.3248e+00,  6.4804e+01],\n",
      "        [ 2.0000e+00,  9.5304e-01, -1.0462e-01,  2.3367e+00,  7.2507e+01],\n",
      "        [ 1.0000e+00,  6.2894e-01, -9.7801e+00,  1.4135e+00,  2.8199e+01],\n",
      "        [ 0.0000e+00,  1.5741e-01,  5.7550e-02,  4.8663e-01,  5.7164e+01],\n",
      "        [ 0.0000e+00,  7.7959e-01, -3.6804e+00,  4.1229e+00,  4.0701e+01],\n",
      "        [ 1.0000e+00,  6.2136e-01, -5.5349e+00,  5.1368e+00,  1.2241e+01],\n",
      "        [ 1.0000e+00,  6.4612e-01, -2.1258e-02,  5.5986e+00,  4.8905e+01],\n",
      "        [ 1.0000e+00,  1.8790e-01, -1.5682e+00,  4.6971e+00,  8.6001e+01],\n",
      "        [ 2.0000e+00,  1.8053e-01, -6.8824e+00,  3.3199e+00,  6.5821e+01],\n",
      "        [ 2.0000e+00,  6.9871e-01, -4.7200e+00,  5.3984e+00,  2.7378e+01],\n",
      "        [ 2.0000e+00,  4.8321e-01,  9.5654e+00,  6.0832e+00,  3.7191e+01],\n",
      "        [ 0.0000e+00,  9.1275e-02,  7.4799e+00,  3.8578e+00,  5.8865e+01]])\n"
     ]
    }
   ],
   "source": [
    "print(len(dataset))\n",
    "graph, label = dataset[0]\n",
    "print(graph)\n",
    "print(f'Label: {label}')\n",
    "print(GetNodeFeatureVectors(graph))"
   ]
  },
  {
   "cell_type": "code",
   "execution_count": 5,
   "metadata": {},
   "outputs": [],
   "source": [
    "from dgl.dataloading import GraphDataLoader\n",
    "from torch.utils.data.sampler import SubsetRandomSampler\n",
    "\n",
    "num_examples = len(dataset)\n",
    "splitIndices = dataset.get_split_indices()\n",
    "\n",
    "train_sampler = SubsetRandomSampler(splitIndices['train'])\n",
    "test_sampler = SubsetRandomSampler(splitIndices['test'])\n",
    "\n",
    "train_dataloader = GraphDataLoader(dataset, sampler=train_sampler, batch_size=32, drop_last=False)\n",
    "test_dataloader = GraphDataLoader(dataset, sampler=test_sampler, batch_size=32, drop_last=False)"
   ]
  },
  {
   "cell_type": "code",
   "execution_count": 6,
   "metadata": {},
   "outputs": [
    {
     "name": "stdout",
     "output_type": "stream",
     "text": [
      "[Graph(num_nodes=544, num_edges=27700,\n",
      "      ndata_schemes={'Type': Scheme(shape=(), dtype=torch.float64), 'Mass': Scheme(shape=(), dtype=torch.float64), 'Eta': Scheme(shape=(), dtype=torch.float64), 'Phi': Scheme(shape=(), dtype=torch.float64), 'P_t': Scheme(shape=(), dtype=torch.float64), 'label': Scheme(shape=(), dtype=torch.int64)}\n",
      "      edata_schemes={'RapiditySquared': Scheme(shape=(), dtype=torch.float64), 'DeltaEta': Scheme(shape=(), dtype=torch.float64), 'DeltaPhi': Scheme(shape=(), dtype=torch.float64)}), tensor([0, 0, 1, 1, 1, 1, 0, 1, 0, 0, 0, 1])]\n"
     ]
    }
   ],
   "source": [
    "it = iter(train_dataloader)\n",
    "batch = next(it)\n",
    "print(batch)"
   ]
  },
  {
   "cell_type": "code",
   "execution_count": 7,
   "metadata": {},
   "outputs": [
    {
     "name": "stdout",
     "output_type": "stream",
     "text": [
      "Number of nodes for each graph element in the batch: tensor([28, 27, 61, 64, 58, 66, 28, 65, 15, 38, 40, 54])\n",
      "Number of edges for each graph element in the batch: tensor([ 756,  702, 3660, 4032, 3306, 4290,  756, 4160,  210, 1406, 1560, 2862])\n",
      "tensor([0, 0, 1, 1, 1, 1, 0, 1, 0, 0, 0, 1])\n",
      "The original graphs in the minibatch:\n",
      "[Graph(num_nodes=28, num_edges=756,\n",
      "      ndata_schemes={'Type': Scheme(shape=(), dtype=torch.float64), 'Mass': Scheme(shape=(), dtype=torch.float64), 'Eta': Scheme(shape=(), dtype=torch.float64), 'Phi': Scheme(shape=(), dtype=torch.float64), 'P_t': Scheme(shape=(), dtype=torch.float64), 'label': Scheme(shape=(), dtype=torch.int64)}\n",
      "      edata_schemes={'RapiditySquared': Scheme(shape=(), dtype=torch.float64), 'DeltaEta': Scheme(shape=(), dtype=torch.float64), 'DeltaPhi': Scheme(shape=(), dtype=torch.float64)}), Graph(num_nodes=27, num_edges=702,\n",
      "      ndata_schemes={'Type': Scheme(shape=(), dtype=torch.float64), 'Mass': Scheme(shape=(), dtype=torch.float64), 'Eta': Scheme(shape=(), dtype=torch.float64), 'Phi': Scheme(shape=(), dtype=torch.float64), 'P_t': Scheme(shape=(), dtype=torch.float64), 'label': Scheme(shape=(), dtype=torch.int64)}\n",
      "      edata_schemes={'RapiditySquared': Scheme(shape=(), dtype=torch.float64), 'DeltaEta': Scheme(shape=(), dtype=torch.float64), 'DeltaPhi': Scheme(shape=(), dtype=torch.float64)}), Graph(num_nodes=61, num_edges=3660,\n",
      "      ndata_schemes={'Type': Scheme(shape=(), dtype=torch.float64), 'Mass': Scheme(shape=(), dtype=torch.float64), 'Eta': Scheme(shape=(), dtype=torch.float64), 'Phi': Scheme(shape=(), dtype=torch.float64), 'P_t': Scheme(shape=(), dtype=torch.float64), 'label': Scheme(shape=(), dtype=torch.int64)}\n",
      "      edata_schemes={'RapiditySquared': Scheme(shape=(), dtype=torch.float64), 'DeltaEta': Scheme(shape=(), dtype=torch.float64), 'DeltaPhi': Scheme(shape=(), dtype=torch.float64)}), Graph(num_nodes=64, num_edges=4032,\n",
      "      ndata_schemes={'Type': Scheme(shape=(), dtype=torch.float64), 'Mass': Scheme(shape=(), dtype=torch.float64), 'Eta': Scheme(shape=(), dtype=torch.float64), 'Phi': Scheme(shape=(), dtype=torch.float64), 'P_t': Scheme(shape=(), dtype=torch.float64), 'label': Scheme(shape=(), dtype=torch.int64)}\n",
      "      edata_schemes={'RapiditySquared': Scheme(shape=(), dtype=torch.float64), 'DeltaEta': Scheme(shape=(), dtype=torch.float64), 'DeltaPhi': Scheme(shape=(), dtype=torch.float64)}), Graph(num_nodes=58, num_edges=3306,\n",
      "      ndata_schemes={'Type': Scheme(shape=(), dtype=torch.float64), 'Mass': Scheme(shape=(), dtype=torch.float64), 'Eta': Scheme(shape=(), dtype=torch.float64), 'Phi': Scheme(shape=(), dtype=torch.float64), 'P_t': Scheme(shape=(), dtype=torch.float64), 'label': Scheme(shape=(), dtype=torch.int64)}\n",
      "      edata_schemes={'RapiditySquared': Scheme(shape=(), dtype=torch.float64), 'DeltaEta': Scheme(shape=(), dtype=torch.float64), 'DeltaPhi': Scheme(shape=(), dtype=torch.float64)}), Graph(num_nodes=66, num_edges=4290,\n",
      "      ndata_schemes={'Type': Scheme(shape=(), dtype=torch.float64), 'Mass': Scheme(shape=(), dtype=torch.float64), 'Eta': Scheme(shape=(), dtype=torch.float64), 'Phi': Scheme(shape=(), dtype=torch.float64), 'P_t': Scheme(shape=(), dtype=torch.float64), 'label': Scheme(shape=(), dtype=torch.int64)}\n",
      "      edata_schemes={'RapiditySquared': Scheme(shape=(), dtype=torch.float64), 'DeltaEta': Scheme(shape=(), dtype=torch.float64), 'DeltaPhi': Scheme(shape=(), dtype=torch.float64)}), Graph(num_nodes=28, num_edges=756,\n",
      "      ndata_schemes={'Type': Scheme(shape=(), dtype=torch.float64), 'Mass': Scheme(shape=(), dtype=torch.float64), 'Eta': Scheme(shape=(), dtype=torch.float64), 'Phi': Scheme(shape=(), dtype=torch.float64), 'P_t': Scheme(shape=(), dtype=torch.float64), 'label': Scheme(shape=(), dtype=torch.int64)}\n",
      "      edata_schemes={'RapiditySquared': Scheme(shape=(), dtype=torch.float64), 'DeltaEta': Scheme(shape=(), dtype=torch.float64), 'DeltaPhi': Scheme(shape=(), dtype=torch.float64)}), Graph(num_nodes=65, num_edges=4160,\n",
      "      ndata_schemes={'Type': Scheme(shape=(), dtype=torch.float64), 'Mass': Scheme(shape=(), dtype=torch.float64), 'Eta': Scheme(shape=(), dtype=torch.float64), 'Phi': Scheme(shape=(), dtype=torch.float64), 'P_t': Scheme(shape=(), dtype=torch.float64), 'label': Scheme(shape=(), dtype=torch.int64)}\n",
      "      edata_schemes={'RapiditySquared': Scheme(shape=(), dtype=torch.float64), 'DeltaEta': Scheme(shape=(), dtype=torch.float64), 'DeltaPhi': Scheme(shape=(), dtype=torch.float64)}), Graph(num_nodes=15, num_edges=210,\n",
      "      ndata_schemes={'Type': Scheme(shape=(), dtype=torch.float64), 'Mass': Scheme(shape=(), dtype=torch.float64), 'Eta': Scheme(shape=(), dtype=torch.float64), 'Phi': Scheme(shape=(), dtype=torch.float64), 'P_t': Scheme(shape=(), dtype=torch.float64), 'label': Scheme(shape=(), dtype=torch.int64)}\n",
      "      edata_schemes={'RapiditySquared': Scheme(shape=(), dtype=torch.float64), 'DeltaEta': Scheme(shape=(), dtype=torch.float64), 'DeltaPhi': Scheme(shape=(), dtype=torch.float64)}), Graph(num_nodes=38, num_edges=1406,\n",
      "      ndata_schemes={'Type': Scheme(shape=(), dtype=torch.float64), 'Mass': Scheme(shape=(), dtype=torch.float64), 'Eta': Scheme(shape=(), dtype=torch.float64), 'Phi': Scheme(shape=(), dtype=torch.float64), 'P_t': Scheme(shape=(), dtype=torch.float64), 'label': Scheme(shape=(), dtype=torch.int64)}\n",
      "      edata_schemes={'RapiditySquared': Scheme(shape=(), dtype=torch.float64), 'DeltaEta': Scheme(shape=(), dtype=torch.float64), 'DeltaPhi': Scheme(shape=(), dtype=torch.float64)}), Graph(num_nodes=40, num_edges=1560,\n",
      "      ndata_schemes={'Type': Scheme(shape=(), dtype=torch.float64), 'Mass': Scheme(shape=(), dtype=torch.float64), 'Eta': Scheme(shape=(), dtype=torch.float64), 'Phi': Scheme(shape=(), dtype=torch.float64), 'P_t': Scheme(shape=(), dtype=torch.float64), 'label': Scheme(shape=(), dtype=torch.int64)}\n",
      "      edata_schemes={'RapiditySquared': Scheme(shape=(), dtype=torch.float64), 'DeltaEta': Scheme(shape=(), dtype=torch.float64), 'DeltaPhi': Scheme(shape=(), dtype=torch.float64)}), Graph(num_nodes=54, num_edges=2862,\n",
      "      ndata_schemes={'Type': Scheme(shape=(), dtype=torch.float64), 'Mass': Scheme(shape=(), dtype=torch.float64), 'Eta': Scheme(shape=(), dtype=torch.float64), 'Phi': Scheme(shape=(), dtype=torch.float64), 'P_t': Scheme(shape=(), dtype=torch.float64), 'label': Scheme(shape=(), dtype=torch.int64)}\n",
      "      edata_schemes={'RapiditySquared': Scheme(shape=(), dtype=torch.float64), 'DeltaEta': Scheme(shape=(), dtype=torch.float64), 'DeltaPhi': Scheme(shape=(), dtype=torch.float64)})]\n"
     ]
    }
   ],
   "source": [
    "batched_graph, labels = batch\n",
    "print('Number of nodes for each graph element in the batch:', batched_graph.batch_num_nodes())\n",
    "print('Number of edges for each graph element in the batch:', batched_graph.batch_num_edges())\n",
    "print(labels)\n",
    "# Recover the original graph elements from the minibatch\n",
    "graphs = dgl.unbatch(batched_graph)\n",
    "print('The original graphs in the minibatch:')\n",
    "print(graphs)"
   ]
  },
  {
   "cell_type": "code",
   "execution_count": 8,
   "metadata": {},
   "outputs": [],
   "source": [
    "from dgl.nn import GraphConv\n",
    "import torch.nn as nn\n",
    "import torch.nn.functional as F\n",
    "\n",
    "class GCN(nn.Module):\n",
    "    def __init__(self, in_feats, h_feats, num_classes):\n",
    "        super(GCN, self).__init__()\n",
    "        self.conv1 = GraphConv(in_feats, h_feats)\n",
    "        self.conv2 = GraphConv(h_feats, num_classes)\n",
    "\n",
    "    def forward(self, g, in_feat):\n",
    "        h = self.conv1(g, in_feat)\n",
    "        h = F.relu(h)\n",
    "        h = self.conv2(g, h)\n",
    "        g.ndata['h'] = h\n",
    "        return dgl.mean_nodes(g, 'h')"
   ]
  },
  {
   "cell_type": "code",
   "execution_count": 9,
   "metadata": {},
   "outputs": [
    {
     "name": "stdout",
     "output_type": "stream",
     "text": [
      "Epoch: 0, Loss: 7.643\n",
      "Epoch: 1, Loss: 4.851\n",
      "Epoch: 2, Loss: 2.060\n",
      "Epoch: 3, Loss: 1.065\n",
      "Epoch: 4, Loss: 2.481\n",
      "Epoch: 5, Loss: 2.555\n",
      "Epoch: 6, Loss: 1.772\n",
      "Epoch: 7, Loss: 0.755\n",
      "Epoch: 8, Loss: 0.907\n",
      "Epoch: 9, Loss: 1.482\n",
      "Epoch: 10, Loss: 1.673\n",
      "Epoch: 11, Loss: 1.484\n",
      "Epoch: 12, Loss: 1.030\n",
      "Epoch: 13, Loss: 0.622\n",
      "Epoch: 14, Loss: 0.774\n",
      "Epoch: 15, Loss: 1.122\n",
      "Epoch: 16, Loss: 1.150\n",
      "Epoch: 17, Loss: 0.872\n",
      "Epoch: 18, Loss: 0.598\n",
      "Epoch: 19, Loss: 0.648\n",
      "Epoch: 20, Loss: 0.839\n",
      "Epoch: 21, Loss: 0.908\n",
      "Epoch: 22, Loss: 0.808\n",
      "Epoch: 23, Loss: 0.632\n",
      "Epoch: 24, Loss: 0.561\n",
      "Epoch: 25, Loss: 0.659\n",
      "Epoch: 26, Loss: 0.750\n",
      "Epoch: 27, Loss: 0.709\n",
      "Epoch: 28, Loss: 0.594\n",
      "Epoch: 29, Loss: 0.548\n",
      "Epoch: 30, Loss: 0.601\n",
      "Epoch: 31, Loss: 0.656\n",
      "Epoch: 32, Loss: 0.642\n",
      "Epoch: 33, Loss: 0.578\n",
      "Epoch: 34, Loss: 0.537\n",
      "Epoch: 35, Loss: 0.559\n",
      "Epoch: 36, Loss: 0.598\n",
      "Epoch: 37, Loss: 0.593\n",
      "Epoch: 38, Loss: 0.552\n",
      "Epoch: 39, Loss: 0.528\n",
      "Epoch: 40, Loss: 0.543\n",
      "Epoch: 41, Loss: 0.565\n",
      "Epoch: 42, Loss: 0.560\n",
      "Epoch: 43, Loss: 0.535\n",
      "Epoch: 44, Loss: 0.520\n",
      "Epoch: 45, Loss: 0.529\n",
      "Epoch: 46, Loss: 0.541\n",
      "Epoch: 47, Loss: 0.535\n",
      "Epoch: 48, Loss: 0.519\n",
      "Epoch: 49, Loss: 0.512\n",
      "Test accuracy: 0.25\n"
     ]
    }
   ],
   "source": [
    "# Create the model with given dimensions\n",
    "model = GCN(dataset.dim_nfeats, 16, dataset.num_graph_classes)\n",
    "optimizer = torch.optim.Adam(model.parameters(), lr=0.01)\n",
    "\n",
    "for epoch in range(50):\n",
    "    for batched_graph, labels in train_dataloader:\n",
    "        nodeFeatVec = GetNodeFeatureVectors(batched_graph)\n",
    "        pred = model(batched_graph, nodeFeatVec)\n",
    "        loss = F.cross_entropy(pred, labels)\n",
    "        optimizer.zero_grad()\n",
    "        loss.backward()\n",
    "        optimizer.step()\n",
    "    #if epoch % 5 == 0:\n",
    "    print(f'Epoch: {epoch}, Loss: {loss:.3f}')\n",
    "\n",
    "num_correct = 0\n",
    "num_tests = 0\n",
    "for batched_graph, labels in test_dataloader:\n",
    "    nodeFeatVec = GetNodeFeatureVectors(batched_graph)\n",
    "    pred = model(batched_graph, nodeFeatVec)\n",
    "    num_correct += (pred.argmax(1) == labels).sum().item()\n",
    "    num_tests += len(labels)\n",
    "\n",
    "print('Test accuracy:', num_correct / num_tests)"
   ]
  },
  {
   "cell_type": "code",
   "execution_count": 10,
   "metadata": {},
   "outputs": [
    {
     "name": "stdout",
     "output_type": "stream",
     "text": [
      "NodeSpace(data={'Type': tensor([0., 0.], dtype=torch.float64), 'Mass': tensor([0.1627, 0.4483], dtype=torch.float64), 'Eta': tensor([0.0697, 9.0394], dtype=torch.float64), 'Phi': tensor([1.5032, 1.0488], dtype=torch.float64), 'P_t': tensor([23.2209, 76.7832], dtype=torch.float64), 'label': tensor([0, 1])})\n",
      "NodeSpace(data={'Type': tensor([0.], dtype=torch.float64), 'Mass': tensor([0.1627], dtype=torch.float64), 'Eta': tensor([0.0697], dtype=torch.float64), 'Phi': tensor([1.5032], dtype=torch.float64), 'P_t': tensor([23.2209], dtype=torch.float64), 'label': tensor([0])})\n",
      "NodeSpace(data={'Type': tensor([0.], dtype=torch.float64), 'Mass': tensor([0.7796], dtype=torch.float64), 'Eta': tensor([-3.6804], dtype=torch.float64), 'Phi': tensor([4.1229], dtype=torch.float64), 'P_t': tensor([40.7011], dtype=torch.float64), 'label': tensor([7])})\n"
     ]
    }
   ],
   "source": [
    "print(graph.nodes[[0,1]])\n",
    "print(graph.nodes[0])\n",
    "print(graph.nodes[7])"
   ]
  },
  {
   "cell_type": "code",
   "execution_count": 12,
   "metadata": {},
   "outputs": [
    {
     "name": "stdout",
     "output_type": "stream",
     "text": [
      "EdgeSpace(data={'RapiditySquared': tensor([80.6612, 57.5137], dtype=torch.float64), 'DeltaEta': tensor([8.9697, 6.3421], dtype=torch.float64), 'DeltaPhi': tensor([0.4544, 4.1584], dtype=torch.float64)})\n",
      "EdgeSpace(data={'RapiditySquared': tensor([80.6612], dtype=torch.float64), 'DeltaEta': tensor([8.9697], dtype=torch.float64), 'DeltaPhi': tensor([0.4544], dtype=torch.float64)})\n",
      "EdgeSpace(data={'RapiditySquared': tensor([57.5137], dtype=torch.float64), 'DeltaEta': tensor([6.3421], dtype=torch.float64), 'DeltaPhi': tensor([4.1584], dtype=torch.float64)})\n"
     ]
    }
   ],
   "source": [
    "#print(graph.out_edges(7))\n",
    "#print(graph.edges[(0,1)]) # src, dst\n",
    "#print(graph.edges[0,1]) # src, dst\n",
    "print(graph.edges[[0, 0], [1,2]]) # src, dst\n",
    "print(graph.edges[0])\n",
    "print(graph.edges[1])\n",
    "#print(graph.edges[0]) # eid"
   ]
  },
  {
   "cell_type": "code",
   "execution_count": 13,
   "metadata": {},
   "outputs": [
    {
     "name": "stdout",
     "output_type": "stream",
     "text": [
      "NodeSpace(data={'Type': tensor([0.], dtype=torch.float64), 'Mass': tensor([0.1627], dtype=torch.float64), 'Eta': tensor([0.0697], dtype=torch.float64), 'Phi': tensor([1.5032], dtype=torch.float64), 'P_t': tensor([23.2209], dtype=torch.float64), 'label': tensor([0])})\n",
      "tensor([[ 0.0000e+00,  1.6273e-01,  6.9731e-02,  1.5032e+00,  2.3221e+01],\n",
      "        [ 0.0000e+00,  4.4825e-01,  9.0394e+00,  1.0488e+00,  7.6783e+01],\n",
      "        [ 1.0000e+00,  5.3471e-01,  6.4118e+00,  5.6615e+00,  8.9785e+01],\n",
      "        [ 2.0000e+00,  6.7258e-01,  1.1639e+00,  2.3248e+00,  6.4804e+01],\n",
      "        [ 2.0000e+00,  9.5304e-01, -1.0462e-01,  2.3367e+00,  7.2507e+01],\n",
      "        [ 1.0000e+00,  6.2894e-01, -9.7801e+00,  1.4135e+00,  2.8199e+01],\n",
      "        [ 0.0000e+00,  1.5741e-01,  5.7550e-02,  4.8663e-01,  5.7164e+01],\n",
      "        [ 0.0000e+00,  7.7959e-01, -3.6804e+00,  4.1229e+00,  4.0701e+01],\n",
      "        [ 1.0000e+00,  6.2136e-01, -5.5349e+00,  5.1368e+00,  1.2241e+01],\n",
      "        [ 1.0000e+00,  6.4612e-01, -2.1258e-02,  5.5986e+00,  4.8905e+01],\n",
      "        [ 1.0000e+00,  1.8790e-01, -1.5682e+00,  4.6971e+00,  8.6001e+01],\n",
      "        [ 2.0000e+00,  1.8053e-01, -6.8824e+00,  3.3199e+00,  6.5821e+01],\n",
      "        [ 2.0000e+00,  6.9871e-01, -4.7200e+00,  5.3984e+00,  2.7378e+01],\n",
      "        [ 2.0000e+00,  4.8321e-01,  9.5654e+00,  6.0832e+00,  3.7191e+01],\n",
      "        [ 0.0000e+00,  9.1275e-02,  7.4799e+00,  3.8578e+00,  5.8865e+01]])\n",
      "(tensor([0, 0, 0, 0, 0, 0, 0, 0, 0, 0, 0, 0, 0, 0]), tensor([ 1,  2,  3,  4,  5,  6,  7,  8,  9, 10, 11, 12, 13, 14]))\n"
     ]
    }
   ],
   "source": [
    "edgeList = GetNeighborNodes(graph, 0)\n",
    "nodeFeat = GetNodeFeatureVectors(graph)\n",
    "print(graph.nodes[0])\n",
    "print(nodeFeat)\n",
    "print(edgeList)\n"
   ]
  },
  {
   "cell_type": "code",
   "execution_count": 19,
   "metadata": {},
   "outputs": [
    {
     "name": "stdout",
     "output_type": "stream",
     "text": [
      "tensor([ 0.0000,  0.1627,  0.0697,  1.5032, 23.2209])\n",
      "tensor([0.4544, 4.1584, 0.8216, 0.8336, 0.0896, 1.0165, 2.6198, 3.6336, 4.0954,\n",
      "        3.1939, 1.8168, 3.8952, 4.5800, 2.3546], dtype=torch.float64)\n",
      "tensor([111.1448,   9.4957,   4.5800])\n",
      "tensor([111.1448,   9.4957,   4.5800])\n"
     ]
    }
   ],
   "source": [
    "def ConcatNodeAndEdgeFeatures(graph, nodeFeat, nodeLabel: int):\n",
    "    neighbors = GetNeighborNodes(graph, nodeLabel)\n",
    "    nfeat = nodeFeat[nodeLabel]\n",
    "    efeat = graph.edges[neighbors]\n",
    "    print(nfeat)\n",
    "    print(efeat)\n",
    "    \n",
    "ConcatNodeAndEdgeFeatures(graph, nodeFeat, 0)\n",
    "#print(graph.edge_ids([0, 13], [13, 0]))\n",
    "\n",
    "edgeFeatureVec = GetEdgeFeatureVectors(graph)\n",
    "print(edgeFeatureVec[12])\n",
    "print(edgeFeatureVec[182])\n",
    "#print(len(edgeFeatureVec))\n",
    "#print(edgeFeatureVec)"
   ]
  },
  {
   "cell_type": "code",
   "execution_count": null,
   "metadata": {},
   "outputs": [],
   "source": [
    "print(graph.edata['DeltaPhi'])\n",
    "print(graph.dstdata['P_t'])"
   ]
  },
  {
   "cell_type": "code",
   "execution_count": null,
   "metadata": {},
   "outputs": [],
   "source": []
  }
 ],
 "metadata": {
  "kernelspec": {
   "display_name": "venv",
   "language": "python",
   "name": "venv"
  },
  "language_info": {
   "codemirror_mode": {
    "name": "ipython",
    "version": 3
   },
   "file_extension": ".py",
   "mimetype": "text/x-python",
   "name": "python",
   "nbconvert_exporter": "python",
   "pygments_lexer": "ipython3",
   "version": "3.8.5"
  }
 },
 "nbformat": 4,
 "nbformat_minor": 4
}

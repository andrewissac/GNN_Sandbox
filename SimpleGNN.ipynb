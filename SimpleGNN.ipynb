{
 "cells": [
  {
   "cell_type": "code",
   "execution_count": 1,
   "metadata": {},
   "outputs": [
    {
     "name": "stderr",
     "output_type": "stream",
     "text": [
      "Using backend: pytorch\n"
     ]
    }
   ],
   "source": [
    "import dgl\n",
    "import math\n",
    "import torch\n",
    "import numpy as np\n",
    "from os import path\n",
    "from pathlib import Path\n",
    "from dgl.data import DGLDataset\n",
    "from ToyDGLDataset import ToyDGLDataset, GetNodeFeatureVectors, GetEdgeFeatureVectors, GetNeighborNodes, GetEdgeList"
   ]
  },
  {
   "cell_type": "code",
   "execution_count": 2,
   "metadata": {},
   "outputs": [
    {
     "name": "stdout",
     "output_type": "stream",
     "text": [
      "Done loading data from cached files.\n"
     ]
    }
   ],
   "source": [
    "datasetName = 'ToyDataset01'\n",
    "datasetDir = path.join('/home/andrew/GNN_Sandbox/GraphDatasets', datasetName)\n",
    "dataset = ToyDGLDataset(datasetName, datasetDir)"
   ]
  },
  {
   "cell_type": "code",
   "execution_count": 3,
   "metadata": {},
   "outputs": [
    {
     "name": "stdout",
     "output_type": "stream",
     "text": [
      "Num Graph classes: 2\n",
      "Graph classes: [0, 1]\n",
      "Number of graphs: 4000\n",
      "Number of all nodes in all graphs: 188523\n",
      "Number of all edges in all graphs: 10270270\n",
      "Dim node features: 5\n",
      "Node feature keys: ['P_t', 'Eta', 'Phi', 'Mass', 'Type']\n",
      "Dim edge features: 3\n",
      "Edge feature keys: ['DeltaEta', 'DeltaPhi', 'RapiditySquared']\n"
     ]
    }
   ],
   "source": [
    "dataset.printProperties()"
   ]
  },
  {
   "cell_type": "code",
   "execution_count": 4,
   "metadata": {},
   "outputs": [
    {
     "name": "stdout",
     "output_type": "stream",
     "text": [
      "4000\n",
      "Graph(num_nodes=13, num_edges=156,\n",
      "      ndata_schemes={'feat': Scheme(shape=(5,), dtype=torch.float64)}\n",
      "      edata_schemes={'feat': Scheme(shape=(3,), dtype=torch.float64)})\n",
      "Label: 0\n",
      "tensor([[ 6.9153e+01, -8.3210e+00,  1.6391e+00,  5.3223e-01,  1.0000e+00],\n",
      "        [ 5.4858e+01, -8.3092e-01,  5.3403e+00,  7.5453e-02,  1.0000e+00],\n",
      "        [ 3.1999e+01, -8.3449e+00,  2.1668e+00,  3.5149e-01,  2.0000e+00],\n",
      "        [ 4.2509e+01, -4.3009e+00,  2.9509e+00,  2.1676e-01,  0.0000e+00],\n",
      "        [ 2.3563e+01, -5.8565e+00,  1.1033e+00,  7.6687e-01,  1.0000e+00],\n",
      "        [ 6.8691e+01,  2.4417e+00,  4.5953e+00,  5.9614e-01,  1.0000e+00],\n",
      "        [ 9.0249e+01, -4.0531e+00,  1.1712e+00,  7.1518e-01,  2.0000e+00],\n",
      "        [ 1.9054e+01,  5.4614e+00,  5.6575e+00,  5.6662e-01,  1.0000e+00],\n",
      "        [ 7.7917e+01,  7.5052e+00,  3.2276e+00,  5.2337e-01,  1.0000e+00],\n",
      "        [ 1.4645e+01,  7.0957e+00,  2.7560e+00,  4.6849e-01,  1.0000e+00],\n",
      "        [ 1.2005e+01,  8.3119e+00,  1.3066e-01,  2.4928e-01,  2.0000e+00],\n",
      "        [ 6.4847e+01,  6.2803e-02,  1.6592e+00,  2.1720e-03,  2.0000e+00],\n",
      "        [ 7.0558e+01, -3.5320e+00,  5.8593e+00,  3.5312e-01,  0.0000e+00]])\n"
     ]
    }
   ],
   "source": [
    "print(len(dataset))\n",
    "graph, label = dataset[0]\n",
    "print(graph)\n",
    "print(f'Label: {label}')\n",
    "print(GetNodeFeatureVectors(graph))"
   ]
  },
  {
   "cell_type": "code",
   "execution_count": 5,
   "metadata": {},
   "outputs": [],
   "source": [
    "from dgl.dataloading import GraphDataLoader\n",
    "from torch.utils.data.sampler import SubsetRandomSampler\n",
    "\n",
    "num_examples = len(dataset)\n",
    "splitIndices = dataset.get_split_indices()\n",
    "\n",
    "train_sampler = SubsetRandomSampler(splitIndices['train'])\n",
    "test_sampler = SubsetRandomSampler(splitIndices['test'])\n",
    "\n",
    "train_dataloader = GraphDataLoader(dataset, sampler=train_sampler, batch_size=32, drop_last=False)\n",
    "test_dataloader = GraphDataLoader(dataset, sampler=test_sampler, batch_size=32, drop_last=False)"
   ]
  },
  {
   "cell_type": "code",
   "execution_count": 6,
   "metadata": {},
   "outputs": [
    {
     "name": "stdout",
     "output_type": "stream",
     "text": [
      "[Graph(num_nodes=1399, num_edges=75048,\n",
      "      ndata_schemes={'feat': Scheme(shape=(5,), dtype=torch.float64)}\n",
      "      edata_schemes={'feat': Scheme(shape=(3,), dtype=torch.float64)}), tensor([1, 0, 0, 1, 1, 1, 1, 0, 0, 0, 0, 0, 0, 1, 0, 0, 1, 1, 0, 0, 1, 0, 1, 0,\n",
      "        0, 1, 0, 0, 0, 1, 0, 1])]\n"
     ]
    }
   ],
   "source": [
    "it = iter(train_dataloader)\n",
    "batch = next(it)\n",
    "print(batch)"
   ]
  },
  {
   "cell_type": "code",
   "execution_count": 7,
   "metadata": {},
   "outputs": [
    {
     "name": "stdout",
     "output_type": "stream",
     "text": [
      "Number of nodes for each graph element in the batch: tensor([71, 33, 18, 47, 74, 79, 74, 32, 28, 35, 23, 35, 36, 73, 21, 18, 70, 64,\n",
      "        15, 19, 68, 25, 81, 28, 28, 55, 33, 27, 15, 65, 44, 65])\n",
      "Number of edges for each graph element in the batch: tensor([4970, 1056,  306, 2162, 5402, 6162, 5402,  992,  756, 1190,  506, 1190,\n",
      "        1260, 5256,  420,  306, 4830, 4032,  210,  342, 4556,  600, 6480,  756,\n",
      "         756, 2970, 1056,  702,  210, 4160, 1892, 4160])\n",
      "tensor([1, 0, 0, 1, 1, 1, 1, 0, 0, 0, 0, 0, 0, 1, 0, 0, 1, 1, 0, 0, 1, 0, 1, 0,\n",
      "        0, 1, 0, 0, 0, 1, 0, 1])\n",
      "The original graphs in the minibatch:\n",
      "[Graph(num_nodes=71, num_edges=4970,\n",
      "      ndata_schemes={'feat': Scheme(shape=(5,), dtype=torch.float64)}\n",
      "      edata_schemes={'feat': Scheme(shape=(3,), dtype=torch.float64)}), Graph(num_nodes=33, num_edges=1056,\n",
      "      ndata_schemes={'feat': Scheme(shape=(5,), dtype=torch.float64)}\n",
      "      edata_schemes={'feat': Scheme(shape=(3,), dtype=torch.float64)}), Graph(num_nodes=18, num_edges=306,\n",
      "      ndata_schemes={'feat': Scheme(shape=(5,), dtype=torch.float64)}\n",
      "      edata_schemes={'feat': Scheme(shape=(3,), dtype=torch.float64)}), Graph(num_nodes=47, num_edges=2162,\n",
      "      ndata_schemes={'feat': Scheme(shape=(5,), dtype=torch.float64)}\n",
      "      edata_schemes={'feat': Scheme(shape=(3,), dtype=torch.float64)}), Graph(num_nodes=74, num_edges=5402,\n",
      "      ndata_schemes={'feat': Scheme(shape=(5,), dtype=torch.float64)}\n",
      "      edata_schemes={'feat': Scheme(shape=(3,), dtype=torch.float64)}), Graph(num_nodes=79, num_edges=6162,\n",
      "      ndata_schemes={'feat': Scheme(shape=(5,), dtype=torch.float64)}\n",
      "      edata_schemes={'feat': Scheme(shape=(3,), dtype=torch.float64)}), Graph(num_nodes=74, num_edges=5402,\n",
      "      ndata_schemes={'feat': Scheme(shape=(5,), dtype=torch.float64)}\n",
      "      edata_schemes={'feat': Scheme(shape=(3,), dtype=torch.float64)}), Graph(num_nodes=32, num_edges=992,\n",
      "      ndata_schemes={'feat': Scheme(shape=(5,), dtype=torch.float64)}\n",
      "      edata_schemes={'feat': Scheme(shape=(3,), dtype=torch.float64)}), Graph(num_nodes=28, num_edges=756,\n",
      "      ndata_schemes={'feat': Scheme(shape=(5,), dtype=torch.float64)}\n",
      "      edata_schemes={'feat': Scheme(shape=(3,), dtype=torch.float64)}), Graph(num_nodes=35, num_edges=1190,\n",
      "      ndata_schemes={'feat': Scheme(shape=(5,), dtype=torch.float64)}\n",
      "      edata_schemes={'feat': Scheme(shape=(3,), dtype=torch.float64)}), Graph(num_nodes=23, num_edges=506,\n",
      "      ndata_schemes={'feat': Scheme(shape=(5,), dtype=torch.float64)}\n",
      "      edata_schemes={'feat': Scheme(shape=(3,), dtype=torch.float64)}), Graph(num_nodes=35, num_edges=1190,\n",
      "      ndata_schemes={'feat': Scheme(shape=(5,), dtype=torch.float64)}\n",
      "      edata_schemes={'feat': Scheme(shape=(3,), dtype=torch.float64)}), Graph(num_nodes=36, num_edges=1260,\n",
      "      ndata_schemes={'feat': Scheme(shape=(5,), dtype=torch.float64)}\n",
      "      edata_schemes={'feat': Scheme(shape=(3,), dtype=torch.float64)}), Graph(num_nodes=73, num_edges=5256,\n",
      "      ndata_schemes={'feat': Scheme(shape=(5,), dtype=torch.float64)}\n",
      "      edata_schemes={'feat': Scheme(shape=(3,), dtype=torch.float64)}), Graph(num_nodes=21, num_edges=420,\n",
      "      ndata_schemes={'feat': Scheme(shape=(5,), dtype=torch.float64)}\n",
      "      edata_schemes={'feat': Scheme(shape=(3,), dtype=torch.float64)}), Graph(num_nodes=18, num_edges=306,\n",
      "      ndata_schemes={'feat': Scheme(shape=(5,), dtype=torch.float64)}\n",
      "      edata_schemes={'feat': Scheme(shape=(3,), dtype=torch.float64)}), Graph(num_nodes=70, num_edges=4830,\n",
      "      ndata_schemes={'feat': Scheme(shape=(5,), dtype=torch.float64)}\n",
      "      edata_schemes={'feat': Scheme(shape=(3,), dtype=torch.float64)}), Graph(num_nodes=64, num_edges=4032,\n",
      "      ndata_schemes={'feat': Scheme(shape=(5,), dtype=torch.float64)}\n",
      "      edata_schemes={'feat': Scheme(shape=(3,), dtype=torch.float64)}), Graph(num_nodes=15, num_edges=210,\n",
      "      ndata_schemes={'feat': Scheme(shape=(5,), dtype=torch.float64)}\n",
      "      edata_schemes={'feat': Scheme(shape=(3,), dtype=torch.float64)}), Graph(num_nodes=19, num_edges=342,\n",
      "      ndata_schemes={'feat': Scheme(shape=(5,), dtype=torch.float64)}\n",
      "      edata_schemes={'feat': Scheme(shape=(3,), dtype=torch.float64)}), Graph(num_nodes=68, num_edges=4556,\n",
      "      ndata_schemes={'feat': Scheme(shape=(5,), dtype=torch.float64)}\n",
      "      edata_schemes={'feat': Scheme(shape=(3,), dtype=torch.float64)}), Graph(num_nodes=25, num_edges=600,\n",
      "      ndata_schemes={'feat': Scheme(shape=(5,), dtype=torch.float64)}\n",
      "      edata_schemes={'feat': Scheme(shape=(3,), dtype=torch.float64)}), Graph(num_nodes=81, num_edges=6480,\n",
      "      ndata_schemes={'feat': Scheme(shape=(5,), dtype=torch.float64)}\n",
      "      edata_schemes={'feat': Scheme(shape=(3,), dtype=torch.float64)}), Graph(num_nodes=28, num_edges=756,\n",
      "      ndata_schemes={'feat': Scheme(shape=(5,), dtype=torch.float64)}\n",
      "      edata_schemes={'feat': Scheme(shape=(3,), dtype=torch.float64)}), Graph(num_nodes=28, num_edges=756,\n",
      "      ndata_schemes={'feat': Scheme(shape=(5,), dtype=torch.float64)}\n",
      "      edata_schemes={'feat': Scheme(shape=(3,), dtype=torch.float64)}), Graph(num_nodes=55, num_edges=2970,\n",
      "      ndata_schemes={'feat': Scheme(shape=(5,), dtype=torch.float64)}\n",
      "      edata_schemes={'feat': Scheme(shape=(3,), dtype=torch.float64)}), Graph(num_nodes=33, num_edges=1056,\n",
      "      ndata_schemes={'feat': Scheme(shape=(5,), dtype=torch.float64)}\n",
      "      edata_schemes={'feat': Scheme(shape=(3,), dtype=torch.float64)}), Graph(num_nodes=27, num_edges=702,\n",
      "      ndata_schemes={'feat': Scheme(shape=(5,), dtype=torch.float64)}\n",
      "      edata_schemes={'feat': Scheme(shape=(3,), dtype=torch.float64)}), Graph(num_nodes=15, num_edges=210,\n",
      "      ndata_schemes={'feat': Scheme(shape=(5,), dtype=torch.float64)}\n",
      "      edata_schemes={'feat': Scheme(shape=(3,), dtype=torch.float64)}), Graph(num_nodes=65, num_edges=4160,\n",
      "      ndata_schemes={'feat': Scheme(shape=(5,), dtype=torch.float64)}\n",
      "      edata_schemes={'feat': Scheme(shape=(3,), dtype=torch.float64)}), Graph(num_nodes=44, num_edges=1892,\n",
      "      ndata_schemes={'feat': Scheme(shape=(5,), dtype=torch.float64)}\n",
      "      edata_schemes={'feat': Scheme(shape=(3,), dtype=torch.float64)}), Graph(num_nodes=65, num_edges=4160,\n",
      "      ndata_schemes={'feat': Scheme(shape=(5,), dtype=torch.float64)}\n",
      "      edata_schemes={'feat': Scheme(shape=(3,), dtype=torch.float64)})]\n"
     ]
    }
   ],
   "source": [
    "batched_graph, labels = batch\n",
    "print('Number of nodes for each graph element in the batch:', batched_graph.batch_num_nodes())\n",
    "print('Number of edges for each graph element in the batch:', batched_graph.batch_num_edges())\n",
    "print(labels)\n",
    "# Recover the original graph elements from the minibatch\n",
    "graphs = dgl.unbatch(batched_graph)\n",
    "print('The original graphs in the minibatch:')\n",
    "print(graphs)"
   ]
  },
  {
   "cell_type": "code",
   "execution_count": 8,
   "metadata": {},
   "outputs": [],
   "source": [
    "from dgl.nn import GraphConv\n",
    "import torch.nn as nn\n",
    "import torch.nn.functional as F\n",
    "\n",
    "class GCN(nn.Module):\n",
    "    def __init__(self, in_feats, h_feats, num_classes):\n",
    "        super(GCN, self).__init__()\n",
    "        self.conv1 = GraphConv(in_feats, h_feats)\n",
    "        self.conv2 = GraphConv(h_feats, num_classes)\n",
    "\n",
    "    def forward(self, g, in_feat):\n",
    "        h = self.conv1(g, in_feat)\n",
    "        h = F.relu(h)\n",
    "        h = self.conv2(g, h)\n",
    "        g.ndata['h'] = h\n",
    "        return dgl.mean_nodes(g, 'h')"
   ]
  },
  {
   "cell_type": "code",
   "execution_count": 9,
   "metadata": {},
   "outputs": [
    {
     "name": "stdout",
     "output_type": "stream",
     "text": [
      "Epoch: 0, Loss: 0.428\n",
      "Epoch: 1, Loss: 0.324\n",
      "Epoch: 2, Loss: 0.457\n",
      "Epoch: 3, Loss: 0.217\n",
      "Epoch: 4, Loss: 0.425\n",
      "Epoch: 5, Loss: 0.191\n",
      "Epoch: 6, Loss: 0.185\n",
      "Epoch: 7, Loss: 0.189\n",
      "Epoch: 8, Loss: 0.171\n",
      "Epoch: 9, Loss: 0.269\n",
      "Epoch: 10, Loss: 0.160\n",
      "Epoch: 11, Loss: 0.144\n",
      "Epoch: 12, Loss: 0.117\n",
      "Epoch: 13, Loss: 0.186\n",
      "Epoch: 14, Loss: 0.074\n",
      "Epoch: 15, Loss: 0.201\n",
      "Epoch: 16, Loss: 0.052\n",
      "Epoch: 17, Loss: 0.095\n",
      "Epoch: 18, Loss: 0.112\n",
      "Epoch: 19, Loss: 0.070\n",
      "Epoch: 20, Loss: 0.048\n",
      "Epoch: 21, Loss: 0.246\n",
      "Epoch: 22, Loss: 0.056\n",
      "Epoch: 23, Loss: 0.060\n",
      "Epoch: 24, Loss: 0.079\n",
      "Epoch: 25, Loss: 0.322\n",
      "Epoch: 26, Loss: 0.193\n",
      "Epoch: 27, Loss: 0.057\n",
      "Epoch: 28, Loss: 0.517\n",
      "Epoch: 29, Loss: 0.286\n",
      "Epoch: 30, Loss: 0.050\n",
      "Epoch: 31, Loss: 0.053\n",
      "Epoch: 32, Loss: 0.465\n",
      "Epoch: 33, Loss: 0.079\n",
      "Epoch: 34, Loss: 0.106\n",
      "Epoch: 35, Loss: 0.027\n",
      "Epoch: 36, Loss: 0.243\n",
      "Epoch: 37, Loss: 0.094\n",
      "Epoch: 38, Loss: 0.085\n",
      "Epoch: 39, Loss: 0.140\n",
      "Epoch: 40, Loss: 0.154\n",
      "Epoch: 41, Loss: 0.159\n",
      "Epoch: 42, Loss: 0.305\n",
      "Epoch: 43, Loss: 0.317\n",
      "Epoch: 44, Loss: 0.079\n",
      "Epoch: 45, Loss: 0.132\n",
      "Epoch: 46, Loss: 0.258\n",
      "Epoch: 47, Loss: 0.023\n",
      "Epoch: 48, Loss: 0.079\n",
      "Epoch: 49, Loss: 0.026\n",
      "Test accuracy: 0.96375\n"
     ]
    }
   ],
   "source": [
    "# Create the model with given dimensions\n",
    "model = GCN(dataset.dim_nfeats, 16, dataset.num_graph_classes)\n",
    "optimizer = torch.optim.Adam(model.parameters(), lr=0.01)\n",
    "\n",
    "for epoch in range(50):\n",
    "    for batched_graph, labels in train_dataloader:\n",
    "        nodeFeatVec = GetNodeFeatureVectors(batched_graph)\n",
    "        pred = model(batched_graph, nodeFeatVec)\n",
    "        loss = F.cross_entropy(pred, labels)\n",
    "        optimizer.zero_grad()\n",
    "        loss.backward()\n",
    "        optimizer.step()\n",
    "    #if epoch % 5 == 0:\n",
    "    print(f'Epoch: {epoch}, Loss: {loss:.3f}')\n",
    "\n",
    "num_correct = 0\n",
    "num_tests = 0\n",
    "for batched_graph, labels in test_dataloader:\n",
    "    nodeFeatVec = GetNodeFeatureVectors(batched_graph)\n",
    "    pred = model(batched_graph, nodeFeatVec)\n",
    "    num_correct += (pred.argmax(1) == labels).sum().item()\n",
    "    num_tests += len(labels)\n",
    "\n",
    "print('Test accuracy:', num_correct / num_tests)"
   ]
  },
  {
   "cell_type": "code",
   "execution_count": 11,
   "metadata": {},
   "outputs": [
    {
     "name": "stdout",
     "output_type": "stream",
     "text": [
      "NodeSpace(data={'feat': tensor([[69.1527, -8.3210,  1.6391,  0.5322,  1.0000],\n",
      "        [54.8578, -0.8309,  5.3403,  0.0755,  1.0000]], dtype=torch.float64)})\n",
      "NodeSpace(data={'feat': tensor([[69.1527, -8.3210,  1.6391,  0.5322,  1.0000]], dtype=torch.float64)})\n",
      "NodeSpace(data={'feat': tensor([[54.8578, -0.8309,  5.3403,  0.0755,  1.0000]], dtype=torch.float64)})\n",
      "NodeSpace(data={'feat': tensor([[12.0050,  8.3119,  0.1307,  0.2493,  2.0000]], dtype=torch.float64)})\n",
      "NodeSpace(data={'feat': tensor([[42.5092, -4.3009,  2.9509,  0.2168,  0.0000]], dtype=torch.float64)})\n"
     ]
    }
   ],
   "source": [
    "print(graph.nodes[[0,1]])\n",
    "print(graph.nodes[0])\n",
    "print(graph.nodes[1])\n",
    "print(graph.nodes[10])\n",
    "print(graph.nodes[3])"
   ]
  },
  {
   "cell_type": "code",
   "execution_count": 12,
   "metadata": {},
   "outputs": [
    {
     "name": "stdout",
     "output_type": "stream",
     "text": [
      "EdgeSpace(data={'feat': tensor([[7.4901e+00, 3.7012e+00, 6.9801e+01],\n",
      "        [2.3897e-02, 5.2767e-01, 2.7901e-01]], dtype=torch.float64)})\n",
      "EdgeSpace(data={'feat': tensor([[ 12.6129,   2.8203, 167.0381]], dtype=torch.float64)})\n",
      "EdgeSpace(data={'feat': tensor([[ 12.6129,   2.8203, 167.0381]], dtype=torch.float64)})\n",
      "EdgeSpace(data={'feat': tensor([[ 7.4901,  3.7012, 69.8007]], dtype=torch.float64)})\n",
      "EdgeSpace(data={'feat': tensor([[0.0239, 0.5277, 0.2790]], dtype=torch.float64)})\n"
     ]
    }
   ],
   "source": [
    "#print(graph.out_edges(7))\n",
    "#print(graph.edges[(0,1)]) # src, dst\n",
    "#print(graph.edges[0,1]) # src, dst\n",
    "print(graph.edges[[0, 0], [1,2]]) # src, dst\n",
    "print(graph.edges[[10], [3]])\n",
    "print(graph.edges[[3], [10]])\n",
    "print(graph.edges[0])\n",
    "print(graph.edges[1])\n",
    "#print(graph.edges[0]) # eid"
   ]
  },
  {
   "cell_type": "code",
   "execution_count": 16,
   "metadata": {},
   "outputs": [
    {
     "name": "stdout",
     "output_type": "stream",
     "text": [
      "NodeSpace(data={'feat': tensor([[69.1527, -8.3210,  1.6391,  0.5322,  1.0000]], dtype=torch.float64)})\n",
      "tensor([[ 6.9153e+01, -8.3210e+00,  1.6391e+00,  5.3223e-01,  1.0000e+00],\n",
      "        [ 5.4858e+01, -8.3092e-01,  5.3403e+00,  7.5453e-02,  1.0000e+00],\n",
      "        [ 3.1999e+01, -8.3449e+00,  2.1668e+00,  3.5149e-01,  2.0000e+00],\n",
      "        [ 4.2509e+01, -4.3009e+00,  2.9509e+00,  2.1676e-01,  0.0000e+00],\n",
      "        [ 2.3563e+01, -5.8565e+00,  1.1033e+00,  7.6687e-01,  1.0000e+00],\n",
      "        [ 6.8691e+01,  2.4417e+00,  4.5953e+00,  5.9614e-01,  1.0000e+00],\n",
      "        [ 9.0249e+01, -4.0531e+00,  1.1712e+00,  7.1518e-01,  2.0000e+00],\n",
      "        [ 1.9054e+01,  5.4614e+00,  5.6575e+00,  5.6662e-01,  1.0000e+00],\n",
      "        [ 7.7917e+01,  7.5052e+00,  3.2276e+00,  5.2337e-01,  1.0000e+00],\n",
      "        [ 1.4645e+01,  7.0957e+00,  2.7560e+00,  4.6849e-01,  1.0000e+00],\n",
      "        [ 1.2005e+01,  8.3119e+00,  1.3066e-01,  2.4928e-01,  2.0000e+00],\n",
      "        [ 6.4847e+01,  6.2803e-02,  1.6592e+00,  2.1720e-03,  2.0000e+00],\n",
      "        [ 7.0558e+01, -3.5320e+00,  5.8593e+00,  3.5312e-01,  0.0000e+00]],\n",
      "       dtype=torch.float64)\n",
      "(tensor([0, 0, 0, 0, 0, 0, 0, 0, 0, 0, 0, 0]), tensor([ 1,  2,  3,  4,  5,  6,  7,  8,  9, 10, 11, 12]))\n"
     ]
    }
   ],
   "source": [
    "edgeList = GetNeighborNodes(graph, 0)\n",
    "nodeFeat = graph.ndata['feat']\n",
    "print(graph.nodes[0])\n",
    "print(nodeFeat)\n",
    "print(edgeList)\n"
   ]
  },
  {
   "cell_type": "code",
   "execution_count": 47,
   "metadata": {},
   "outputs": [
    {
     "name": "stdout",
     "output_type": "stream",
     "text": [
      "tensor([ 6.9153e+01, -8.3210e+00,  1.6391e+00,  5.3223e-01,  1.0000e+00,\n",
      "         7.4901e+00,  3.7012e+00,  6.9801e+01,  2.3897e-02,  5.2767e-01,\n",
      "         2.7901e-01,  4.0201e+00,  1.3118e+00,  1.7882e+01,  2.4645e+00,\n",
      "         5.3581e-01,  6.3610e+00,  1.0763e+01,  2.9562e+00,  1.2457e+02,\n",
      "         4.2679e+00,  4.6786e-01,  1.8434e+01,  1.3782e+01,  4.0184e+00,\n",
      "         2.0610e+02,  1.5826e+01,  1.5885e+00,  2.5299e+02,  1.5417e+01,\n",
      "         1.1169e+00,  2.3892e+02,  1.6633e+01,  1.5084e+00,  2.7893e+02,\n",
      "         8.3838e+00,  2.0081e-02,  7.0289e+01,  4.7891e+00,  4.2202e+00,\n",
      "         4.0745e+01], dtype=torch.float64)\n"
     ]
    }
   ],
   "source": [
    "def ConcatNodeAndEdgeFeatures(graph, nodeFeat, nodeLabel: int):\n",
    "    neighbors = GetNeighborNodes(graph, nodeLabel)\n",
    "    nfeat = nodeFeat[nodeLabel]\n",
    "    efeat = torch.reshape(graph.edges[neighbors].data['feat'], (-1,))\n",
    "    #print(nfeat)\n",
    "    #print(efeat)\n",
    "    return torch.cat((nfeat, efeat))\n",
    "    \n",
    "x = ConcatNodeAndEdgeFeatures(graph, nodeFeat, 0)\n",
    "print(x)\n",
    "\n",
    "edgeFeatureVec = GetEdgeFeatureVectors(graph)\n"
   ]
  },
  {
   "cell_type": "code",
   "execution_count": null,
   "metadata": {},
   "outputs": [],
   "source": [
    "print(graph.edata['DeltaPhi'])\n",
    "print(graph.dstdata['P_t'])"
   ]
  },
  {
   "cell_type": "code",
   "execution_count": 45,
   "metadata": {},
   "outputs": [
    {
     "name": "stdout",
     "output_type": "stream",
     "text": [
      "tensor([5, 6, 7, 8, 9])\n",
      "tensor([[0, 1, 2],\n",
      "        [3, 4, 5],\n",
      "        [6, 7, 8]])\n",
      "tensor([0, 1, 2, 3, 4, 5, 6, 7, 8])\n",
      "tensor([5, 6, 7, 8, 9, 0, 1, 2, 3, 4, 5, 6, 7, 8])\n"
     ]
    }
   ],
   "source": [
    "a = torch.tensor(np.arange(5,10))\n",
    "b = torch.tensor(np.arange(9).reshape((3,3)))\n",
    "\n",
    "print(a)\n",
    "print(b)\n",
    "b = torch.reshape(b, (-1,))\n",
    "print(b)\n",
    "print(torch.cat((a,b), dim=0))"
   ]
  },
  {
   "cell_type": "code",
   "execution_count": null,
   "metadata": {},
   "outputs": [],
   "source": []
  }
 ],
 "metadata": {
  "kernelspec": {
   "display_name": "venv",
   "language": "python",
   "name": "venv"
  },
  "language_info": {
   "codemirror_mode": {
    "name": "ipython",
    "version": 3
   },
   "file_extension": ".py",
   "mimetype": "text/x-python",
   "name": "python",
   "nbconvert_exporter": "python",
   "pygments_lexer": "ipython3",
   "version": "3.8.5"
  }
 },
 "nbformat": 4,
 "nbformat_minor": 4
}

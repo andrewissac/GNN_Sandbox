{
 "cells": [
  {
   "cell_type": "code",
   "execution_count": 1,
   "metadata": {},
   "outputs": [
    {
     "name": "stderr",
     "output_type": "stream",
     "text": [
      "Using backend: pytorch\n"
     ]
    }
   ],
   "source": [
    "import dgl\n",
    "import math\n",
    "import torch\n",
    "import numpy as np\n",
    "import networkx as nx\n",
    "from os import path\n",
    "from pathlib import Path\n",
    "from copy import deepcopy\n",
    "from dgl.data import DGLDataset\n",
    "from Distribution import Distribution\n",
    "from ToyDGLDataset_v2 import ToyDGLDataset_v2\n",
    "from GraphDatasetInfo import (GraphSubdatasetInfo, GraphDatasetInfo)\n"
   ]
  },
  {
   "cell_type": "code",
   "execution_count": 2,
   "metadata": {},
   "outputs": [],
   "source": [
    "graphCountPerClass = 50000\n",
    "\n",
    "NodesPerGraph0 = Distribution(\n",
    "    distributionType='truncnorm', \n",
    "    minimum=2, maximum=10, \n",
    "    mean=6, standardDeviation=1)\n",
    "\n",
    "NodesPerGraph1 = Distribution(\n",
    "    distributionType='truncnorm', \n",
    "    minimum=5, maximum=20, \n",
    "    mean=13, standardDeviation=1)\n",
    "\n",
    "NodesPerGraphSameDist = Distribution(\n",
    "    distributionType='truncnorm', \n",
    "    minimum=2, maximum=20, \n",
    "    mean=10, standardDeviation=1)\n",
    "\n",
    "nFeatMapping = {'P_t': 0, 'Eta': 1, 'Phi': 2, 'Mass': 3, 'Type': 4}\n",
    "defaultNodeFeat = [\n",
    "    Distribution(10, 100, 'uniform'), # index 0 -> P_t\n",
    "    Distribution(-10, 10, 'uniform'), # index 1 -> Eta\n",
    "    Distribution(0, 2 * math.pi, 'uniform'), # index 2 -> Phi\n",
    "    Distribution(0.001, 1, 'uniform'), # index 3 -> Mass\n",
    "    Distribution(0, 2, 'uniform', roundToNearestInt=True) # index 4 -> Type\n",
    "]\n",
    "\n",
    "eFeatMapping = {'DeltaEta': 0, 'DeltaPhi': 1, 'RapiditySquared': 2}\n",
    "gFeatMapping = {'NodeCount': 0, 'TotalP_t': 1}\n",
    "\n",
    "\n",
    "graphlabel = [0, 1]\n",
    "splitPercentages = {'train': 0.7, 'valid': 0.2, 'test': 0.1}\n",
    "\n",
    "P_t_VeryDiffGraphClass1 = Distribution(\n",
    "    distributionType='uniform', \n",
    "    minimum=60, maximum=80)\n",
    "\n",
    "P_t_SlightlyDiffGraphClass0 = Distribution(\n",
    "    distributionType='truncnorm', \n",
    "    minimum=10, maximum=120, \n",
    "    mean=60, standardDeviation=5)\n",
    "\n",
    "P_t_SlightlyDiffGraphClass1 = Distribution(\n",
    "    distributionType='truncnorm', \n",
    "    minimum=10, maximum=120, \n",
    "    mean=70, standardDeviation=5)\n",
    "\n",
    "Eta_SlightlyDiffGraphClass0 = Distribution(\n",
    "    distributionType='truncnorm', \n",
    "    minimum=-10, maximum=10, \n",
    "    mean=0, standardDeviation=1)\n",
    "\n",
    "Eta_SlightlyDiffGraphClass1 = Distribution(\n",
    "    distributionType='truncnorm', \n",
    "    minimum=-10, maximum=10, \n",
    "    mean=1, standardDeviation=1)\n",
    "\n",
    "Eta_VeryDiffGraphClass0 = Distribution(\n",
    "    distributionType='truncnorm', \n",
    "    minimum=-10, maximum=10, \n",
    "    mean=-5, standardDeviation=1)\n",
    "\n",
    "Eta_VeryDiffGraphClass1 = Distribution(\n",
    "    distributionType='truncnorm', \n",
    "    minimum=-10, maximum=10, \n",
    "    mean=5, standardDeviation=1)"
   ]
  },
  {
   "cell_type": "code",
   "execution_count": 3,
   "metadata": {},
   "outputs": [
    {
     "name": "stderr",
     "output_type": "stream",
     "text": [
      "(1/2) Generating graphs from SubDataset GraphClass0: 100%|██████████| 50000/50000 [00:47<00:00, 1047.13it/s]\n",
      "(2/2) Generating graphs from SubDataset GraphClass1: 100%|██████████| 50000/50000 [00:46<00:00, 1071.49it/s]\n"
     ]
    },
    {
     "name": "stdout",
     "output_type": "stream",
     "text": [
      "Calculating and saving histograms...\n"
     ]
    },
    {
     "name": "stderr",
     "output_type": "stream",
     "text": [
      "/home/andrew/GNN_Sandbox/ToyDGLDataset_v2.py:390: UserWarning: Creating legend with loc=\"best\" can be slow with large amounts of data.\n",
      "  fig.savefig(outputFilePath)\n"
     ]
    },
    {
     "name": "stdout",
     "output_type": "stream",
     "text": [
      "Num Graph classes: 2\n",
      "Graph classes: [0, 1]\n",
      "Number of graphs: 100000\n",
      "Number of all nodes in all graphs: 950111\n",
      "Number of all edges in all graphs: 8185536\n",
      "Dim node features: 5\n",
      "Node feature keys: ['P_t', 'Eta', 'Phi', 'Mass', 'Type']\n",
      "Dim edge features: 3\n",
      "Edge feature keys: ['DeltaEta', 'DeltaPhi', 'RapiditySquared']\n"
     ]
    },
    {
     "name": "stderr",
     "output_type": "stream",
     "text": [
      "(1/2) Generating graphs from SubDataset GraphClass0:   0%|          | 104/50000 [00:00<00:48, 1037.62it/s]"
     ]
    },
    {
     "name": "stdout",
     "output_type": "stream",
     "text": [
      "Done saving data into cached files.\n"
     ]
    },
    {
     "name": "stderr",
     "output_type": "stream",
     "text": [
      "(1/2) Generating graphs from SubDataset GraphClass0: 100%|██████████| 50000/50000 [00:46<00:00, 1065.88it/s]\n",
      "(2/2) Generating graphs from SubDataset GraphClass1: 100%|██████████| 50000/50000 [00:46<00:00, 1064.15it/s]\n"
     ]
    },
    {
     "name": "stdout",
     "output_type": "stream",
     "text": [
      "Calculating and saving histograms...\n"
     ]
    },
    {
     "name": "stderr",
     "output_type": "stream",
     "text": [
      "/home/andrew/GNN_Sandbox/ToyDGLDataset_v2.py:390: UserWarning: Creating legend with loc=\"best\" can be slow with large amounts of data.\n",
      "  fig.savefig(outputFilePath)\n"
     ]
    },
    {
     "name": "stdout",
     "output_type": "stream",
     "text": [
      "Num Graph classes: 2\n",
      "Graph classes: [0, 1]\n",
      "Number of graphs: 100000\n",
      "Number of all nodes in all graphs: 949531\n",
      "Number of all edges in all graphs: 8175044\n",
      "Dim node features: 5\n",
      "Node feature keys: ['P_t', 'Eta', 'Phi', 'Mass', 'Type']\n",
      "Dim edge features: 3\n",
      "Edge feature keys: ['DeltaEta', 'DeltaPhi', 'RapiditySquared']\n"
     ]
    },
    {
     "name": "stderr",
     "output_type": "stream",
     "text": [
      "(1/2) Generating graphs from SubDataset GraphClass0:   0%|          | 105/50000 [00:00<00:47, 1042.72it/s]"
     ]
    },
    {
     "name": "stdout",
     "output_type": "stream",
     "text": [
      "Done saving data into cached files.\n"
     ]
    },
    {
     "name": "stderr",
     "output_type": "stream",
     "text": [
      "(1/2) Generating graphs from SubDataset GraphClass0: 100%|██████████| 50000/50000 [00:49<00:00, 1005.20it/s]\n",
      "(2/2) Generating graphs from SubDataset GraphClass1: 100%|██████████| 50000/50000 [00:49<00:00, 1010.63it/s]\n"
     ]
    },
    {
     "name": "stdout",
     "output_type": "stream",
     "text": [
      "Calculating and saving histograms...\n"
     ]
    },
    {
     "name": "stderr",
     "output_type": "stream",
     "text": [
      "/home/andrew/GNN_Sandbox/ToyDGLDataset_v2.py:390: UserWarning: Creating legend with loc=\"best\" can be slow with large amounts of data.\n",
      "  fig.savefig(outputFilePath)\n"
     ]
    },
    {
     "name": "stdout",
     "output_type": "stream",
     "text": [
      "Num Graph classes: 2\n",
      "Graph classes: [0, 1]\n",
      "Number of graphs: 100000\n",
      "Number of all nodes in all graphs: 950348\n",
      "Number of all edges in all graphs: 8189098\n",
      "Dim node features: 5\n",
      "Node feature keys: ['P_t', 'Eta', 'Phi', 'Mass', 'Type']\n",
      "Dim edge features: 3\n",
      "Edge feature keys: ['DeltaEta', 'DeltaPhi', 'RapiditySquared']\n"
     ]
    },
    {
     "name": "stderr",
     "output_type": "stream",
     "text": [
      "(1/2) Generating graphs from SubDataset GraphClass0:   0%|          | 102/50000 [00:00<00:49, 1016.39it/s]"
     ]
    },
    {
     "name": "stdout",
     "output_type": "stream",
     "text": [
      "Done saving data into cached files.\n"
     ]
    },
    {
     "name": "stderr",
     "output_type": "stream",
     "text": [
      "(1/2) Generating graphs from SubDataset GraphClass0: 100%|██████████| 50000/50000 [00:51<00:00, 977.44it/s] \n",
      "(2/2) Generating graphs from SubDataset GraphClass1: 100%|██████████| 50000/50000 [00:50<00:00, 986.75it/s] \n"
     ]
    },
    {
     "name": "stdout",
     "output_type": "stream",
     "text": [
      "Calculating and saving histograms...\n"
     ]
    },
    {
     "name": "stderr",
     "output_type": "stream",
     "text": [
      "/home/andrew/GNN_Sandbox/ToyDGLDataset_v2.py:390: UserWarning: Creating legend with loc=\"best\" can be slow with large amounts of data.\n",
      "  fig.savefig(outputFilePath)\n"
     ]
    },
    {
     "name": "stdout",
     "output_type": "stream",
     "text": [
      "Num Graph classes: 2\n",
      "Graph classes: [0, 1]\n",
      "Number of graphs: 100000\n",
      "Number of all nodes in all graphs: 950112\n",
      "Number of all edges in all graphs: 8185812\n",
      "Dim node features: 5\n",
      "Node feature keys: ['P_t', 'Eta', 'Phi', 'Mass', 'Type']\n",
      "Dim edge features: 3\n",
      "Edge feature keys: ['DeltaEta', 'DeltaPhi', 'RapiditySquared']\n"
     ]
    },
    {
     "name": "stderr",
     "output_type": "stream",
     "text": [
      "(1/2) Generating graphs from SubDataset GraphClass0:   0%|          | 97/50000 [00:00<00:51, 966.34it/s]"
     ]
    },
    {
     "name": "stdout",
     "output_type": "stream",
     "text": [
      "Done saving data into cached files.\n"
     ]
    },
    {
     "name": "stderr",
     "output_type": "stream",
     "text": [
      "(1/2) Generating graphs from SubDataset GraphClass0: 100%|██████████| 50000/50000 [00:50<00:00, 989.65it/s] \n",
      "(2/2) Generating graphs from SubDataset GraphClass1: 100%|██████████| 50000/50000 [00:49<00:00, 1008.32it/s]\n"
     ]
    },
    {
     "name": "stdout",
     "output_type": "stream",
     "text": [
      "Calculating and saving histograms...\n"
     ]
    },
    {
     "name": "stderr",
     "output_type": "stream",
     "text": [
      "/home/andrew/GNN_Sandbox/ToyDGLDataset_v2.py:390: UserWarning: Creating legend with loc=\"best\" can be slow with large amounts of data.\n",
      "  fig.savefig(outputFilePath)\n"
     ]
    },
    {
     "name": "stdout",
     "output_type": "stream",
     "text": [
      "Num Graph classes: 2\n",
      "Graph classes: [0, 1]\n",
      "Number of graphs: 100000\n",
      "Number of all nodes in all graphs: 950087\n",
      "Number of all edges in all graphs: 8184922\n",
      "Dim node features: 5\n",
      "Node feature keys: ['P_t', 'Eta', 'Phi', 'Mass', 'Type']\n",
      "Dim edge features: 3\n",
      "Edge feature keys: ['DeltaEta', 'DeltaPhi', 'RapiditySquared']\n"
     ]
    },
    {
     "name": "stderr",
     "output_type": "stream",
     "text": [
      "(1/2) Generating graphs from SubDataset GraphClass0:   0%|          | 94/50000 [00:00<00:53, 930.38it/s]"
     ]
    },
    {
     "name": "stdout",
     "output_type": "stream",
     "text": [
      "Done saving data into cached files.\n"
     ]
    },
    {
     "name": "stderr",
     "output_type": "stream",
     "text": [
      "(1/2) Generating graphs from SubDataset GraphClass0: 100%|██████████| 50000/50000 [00:50<00:00, 997.60it/s] \n",
      "(2/2) Generating graphs from SubDataset GraphClass1: 100%|██████████| 50000/50000 [00:49<00:00, 1002.33it/s]\n"
     ]
    },
    {
     "name": "stdout",
     "output_type": "stream",
     "text": [
      "Calculating and saving histograms...\n"
     ]
    },
    {
     "name": "stderr",
     "output_type": "stream",
     "text": [
      "/home/andrew/GNN_Sandbox/ToyDGLDataset_v2.py:390: UserWarning: Creating legend with loc=\"best\" can be slow with large amounts of data.\n",
      "  fig.savefig(outputFilePath)\n"
     ]
    },
    {
     "name": "stdout",
     "output_type": "stream",
     "text": [
      "Num Graph classes: 2\n",
      "Graph classes: [0, 1]\n",
      "Number of graphs: 100000\n",
      "Number of all nodes in all graphs: 950017\n",
      "Number of all edges in all graphs: 8184026\n",
      "Dim node features: 5\n",
      "Node feature keys: ['P_t', 'Eta', 'Phi', 'Mass', 'Type']\n",
      "Dim edge features: 3\n",
      "Edge feature keys: ['DeltaEta', 'DeltaPhi', 'RapiditySquared']\n"
     ]
    },
    {
     "name": "stderr",
     "output_type": "stream",
     "text": [
      "(1/2) Generating graphs from SubDataset GraphClass0:   0%|          | 64/50000 [00:00<01:18, 636.74it/s]"
     ]
    },
    {
     "name": "stdout",
     "output_type": "stream",
     "text": [
      "Done saving data into cached files.\n"
     ]
    },
    {
     "name": "stderr",
     "output_type": "stream",
     "text": [
      "(1/2) Generating graphs from SubDataset GraphClass0: 100%|██████████| 50000/50000 [00:51<00:00, 979.02it/s] \n",
      "(2/2) Generating graphs from SubDataset GraphClass1: 100%|██████████| 50000/50000 [00:51<00:00, 971.00it/s] \n"
     ]
    },
    {
     "name": "stdout",
     "output_type": "stream",
     "text": [
      "Calculating and saving histograms...\n"
     ]
    },
    {
     "name": "stderr",
     "output_type": "stream",
     "text": [
      "/home/andrew/GNN_Sandbox/ToyDGLDataset_v2.py:390: UserWarning: Creating legend with loc=\"best\" can be slow with large amounts of data.\n",
      "  fig.savefig(outputFilePath)\n"
     ]
    },
    {
     "name": "stdout",
     "output_type": "stream",
     "text": [
      "Num Graph classes: 2\n",
      "Graph classes: [0, 1]\n",
      "Number of graphs: 100000\n",
      "Number of all nodes in all graphs: 950138\n",
      "Number of all edges in all graphs: 8185974\n",
      "Dim node features: 5\n",
      "Node feature keys: ['P_t', 'Eta', 'Phi', 'Mass', 'Type']\n",
      "Dim edge features: 3\n",
      "Edge feature keys: ['DeltaEta', 'DeltaPhi', 'RapiditySquared']\n"
     ]
    },
    {
     "name": "stderr",
     "output_type": "stream",
     "text": [
      "(1/2) Generating graphs from SubDataset GraphClass0:   0%|          | 82/50000 [00:00<01:01, 812.06it/s]"
     ]
    },
    {
     "name": "stdout",
     "output_type": "stream",
     "text": [
      "Done saving data into cached files.\n"
     ]
    },
    {
     "name": "stderr",
     "output_type": "stream",
     "text": [
      "(1/2) Generating graphs from SubDataset GraphClass0: 100%|██████████| 50000/50000 [00:52<00:00, 959.72it/s] \n",
      "(2/2) Generating graphs from SubDataset GraphClass1: 100%|██████████| 50000/50000 [00:51<00:00, 977.83it/s] \n"
     ]
    },
    {
     "name": "stdout",
     "output_type": "stream",
     "text": [
      "Calculating and saving histograms...\n"
     ]
    },
    {
     "name": "stderr",
     "output_type": "stream",
     "text": [
      "/home/andrew/GNN_Sandbox/ToyDGLDataset_v2.py:390: UserWarning: Creating legend with loc=\"best\" can be slow with large amounts of data.\n",
      "  fig.savefig(outputFilePath)\n"
     ]
    },
    {
     "name": "stdout",
     "output_type": "stream",
     "text": [
      "Num Graph classes: 2\n",
      "Graph classes: [0, 1]\n",
      "Number of graphs: 100000\n",
      "Number of all nodes in all graphs: 949756\n",
      "Number of all edges in all graphs: 8179092\n",
      "Dim node features: 5\n",
      "Node feature keys: ['P_t', 'Eta', 'Phi', 'Mass', 'Type']\n",
      "Dim edge features: 3\n",
      "Edge feature keys: ['DeltaEta', 'DeltaPhi', 'RapiditySquared']\n"
     ]
    },
    {
     "name": "stderr",
     "output_type": "stream",
     "text": [
      "(1/2) Generating graphs from SubDataset GraphClass0:   0%|          | 66/50000 [00:00<01:16, 655.75it/s]"
     ]
    },
    {
     "name": "stdout",
     "output_type": "stream",
     "text": [
      "Done saving data into cached files.\n"
     ]
    },
    {
     "name": "stderr",
     "output_type": "stream",
     "text": [
      "(1/2) Generating graphs from SubDataset GraphClass0: 100%|██████████| 50000/50000 [00:51<00:00, 966.26it/s] \n",
      "(2/2) Generating graphs from SubDataset GraphClass1: 100%|██████████| 50000/50000 [00:51<00:00, 972.00it/s] \n"
     ]
    },
    {
     "name": "stdout",
     "output_type": "stream",
     "text": [
      "Calculating and saving histograms...\n"
     ]
    },
    {
     "name": "stderr",
     "output_type": "stream",
     "text": [
      "/home/andrew/GNN_Sandbox/ToyDGLDataset_v2.py:390: UserWarning: Creating legend with loc=\"best\" can be slow with large amounts of data.\n",
      "  fig.savefig(outputFilePath)\n"
     ]
    },
    {
     "name": "stdout",
     "output_type": "stream",
     "text": [
      "Num Graph classes: 2\n",
      "Graph classes: [0, 1]\n",
      "Number of graphs: 100000\n",
      "Number of all nodes in all graphs: 949694\n",
      "Number of all edges in all graphs: 8176344\n",
      "Dim node features: 5\n",
      "Node feature keys: ['P_t', 'Eta', 'Phi', 'Mass', 'Type']\n",
      "Dim edge features: 3\n",
      "Edge feature keys: ['DeltaEta', 'DeltaPhi', 'RapiditySquared']\n",
      "Done saving data into cached files.\n"
     ]
    },
    {
     "data": {
      "text/plain": [
       "<Figure size 720x504 with 0 Axes>"
      ]
     },
     "metadata": {},
     "output_type": "display_data"
    },
    {
     "data": {
      "text/plain": [
       "<Figure size 720x504 with 0 Axes>"
      ]
     },
     "metadata": {},
     "output_type": "display_data"
    },
    {
     "data": {
      "text/plain": [
       "<Figure size 720x504 with 0 Axes>"
      ]
     },
     "metadata": {},
     "output_type": "display_data"
    },
    {
     "data": {
      "text/plain": [
       "<Figure size 720x504 with 0 Axes>"
      ]
     },
     "metadata": {},
     "output_type": "display_data"
    },
    {
     "data": {
      "text/plain": [
       "<Figure size 720x504 with 0 Axes>"
      ]
     },
     "metadata": {},
     "output_type": "display_data"
    },
    {
     "data": {
      "text/plain": [
       "<Figure size 720x504 with 0 Axes>"
      ]
     },
     "metadata": {},
     "output_type": "display_data"
    },
    {
     "data": {
      "text/plain": [
       "<Figure size 720x504 with 0 Axes>"
      ]
     },
     "metadata": {},
     "output_type": "display_data"
    },
    {
     "data": {
      "text/plain": [
       "<Figure size 720x504 with 0 Axes>"
      ]
     },
     "metadata": {},
     "output_type": "display_data"
    },
    {
     "data": {
      "text/plain": [
       "<Figure size 720x504 with 0 Axes>"
      ]
     },
     "metadata": {},
     "output_type": "display_data"
    }
   ],
   "source": [
    "toyname = 'Toy2_v3'\n",
    "rootOutputFolder = path.join('/home/andrew/GNN_Sandbox/GraphToyDatasets_v3', toyname)\n",
    "\n",
    "percentageDiffs = [0, 1, 2, 3, 4, 5, 7, 10, 15]\n",
    "\n",
    "for p in percentageDiffs:\n",
    "    datasetname = f'{toyname}_{p}percentDiff'\n",
    "    outputFolder = path.join(rootOutputFolder, datasetname)\n",
    "    Path(outputFolder).mkdir(parents=True, exist_ok=True)\n",
    "\n",
    "    name = f'GraphClass{graphlabel[0]}'\n",
    "\n",
    "    nodeFeat = deepcopy(defaultNodeFeat)\n",
    "\n",
    "    graphsubdatasetInfo0 = GraphSubdatasetInfo(\n",
    "        name=name, label=graphlabel[0], \n",
    "        graphCount=graphCountPerClass, nodesPerGraph=NodesPerGraphSameDist, \n",
    "        nodeFeatMapping=nFeatMapping, nodeFeat=nodeFeat, \n",
    "        edgeFeatMapping=eFeatMapping, graphFeatMapping=gFeatMapping)\n",
    "    graphsubdatasetInfo0.nodeFeat[nFeatMapping['P_t']] = P_t_SlightlyDiffGraphClass0\n",
    "\n",
    "    name = f'GraphClass{graphlabel[1]}'\n",
    "    graphsubdatasetInfo1 = deepcopy(graphsubdatasetInfo0)\n",
    "    graphsubdatasetInfo1.name = name\n",
    "    graphsubdatasetInfo1.label = graphlabel[1]\n",
    "    P_t_SlightlyDiffGraphClass1.mean = P_t_SlightlyDiffGraphClass0.mean * (1.0 + p/100)\n",
    "    graphsubdatasetInfo1.nodeFeat[nFeatMapping['P_t']] = P_t_SlightlyDiffGraphClass1\n",
    "\n",
    "    subdatasets = []\n",
    "    subdatasets.append(graphsubdatasetInfo0)\n",
    "    subdatasets.append(graphsubdatasetInfo1)\n",
    "\n",
    "    graphdatasetInfo = GraphDatasetInfo(\n",
    "        name=datasetname,\n",
    "        splitPercentages=splitPercentages,\n",
    "        graphSubDatasetInfos=subdatasets\n",
    "    )\n",
    "\n",
    "    graphdatasetInfo.SaveToJsonfile(outputFolder, f'{graphdatasetInfo.name}.json')\n",
    "    dataset = ToyDGLDataset_v2(name=datasetname, info=graphdatasetInfo, shuffleDataset=True, save_dir=outputFolder)\n",
    "\n",
    "#can be loaded from json file like below:\n",
    "#graphdatasetInfo = GraphDatasetInfo.LoadFromJsonfile(path.join(outputFolder, f'{graphdatasetInfo.name}.json'))"
   ]
  },
  {
   "cell_type": "code",
   "execution_count": 4,
   "metadata": {},
   "outputs": [
    {
     "name": "stdout",
     "output_type": "stream",
     "text": [
      "{'feat': tensor([ 8.0000, 82.1605], dtype=torch.float64)}\n",
      "tensor([ 8.0000, 82.1605], dtype=torch.float64)\n"
     ]
    }
   ],
   "source": [
    "graph, label = dataset[0]\n",
    "print(graph.gdata)\n",
    "print(graph.gdata['feat'])"
   ]
  },
  {
   "cell_type": "code",
   "execution_count": 5,
   "metadata": {},
   "outputs": [
    {
     "name": "stdout",
     "output_type": "stream",
     "text": [
      "1.0\n",
      "1.01\n",
      "1.02\n",
      "1.03\n",
      "1.04\n",
      "1.05\n",
      "1.07\n",
      "1.1\n",
      "1.15\n"
     ]
    }
   ],
   "source": [
    "percentageDiffs = [0, 1, 2, 3, 4, 5, 7, 10, 15]\n",
    "for p in percentageDiffs:\n",
    "    print(1 + p/100)"
   ]
  },
  {
   "cell_type": "raw",
   "metadata": {},
   "source": [
    "rng = np.random.default_rng(seed=42)\n",
    "nxgraphs = graphdatasetInfo.ToNetworkxGraphList()\n",
    "\n",
    "print(f'Edge Features \\n nx: {list(nxgraphs[0].edges.data())[0]},\\n dgl: {dglgraph.edata}')\n",
    "\n",
    "print(f'Graphs in the dataset: {len(nxgraphs)}')\n",
    "print('Node features of the first graph in the graph list: ')\n",
    "for node in nxgraphs[0].nodes(data=True):\n",
    "    print(node)\n",
    "\n",
    "print(\"Fully connected graph with edge features: \")\n",
    "print(nxgraphs[0].edges.data())\n",
    "\n",
    "pos = nx.spring_layout(nxgraphs[0])\n",
    "options = {\n",
    "    \"node_color\": \"#A0CBE2\",\n",
    "    \"width\": 0.5,\n",
    "    \"with_labels\": True,\n",
    "    \"node_size\": 600\n",
    "}\n",
    "plt.figure(1,figsize=(10,10)) \n",
    "nx.draw(nxgraphs[0], pos, **options)\n",
    "\n",
    "dglgraph = dgl.from_networkx(\n",
    "    nxgraphs[0], \n",
    "    node_attrs=nodeFeatures.keys(), \n",
    "    edge_attrs=edgeFeatures.keys())\n",
    "print(f'Node count - nx: {nxgraphs[0].number_of_nodes()}, dgl: {dglgraph.num_nodes()}')\n",
    "print(f'Edge count - nx: {nxgraphs[0].number_of_edges()}, dgl: {dglgraph.num_edges()}')\n",
    "\n",
    "print(f'Node Features \\n nx: {nxgraphs[0].nodes(data=True)[0]},\\n dgl: {dglgraph.ndata}')\n",
    "\n",
    "print(dglgraph)"
   ]
  }
 ],
 "metadata": {
  "kernelspec": {
   "display_name": "venv",
   "language": "python",
   "name": "venv"
  },
  "language_info": {
   "codemirror_mode": {
    "name": "ipython",
    "version": 3
   },
   "file_extension": ".py",
   "mimetype": "text/x-python",
   "name": "python",
   "nbconvert_exporter": "python",
   "pygments_lexer": "ipython3",
   "version": "3.8.5"
  }
 },
 "nbformat": 4,
 "nbformat_minor": 4
}

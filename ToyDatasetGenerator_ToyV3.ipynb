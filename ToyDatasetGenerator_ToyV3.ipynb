{
 "cells": [
  {
   "cell_type": "code",
   "execution_count": 1,
   "metadata": {},
   "outputs": [
    {
     "name": "stderr",
     "output_type": "stream",
     "text": [
      "Using backend: pytorch\n"
     ]
    }
   ],
   "source": [
    "import dgl\n",
    "import math\n",
    "import torch\n",
    "import numpy as np\n",
    "import networkx as nx\n",
    "from os import path\n",
    "from pathlib import Path\n",
    "from copy import deepcopy\n",
    "from dgl.data import DGLDataset\n",
    "from Distribution import Distribution\n",
    "from ToyDGLDataset_v2 import ToyDGLDataset_v2\n",
    "from GraphDatasetInfo import (GraphSubdatasetInfo, GraphDatasetInfo)\n"
   ]
  },
  {
   "cell_type": "code",
   "execution_count": 2,
   "metadata": {},
   "outputs": [],
   "source": [
    "graphCountPerClass = 50000\n",
    "\n",
    "NodesPerGraph0 = Distribution(\n",
    "    distributionType='truncnorm', \n",
    "    minimum=2, maximum=20, \n",
    "    mean=2, standardDeviation=1)\n",
    "\n",
    "NodesPerGraph1 = Distribution(\n",
    "    distributionType='truncnorm', \n",
    "    minimum=2, maximum=20, \n",
    "    mean=13, standardDeviation=1)\n",
    "\n",
    "NodesPerGraphSameDist = Distribution(\n",
    "    distributionType='truncnorm', \n",
    "    minimum=2, maximum=20, \n",
    "    mean=10, standardDeviation=1)\n",
    "\n",
    "nFeatMapping = {'P_t': 0, 'Eta': 1, 'Phi': 2, 'Mass': 3, 'Type': 4}\n",
    "defaultNodeFeat = [\n",
    "    Distribution(10, 100, 'uniform'), # index 0 -> P_t\n",
    "    Distribution(-10, 10, 'uniform'), # index 1 -> Eta\n",
    "    Distribution(0, 2 * math.pi, 'uniform'), # index 2 -> Phi\n",
    "    Distribution(0.001, 1, 'uniform'), # index 3 -> Mass\n",
    "    Distribution(0, 2, 'uniform', roundToNearestInt=True) # index 4 -> Type\n",
    "]\n",
    "\n",
    "eFeatMapping = {'DeltaEta': 0, 'DeltaPhi': 1, 'RapiditySquared': 2}\n",
    "gFeatMapping = {'NodeCount': 0, 'TotalP_t': 1}\n",
    "\n",
    "\n",
    "graphlabel = [0, 1]\n",
    "splitPercentages = {'train': 0.7, 'valid': 0.2, 'test': 0.1}\n",
    "\n",
    "P_t_VeryDiffGraphClass1 = Distribution(\n",
    "    distributionType='uniform', \n",
    "    minimum=60, maximum=80)\n",
    "\n",
    "P_t_SlightlyDiffGraphClass0 = Distribution(\n",
    "    distributionType='truncnorm', \n",
    "    minimum=10, maximum=120, \n",
    "    mean=60, standardDeviation=5)\n",
    "\n",
    "P_t_SlightlyDiffGraphClass1 = Distribution(\n",
    "    distributionType='truncnorm', \n",
    "    minimum=10, maximum=120, \n",
    "    mean=70, standardDeviation=5)\n",
    "\n",
    "Eta_SlightlyDiffGraphClass0 = Distribution(\n",
    "    distributionType='truncnorm', \n",
    "    minimum=-10, maximum=10, \n",
    "    mean=0, standardDeviation=1)\n",
    "\n",
    "Eta_SlightlyDiffGraphClass1 = Distribution(\n",
    "    distributionType='truncnorm', \n",
    "    minimum=-10, maximum=10, \n",
    "    mean=1, standardDeviation=1)\n",
    "\n",
    "Eta_VeryDiffGraphClass0 = Distribution(\n",
    "    distributionType='truncnorm', \n",
    "    minimum=-10, maximum=10, \n",
    "    mean=-5, standardDeviation=1)\n",
    "\n",
    "Eta_VeryDiffGraphClass1 = Distribution(\n",
    "    distributionType='truncnorm', \n",
    "    minimum=-10, maximum=10, \n",
    "    mean=5, standardDeviation=1)"
   ]
  },
  {
   "cell_type": "code",
   "execution_count": 3,
   "metadata": {},
   "outputs": [
    {
     "name": "stderr",
     "output_type": "stream",
     "text": [
      "(1/2) Generating graphs from SubDataset GraphClass0: 100%|██████████| 50000/50000 [00:24<00:00, 2000.24it/s]\n",
      "(1/2) Generating graphs from SubDataset GraphClass0: 100%|██████████| 50000/50000 [00:26<00:00, 1858.83it/s]\n",
      "(1/2) Generating graphs from SubDataset GraphClass0: 100%|██████████| 50000/50000 [00:28<00:00, 1754.38it/s]\n",
      "(1/2) Generating graphs from SubDataset GraphClass0: 100%|██████████| 50000/50000 [00:30<00:00, 1639.18it/s]\n",
      "(2/2) Generating graphs from SubDataset GraphClass1: 100%|██████████| 50000/50000 [00:30<00:00, 1641.85it/s]\n",
      "(2/2) Generating graphs from SubDataset GraphClass1:  94%|█████████▎| 46821/50000 [00:28<00:01, 1609.75it/s]"
     ]
    },
    {
     "name": "stdout",
     "output_type": "stream",
     "text": [
      "Calculating and saving histograms...\n"
     ]
    },
    {
     "name": "stderr",
     "output_type": "stream",
     "text": [
      "(2/2) Generating graphs from SubDataset GraphClass1: 100%|██████████| 50000/50000 [00:30<00:00, 1640.69it/s]\n",
      "(2/2) Generating graphs from SubDataset GraphClass1:  89%|████████▉ | 44423/50000 [00:26<00:03, 1639.76it/s]"
     ]
    },
    {
     "name": "stdout",
     "output_type": "stream",
     "text": [
      "Calculating and saving histograms...\n"
     ]
    },
    {
     "name": "stderr",
     "output_type": "stream",
     "text": [
      "(2/2) Generating graphs from SubDataset GraphClass1: 100%|██████████| 50000/50000 [00:30<00:00, 1641.31it/s]\n",
      "(2/2) Generating graphs from SubDataset GraphClass1:  94%|█████████▍| 47185/50000 [00:28<00:01, 1703.41it/s]"
     ]
    },
    {
     "name": "stdout",
     "output_type": "stream",
     "text": [
      "Calculating and saving histograms...\n"
     ]
    },
    {
     "name": "stderr",
     "output_type": "stream",
     "text": [
      "(2/2) Generating graphs from SubDataset GraphClass1: 100%|██████████| 50000/50000 [00:30<00:00, 1658.02it/s]\n"
     ]
    },
    {
     "name": "stdout",
     "output_type": "stream",
     "text": [
      "Calculating and saving histograms...\n"
     ]
    },
    {
     "name": "stderr",
     "output_type": "stream",
     "text": [
      "/home/andrew/GNN_Sandbox/ToyDGLDataset_v2.py:390: UserWarning: Creating legend with loc=\"best\" can be slow with large amounts of data.\n",
      "  fig.savefig(outputFilePath)\n"
     ]
    },
    {
     "name": "stdout",
     "output_type": "stream",
     "text": [
      "Num Graph classes: 2\n",
      "Graph classes: [0, 1]\n",
      "Number of graphs: 100000\n",
      "Number of all nodes in all graphs: 1100184\n",
      "Number of all edges in all graphs: 11339586\n",
      "Dim node features: 5\n",
      "Node feature keys: ['P_t', 'Eta', 'Phi', 'Mass', 'Type']\n",
      "Dim edge features: 3\n",
      "Edge feature keys: ['DeltaEta', 'DeltaPhi', 'RapiditySquared']\n",
      "Done saving data into cached files.\n"
     ]
    },
    {
     "name": "stderr",
     "output_type": "stream",
     "text": [
      "(1/2) Generating graphs from SubDataset GraphClass0:   5%|▍         | 2476/50000 [00:01<00:21, 2234.01it/s]/home/andrew/GNN_Sandbox/ToyDGLDataset_v2.py:390: UserWarning: Creating legend with loc=\"best\" can be slow with large amounts of data.\n",
      "  fig.savefig(outputFilePath)\n",
      "(1/2) Generating graphs from SubDataset GraphClass0:  18%|█▊        | 9111/50000 [00:04<00:17, 2333.38it/s]"
     ]
    },
    {
     "name": "stdout",
     "output_type": "stream",
     "text": [
      "Num Graph classes: 2\n",
      "Graph classes: [0, 1]\n",
      "Number of graphs: 100000\n"
     ]
    },
    {
     "name": "stderr",
     "output_type": "stream",
     "text": [
      "\r",
      "(1/2) Generating graphs from SubDataset GraphClass0:  19%|█▊        | 9345/50000 [00:04<00:17, 2320.06it/s]"
     ]
    },
    {
     "name": "stdout",
     "output_type": "stream",
     "text": [
      "Number of all nodes in all graphs: 1149538\n"
     ]
    },
    {
     "name": "stderr",
     "output_type": "stream",
     "text": [
      "(1/2) Generating graphs from SubDataset GraphClass0:  20%|█▉        | 9814/50000 [00:04<00:17, 2330.31it/s]"
     ]
    },
    {
     "name": "stdout",
     "output_type": "stream",
     "text": [
      "Number of all edges in all graphs: 12274086\n",
      "Dim node features: 5\n",
      "Node feature keys: ['P_t', 'Eta', 'Phi', 'Mass', 'Type']\n",
      "Dim edge features: 3\n",
      "Edge feature keys: ['DeltaEta', 'DeltaPhi', 'RapiditySquared']\n"
     ]
    },
    {
     "name": "stderr",
     "output_type": "stream",
     "text": [
      "(1/2) Generating graphs from SubDataset GraphClass0:  36%|███▌      | 18062/50000 [00:08<00:13, 2281.36it/s]/home/andrew/GNN_Sandbox/ToyDGLDataset_v2.py:390: UserWarning: Creating legend with loc=\"best\" can be slow with large amounts of data.\n",
      "  fig.savefig(outputFilePath)\n",
      "(1/2) Generating graphs from SubDataset GraphClass0:  37%|███▋      | 18522/50000 [00:08<00:13, 2287.88it/s]"
     ]
    },
    {
     "name": "stdout",
     "output_type": "stream",
     "text": [
      "Done saving data into cached files.\n"
     ]
    },
    {
     "name": "stderr",
     "output_type": "stream",
     "text": [
      "(1/2) Generating graphs from SubDataset GraphClass0:   8%|▊         | 4120/50000 [00:01<00:19, 2368.36it/s]]"
     ]
    },
    {
     "name": "stdout",
     "output_type": "stream",
     "text": [
      "Num Graph classes: 2\n",
      "Graph classes: [0, 1]\n",
      "Number of graphs: 100000\n"
     ]
    },
    {
     "name": "stderr",
     "output_type": "stream",
     "text": [
      "(1/2) Generating graphs from SubDataset GraphClass0:   9%|▊         | 4361/50000 [00:01<00:19, 2379.70it/s]]"
     ]
    },
    {
     "name": "stdout",
     "output_type": "stream",
     "text": [
      "Number of all nodes in all graphs: 1200135\n"
     ]
    },
    {
     "name": "stderr",
     "output_type": "stream",
     "text": [
      "(1/2) Generating graphs from SubDataset GraphClass0:  10%|▉         | 4846/50000 [00:02<00:18, 2398.79it/s]]"
     ]
    },
    {
     "name": "stdout",
     "output_type": "stream",
     "text": [
      "Number of all edges in all graphs: 13337554\n",
      "Dim node features: 5\n",
      "Node feature keys: ['P_t', 'Eta', 'Phi', 'Mass', 'Type']\n",
      "Dim edge features: 3\n",
      "Edge feature keys: ['DeltaEta', 'DeltaPhi', 'RapiditySquared']\n"
     ]
    },
    {
     "name": "stderr",
     "output_type": "stream",
     "text": [
      "(1/2) Generating graphs from SubDataset GraphClass0:  29%|██▉       | 14375/50000 [00:06<00:18, 1963.06it/s]"
     ]
    },
    {
     "name": "stdout",
     "output_type": "stream",
     "text": [
      "Done saving data into cached files.\n"
     ]
    },
    {
     "name": "stderr",
     "output_type": "stream",
     "text": [
      "(1/2) Generating graphs from SubDataset GraphClass0: 100%|██████████| 50000/50000 [00:22<00:00, 2198.22it/s]\n",
      "(1/2) Generating graphs from SubDataset GraphClass0:  36%|███▌      | 18122/50000 [00:06<00:13, 2419.42it/s]/home/andrew/GNN_Sandbox/ToyDGLDataset_v2.py:390: UserWarning: Creating legend with loc=\"best\" can be slow with large amounts of data.\n",
      "  fig.savefig(outputFilePath)\n",
      "(1/2) Generating graphs from SubDataset GraphClass0:  53%|█████▎    | 26402/50000 [00:09<00:08, 2708.04it/s]"
     ]
    },
    {
     "name": "stdout",
     "output_type": "stream",
     "text": [
      "Num Graph classes: 2\n",
      "Graph classes: [0, 1]\n",
      "Number of graphs: 100000\n"
     ]
    },
    {
     "name": "stderr",
     "output_type": "stream",
     "text": [
      "(2/2) Generating graphs from SubDataset GraphClass1:  12%|█▏        | 5832/50000 [00:03<00:28, 1567.08it/s]]"
     ]
    },
    {
     "name": "stdout",
     "output_type": "stream",
     "text": [
      "Number of all nodes in all graphs: 1250321\n"
     ]
    },
    {
     "name": "stderr",
     "output_type": "stream",
     "text": [
      "(1/2) Generating graphs from SubDataset GraphClass0:  54%|█████▍    | 27221/50000 [00:10<00:08, 2640.96it/s]"
     ]
    },
    {
     "name": "stdout",
     "output_type": "stream",
     "text": [
      "Number of all edges in all graphs: 14491114\n",
      "Dim node features: 5\n",
      "Node feature keys: ['P_t', 'Eta', 'Phi', 'Mass', 'Type']\n",
      "Dim edge features: 3\n",
      "Edge feature keys: ['DeltaEta', 'DeltaPhi', 'RapiditySquared']\n"
     ]
    },
    {
     "name": "stderr",
     "output_type": "stream",
     "text": [
      "(1/2) Generating graphs from SubDataset GraphClass0:  99%|█████████▉| 49516/50000 [00:21<00:00, 2393.23it/s]"
     ]
    },
    {
     "name": "stdout",
     "output_type": "stream",
     "text": [
      "Done saving data into cached files.\n"
     ]
    },
    {
     "name": "stderr",
     "output_type": "stream",
     "text": [
      "(1/2) Generating graphs from SubDataset GraphClass0: 100%|██████████| 50000/50000 [00:21<00:00, 2332.03it/s]\n",
      "(2/2) Generating graphs from SubDataset GraphClass1:  29%|██▉       | 14596/50000 [00:08<00:21, 1664.89it/s]"
     ]
    },
    {
     "name": "stdout",
     "output_type": "stream",
     "text": [
      "\t Toy0_v3_1_0NodeCountMeanDiff done\n",
      "\t Toy0_v3_1_1NodeCountMeanDiff done\n",
      "\t Toy0_v3_1_2NodeCountMeanDiff done\n",
      "\t Toy0_v3_1_3NodeCountMeanDiff done\n"
     ]
    },
    {
     "name": "stderr",
     "output_type": "stream",
     "text": [
      "(1/2) Generating graphs from SubDataset GraphClass0: 100%|██████████| 50000/50000 [00:19<00:00, 2601.92it/s]\n",
      "(1/2) Generating graphs from SubDataset GraphClass0: 100%|██████████| 50000/50000 [00:17<00:00, 2806.07it/s]\n",
      "(2/2) Generating graphs from SubDataset GraphClass1: 100%|██████████| 50000/50000 [00:30<00:00, 1636.92it/s]\n",
      "(2/2) Generating graphs from SubDataset GraphClass1:  58%|█████▊    | 28952/50000 [00:17<00:12, 1667.55it/s]"
     ]
    },
    {
     "name": "stdout",
     "output_type": "stream",
     "text": [
      "Calculating and saving histograms...\n"
     ]
    },
    {
     "name": "stderr",
     "output_type": "stream",
     "text": [
      "(2/2) Generating graphs from SubDataset GraphClass1: 100%|██████████| 50000/50000 [00:31<00:00, 1610.22it/s]\n"
     ]
    },
    {
     "name": "stdout",
     "output_type": "stream",
     "text": [
      "Calculating and saving histograms...\n"
     ]
    },
    {
     "name": "stderr",
     "output_type": "stream",
     "text": [
      "(2/2) Generating graphs from SubDataset GraphClass1: 100%|██████████| 50000/50000 [00:30<00:00, 1627.55it/s]\n",
      "(2/2) Generating graphs from SubDataset GraphClass1:  56%|█████▌    | 27871/50000 [00:16<00:12, 1725.34it/s]"
     ]
    },
    {
     "name": "stdout",
     "output_type": "stream",
     "text": [
      "Calculating and saving histograms...\n"
     ]
    },
    {
     "name": "stderr",
     "output_type": "stream",
     "text": [
      "(2/2) Generating graphs from SubDataset GraphClass1: 100%|██████████| 50000/50000 [00:29<00:00, 1673.60it/s]\n"
     ]
    },
    {
     "name": "stdout",
     "output_type": "stream",
     "text": [
      "Calculating and saving histograms...\n"
     ]
    },
    {
     "name": "stderr",
     "output_type": "stream",
     "text": [
      "/home/andrew/GNN_Sandbox/ToyDGLDataset_v2.py:390: UserWarning: Creating legend with loc=\"best\" can be slow with large amounts of data.\n",
      "  fig.savefig(outputFilePath)\n"
     ]
    },
    {
     "name": "stdout",
     "output_type": "stream",
     "text": [
      "Num Graph classes: 2\n",
      "Graph classes: [0, 1]\n",
      "Number of graphs: 100000\n",
      "Number of all nodes in all graphs: 899452\n",
      "Number of all edges in all graphs: 8519656\n",
      "Dim node features: 5\n",
      "Node feature keys: ['P_t', 'Eta', 'Phi', 'Mass', 'Type']\n",
      "Dim edge features: 3\n",
      "Edge feature keys: ['DeltaEta', 'DeltaPhi', 'RapiditySquared']\n"
     ]
    },
    {
     "name": "stderr",
     "output_type": "stream",
     "text": [
      "/home/andrew/GNN_Sandbox/ToyDGLDataset_v2.py:390: UserWarning: Creating legend with loc=\"best\" can be slow with large amounts of data.\n",
      "  fig.savefig(outputFilePath)\n",
      "/home/andrew/GNN_Sandbox/ToyDGLDataset_v2.py:390: UserWarning: Creating legend with loc=\"best\" can be slow with large amounts of data.\n",
      "  fig.savefig(outputFilePath)\n"
     ]
    },
    {
     "name": "stdout",
     "output_type": "stream",
     "text": [
      "Num Graph classes: 2\n",
      "Graph classes: [0, 1]\n",
      "Number of graphs: 100000\n",
      "Number of all nodes in all graphs: 1050027\n",
      "Number of all edges in all graphs: 10484330\n",
      "Dim node features: 5\n",
      "Node feature keys: ['P_t', 'Eta', 'Phi', 'Mass', 'Type']\n",
      "Dim edge features: 3\n",
      "Edge feature keys: ['DeltaEta', 'DeltaPhi', 'RapiditySquared']\n"
     ]
    },
    {
     "name": "stderr",
     "output_type": "stream",
     "text": [
      "/home/andrew/GNN_Sandbox/ToyDGLDataset_v2.py:390: UserWarning: Creating legend with loc=\"best\" can be slow with large amounts of data.\n",
      "  fig.savefig(outputFilePath)\n"
     ]
    },
    {
     "name": "stdout",
     "output_type": "stream",
     "text": [
      "Done saving data into cached files.\n"
     ]
    },
    {
     "name": "stderr",
     "output_type": "stream",
     "text": [
      "\r",
      "(1/2) Generating graphs from SubDataset GraphClass0:   0%|          | 0/50000 [00:00<?, ?it/s]"
     ]
    },
    {
     "name": "stdout",
     "output_type": "stream",
     "text": [
      "Num Graph classes: 2\n",
      "Graph classes: [0, 1]\n",
      "Number of graphs: 100000\n"
     ]
    },
    {
     "name": "stderr",
     "output_type": "stream",
     "text": [
      "\r",
      "(1/2) Generating graphs from SubDataset GraphClass0:   1%|          | 304/50000 [00:00<00:16, 3036.00it/s]"
     ]
    },
    {
     "name": "stdout",
     "output_type": "stream",
     "text": [
      "Number of all nodes in all graphs: 999954\n"
     ]
    },
    {
     "name": "stderr",
     "output_type": "stream",
     "text": [
      "(1/2) Generating graphs from SubDataset GraphClass0:   2%|▏         | 911/50000 [00:00<00:16, 3002.88it/s]"
     ]
    },
    {
     "name": "stdout",
     "output_type": "stream",
     "text": [
      "Number of all edges in all graphs: 9733186\n",
      "Dim node features: 5\n",
      "Node feature keys: ['P_t', 'Eta', 'Phi', 'Mass', 'Type']\n",
      "Dim edge features: 3\n",
      "Edge feature keys: ['DeltaEta', 'DeltaPhi', 'RapiditySquared']\n"
     ]
    },
    {
     "name": "stderr",
     "output_type": "stream",
     "text": [
      "(1/2) Generating graphs from SubDataset GraphClass0:   8%|▊         | 3988/50000 [00:01<00:15, 3060.64it/s]"
     ]
    },
    {
     "name": "stdout",
     "output_type": "stream",
     "text": [
      "Num Graph classes: 2\n",
      "Graph classes: [0, 1]\n",
      "Number of graphs: 100000\n"
     ]
    },
    {
     "name": "stderr",
     "output_type": "stream",
     "text": [
      "\r",
      "(1/2) Generating graphs from SubDataset GraphClass0:   9%|▊         | 4302/50000 [00:01<00:14, 3082.04it/s]"
     ]
    },
    {
     "name": "stdout",
     "output_type": "stream",
     "text": [
      "Number of all nodes in all graphs: 803341\n"
     ]
    },
    {
     "name": "stderr",
     "output_type": "stream",
     "text": [
      "(1/2) Generating graphs from SubDataset GraphClass0:  10%|▉         | 4925/50000 [00:01<00:14, 3075.61it/s]"
     ]
    },
    {
     "name": "stdout",
     "output_type": "stream",
     "text": [
      "Number of all edges in all graphs: 7747836\n",
      "Dim node features: 5\n",
      "Node feature keys: ['P_t', 'Eta', 'Phi', 'Mass', 'Type']\n",
      "Dim edge features: 3\n",
      "Edge feature keys: ['DeltaEta', 'DeltaPhi', 'RapiditySquared']\n"
     ]
    },
    {
     "name": "stderr",
     "output_type": "stream",
     "text": [
      "(1/2) Generating graphs from SubDataset GraphClass0:  17%|█▋        | 8296/50000 [00:02<00:13, 3079.54it/s]"
     ]
    },
    {
     "name": "stdout",
     "output_type": "stream",
     "text": [
      "Done saving data into cached files.\n"
     ]
    },
    {
     "name": "stderr",
     "output_type": "stream",
     "text": [
      "(1/2) Generating graphs from SubDataset GraphClass0:  23%|██▎       | 11627/50000 [00:03<00:12, 3019.64it/s]"
     ]
    },
    {
     "name": "stdout",
     "output_type": "stream",
     "text": [
      "\t Toy0_v3_1_4NodeCountMeanDiff done\n"
     ]
    },
    {
     "name": "stderr",
     "output_type": "stream",
     "text": [
      "(1/2) Generating graphs from SubDataset GraphClass0:  27%|██▋       | 13444/50000 [00:04<00:12, 3013.73it/s]"
     ]
    },
    {
     "name": "stdout",
     "output_type": "stream",
     "text": [
      "Done saving data into cached files.\n"
     ]
    },
    {
     "name": "stderr",
     "output_type": "stream",
     "text": [
      "(1/2) Generating graphs from SubDataset GraphClass0:  34%|███▎      | 16780/50000 [00:05<00:11, 2927.09it/s]"
     ]
    },
    {
     "name": "stdout",
     "output_type": "stream",
     "text": [
      "\t Toy0_v3_1_5NodeCountMeanDiff done\n",
      "\t Toy0_v3_1_7NodeCountMeanDiff done\n",
      "Done saving data into cached files.\n"
     ]
    },
    {
     "name": "stderr",
     "output_type": "stream",
     "text": [
      "(1/2) Generating graphs from SubDataset GraphClass0:  40%|███▉      | 19800/50000 [00:06<00:10, 2847.66it/s]"
     ]
    },
    {
     "name": "stdout",
     "output_type": "stream",
     "text": [
      "\t Toy0_v3_1_9NodeCountMeanDiff done\n"
     ]
    },
    {
     "name": "stderr",
     "output_type": "stream",
     "text": [
      "(1/2) Generating graphs from SubDataset GraphClass0: 100%|██████████| 50000/50000 [00:16<00:00, 2954.31it/s]\n",
      "(2/2) Generating graphs from SubDataset GraphClass1: 100%|██████████| 50000/50000 [00:28<00:00, 1747.75it/s]\n"
     ]
    },
    {
     "name": "stdout",
     "output_type": "stream",
     "text": [
      "Calculating and saving histograms...\n"
     ]
    },
    {
     "name": "stderr",
     "output_type": "stream",
     "text": [
      "/home/andrew/GNN_Sandbox/ToyDGLDataset_v2.py:390: UserWarning: Creating legend with loc=\"best\" can be slow with large amounts of data.\n",
      "  fig.savefig(outputFilePath)\n"
     ]
    },
    {
     "name": "stdout",
     "output_type": "stream",
     "text": [
      "Num Graph classes: 2\n",
      "Graph classes: [0, 1]\n",
      "Number of graphs: 100000\n",
      "Number of all nodes in all graphs: 743360\n",
      "Number of all edges in all graphs: 7419598\n",
      "Dim node features: 5\n",
      "Node feature keys: ['P_t', 'Eta', 'Phi', 'Mass', 'Type']\n",
      "Dim edge features: 3\n",
      "Edge feature keys: ['DeltaEta', 'DeltaPhi', 'RapiditySquared']\n",
      "Done saving data into cached files.\n",
      "\t Toy0_v3_1_11NodeCountMeanDiff done\n",
      "502.7153697013855 seconds elapsed\n"
     ]
    }
   ],
   "source": [
    "toyname = 'Toy0_v3_1'\n",
    "rootOutputFolder = path.join('/home/andrew/GNN_Sandbox/GraphToyDatasets_v3', toyname)\n",
    "\n",
    "def generateDataset(nodeMeanDiff):\n",
    "    datasetname = f'{toyname}_{nodeMeanDiff}NodeCountMeanDiff'\n",
    "    outputFolder = path.join(rootOutputFolder, datasetname)\n",
    "    Path(outputFolder).mkdir(parents=True, exist_ok=True)\n",
    "\n",
    "    name = f'GraphClass{graphlabel[0]}'\n",
    "\n",
    "    nodeFeat = deepcopy(defaultNodeFeat)\n",
    "\n",
    "    graphsubdatasetInfo0 = GraphSubdatasetInfo(\n",
    "        name=name, label=graphlabel[0], \n",
    "        graphCount=graphCountPerClass, nodesPerGraph=deepcopy(NodesPerGraph1), \n",
    "        nodeFeatMapping=nFeatMapping, nodeFeat=nodeFeat, \n",
    "        edgeFeatMapping=eFeatMapping, graphFeatMapping=gFeatMapping)\n",
    "    graphsubdatasetInfo0.nodesPerGraph.mean -= nodeMeanDiff\n",
    "    #graphsubdatasetInfo0.nodeFeat[nFeatMapping['P_t']] = P_t_SlightlyDiffGraphClass0\n",
    "\n",
    "    name = f'GraphClass{graphlabel[1]}'\n",
    "    graphsubdatasetInfo1 = deepcopy(graphsubdatasetInfo0)\n",
    "    graphsubdatasetInfo1.name = name\n",
    "    graphsubdatasetInfo1.label = graphlabel[1]\n",
    "    graphsubdatasetInfo1.nodesPerGraph = deepcopy(NodesPerGraph1)\n",
    "    #P_t_SlightlyDiffGraphClass1.mean = P_t_SlightlyDiffGraphClass0.mean * (1.0 + p/100)\n",
    "\n",
    "    subdatasets = []\n",
    "    subdatasets.append(graphsubdatasetInfo0)\n",
    "    subdatasets.append(graphsubdatasetInfo1)\n",
    "\n",
    "    graphdatasetInfo = GraphDatasetInfo(\n",
    "        name=datasetname,\n",
    "        splitPercentages=splitPercentages,\n",
    "        graphSubDatasetInfos=subdatasets\n",
    "    )\n",
    "\n",
    "    graphdatasetInfo.SaveToJsonfile(outputFolder, f'{graphdatasetInfo.name}.json')\n",
    "    dataset = ToyDGLDataset_v2(name=datasetname, info=graphdatasetInfo, shuffleDataset=True, save_dir=outputFolder)\n",
    "    return datasetname + \" done\"\n",
    "\n",
    "import time\n",
    "now = time.time()\n",
    "\n",
    "import multiprocessing as mp\n",
    "Processes = 4 # too many will fill RAM and freeze the operating system. \n",
    "with mp.Pool(Processes) as pool:\n",
    "    NodeCountMeanDiff = [(0,), (1,), (2,), (3,), (4,), (5,), (7,), (9,), (11,)]\n",
    "    results = [pool.apply_async(generateDataset, ncmd) for ncmd in NodeCountMeanDiff]\n",
    "    for r in results:\n",
    "        print('\\t', r.get())\n",
    "\n",
    "end = time.time()\n",
    "elapsed = end - now\n",
    "print(f'{elapsed} seconds elapsed')\n",
    "#can be loaded from json file like below:\n",
    "#graphdatasetInfo = GraphDatasetInfo.LoadFromJsonfile(path.join(outputFolder, f'{graphdatasetInfo.name}.json'))"
   ]
  },
  {
   "cell_type": "code",
   "execution_count": 4,
   "metadata": {},
   "outputs": [
    {
     "ename": "NameError",
     "evalue": "name 'dataset' is not defined",
     "output_type": "error",
     "traceback": [
      "\u001b[0;31m---------------------------------------------------------------------------\u001b[0m",
      "\u001b[0;31mNameError\u001b[0m                                 Traceback (most recent call last)",
      "\u001b[0;32m<ipython-input-4-6ef393dc2147>\u001b[0m in \u001b[0;36m<module>\u001b[0;34m\u001b[0m\n\u001b[0;32m----> 1\u001b[0;31m \u001b[0mgraph\u001b[0m\u001b[0;34m,\u001b[0m \u001b[0mlabel\u001b[0m \u001b[0;34m=\u001b[0m \u001b[0mdataset\u001b[0m\u001b[0;34m[\u001b[0m\u001b[0;36m0\u001b[0m\u001b[0;34m]\u001b[0m\u001b[0;34m\u001b[0m\u001b[0;34m\u001b[0m\u001b[0m\n\u001b[0m\u001b[1;32m      2\u001b[0m \u001b[0mprint\u001b[0m\u001b[0;34m(\u001b[0m\u001b[0mgraph\u001b[0m\u001b[0;34m.\u001b[0m\u001b[0mgdata\u001b[0m\u001b[0;34m)\u001b[0m\u001b[0;34m\u001b[0m\u001b[0;34m\u001b[0m\u001b[0m\n\u001b[1;32m      3\u001b[0m \u001b[0mprint\u001b[0m\u001b[0;34m(\u001b[0m\u001b[0mgraph\u001b[0m\u001b[0;34m.\u001b[0m\u001b[0mgdata\u001b[0m\u001b[0;34m[\u001b[0m\u001b[0;34m'feat'\u001b[0m\u001b[0;34m]\u001b[0m\u001b[0;34m)\u001b[0m\u001b[0;34m\u001b[0m\u001b[0;34m\u001b[0m\u001b[0m\n",
      "\u001b[0;31mNameError\u001b[0m: name 'dataset' is not defined"
     ]
    }
   ],
   "source": [
    "graph, label = dataset[0]\n",
    "print(graph.gdata)\n",
    "print(graph.gdata['feat'])"
   ]
  },
  {
   "cell_type": "code",
   "execution_count": null,
   "metadata": {},
   "outputs": [],
   "source": [
    "percentageDiffs = [0, 1, 2, 3, 4, 5, 7, 10, 15]\n",
    "for p in percentageDiffs:\n",
    "    print(1 + p/100)"
   ]
  },
  {
   "cell_type": "raw",
   "metadata": {},
   "source": [
    "rng = np.random.default_rng(seed=42)\n",
    "nxgraphs = graphdatasetInfo.ToNetworkxGraphList()\n",
    "\n",
    "print(f'Edge Features \\n nx: {list(nxgraphs[0].edges.data())[0]},\\n dgl: {dglgraph.edata}')\n",
    "\n",
    "print(f'Graphs in the dataset: {len(nxgraphs)}')\n",
    "print('Node features of the first graph in the graph list: ')\n",
    "for node in nxgraphs[0].nodes(data=True):\n",
    "    print(node)\n",
    "\n",
    "print(\"Fully connected graph with edge features: \")\n",
    "print(nxgraphs[0].edges.data())\n",
    "\n",
    "pos = nx.spring_layout(nxgraphs[0])\n",
    "options = {\n",
    "    \"node_color\": \"#A0CBE2\",\n",
    "    \"width\": 0.5,\n",
    "    \"with_labels\": True,\n",
    "    \"node_size\": 600\n",
    "}\n",
    "plt.figure(1,figsize=(10,10)) \n",
    "nx.draw(nxgraphs[0], pos, **options)\n",
    "\n",
    "dglgraph = dgl.from_networkx(\n",
    "    nxgraphs[0], \n",
    "    node_attrs=nodeFeatures.keys(), \n",
    "    edge_attrs=edgeFeatures.keys())\n",
    "print(f'Node count - nx: {nxgraphs[0].number_of_nodes()}, dgl: {dglgraph.num_nodes()}')\n",
    "print(f'Edge count - nx: {nxgraphs[0].number_of_edges()}, dgl: {dglgraph.num_edges()}')\n",
    "\n",
    "print(f'Node Features \\n nx: {nxgraphs[0].nodes(data=True)[0]},\\n dgl: {dglgraph.ndata}')\n",
    "\n",
    "print(dglgraph)"
   ]
  }
 ],
 "metadata": {
  "kernelspec": {
   "display_name": "venv",
   "language": "python",
   "name": "venv"
  },
  "language_info": {
   "codemirror_mode": {
    "name": "ipython",
    "version": 3
   },
   "file_extension": ".py",
   "mimetype": "text/x-python",
   "name": "python",
   "nbconvert_exporter": "python",
   "pygments_lexer": "ipython3",
   "version": "3.8.10"
  }
 },
 "nbformat": 4,
 "nbformat_minor": 4
}

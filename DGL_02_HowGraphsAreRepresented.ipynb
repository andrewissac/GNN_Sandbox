{
 "cells": [
  {
   "cell_type": "markdown",
   "metadata": {},
   "source": [
    "# Goal:\n",
    "\n",
    "- Construct a graph in DGL from scratch.\n",
    "\n",
    "- Assign node and edge features to a graph.\n",
    "\n",
    "- Query properties of a DGL graph such as node degrees and connectivity.\n",
    "\n",
    "- Transform a DGL graph into another graph.\n",
    "\n",
    "- Load and save DGL graphs."
   ]
  },
  {
   "cell_type": "markdown",
   "metadata": {},
   "source": [
    "You can construct a graph by specifying the number of nodes in the graph as well as the list of source and destination nodes. Nodes in the graph have consecutive IDs starting from 0."
   ]
  },
  {
   "cell_type": "code",
   "execution_count": 2,
   "metadata": {},
   "outputs": [],
   "source": [
    "import dgl\n",
    "import numpy as np\n",
    "import torch\n",
    "\n",
    "g = dgl.graph(([0, 0, 0, 0, 0], [1, 2, 3, 4, 5]), num_nodes=6)\n",
    "# Equivalently, PyTorch LongTensors also work.\n",
    "g = dgl.graph((torch.LongTensor([0, 0, 0, 0, 0]), torch.LongTensor([1, 2, 3, 4, 5])), num_nodes=6)\n",
    "\n",
    "# You can omit the number of nodes argument if you can tell the number of nodes from the edge list alone.\n",
    "g = dgl.graph(([0, 0, 0, 0, 0], [1, 2, 3, 4, 5]))"
   ]
  },
  {
   "cell_type": "markdown",
   "metadata": {},
   "source": [
    "Edges in the graph have consecutive IDs starting from 0, and are in the same order as the list of source and destination nodes during creation."
   ]
  },
  {
   "cell_type": "code",
   "execution_count": 3,
   "metadata": {},
   "outputs": [
    {
     "name": "stdout",
     "output_type": "stream",
     "text": [
      "(tensor([0, 0, 0, 0, 0]), tensor([1, 2, 3, 4, 5]))\n"
     ]
    }
   ],
   "source": [
    "# Print the source and destination nodes of every edge.\n",
    "print(g.edges())"
   ]
  },
  {
   "cell_type": "markdown",
   "metadata": {},
   "source": [
    "# Assigning Node and Edge Features to Graph\n",
    "\n",
    "Many graph data contain attributes on nodes and edges. Although the types of node and edge attributes can be arbitrary in real world, DGLGraph only accepts attributes stored in tensors (with numerical contents). Consequently, an attribute of all the nodes or edges must have the same shape. In the context of deep learning, those attributes are often called features.\n",
    "\n",
    "You can assign and retrieve node and edge features via **ndata** and **edata** interface."
   ]
  },
  {
   "cell_type": "code",
   "execution_count": 9,
   "metadata": {},
   "outputs": [
    {
     "name": "stdout",
     "output_type": "stream",
     "text": [
      "tensor([[-0.5577, -0.1411, -0.5917,  0.6853],\n",
      "        [-0.1955, -0.0396,  0.6488,  0.7896],\n",
      "        [ 1.9263,  1.2331, -0.1440,  0.6483],\n",
      "        [-0.3525,  1.2251, -0.7027, -0.5663],\n",
      "        [ 1.6161,  1.3308, -0.5314, -0.6052]])\n",
      "6\n",
      "5\n",
      "5\n",
      "0\n"
     ]
    }
   ],
   "source": [
    "# Assign a 3-dimensional node feature vector for each node.\n",
    "g.ndata['x'] = torch.randn(g.number_of_nodes(), 3)\n",
    "# Assign a 4-dimensional edge feature vector for each edge.\n",
    "g.edata['a'] = torch.randn(g.number_of_edges(), 4)\n",
    "# Assign a 5x4 node feature matrix for each node.  Node and edge features in DGL can be multi-dimensional.\n",
    "g.ndata['y'] = torch.randn(g.number_of_nodes(), g.number_of_edges(), 4)\n",
    "\n",
    "print(g.edata['a'])\n",
    "print(g.num_nodes())\n",
    "print(g.num_edges())\n",
    "# Out degrees of the center node\n",
    "print(g.out_degrees(0))\n",
    "# In degrees of the center node - note that the graph is directed so the in degree should be 0.\n",
    "print(g.in_degrees(0))"
   ]
  },
  {
   "cell_type": "markdown",
   "metadata": {},
   "source": [
    "# Graph Transformations\n",
    "DGL provides many APIs to transform a graph to another such as extracting a subgraph:"
   ]
  },
  {
   "cell_type": "code",
   "execution_count": 10,
   "metadata": {},
   "outputs": [],
   "source": [
    "# Induce a subgraph from node 0, node 1 and node 3 from the original graph.\n",
    "sg1 = g.subgraph([0, 1, 3])\n",
    "# Induce a subgraph from edge 0, edge 1 and edge 3 from the original graph.\n",
    "sg2 = g.edge_subgraph([0, 1, 3])"
   ]
  },
  {
   "cell_type": "markdown",
   "metadata": {},
   "source": [
    "You can obtain the node/edge mapping from the subgraph to the original graph by looking into the node feature `dgl.NID`or edge feature `dgl.EID` in the new graph."
   ]
  },
  {
   "cell_type": "code",
   "execution_count": 11,
   "metadata": {},
   "outputs": [
    {
     "name": "stdout",
     "output_type": "stream",
     "text": [
      "tensor([0, 1, 3])\n",
      "tensor([0, 2])\n",
      "tensor([0, 1, 2, 4])\n",
      "tensor([0, 1, 3])\n"
     ]
    }
   ],
   "source": [
    "# The original IDs of each node in sg1\n",
    "print(sg1.ndata[dgl.NID])\n",
    "# The original IDs of each edge in sg1\n",
    "print(sg1.edata[dgl.EID])\n",
    "# The original IDs of each node in sg2\n",
    "print(sg2.ndata[dgl.NID])\n",
    "# The original IDs of each edge in sg2\n",
    "print(sg2.edata[dgl.EID])"
   ]
  },
  {
   "cell_type": "markdown",
   "metadata": {},
   "source": [
    "`subgraph` and `edge_subgraph` also copies the original features to the subgraph:"
   ]
  },
  {
   "cell_type": "code",
   "execution_count": 12,
   "metadata": {},
   "outputs": [
    {
     "name": "stdout",
     "output_type": "stream",
     "text": [
      "tensor([[-1.2430,  0.0688,  0.5729],\n",
      "        [ 0.0489, -0.9491, -0.1387],\n",
      "        [ 0.6180, -0.3271, -0.3056]])\n",
      "tensor([[-0.5577, -0.1411, -0.5917,  0.6853],\n",
      "        [ 1.9263,  1.2331, -0.1440,  0.6483]])\n",
      "tensor([[-1.2430,  0.0688,  0.5729],\n",
      "        [ 0.0489, -0.9491, -0.1387],\n",
      "        [-0.0644,  0.7515, -1.5226],\n",
      "        [-1.4126, -2.5519,  1.5256]])\n",
      "tensor([[-0.5577, -0.1411, -0.5917,  0.6853],\n",
      "        [-0.1955, -0.0396,  0.6488,  0.7896],\n",
      "        [-0.3525,  1.2251, -0.7027, -0.5663]])\n"
     ]
    }
   ],
   "source": [
    "# The original node feature of each node in sg1\n",
    "print(sg1.ndata['x'])\n",
    "# The original edge feature of each node in sg1\n",
    "print(sg1.edata['a'])\n",
    "# The original node feature of each node in sg2\n",
    "print(sg2.ndata['x'])\n",
    "# The original edge feature of each node in sg2\n",
    "print(sg2.edata['a'])"
   ]
  },
  {
   "cell_type": "markdown",
   "metadata": {},
   "source": [
    "Another common transformation is to add a reverse edge for each edge in the original graph with `dgl.add_reverse_edges`. If you have an undirected graph, it is better to convert it into a bidirectional graph first via adding reverse edges."
   ]
  },
  {
   "cell_type": "code",
   "execution_count": 13,
   "metadata": {},
   "outputs": [
    {
     "data": {
      "text/plain": [
       "(tensor([0, 0, 0, 0, 0, 1, 2, 3, 4, 5]),\n",
       " tensor([1, 2, 3, 4, 5, 0, 0, 0, 0, 0]))"
      ]
     },
     "execution_count": 13,
     "metadata": {},
     "output_type": "execute_result"
    }
   ],
   "source": [
    "newg = dgl.add_reverse_edges(g)\n",
    "newg.edges()"
   ]
  },
  {
   "cell_type": "markdown",
   "metadata": {},
   "source": [
    "# Loading and Saving Graphs\n",
    "You can save a graph or a list of graphs via `dgl.save_graphs` and load them back with `dgl.load_graphs`."
   ]
  },
  {
   "cell_type": "code",
   "execution_count": 14,
   "metadata": {},
   "outputs": [
    {
     "name": "stdout",
     "output_type": "stream",
     "text": [
      "Graph(num_nodes=6, num_edges=5,\n",
      "      ndata_schemes={'y': Scheme(shape=(5, 4), dtype=torch.float32), 'x': Scheme(shape=(3,), dtype=torch.float32)}\n",
      "      edata_schemes={'a': Scheme(shape=(4,), dtype=torch.float32)})\n",
      "Graph(num_nodes=6, num_edges=5,\n",
      "      ndata_schemes={'y': Scheme(shape=(5, 4), dtype=torch.float32), 'x': Scheme(shape=(3,), dtype=torch.float32)}\n",
      "      edata_schemes={'a': Scheme(shape=(4,), dtype=torch.float32)})\n",
      "Graph(num_nodes=3, num_edges=2,\n",
      "      ndata_schemes={'_ID': Scheme(shape=(), dtype=torch.int64), 'y': Scheme(shape=(5, 4), dtype=torch.float32), 'x': Scheme(shape=(3,), dtype=torch.float32)}\n",
      "      edata_schemes={'_ID': Scheme(shape=(), dtype=torch.int64), 'a': Scheme(shape=(4,), dtype=torch.float32)})\n",
      "Graph(num_nodes=4, num_edges=3,\n",
      "      ndata_schemes={'_ID': Scheme(shape=(), dtype=torch.int64), 'y': Scheme(shape=(5, 4), dtype=torch.float32), 'x': Scheme(shape=(3,), dtype=torch.float32)}\n",
      "      edata_schemes={'_ID': Scheme(shape=(), dtype=torch.int64), 'a': Scheme(shape=(4,), dtype=torch.float32)})\n"
     ]
    }
   ],
   "source": [
    "# Save graphs\n",
    "dgl.save_graphs('graph.dgl', g)\n",
    "dgl.save_graphs('graphs.dgl', [g, sg1, sg2])\n",
    "\n",
    "# Load graphs\n",
    "(g,), _ = dgl.load_graphs('graph.dgl')\n",
    "print(g)\n",
    "(g, sg1, sg2), _ = dgl.load_graphs('graphs.dgl')\n",
    "print(g)\n",
    "print(sg1)\n",
    "print(sg2)"
   ]
  },
  {
   "cell_type": "code",
   "execution_count": null,
   "metadata": {},
   "outputs": [],
   "source": []
  }
 ],
 "metadata": {
  "kernelspec": {
   "display_name": "venv",
   "language": "python",
   "name": "venv"
  },
  "language_info": {
   "codemirror_mode": {
    "name": "ipython",
    "version": 3
   },
   "file_extension": ".py",
   "mimetype": "text/x-python",
   "name": "python",
   "nbconvert_exporter": "python",
   "pygments_lexer": "ipython3",
   "version": "3.8.5"
  }
 },
 "nbformat": 4,
 "nbformat_minor": 4
}

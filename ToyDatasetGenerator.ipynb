{
 "cells": [
  {
   "cell_type": "code",
   "execution_count": 1,
   "metadata": {},
   "outputs": [
    {
     "name": "stderr",
     "output_type": "stream",
     "text": [
      "Using backend: pytorch\n"
     ]
    }
   ],
   "source": [
    "import dgl\n",
    "import math\n",
    "import torch\n",
    "import numpy as np\n",
    "import networkx as nx\n",
    "from os import path\n",
    "from pathlib import Path\n",
    "from copy import deepcopy\n",
    "from dgl.data import DGLDataset\n",
    "from GraphDatasetInfo import (DistributionType, Distribution, GraphSubdatasetInfo, GraphDatasetInfo)\n"
   ]
  },
  {
   "cell_type": "code",
   "execution_count": 2,
   "metadata": {},
   "outputs": [],
   "source": [
    "datasetname = 'ToyDataset01'\n",
    "outputFolder = path.join('/home/andrew/GNN_Sandbox/GraphToyDatasets/00', datasetname)\n",
    "Path(outputFolder).mkdir(parents=True, exist_ok=True)\n",
    "\n",
    "graphlabel = 0\n",
    "name = f'GraphClass{graphlabel}'\n",
    "description = 'Equal distribution of all node features'\n",
    "graphCount = 2000\n",
    "\n",
    "nodesPerGraph = Distribution(\n",
    "    distributionType=DistributionType.truncnorm, \n",
    "    minimum=10, maximum=120, \n",
    "    mean=30, standardDeviation=10)\n",
    "\n",
    "nFeatMapping = {'P_t': 0, 'Eta': 1, 'Phi': 2, 'Mass': 3, 'Type': 4}\n",
    "nodeFeat = [\n",
    "    Distribution(10, 100, DistributionType.uniform), # index 0 -> P_t\n",
    "    Distribution(-10, 10, DistributionType.uniform), # index 1 -> Eta\n",
    "    Distribution(0, 2 * math.pi, DistributionType.uniform), # index 2 -> Phi\n",
    "    Distribution(0.001, 1, DistributionType.uniform), # index 3 -> Mass\n",
    "    Distribution(0, 2, DistributionType.uniform, roundToNearestInt=True) # index 4 -> Type\n",
    "]\n",
    "\n",
    "eFeatMapping = {'DeltaEta': 0, 'DeltaPhi': 1, 'RapiditySquared': 2}\n",
    "edgeFeat = [\n",
    "    None, # index 0 -> DeltaEta\n",
    "    None, # index 1 -> DeltaPhi\n",
    "    None # index 2 -> RapiditySquared\n",
    "]\n",
    "\n",
    "graphsubdatasetInfo1 = GraphSubdatasetInfo(\n",
    "    name=name, description=description, label=graphlabel, \n",
    "    graphCount=graphCount, nodesPerGraph=nodesPerGraph, \n",
    "    nodeFeatMapping=nFeatMapping, nodeFeat=nodeFeat, \n",
    "    edgeFeatMapping=eFeatMapping, edgeFeat=edgeFeat)\n",
    "\n",
    "graphlabel = 1\n",
    "name = f'GraphClass{graphlabel}'\n",
    "\n",
    "nodesPerGraph2 = deepcopy(nodesPerGraph)\n",
    "nodesPerGraph2.mean = 65\n",
    "\n",
    "nodeFeat2 = deepcopy(nodeFeat)\n",
    "nodeFeat2[nFeatMapping['P_t']] = Distribution(60, 80, DistributionType.uniform)\n",
    "\n",
    "graphsubdatasetInfo2 = GraphSubdatasetInfo(\n",
    "    name=name, description=description, label=graphlabel, \n",
    "    graphCount=graphCount, nodesPerGraph=nodesPerGraph2, \n",
    "    nodeFeatMapping=nFeatMapping, nodeFeat=nodeFeat2, \n",
    "    edgeFeatMapping=eFeatMapping, edgeFeat=edgeFeat)\n",
    "\n",
    "graphsubdatasetInfo2 = deepcopy(graphsubdatasetInfo1)\n",
    "graphsubdatasetInfo2.nodesPerGraph\n",
    "\n",
    "subdatasets = []\n",
    "subdatasets.append(graphsubdatasetInfo2)\n",
    "subdatasets.append(graphsubdatasetInfo1)\n",
    "\n",
    "graphdatasetInfo = GraphDatasetInfo(\n",
    "    name=datasetname,\n",
    "    description='Two equally sized sub datasets with only one difference \\(number of nodes per graph\\)',\n",
    "    splitPercentages={'train': 0.6, 'valid': 0.2, 'test': 0.2},\n",
    "    graphSubDatasetInfos=subdatasets\n",
    ")\n",
    "\n",
    "graphdatasetInfo.SaveToJsonfile(outputFolder, f'{graphdatasetInfo.name}.json')\n",
    "\n",
    "#can be loaded from json file like below:\n",
    "#graphdatasetInfo = GraphDatasetInfo.LoadFromJsonfile(path.join(outputFolder, f'{graphdatasetInfo.name}.json'))"
   ]
  },
  {
   "cell_type": "code",
   "execution_count": 3,
   "metadata": {},
   "outputs": [],
   "source": []
  },
  {
   "cell_type": "code",
   "execution_count": 4,
   "metadata": {},
   "outputs": [
    {
     "name": "stdout",
     "output_type": "stream",
     "text": [
      "File ToyDataset01.json already exists! Do you want to overwrite the file? (y/n)\n",
      "y\n",
      "File ToyDataset01.json overwritten.\n"
     ]
    }
   ],
   "source": []
  },
  {
   "cell_type": "code",
   "execution_count": 6,
   "metadata": {},
   "outputs": [
    {
     "name": "stderr",
     "output_type": "stream",
     "text": [
      "(1/2) Generating graphs from SubDataset GraphClass1: 100%|██████████| 2000/2000 [00:10<00:00, 197.53it/s]\n",
      "(2/2) Generating graphs from SubDataset GraphClass0: 100%|██████████| 2000/2000 [00:02<00:00, 827.83it/s]\n"
     ]
    },
    {
     "name": "stdout",
     "output_type": "stream",
     "text": [
      "Calculating and saving histograms...\n",
      "Num Graph classes: 2\n",
      "Graph classes: [0, 1]\n",
      "Number of graphs: 4000\n",
      "Number of all nodes in all graphs: 188767\n",
      "Number of all edges in all graphs: 10284774\n",
      "Dim node features: 5\n",
      "Node feature keys: ['P_t', 'Eta', 'Phi', 'Mass', 'Type']\n",
      "Dim edge features: 3\n",
      "Edge feature keys: ['DeltaEta', 'DeltaPhi', 'RapiditySquared']\n",
      "Done saving data into cached files.\n"
     ]
    },
    {
     "data": {
      "text/plain": [
       "<Figure size 720x504 with 0 Axes>"
      ]
     },
     "metadata": {},
     "output_type": "display_data"
    }
   ],
   "source": [
    "from ToyDGLDataset import ToyDGLDataset\n",
    "dataset = ToyDGLDataset(name=datasetname, info=graphdatasetInfo, shuffleDataset=True, save_dir=outputFolder)"
   ]
  },
  {
   "cell_type": "markdown",
   "metadata": {},
   "source": [
    "rng = np.random.default_rng(seed=42)\n",
    "nxgraphs = graphdatasetInfo.ToNetworkxGraphList()\n",
    "\n",
    "print(f'Edge Features \\n nx: {list(nxgraphs[0].edges.data())[0]},\\n dgl: {dglgraph.edata}')\n",
    "\n",
    "print(f'Graphs in the dataset: {len(nxgraphs)}')\n",
    "print('Node features of the first graph in the graph list: ')\n",
    "for node in nxgraphs[0].nodes(data=True):\n",
    "    print(node)\n",
    "\n",
    "print(\"Fully connected graph with edge features: \")\n",
    "print(nxgraphs[0].edges.data())\n",
    "\n",
    "pos = nx.spring_layout(nxgraphs[0])\n",
    "options = {\n",
    "    \"node_color\": \"#A0CBE2\",\n",
    "    \"width\": 0.5,\n",
    "    \"with_labels\": True,\n",
    "    \"node_size\": 600\n",
    "}\n",
    "plt.figure(1,figsize=(10,10)) \n",
    "nx.draw(nxgraphs[0], pos, **options)\n",
    "\n",
    "dglgraph = dgl.from_networkx(\n",
    "    nxgraphs[0], \n",
    "    node_attrs=nodeFeatures.keys(), \n",
    "    edge_attrs=edgeFeatures.keys())\n",
    "print(f'Node count - nx: {nxgraphs[0].number_of_nodes()}, dgl: {dglgraph.num_nodes()}')\n",
    "print(f'Edge count - nx: {nxgraphs[0].number_of_edges()}, dgl: {dglgraph.num_edges()}')\n",
    "\n",
    "print(f'Node Features \\n nx: {nxgraphs[0].nodes(data=True)[0]},\\n dgl: {dglgraph.ndata}')\n",
    "\n",
    "print(dglgraph)"
   ]
  }
 ],
 "metadata": {
  "kernelspec": {
   "display_name": "venv",
   "language": "python",
   "name": "venv"
  },
  "language_info": {
   "codemirror_mode": {
    "name": "ipython",
    "version": 3
   },
   "file_extension": ".py",
   "mimetype": "text/x-python",
   "name": "python",
   "nbconvert_exporter": "python",
   "pygments_lexer": "ipython3",
   "version": "3.8.5"
  }
 },
 "nbformat": 4,
 "nbformat_minor": 4
}

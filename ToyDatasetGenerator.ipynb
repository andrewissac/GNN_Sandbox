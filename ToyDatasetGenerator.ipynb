{
 "cells": [
  {
   "cell_type": "code",
   "execution_count": 1,
   "metadata": {},
   "outputs": [
    {
     "name": "stderr",
     "output_type": "stream",
     "text": [
      "Using backend: pytorch\n"
     ]
    }
   ],
   "source": [
    "import dgl\n",
    "import math\n",
    "import torch\n",
    "import numpy as np\n",
    "import networkx as nx\n",
    "from os import path\n",
    "from pathlib import Path\n",
    "from copy import deepcopy\n",
    "from dgl.data import DGLDataset\n",
    "from Distribution import Distribution\n",
    "from ToyDGLDataset import ToyDGLDataset\n",
    "from GraphDatasetInfo import (GraphSubdatasetInfo, GraphDatasetInfo)\n"
   ]
  },
  {
   "cell_type": "code",
   "execution_count": 2,
   "metadata": {},
   "outputs": [],
   "source": [
    "# default stuff\n",
    "toyname = 'Toy5'\n",
    "rootOutputFolder = path.join('/home/andrew/GNN_Sandbox/GraphToyDatasets', toyname)\n",
    "graphCountLarge = 2000\n",
    "graphCountSmall = 100\n",
    "\n",
    "fewNodesPerGraph0 = Distribution(\n",
    "    distributionType='truncnorm', \n",
    "    minimum=1, maximum=10, \n",
    "    mean=6, standardDeviation=1)\n",
    "\n",
    "fewNodesPerGraph1 = Distribution(\n",
    "    distributionType='truncnorm', \n",
    "    minimum=5, maximum=20, \n",
    "    mean=13, standardDeviation=1)\n",
    "\n",
    "fewNodesPerGraphSameDist = Distribution(\n",
    "    distributionType='truncnorm', \n",
    "    minimum=1, maximum=20, \n",
    "    mean=10, standardDeviation=1)\n",
    "\n",
    "manyNodesPerGraph0 = Distribution(\n",
    "    distributionType='truncnorm', \n",
    "    minimum=10, maximum=120, \n",
    "    mean=30, standardDeviation=10)\n",
    "\n",
    "manyNodesPerGraph1 = Distribution(\n",
    "    distributionType='truncnorm', \n",
    "    minimum=10, maximum=120, \n",
    "    mean=65, standardDeviation=10)\n",
    "\n",
    "manyNodesPerGraphSameDist = Distribution(\n",
    "    distributionType='truncnorm', \n",
    "    minimum=10, maximum=120, \n",
    "    mean=65, standardDeviation=10)\n",
    "\n",
    "nFeatMapping = {'P_t': 0, 'Eta': 1, 'Phi': 2, 'Mass': 3, 'Type': 4}\n",
    "\n",
    "defaultNodeFeat = [\n",
    "    Distribution(10, 100, 'uniform'), # index 0 -> P_t\n",
    "    Distribution(-10, 10, 'uniform'), # index 1 -> Eta\n",
    "    Distribution(0, 2 * math.pi, 'uniform'), # index 2 -> Phi\n",
    "    Distribution(0.001, 1, 'uniform'), # index 3 -> Mass\n",
    "    Distribution(0, 2, 'uniform', roundToNearestInt=True) # index 4 -> Type\n",
    "]\n",
    "\n",
    "eFeatMapping = {'DeltaEta': 0, 'DeltaPhi': 1, 'RapiditySquared': 2}\n",
    "\n",
    "edgeFeat = [\n",
    "    None, # index 0 -> DeltaEta\n",
    "    None, # index 1 -> DeltaPhi\n",
    "    None # index 2 -> RapiditySquared\n",
    "]\n",
    "\n",
    "graphlabel = [0, 1]\n",
    "splitPercentages = {'train': 0.7, 'valid': 0.2, 'test': 0.1}\n",
    "\n",
    "P_t_VeryDiffGraphClass1 = Distribution(\n",
    "    distributionType='uniform', \n",
    "    minimum=60, maximum=80)\n",
    "\n",
    "P_t_SlightlyDiffGraphClass0 = Distribution(\n",
    "    distributionType='truncnorm', \n",
    "    minimum=10, maximum=120, \n",
    "    mean=60, standardDeviation=5)\n",
    "\n",
    "P_t_SlightlyDiffGraphClass1 = Distribution(\n",
    "    distributionType='truncnorm', \n",
    "    minimum=10, maximum=120, \n",
    "    mean=70, standardDeviation=5)\n",
    "\n",
    "Eta_SlightlyDiffGraphClass0 = Distribution(\n",
    "    distributionType='truncnorm', \n",
    "    minimum=-10, maximum=10, \n",
    "    mean=0, standardDeviation=1)\n",
    "\n",
    "Eta_SlightlyDiffGraphClass1 = Distribution(\n",
    "    distributionType='truncnorm', \n",
    "    minimum=-10, maximum=10, \n",
    "    mean=1, standardDeviation=1)\n",
    "\n",
    "Eta_VeryDiffGraphClass0 = Distribution(\n",
    "    distributionType='truncnorm', \n",
    "    minimum=-10, maximum=10, \n",
    "    mean=-5, standardDeviation=1)\n",
    "\n",
    "Eta_VeryDiffGraphClass1 = Distribution(\n",
    "    distributionType='truncnorm', \n",
    "    minimum=-10, maximum=10, \n",
    "    mean=5, standardDeviation=1)"
   ]
  },
  {
   "cell_type": "code",
   "execution_count": 3,
   "metadata": {},
   "outputs": [
    {
     "name": "stderr",
     "output_type": "stream",
     "text": [
      "(1/2) Generating graphs from SubDataset GraphClass0: 100%|██████████| 100/100 [00:00<00:00, 1047.68it/s]\n",
      "(2/2) Generating graphs from SubDataset GraphClass1: 100%|██████████| 100/100 [00:00<00:00, 944.35it/s]\n"
     ]
    },
    {
     "name": "stdout",
     "output_type": "stream",
     "text": [
      "Calculating and saving histograms...\n",
      "Num Graph classes: 2\n",
      "Graph classes: [0, 1]\n",
      "Number of graphs: 200\n",
      "Number of all nodes in all graphs: 1894\n",
      "Number of all edges in all graphs: 16240\n",
      "Dim node features: 5\n",
      "Node feature keys: ['P_t', 'Eta', 'Phi', 'Mass', 'Type']\n",
      "Dim edge features: 3\n",
      "Edge feature keys: ['DeltaEta', 'DeltaPhi', 'RapiditySquared']\n",
      "Done saving data into cached files.\n"
     ]
    },
    {
     "data": {
      "text/plain": [
       "<Figure size 720x504 with 0 Axes>"
      ]
     },
     "metadata": {},
     "output_type": "display_data"
    }
   ],
   "source": [
    "datasetname = toyname + '_' + '000'\n",
    "outputFolder = path.join(rootOutputFolder, datasetname)\n",
    "Path(outputFolder).mkdir(parents=True, exist_ok=True)\n",
    "\n",
    "name = f'GraphClass{graphlabel[0]}'\n",
    "\n",
    "nodeFeat = deepcopy(defaultNodeFeat)\n",
    "\n",
    "graphsubdatasetInfo0 = GraphSubdatasetInfo(\n",
    "    name=name, label=graphlabel[0], \n",
    "    graphCount=graphCountSmall, nodesPerGraph=fewNodesPerGraphSameDist, \n",
    "    nodeFeatMapping=nFeatMapping, nodeFeat=nodeFeat, \n",
    "    edgeFeatMapping=eFeatMapping, edgeFeat=edgeFeat)\n",
    "#graphsubdatasetInfo0.nodeFeat[nFeatMapping['P_t']] = P_t_SlightlyDiffGraphClass0\n",
    "graphsubdatasetInfo0.nodeFeat[nFeatMapping['Eta']] = Eta_SlightlyDiffGraphClass0\n",
    "\n",
    "name = f'GraphClass{graphlabel[1]}'\n",
    "graphsubdatasetInfo1 = deepcopy(graphsubdatasetInfo0)\n",
    "graphsubdatasetInfo1.name = name\n",
    "graphsubdatasetInfo1.label = graphlabel[1]\n",
    "#graphsubdatasetInfo1.nodeFeat[nFeatMapping['P_t']] = P_t_SlightlyDiffGraphClass1\n",
    "graphsubdatasetInfo1.nodeFeat[nFeatMapping['Eta']] = Eta_SlightlyDiffGraphClass1\n",
    "\n",
    "subdatasets = []\n",
    "subdatasets.append(graphsubdatasetInfo0)\n",
    "subdatasets.append(graphsubdatasetInfo1)\n",
    "\n",
    "graphdatasetInfo = GraphDatasetInfo(\n",
    "    name=datasetname,\n",
    "    splitPercentages=splitPercentages,\n",
    "    graphSubDatasetInfos=subdatasets\n",
    ")\n",
    "\n",
    "graphdatasetInfo.SaveToJsonfile(outputFolder, f'{graphdatasetInfo.name}.json')\n",
    "dataset = ToyDGLDataset(name=datasetname, info=graphdatasetInfo, shuffleDataset=True, save_dir=outputFolder)\n",
    "\n",
    "#can be loaded from json file like below:\n",
    "#graphdatasetInfo = GraphDatasetInfo.LoadFromJsonfile(path.join(outputFolder, f'{graphdatasetInfo.name}.json'))"
   ]
  },
  {
   "cell_type": "code",
   "execution_count": 4,
   "metadata": {},
   "outputs": [
    {
     "name": "stderr",
     "output_type": "stream",
     "text": [
      "(1/2) Generating graphs from SubDataset GraphClass0: 100%|██████████| 100/100 [00:00<00:00, 1123.32it/s]\n",
      "(2/2) Generating graphs from SubDataset GraphClass1: 100%|██████████| 100/100 [00:00<00:00, 899.48it/s]\n"
     ]
    },
    {
     "name": "stdout",
     "output_type": "stream",
     "text": [
      "Calculating and saving histograms...\n",
      "Num Graph classes: 2\n",
      "Graph classes: [0, 1]\n",
      "Number of graphs: 200\n",
      "Number of all nodes in all graphs: 1795\n",
      "Number of all edges in all graphs: 17048\n",
      "Dim node features: 5\n",
      "Node feature keys: ['P_t', 'Eta', 'Phi', 'Mass', 'Type']\n",
      "Dim edge features: 3\n",
      "Edge feature keys: ['DeltaEta', 'DeltaPhi', 'RapiditySquared']\n",
      "Done saving data into cached files.\n"
     ]
    },
    {
     "data": {
      "text/plain": [
       "<Figure size 720x504 with 0 Axes>"
      ]
     },
     "metadata": {},
     "output_type": "display_data"
    }
   ],
   "source": [
    "datasetname = toyname + '_' + '001'\n",
    "outputFolder = path.join(rootOutputFolder, datasetname)\n",
    "Path(outputFolder).mkdir(parents=True, exist_ok=True)\n",
    "\n",
    "name = f'GraphClass{graphlabel[0]}'\n",
    "\n",
    "nodeFeat = deepcopy(defaultNodeFeat)\n",
    "\n",
    "graphsubdatasetInfo0 = GraphSubdatasetInfo(\n",
    "    name=name, label=graphlabel[0], \n",
    "    graphCount=graphCountSmall, nodesPerGraph=fewNodesPerGraph0, \n",
    "    nodeFeatMapping=nFeatMapping, nodeFeat=nodeFeat, \n",
    "    edgeFeatMapping=eFeatMapping, edgeFeat=edgeFeat)\n",
    "#graphsubdatasetInfo0.nodeFeat[nFeatMapping['P_t']] = P_t_SlightlyDiffGraphClass0\n",
    "graphsubdatasetInfo0.nodeFeat[nFeatMapping['Eta']] = Eta_SlightlyDiffGraphClass0\n",
    "\n",
    "name = f'GraphClass{graphlabel[1]}'\n",
    "graphsubdatasetInfo1 = deepcopy(graphsubdatasetInfo0)\n",
    "graphsubdatasetInfo1.name = name\n",
    "graphsubdatasetInfo1.label = graphlabel[1]\n",
    "graphsubdatasetInfo1.nodesPerGraph = fewNodesPerGraph1\n",
    "#graphsubdatasetInfo1.nodeFeat[nFeatMapping['P_t']] = P_t_SlightlyDiffGraphClass1\n",
    "graphsubdatasetInfo1.nodeFeat[nFeatMapping['Eta']] = Eta_SlightlyDiffGraphClass1\n",
    "\n",
    "\n",
    "subdatasets = []\n",
    "subdatasets.append(graphsubdatasetInfo0)\n",
    "subdatasets.append(graphsubdatasetInfo1)\n",
    "\n",
    "graphdatasetInfo = GraphDatasetInfo(\n",
    "    name=datasetname,\n",
    "    splitPercentages=splitPercentages,\n",
    "    graphSubDatasetInfos=subdatasets\n",
    ")\n",
    "\n",
    "graphdatasetInfo.SaveToJsonfile(outputFolder, f'{graphdatasetInfo.name}.json')\n",
    "dataset = ToyDGLDataset(name=datasetname, info=graphdatasetInfo, shuffleDataset=True, save_dir=outputFolder)"
   ]
  },
  {
   "cell_type": "code",
   "execution_count": 5,
   "metadata": {},
   "outputs": [
    {
     "name": "stderr",
     "output_type": "stream",
     "text": [
      "(1/2) Generating graphs from SubDataset GraphClass0: 100%|██████████| 100/100 [00:00<00:00, 117.12it/s]\n",
      "(2/2) Generating graphs from SubDataset GraphClass1: 100%|██████████| 100/100 [00:00<00:00, 108.08it/s]\n"
     ]
    },
    {
     "name": "stdout",
     "output_type": "stream",
     "text": [
      "Calculating and saving histograms...\n",
      "Num Graph classes: 2\n",
      "Graph classes: [0, 1]\n",
      "Number of graphs: 200\n",
      "Number of all nodes in all graphs: 12989\n",
      "Number of all edges in all graphs: 849456\n",
      "Dim node features: 5\n",
      "Node feature keys: ['P_t', 'Eta', 'Phi', 'Mass', 'Type']\n",
      "Dim edge features: 3\n",
      "Edge feature keys: ['DeltaEta', 'DeltaPhi', 'RapiditySquared']\n",
      "Done saving data into cached files.\n"
     ]
    },
    {
     "data": {
      "text/plain": [
       "<Figure size 720x504 with 0 Axes>"
      ]
     },
     "metadata": {},
     "output_type": "display_data"
    }
   ],
   "source": [
    "datasetname = toyname + '_' + '010'\n",
    "outputFolder = path.join(rootOutputFolder, datasetname)\n",
    "Path(outputFolder).mkdir(parents=True, exist_ok=True)\n",
    "\n",
    "name = f'GraphClass{graphlabel[0]}'\n",
    "\n",
    "nodeFeat = deepcopy(defaultNodeFeat)\n",
    "\n",
    "graphsubdatasetInfo0 = GraphSubdatasetInfo(\n",
    "    name=name, label=graphlabel[0], \n",
    "    graphCount=graphCountSmall, nodesPerGraph=manyNodesPerGraphSameDist, \n",
    "    nodeFeatMapping=nFeatMapping, nodeFeat=nodeFeat, \n",
    "    edgeFeatMapping=eFeatMapping, edgeFeat=edgeFeat)\n",
    "#graphsubdatasetInfo0.nodeFeat[nFeatMapping['P_t']] = P_t_SlightlyDiffGraphClass0\n",
    "graphsubdatasetInfo0.nodeFeat[nFeatMapping['Eta']] = Eta_SlightlyDiffGraphClass0\n",
    "\n",
    "name = f'GraphClass{graphlabel[1]}'\n",
    "graphsubdatasetInfo1 = deepcopy(graphsubdatasetInfo0)\n",
    "graphsubdatasetInfo1.name = name\n",
    "graphsubdatasetInfo1.label = graphlabel[1]\n",
    "#graphsubdatasetInfo1.nodeFeat[nFeatMapping['P_t']] = P_t_SlightlyDiffGraphClass1\n",
    "graphsubdatasetInfo1.nodeFeat[nFeatMapping['Eta']] = Eta_SlightlyDiffGraphClass1\n",
    "\n",
    "subdatasets = []\n",
    "subdatasets.append(graphsubdatasetInfo0)\n",
    "subdatasets.append(graphsubdatasetInfo1)\n",
    "\n",
    "graphdatasetInfo = GraphDatasetInfo(\n",
    "    name=datasetname,\n",
    "    splitPercentages=splitPercentages,\n",
    "    graphSubDatasetInfos=subdatasets\n",
    ")\n",
    "\n",
    "graphdatasetInfo.SaveToJsonfile(outputFolder, f'{graphdatasetInfo.name}.json')\n",
    "dataset = ToyDGLDataset(name=datasetname, info=graphdatasetInfo, shuffleDataset=True, save_dir=outputFolder)"
   ]
  },
  {
   "cell_type": "code",
   "execution_count": 6,
   "metadata": {},
   "outputs": [
    {
     "name": "stderr",
     "output_type": "stream",
     "text": [
      "(1/2) Generating graphs from SubDataset GraphClass0: 100%|██████████| 100/100 [00:00<00:00, 403.84it/s]\n",
      "(2/2) Generating graphs from SubDataset GraphClass1: 100%|██████████| 100/100 [00:00<00:00, 111.58it/s]\n"
     ]
    },
    {
     "name": "stdout",
     "output_type": "stream",
     "text": [
      "Calculating and saving histograms...\n",
      "Num Graph classes: 2\n",
      "Graph classes: [0, 1]\n",
      "Number of graphs: 200\n",
      "Number of all nodes in all graphs: 9454\n",
      "Number of all edges in all graphs: 511626\n",
      "Dim node features: 5\n",
      "Node feature keys: ['P_t', 'Eta', 'Phi', 'Mass', 'Type']\n",
      "Dim edge features: 3\n",
      "Edge feature keys: ['DeltaEta', 'DeltaPhi', 'RapiditySquared']\n",
      "Done saving data into cached files.\n"
     ]
    },
    {
     "data": {
      "text/plain": [
       "<Figure size 720x504 with 0 Axes>"
      ]
     },
     "metadata": {},
     "output_type": "display_data"
    }
   ],
   "source": [
    "datasetname = toyname + '_' + '011'\n",
    "outputFolder = path.join(rootOutputFolder, datasetname)\n",
    "Path(outputFolder).mkdir(parents=True, exist_ok=True)\n",
    "\n",
    "name = f'GraphClass{graphlabel[0]}'\n",
    "\n",
    "nodeFeat = deepcopy(defaultNodeFeat)\n",
    "\n",
    "graphsubdatasetInfo0 = GraphSubdatasetInfo(\n",
    "    name=name, label=graphlabel[0], \n",
    "    graphCount=graphCountSmall, nodesPerGraph=manyNodesPerGraph0, \n",
    "    nodeFeatMapping=nFeatMapping, nodeFeat=nodeFeat, \n",
    "    edgeFeatMapping=eFeatMapping, edgeFeat=edgeFeat)\n",
    "#graphsubdatasetInfo0.nodeFeat[nFeatMapping['P_t']] = P_t_SlightlyDiffGraphClass0\n",
    "graphsubdatasetInfo0.nodeFeat[nFeatMapping['Eta']] = Eta_SlightlyDiffGraphClass0\n",
    "\n",
    "name = f'GraphClass{graphlabel[1]}'\n",
    "graphsubdatasetInfo1 = deepcopy(graphsubdatasetInfo0)\n",
    "graphsubdatasetInfo1.name = name\n",
    "graphsubdatasetInfo1.label = graphlabel[1]\n",
    "graphsubdatasetInfo1.nodesPerGraph = manyNodesPerGraph1\n",
    "#graphsubdatasetInfo1.nodeFeat[nFeatMapping['P_t']] = P_t_SlightlyDiffGraphClass1\n",
    "graphsubdatasetInfo1.nodeFeat[nFeatMapping['Eta']] = Eta_SlightlyDiffGraphClass1\n",
    "\n",
    "subdatasets = []\n",
    "subdatasets.append(graphsubdatasetInfo0)\n",
    "subdatasets.append(graphsubdatasetInfo1)\n",
    "\n",
    "graphdatasetInfo = GraphDatasetInfo(\n",
    "    name=datasetname,\n",
    "    splitPercentages=splitPercentages,\n",
    "    graphSubDatasetInfos=subdatasets\n",
    ")\n",
    "\n",
    "graphdatasetInfo.SaveToJsonfile(outputFolder, f'{graphdatasetInfo.name}.json')\n",
    "dataset = ToyDGLDataset(name=datasetname, info=graphdatasetInfo, shuffleDataset=True, save_dir=outputFolder)"
   ]
  },
  {
   "cell_type": "code",
   "execution_count": 7,
   "metadata": {},
   "outputs": [
    {
     "name": "stderr",
     "output_type": "stream",
     "text": [
      "(1/2) Generating graphs from SubDataset GraphClass0: 100%|██████████| 2000/2000 [00:01<00:00, 1047.48it/s]\n",
      "(2/2) Generating graphs from SubDataset GraphClass1: 100%|██████████| 2000/2000 [00:01<00:00, 1050.99it/s]\n"
     ]
    },
    {
     "name": "stdout",
     "output_type": "stream",
     "text": [
      "Calculating and saving histograms...\n",
      "Num Graph classes: 2\n",
      "Graph classes: [0, 1]\n",
      "Number of graphs: 4000\n",
      "Number of all nodes in all graphs: 38049\n",
      "Number of all edges in all graphs: 328116\n",
      "Dim node features: 5\n",
      "Node feature keys: ['P_t', 'Eta', 'Phi', 'Mass', 'Type']\n",
      "Dim edge features: 3\n",
      "Edge feature keys: ['DeltaEta', 'DeltaPhi', 'RapiditySquared']\n",
      "Done saving data into cached files.\n"
     ]
    },
    {
     "data": {
      "text/plain": [
       "<Figure size 720x504 with 0 Axes>"
      ]
     },
     "metadata": {},
     "output_type": "display_data"
    }
   ],
   "source": [
    "datasetname = toyname + '_' + '100'\n",
    "outputFolder = path.join(rootOutputFolder, datasetname)\n",
    "Path(outputFolder).mkdir(parents=True, exist_ok=True)\n",
    "\n",
    "name = f'GraphClass{graphlabel[0]}'\n",
    "\n",
    "nodeFeat = deepcopy(defaultNodeFeat)\n",
    "\n",
    "graphsubdatasetInfo0 = GraphSubdatasetInfo(\n",
    "    name=name, label=graphlabel[0], \n",
    "    graphCount=graphCountLarge, nodesPerGraph=fewNodesPerGraphSameDist, \n",
    "    nodeFeatMapping=nFeatMapping, nodeFeat=nodeFeat, \n",
    "    edgeFeatMapping=eFeatMapping, edgeFeat=edgeFeat)\n",
    "#graphsubdatasetInfo0.nodeFeat[nFeatMapping['P_t']] = P_t_SlightlyDiffGraphClass0\n",
    "graphsubdatasetInfo0.nodeFeat[nFeatMapping['Eta']] = Eta_SlightlyDiffGraphClass0\n",
    "\n",
    "name = f'GraphClass{graphlabel[1]}'\n",
    "graphsubdatasetInfo1 = deepcopy(graphsubdatasetInfo0)\n",
    "graphsubdatasetInfo1.name = name\n",
    "graphsubdatasetInfo1.label = graphlabel[1]\n",
    "#graphsubdatasetInfo1.nodeFeat[nFeatMapping['P_t']] = P_t_SlightlyDiffGraphClass1\n",
    "graphsubdatasetInfo1.nodeFeat[nFeatMapping['Eta']] = Eta_SlightlyDiffGraphClass1\n",
    "\n",
    "subdatasets = []\n",
    "subdatasets.append(graphsubdatasetInfo0)\n",
    "subdatasets.append(graphsubdatasetInfo1)\n",
    "\n",
    "graphdatasetInfo = GraphDatasetInfo(\n",
    "    name=datasetname,\n",
    "    splitPercentages=splitPercentages,\n",
    "    graphSubDatasetInfos=subdatasets\n",
    ")\n",
    "\n",
    "graphdatasetInfo.SaveToJsonfile(outputFolder, f'{graphdatasetInfo.name}.json')\n",
    "dataset = ToyDGLDataset(name=datasetname, info=graphdatasetInfo, shuffleDataset=True, save_dir=outputFolder)"
   ]
  },
  {
   "cell_type": "code",
   "execution_count": 8,
   "metadata": {},
   "outputs": [
    {
     "name": "stderr",
     "output_type": "stream",
     "text": [
      "(1/2) Generating graphs from SubDataset GraphClass0: 100%|██████████| 2000/2000 [00:01<00:00, 1119.28it/s]\n",
      "(2/2) Generating graphs from SubDataset GraphClass1: 100%|██████████| 2000/2000 [00:02<00:00, 947.53it/s]\n"
     ]
    },
    {
     "name": "stdout",
     "output_type": "stream",
     "text": [
      "Calculating and saving histograms...\n",
      "Num Graph classes: 2\n",
      "Graph classes: [0, 1]\n",
      "Number of graphs: 4000\n",
      "Number of all nodes in all graphs: 35975\n",
      "Number of all edges in all graphs: 340762\n",
      "Dim node features: 5\n",
      "Node feature keys: ['P_t', 'Eta', 'Phi', 'Mass', 'Type']\n",
      "Dim edge features: 3\n",
      "Edge feature keys: ['DeltaEta', 'DeltaPhi', 'RapiditySquared']\n",
      "Done saving data into cached files.\n"
     ]
    },
    {
     "data": {
      "text/plain": [
       "<Figure size 720x504 with 0 Axes>"
      ]
     },
     "metadata": {},
     "output_type": "display_data"
    }
   ],
   "source": [
    "datasetname = toyname + '_' + '101'\n",
    "outputFolder = path.join(rootOutputFolder, datasetname)\n",
    "Path(outputFolder).mkdir(parents=True, exist_ok=True)\n",
    "\n",
    "name = f'GraphClass{graphlabel[0]}'\n",
    "\n",
    "nodeFeat = deepcopy(defaultNodeFeat)\n",
    "\n",
    "graphsubdatasetInfo0 = GraphSubdatasetInfo(\n",
    "    name=name, label=graphlabel[0], \n",
    "    graphCount=graphCountLarge, nodesPerGraph=fewNodesPerGraph0, \n",
    "    nodeFeatMapping=nFeatMapping, nodeFeat=nodeFeat, \n",
    "    edgeFeatMapping=eFeatMapping, edgeFeat=edgeFeat)\n",
    "#graphsubdatasetInfo0.nodeFeat[nFeatMapping['P_t']] = P_t_SlightlyDiffGraphClass0\n",
    "graphsubdatasetInfo0.nodeFeat[nFeatMapping['Eta']] = Eta_SlightlyDiffGraphClass0\n",
    "\n",
    "name = f'GraphClass{graphlabel[1]}'\n",
    "graphsubdatasetInfo1 = deepcopy(graphsubdatasetInfo0)\n",
    "graphsubdatasetInfo1.name = name\n",
    "graphsubdatasetInfo1.label = graphlabel[1]\n",
    "graphsubdatasetInfo1.nodesPerGraph = fewNodesPerGraph1\n",
    "#graphsubdatasetInfo1.nodeFeat[nFeatMapping['P_t']] = P_t_SlightlyDiffGraphClass1\n",
    "graphsubdatasetInfo1.nodeFeat[nFeatMapping['Eta']] = Eta_SlightlyDiffGraphClass1\n",
    "\n",
    "subdatasets = []\n",
    "subdatasets.append(graphsubdatasetInfo0)\n",
    "subdatasets.append(graphsubdatasetInfo1)\n",
    "\n",
    "graphdatasetInfo = GraphDatasetInfo(\n",
    "    name=datasetname,\n",
    "    splitPercentages=splitPercentages,\n",
    "    graphSubDatasetInfos=subdatasets\n",
    ")\n",
    "\n",
    "graphdatasetInfo.SaveToJsonfile(outputFolder, f'{graphdatasetInfo.name}.json')\n",
    "dataset = ToyDGLDataset(name=datasetname, info=graphdatasetInfo, shuffleDataset=True, save_dir=outputFolder)"
   ]
  },
  {
   "cell_type": "code",
   "execution_count": 9,
   "metadata": {},
   "outputs": [
    {
     "name": "stderr",
     "output_type": "stream",
     "text": [
      "(1/2) Generating graphs from SubDataset GraphClass0: 100%|██████████| 2000/2000 [00:17<00:00, 113.29it/s]\n",
      "(2/2) Generating graphs from SubDataset GraphClass1: 100%|██████████| 2000/2000 [00:17<00:00, 114.70it/s]\n"
     ]
    },
    {
     "name": "stdout",
     "output_type": "stream",
     "text": [
      "Calculating and saving histograms...\n",
      "Num Graph classes: 2\n",
      "Graph classes: [0, 1]\n",
      "Number of graphs: 4000\n",
      "Number of all nodes in all graphs: 258854\n",
      "Number of all edges in all graphs: 16897278\n",
      "Dim node features: 5\n",
      "Node feature keys: ['P_t', 'Eta', 'Phi', 'Mass', 'Type']\n",
      "Dim edge features: 3\n",
      "Edge feature keys: ['DeltaEta', 'DeltaPhi', 'RapiditySquared']\n",
      "Done saving data into cached files.\n"
     ]
    },
    {
     "data": {
      "text/plain": [
       "<Figure size 720x504 with 0 Axes>"
      ]
     },
     "metadata": {},
     "output_type": "display_data"
    }
   ],
   "source": [
    "datasetname = toyname + '_' + '110'\n",
    "outputFolder = path.join(rootOutputFolder, datasetname)\n",
    "Path(outputFolder).mkdir(parents=True, exist_ok=True)\n",
    "\n",
    "name = f'GraphClass{graphlabel[0]}'\n",
    "\n",
    "nodeFeat = deepcopy(defaultNodeFeat)\n",
    "\n",
    "graphsubdatasetInfo0 = GraphSubdatasetInfo(\n",
    "    name=name, label=graphlabel[0], \n",
    "    graphCount=graphCountLarge, nodesPerGraph=manyNodesPerGraphSameDist, \n",
    "    nodeFeatMapping=nFeatMapping, nodeFeat=nodeFeat, \n",
    "    edgeFeatMapping=eFeatMapping, edgeFeat=edgeFeat)\n",
    "#graphsubdatasetInfo0.nodeFeat[nFeatMapping['P_t']] = P_t_SlightlyDiffGraphClass0\n",
    "graphsubdatasetInfo0.nodeFeat[nFeatMapping['Eta']] = Eta_SlightlyDiffGraphClass0\n",
    "\n",
    "name = f'GraphClass{graphlabel[1]}'\n",
    "graphsubdatasetInfo1 = deepcopy(graphsubdatasetInfo0)\n",
    "graphsubdatasetInfo1.name = name\n",
    "graphsubdatasetInfo1.label = graphlabel[1]\n",
    "#graphsubdatasetInfo1.nodeFeat[nFeatMapping['P_t']] = P_t_SlightlyDiffGraphClass1\n",
    "graphsubdatasetInfo1.nodeFeat[nFeatMapping['Eta']] = Eta_SlightlyDiffGraphClass1\n",
    "\n",
    "subdatasets = []\n",
    "subdatasets.append(graphsubdatasetInfo0)\n",
    "subdatasets.append(graphsubdatasetInfo1)\n",
    "\n",
    "graphdatasetInfo = GraphDatasetInfo(\n",
    "    name=datasetname,\n",
    "    splitPercentages=splitPercentages,\n",
    "    graphSubDatasetInfos=subdatasets\n",
    ")\n",
    "\n",
    "graphdatasetInfo.SaveToJsonfile(outputFolder, f'{graphdatasetInfo.name}.json')\n",
    "dataset = ToyDGLDataset(name=datasetname, info=graphdatasetInfo, shuffleDataset=True, save_dir=outputFolder)"
   ]
  },
  {
   "cell_type": "code",
   "execution_count": 10,
   "metadata": {},
   "outputs": [
    {
     "name": "stderr",
     "output_type": "stream",
     "text": [
      "(1/2) Generating graphs from SubDataset GraphClass0: 100%|██████████| 2000/2000 [00:05<00:00, 387.03it/s]\n",
      "(2/2) Generating graphs from SubDataset GraphClass1: 100%|██████████| 2000/2000 [00:16<00:00, 118.04it/s]\n"
     ]
    },
    {
     "name": "stdout",
     "output_type": "stream",
     "text": [
      "Calculating and saving histograms...\n",
      "Num Graph classes: 2\n",
      "Graph classes: [0, 1]\n",
      "Number of graphs: 4000\n",
      "Number of all nodes in all graphs: 188734\n",
      "Number of all edges in all graphs: 10285032\n",
      "Dim node features: 5\n",
      "Node feature keys: ['P_t', 'Eta', 'Phi', 'Mass', 'Type']\n",
      "Dim edge features: 3\n",
      "Edge feature keys: ['DeltaEta', 'DeltaPhi', 'RapiditySquared']\n",
      "Done saving data into cached files.\n"
     ]
    },
    {
     "data": {
      "text/plain": [
       "<Figure size 720x504 with 0 Axes>"
      ]
     },
     "metadata": {},
     "output_type": "display_data"
    }
   ],
   "source": [
    "datasetname = toyname + '_' + '111'\n",
    "outputFolder = path.join(rootOutputFolder, datasetname)\n",
    "Path(outputFolder).mkdir(parents=True, exist_ok=True)\n",
    "\n",
    "name = f'GraphClass{graphlabel[0]}'\n",
    "\n",
    "nodeFeat = deepcopy(defaultNodeFeat)\n",
    "\n",
    "graphsubdatasetInfo0 = GraphSubdatasetInfo(\n",
    "    name=name, label=graphlabel[0], \n",
    "    graphCount=graphCountLarge, nodesPerGraph=manyNodesPerGraph0, \n",
    "    nodeFeatMapping=nFeatMapping, nodeFeat=nodeFeat, \n",
    "    edgeFeatMapping=eFeatMapping, edgeFeat=edgeFeat)\n",
    "#graphsubdatasetInfo0.nodeFeat[nFeatMapping['P_t']] = P_t_SlightlyDiffGraphClass0\n",
    "graphsubdatasetInfo0.nodeFeat[nFeatMapping['Eta']] = Eta_SlightlyDiffGraphClass0\n",
    "\n",
    "name = f'GraphClass{graphlabel[1]}'\n",
    "graphsubdatasetInfo1 = deepcopy(graphsubdatasetInfo0)\n",
    "graphsubdatasetInfo1.name = name\n",
    "graphsubdatasetInfo1.label = graphlabel[1]\n",
    "graphsubdatasetInfo1.nodesPerGraph = manyNodesPerGraph1\n",
    "##graphsubdatasetInfo1.nodeFeat[nFeatMapping['P_t']] = P_t_SlightlyDiffGraphClass1\n",
    "graphsubdatasetInfo1.nodeFeat[nFeatMapping['Eta']] = Eta_SlightlyDiffGraphClass1\n",
    "\n",
    "subdatasets = []\n",
    "subdatasets.append(graphsubdatasetInfo0)\n",
    "subdatasets.append(graphsubdatasetInfo1)\n",
    "\n",
    "graphdatasetInfo = GraphDatasetInfo(\n",
    "    name=datasetname,\n",
    "    splitPercentages=splitPercentages,\n",
    "    graphSubDatasetInfos=subdatasets\n",
    ")\n",
    "\n",
    "graphdatasetInfo.SaveToJsonfile(outputFolder, f'{graphdatasetInfo.name}.json')\n",
    "dataset = ToyDGLDataset(name=datasetname, info=graphdatasetInfo, shuffleDataset=True, save_dir=outputFolder)"
   ]
  },
  {
   "cell_type": "raw",
   "metadata": {},
   "source": [
    "rng = np.random.default_rng(seed=42)\n",
    "nxgraphs = graphdatasetInfo.ToNetworkxGraphList()\n",
    "\n",
    "print(f'Edge Features \\n nx: {list(nxgraphs[0].edges.data())[0]},\\n dgl: {dglgraph.edata}')\n",
    "\n",
    "print(f'Graphs in the dataset: {len(nxgraphs)}')\n",
    "print('Node features of the first graph in the graph list: ')\n",
    "for node in nxgraphs[0].nodes(data=True):\n",
    "    print(node)\n",
    "\n",
    "print(\"Fully connected graph with edge features: \")\n",
    "print(nxgraphs[0].edges.data())\n",
    "\n",
    "pos = nx.spring_layout(nxgraphs[0])\n",
    "options = {\n",
    "    \"node_color\": \"#A0CBE2\",\n",
    "    \"width\": 0.5,\n",
    "    \"with_labels\": True,\n",
    "    \"node_size\": 600\n",
    "}\n",
    "plt.figure(1,figsize=(10,10)) \n",
    "nx.draw(nxgraphs[0], pos, **options)\n",
    "\n",
    "dglgraph = dgl.from_networkx(\n",
    "    nxgraphs[0], \n",
    "    node_attrs=nodeFeatures.keys(), \n",
    "    edge_attrs=edgeFeatures.keys())\n",
    "print(f'Node count - nx: {nxgraphs[0].number_of_nodes()}, dgl: {dglgraph.num_nodes()}')\n",
    "print(f'Edge count - nx: {nxgraphs[0].number_of_edges()}, dgl: {dglgraph.num_edges()}')\n",
    "\n",
    "print(f'Node Features \\n nx: {nxgraphs[0].nodes(data=True)[0]},\\n dgl: {dglgraph.ndata}')\n",
    "\n",
    "print(dglgraph)"
   ]
  }
 ],
 "metadata": {
  "kernelspec": {
   "display_name": "venv",
   "language": "python",
   "name": "venv"
  },
  "language_info": {
   "codemirror_mode": {
    "name": "ipython",
    "version": 3
   },
   "file_extension": ".py",
   "mimetype": "text/x-python",
   "name": "python",
   "nbconvert_exporter": "python",
   "pygments_lexer": "ipython3",
   "version": "3.8.5"
  }
 },
 "nbformat": 4,
 "nbformat_minor": 4
}

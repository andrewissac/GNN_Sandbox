{
 "cells": [
  {
   "cell_type": "code",
   "execution_count": 1,
   "metadata": {},
   "outputs": [
    {
     "name": "stderr",
     "output_type": "stream",
     "text": [
      "Using backend: pytorch\n"
     ]
    }
   ],
   "source": [
    "import dgl\n",
    "import math\n",
    "import torch\n",
    "import numpy as np\n",
    "import networkx as nx\n",
    "from os import path\n",
    "from pathlib import Path\n",
    "from dgl.data import DGLDataset\n",
    "from GraphDatasetInfo import (DistributionType, Split, Distribution, GraphSubdatasetInfo, GraphDatasetInfo)\n",
    "\n",
    "datasetname = 'ToyDataset01'\n",
    "outputFolder = path.join('/home/andrew/GNN_Sandbox/GraphDatasets', datasetname)\n",
    "Path(outputFolder).mkdir(parents=True, exist_ok=True)"
   ]
  },
  {
   "cell_type": "code",
   "execution_count": 2,
   "metadata": {},
   "outputs": [],
   "source": [
    "graphlabel = 0\n",
    "name = f'GraphClass{graphlabel}'\n",
    "description = 'Equal distribution of all node features'\n",
    "graphCount = 10\n",
    "\n",
    "nodesPerGraph = Distribution(\n",
    "    distributionType=DistributionType.TruncNorm, \n",
    "    minimum=10, maximum=120, \n",
    "    mean=30, standardDeviation=10)\n",
    "\n",
    "nodeFeatures = { \n",
    "    'P_t': Distribution(10, 100, DistributionType.Uniform),\n",
    "    'Eta': Distribution(-10, 10, DistributionType.Uniform),\n",
    "    'Phi': Distribution(0, 2 * math.pi, DistributionType.Uniform),\n",
    "    'Mass': Distribution(0.001, 1, DistributionType.Uniform),\n",
    "    'Type': Distribution(0, 2, DistributionType.Uniform, roundToNearestInt=True)\n",
    "}\n",
    "\n",
    "edgeFeatures = {\n",
    "    'DeltaPhi': None,\n",
    "    'DeltaEta': None,\n",
    "    'RapiditySquared': None\n",
    "}\n",
    "\n",
    "graphsubdatasetInfo1 = GraphSubdatasetInfo(\n",
    "    name, description, graphlabel, graphCount, nodesPerGraph, nodeFeatures, edgeFeatures)"
   ]
  },
  {
   "cell_type": "code",
   "execution_count": 3,
   "metadata": {},
   "outputs": [],
   "source": [
    "graphlabel = 1\n",
    "name = f'GraphClass{graphlabel}'\n",
    "\n",
    "nodesPerGraph2 = Distribution(\n",
    "    distributionType=DistributionType.TruncNorm, \n",
    "    minimum=10, maximum=120, \n",
    "    mean=65,standardDeviation=10)\n",
    "\n",
    "from copy import deepcopy\n",
    "nodeFeatures2 = deepcopy(nodeFeatures)\n",
    "nodeFeatures2['P_t'] = Distribution(60, 80, DistributionType.Uniform)\n",
    "\n",
    "graphsubdatasetInfo2 = GraphSubdatasetInfo(\n",
    "    name, description, graphlabel, graphCount, nodesPerGraph2, nodeFeatures2, edgeFeatures)"
   ]
  },
  {
   "cell_type": "code",
   "execution_count": 4,
   "metadata": {},
   "outputs": [],
   "source": [
    "subdatasets = []\n",
    "subdatasets.append(graphsubdatasetInfo2)\n",
    "subdatasets.append(graphsubdatasetInfo1)\n",
    "\n",
    "graphdatasetInfo = GraphDatasetInfo(\n",
    "    name=datasetname,\n",
    "    description='Two equally sized sub datasets with only one difference \\(number of nodes per graph\\)',\n",
    "    splitPercentages={'train': 0.6, 'valid': 0.2, 'test': 0.2},\n",
    "    graphSubDatasetInfos=subdatasets\n",
    ")\n",
    "\n",
    "graphdatasetInfo.SaveToJsonfile(outputFolder, f'{graphdatasetInfo.Name}.json')\n",
    "\n",
    "#can be loaded from json file like below:\n",
    "graphdatasetInfo = GraphDatasetInfo.LoadFromJsonfile(path.join(outputFolder, f'{graphdatasetInfo.Name}.json'))"
   ]
  },
  {
   "cell_type": "code",
   "execution_count": 5,
   "metadata": {},
   "outputs": [
    {
     "name": "stderr",
     "output_type": "stream",
     "text": [
      "(1/2) Generating graphs from SubDataset GraphClass1: 100%|██████████| 10/10 [00:00<00:00, 47.76it/s]\n",
      "(2/2) Generating graphs from SubDataset GraphClass0: 100%|██████████| 10/10 [00:00<00:00, 201.07it/s]\n"
     ]
    },
    {
     "name": "stdout",
     "output_type": "stream",
     "text": [
      "Calculating and saving histograms...\n",
      "Num Graph classes: 2\n",
      "Graph classes: [0, 1]\n",
      "Number of graphs: 20\n",
      "Number of all nodes in all graphs: 916\n",
      "Number of all edges in all graphs: 48304\n",
      "Dim node features: 5\n",
      "Node feature keys: ['P_t', 'Eta', 'Phi', 'Mass', 'Type']\n",
      "Dim edge features: 3\n",
      "Edge feature keys: ['DeltaPhi', 'DeltaEta', 'RapiditySquared']\n",
      "Done saving data into cached files.\n"
     ]
    },
    {
     "data": {
      "text/plain": [
       "<Figure size 720x504 with 0 Axes>"
      ]
     },
     "metadata": {},
     "output_type": "display_data"
    }
   ],
   "source": [
    "from ToyDGLDataset import ToyDGLDataset\n",
    "dataset = ToyDGLDataset(name=datasetname, info=graphdatasetInfo, shuffleDataset=True, save_dir=outputFolder)"
   ]
  },
  {
   "cell_type": "markdown",
   "metadata": {},
   "source": [
    "rng = np.random.default_rng(seed=42)\n",
    "nxgraphs = graphdatasetInfo.ToNetworkxGraphList()\n",
    "\n",
    "print(f'Edge Features \\n nx: {list(nxgraphs[0].edges.data())[0]},\\n dgl: {dglgraph.edata}')\n",
    "\n",
    "print(f'Graphs in the dataset: {len(nxgraphs)}')\n",
    "print('Node features of the first graph in the graph list: ')\n",
    "for node in nxgraphs[0].nodes(data=True):\n",
    "    print(node)\n",
    "\n",
    "print(\"Fully connected graph with edge features: \")\n",
    "print(nxgraphs[0].edges.data())\n",
    "\n",
    "pos = nx.spring_layout(nxgraphs[0])\n",
    "options = {\n",
    "    \"node_color\": \"#A0CBE2\",\n",
    "    \"width\": 0.5,\n",
    "    \"with_labels\": True,\n",
    "    \"node_size\": 600\n",
    "}\n",
    "plt.figure(1,figsize=(10,10)) \n",
    "nx.draw(nxgraphs[0], pos, **options)\n",
    "\n",
    "dglgraph = dgl.from_networkx(\n",
    "    nxgraphs[0], \n",
    "    node_attrs=nodeFeatures.keys(), \n",
    "    edge_attrs=edgeFeatures.keys())\n",
    "print(f'Node count - nx: {nxgraphs[0].number_of_nodes()}, dgl: {dglgraph.num_nodes()}')\n",
    "print(f'Edge count - nx: {nxgraphs[0].number_of_edges()}, dgl: {dglgraph.num_edges()}')\n",
    "\n",
    "print(f'Node Features \\n nx: {nxgraphs[0].nodes(data=True)[0]},\\n dgl: {dglgraph.ndata}')\n",
    "\n",
    "print(dglgraph)"
   ]
  }
 ],
 "metadata": {
  "kernelspec": {
   "display_name": "venv",
   "language": "python",
   "name": "venv"
  },
  "language_info": {
   "codemirror_mode": {
    "name": "ipython",
    "version": 3
   },
   "file_extension": ".py",
   "mimetype": "text/x-python",
   "name": "python",
   "nbconvert_exporter": "python",
   "pygments_lexer": "ipython3",
   "version": "3.8.5"
  }
 },
 "nbformat": 4,
 "nbformat_minor": 4
}

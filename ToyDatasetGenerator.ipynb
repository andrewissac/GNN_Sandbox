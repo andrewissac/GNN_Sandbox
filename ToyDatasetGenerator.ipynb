{
 "cells": [
  {
   "cell_type": "code",
   "execution_count": 1,
   "metadata": {},
   "outputs": [
    {
     "name": "stderr",
     "output_type": "stream",
     "text": [
      "Using backend: pytorch\n"
     ]
    }
   ],
   "source": [
    "import dgl\n",
    "import math\n",
    "import torch\n",
    "import numpy as np\n",
    "import networkx as nx\n",
    "from os import path\n",
    "from pathlib import Path\n",
    "from copy import deepcopy\n",
    "from dgl.data import DGLDataset\n",
    "from ToyDGLDataset import ToyDGLDataset\n",
    "from GraphDatasetInfo import (DistributionType, Distribution, GraphSubdatasetInfo, GraphDatasetInfo)\n"
   ]
  },
  {
   "cell_type": "code",
   "execution_count": 2,
   "metadata": {},
   "outputs": [],
   "source": [
    "# default stuff\n",
    "toyname = 'Toy0'\n",
    "rootOutputFolder = path.join('/home/andrew/GNN_Sandbox/GraphToyDatasets', toyname)\n",
    "graphCountLarge = 2000\n",
    "graphCountSmall = 100\n",
    "\n",
    "fewNodesPerGraph0 = Distribution(\n",
    "    distributionType=DistributionType.truncnorm, \n",
    "    minimum=1, maximum=10, \n",
    "    mean=6, standardDeviation=1)\n",
    "\n",
    "fewNodesPerGraph1 = Distribution(\n",
    "    distributionType=DistributionType.truncnorm, \n",
    "    minimum=5, maximum=20, \n",
    "    mean=13, standardDeviation=1)\n",
    "\n",
    "fewNodesPerGraphSameDist = Distribution(\n",
    "    distributionType=DistributionType.truncnorm, \n",
    "    minimum=1, maximum=20, \n",
    "    mean=10, standardDeviation=1)\n",
    "\n",
    "manyNodesPerGraph0 = Distribution(\n",
    "    distributionType=DistributionType.truncnorm, \n",
    "    minimum=10, maximum=120, \n",
    "    mean=30, standardDeviation=10)\n",
    "\n",
    "manyNodesPerGraph1 = Distribution(\n",
    "    distributionType=DistributionType.truncnorm, \n",
    "    minimum=10, maximum=120, \n",
    "    mean=65, standardDeviation=10)\n",
    "\n",
    "manyNodesPerGraphSameDist = Distribution(\n",
    "    distributionType=DistributionType.truncnorm, \n",
    "    minimum=10, maximum=120, \n",
    "    mean=65, standardDeviation=10)\n",
    "\n",
    "nFeatMapping = {'P_t': 0, 'Eta': 1, 'Phi': 2, 'Mass': 3, 'Type': 4}\n",
    "\n",
    "defaultNodeFeat = [\n",
    "    Distribution(10, 100, DistributionType.uniform), # index 0 -> P_t\n",
    "    Distribution(-10, 10, DistributionType.uniform), # index 1 -> Eta\n",
    "    Distribution(0, 2 * math.pi, DistributionType.uniform), # index 2 -> Phi\n",
    "    Distribution(0.001, 1, DistributionType.uniform), # index 3 -> Mass\n",
    "    Distribution(0, 2, DistributionType.uniform, roundToNearestInt=True) # index 4 -> Type\n",
    "]\n",
    "\n",
    "eFeatMapping = {'DeltaEta': 0, 'DeltaPhi': 1, 'RapiditySquared': 2}\n",
    "\n",
    "edgeFeat = [\n",
    "    None, # index 0 -> DeltaEta\n",
    "    None, # index 1 -> DeltaPhi\n",
    "    None # index 2 -> RapiditySquared\n",
    "]\n",
    "\n",
    "graphlabel = [0, 1]\n",
    "splitPercentages = {'train': 0.6, 'valid': 0.2, 'test': 0.2}"
   ]
  },
  {
   "cell_type": "code",
   "execution_count": 3,
   "metadata": {},
   "outputs": [
    {
     "name": "stdout",
     "output_type": "stream",
     "text": [
      "File Toy0_fewGraphs_fewNodes_SameNodeCountDistributions.json already exists! Do you want to overwrite the file? (y/n)\n",
      "y\n"
     ]
    },
    {
     "name": "stderr",
     "output_type": "stream",
     "text": [
      "(1/2) Generating graphs from SubDataset GraphClass1: 100%|██████████| 100/100 [00:00<00:00, 2028.37it/s]\n",
      "(2/2) Generating graphs from SubDataset GraphClass0: 100%|██████████| 100/100 [00:00<00:00, 2150.30it/s]"
     ]
    },
    {
     "name": "stdout",
     "output_type": "stream",
     "text": [
      "File Toy0_fewGraphs_fewNodes_SameNodeCountDistributions.json overwritten.\n",
      "Calculating and saving histograms...\n",
      "[100, 10, 6, 1, 2]\n",
      "[10, -10, 0, 0, 0]\n",
      "[20, 6, 419]\n",
      "[0, 0, 0]\n",
      "{'P_t': array([ 10.        ,  14.73684211,  19.47368421,  24.21052632,\n",
      "        28.94736842,  33.68421053,  38.42105263,  43.15789474,\n",
      "        47.89473684,  52.63157895,  57.36842105,  62.10526316,\n",
      "        66.84210526,  71.57894737,  76.31578947,  81.05263158,\n",
      "        85.78947368,  90.52631579,  95.26315789, 100.        ]), 'Eta': array([-10.        ,  -8.94736842,  -7.89473684,  -6.84210526,\n",
      "        -5.78947368,  -4.73684211,  -3.68421053,  -2.63157895,\n",
      "        -1.57894737,  -0.52631579,   0.52631579,   1.57894737,\n",
      "         2.63157895,   3.68421053,   4.73684211,   5.78947368,\n",
      "         6.84210526,   7.89473684,   8.94736842,  10.        ]), 'Phi': array([0.        , 0.31578947, 0.63157895, 0.94736842, 1.26315789,\n",
      "       1.57894737, 1.89473684, 2.21052632, 2.52631579, 2.84210526,\n",
      "       3.15789474, 3.47368421, 3.78947368, 4.10526316, 4.42105263,\n",
      "       4.73684211, 5.05263158, 5.36842105, 5.68421053, 6.        ]), 'Mass': array([0.        , 0.05263158, 0.10526316, 0.15789474, 0.21052632,\n",
      "       0.26315789, 0.31578947, 0.36842105, 0.42105263, 0.47368421,\n",
      "       0.52631579, 0.57894737, 0.63157895, 0.68421053, 0.73684211,\n",
      "       0.78947368, 0.84210526, 0.89473684, 0.94736842, 1.        ]), 'Type': array([0.        , 0.10526316, 0.21052632, 0.31578947, 0.42105263,\n",
      "       0.52631579, 0.63157895, 0.73684211, 0.84210526, 0.94736842,\n",
      "       1.05263158, 1.15789474, 1.26315789, 1.36842105, 1.47368421,\n",
      "       1.57894737, 1.68421053, 1.78947368, 1.89473684, 2.        ]), 'DeltaEta': array([ 0.        ,  1.05263158,  2.10526316,  3.15789474,  4.21052632,\n",
      "        5.26315789,  6.31578947,  7.36842105,  8.42105263,  9.47368421,\n",
      "       10.52631579, 11.57894737, 12.63157895, 13.68421053, 14.73684211,\n",
      "       15.78947368, 16.84210526, 17.89473684, 18.94736842, 20.        ]), 'DeltaPhi': array([0.        , 0.31578947, 0.63157895, 0.94736842, 1.26315789,\n",
      "       1.57894737, 1.89473684, 2.21052632, 2.52631579, 2.84210526,\n",
      "       3.15789474, 3.47368421, 3.78947368, 4.10526316, 4.42105263,\n",
      "       4.73684211, 5.05263158, 5.36842105, 5.68421053, 6.        ]), 'RapiditySquared': array([  0.        ,  22.05263158,  44.10526316,  66.15789474,\n",
      "        88.21052632, 110.26315789, 132.31578947, 154.36842105,\n",
      "       176.42105263, 198.47368421, 220.52631579, 242.57894737,\n",
      "       264.63157895, 286.68421053, 308.73684211, 330.78947368,\n",
      "       352.84210526, 374.89473684, 396.94736842, 419.        ]), 'NodeCount': array([ 7.        ,  7.26315789,  7.52631579,  7.78947368,  8.05263158,\n",
      "        8.31578947,  8.57894737,  8.84210526,  9.10526316,  9.36842105,\n",
      "        9.63157895,  9.89473684, 10.15789474, 10.42105263, 10.68421053,\n",
      "       10.94736842, 11.21052632, 11.47368421, 11.73684211, 12.        ])}\n"
     ]
    },
    {
     "name": "stderr",
     "output_type": "stream",
     "text": [
      "\n"
     ]
    },
    {
     "name": "stdout",
     "output_type": "stream",
     "text": [
      "Num Graph classes: 2\n",
      "Graph classes: [0, 1]\n",
      "Number of graphs: 200\n",
      "Number of all nodes in all graphs: 1903\n",
      "Number of all edges in all graphs: 16394\n",
      "Dim node features: 5\n",
      "Node feature keys: ['P_t', 'Eta', 'Phi', 'Mass', 'Type']\n",
      "Dim edge features: 3\n",
      "Edge feature keys: ['DeltaEta', 'DeltaPhi', 'RapiditySquared']\n",
      "Done saving data into cached files.\n"
     ]
    },
    {
     "data": {
      "text/plain": [
       "<Figure size 720x504 with 0 Axes>"
      ]
     },
     "metadata": {},
     "output_type": "display_data"
    }
   ],
   "source": [
    "datasetname = toyname + '_' + 'fewGraphs_fewNodes_SameNodeCountDistributions'\n",
    "outputFolder = path.join(rootOutputFolder, datasetname)\n",
    "Path(outputFolder).mkdir(parents=True, exist_ok=True)\n",
    "\n",
    "name = f'GraphClass{graphlabel[0]}'\n",
    "\n",
    "graphsubdatasetInfo0 = GraphSubdatasetInfo(\n",
    "    name=name, label=graphlabel[0], \n",
    "    graphCount=graphCountSmall, nodesPerGraph=fewNodesPerGraphSameDist, \n",
    "    nodeFeatMapping=nFeatMapping, nodeFeat=defaultNodeFeat, \n",
    "    edgeFeatMapping=eFeatMapping, edgeFeat=edgeFeat)\n",
    "\n",
    "name = f'GraphClass{graphlabel[1]}'\n",
    "\n",
    "graphsubdatasetInfo1 = deepcopy(graphsubdatasetInfo0)\n",
    "graphsubdatasetInfo1.name = name\n",
    "graphsubdatasetInfo1.label = graphlabel[1]\n",
    "#graphsubdatasetInfo1.nodeFeat[nFeatMapping['P_t']] = Distribution(60, 80, DistributionType.uniform)\n",
    "\n",
    "subdatasets = []\n",
    "subdatasets.append(graphsubdatasetInfo1)\n",
    "subdatasets.append(graphsubdatasetInfo0)\n",
    "\n",
    "graphdatasetInfo = GraphDatasetInfo(\n",
    "    name=datasetname,\n",
    "    splitPercentages=splitPercentages,\n",
    "    graphSubDatasetInfos=subdatasets\n",
    ")\n",
    "\n",
    "graphdatasetInfo.SaveToJsonfile(outputFolder, f'{graphdatasetInfo.name}.json')\n",
    "dataset = ToyDGLDataset(name=datasetname, info=graphdatasetInfo, shuffleDataset=True, save_dir=outputFolder)\n",
    "\n",
    "#can be loaded from json file like below:\n",
    "#graphdatasetInfo = GraphDatasetInfo.LoadFromJsonfile(path.join(outputFolder, f'{graphdatasetInfo.name}.json'))"
   ]
  },
  {
   "cell_type": "code",
   "execution_count": 4,
   "metadata": {},
   "outputs": [
    {
     "name": "stderr",
     "output_type": "stream",
     "text": [
      "(1/2) Generating graphs from SubDataset GraphClass1: 100%|██████████| 100/100 [00:00<00:00, 1722.37it/s]\n",
      "(2/2) Generating graphs from SubDataset GraphClass0: 100%|██████████| 100/100 [00:00<00:00, 2712.79it/s]"
     ]
    },
    {
     "name": "stdout",
     "output_type": "stream",
     "text": [
      "Calculating and saving histograms...\n",
      "[100, 10, 6, 1, 2]\n",
      "[10, -10, 0, 0, 0]\n",
      "[20, 6, 405]\n",
      "[0, 0, 0]\n",
      "{'P_t': array([ 10.        ,  14.73684211,  19.47368421,  24.21052632,\n",
      "        28.94736842,  33.68421053,  38.42105263,  43.15789474,\n",
      "        47.89473684,  52.63157895,  57.36842105,  62.10526316,\n",
      "        66.84210526,  71.57894737,  76.31578947,  81.05263158,\n",
      "        85.78947368,  90.52631579,  95.26315789, 100.        ]), 'Eta': array([-10.        ,  -8.94736842,  -7.89473684,  -6.84210526,\n",
      "        -5.78947368,  -4.73684211,  -3.68421053,  -2.63157895,\n",
      "        -1.57894737,  -0.52631579,   0.52631579,   1.57894737,\n",
      "         2.63157895,   3.68421053,   4.73684211,   5.78947368,\n",
      "         6.84210526,   7.89473684,   8.94736842,  10.        ]), 'Phi': array([0.        , 0.31578947, 0.63157895, 0.94736842, 1.26315789,\n",
      "       1.57894737, 1.89473684, 2.21052632, 2.52631579, 2.84210526,\n",
      "       3.15789474, 3.47368421, 3.78947368, 4.10526316, 4.42105263,\n",
      "       4.73684211, 5.05263158, 5.36842105, 5.68421053, 6.        ]), 'Mass': array([0.        , 0.05263158, 0.10526316, 0.15789474, 0.21052632,\n",
      "       0.26315789, 0.31578947, 0.36842105, 0.42105263, 0.47368421,\n",
      "       0.52631579, 0.57894737, 0.63157895, 0.68421053, 0.73684211,\n",
      "       0.78947368, 0.84210526, 0.89473684, 0.94736842, 1.        ]), 'Type': array([0.        , 0.10526316, 0.21052632, 0.31578947, 0.42105263,\n",
      "       0.52631579, 0.63157895, 0.73684211, 0.84210526, 0.94736842,\n",
      "       1.05263158, 1.15789474, 1.26315789, 1.36842105, 1.47368421,\n",
      "       1.57894737, 1.68421053, 1.78947368, 1.89473684, 2.        ]), 'DeltaEta': array([ 0.        ,  1.05263158,  2.10526316,  3.15789474,  4.21052632,\n",
      "        5.26315789,  6.31578947,  7.36842105,  8.42105263,  9.47368421,\n",
      "       10.52631579, 11.57894737, 12.63157895, 13.68421053, 14.73684211,\n",
      "       15.78947368, 16.84210526, 17.89473684, 18.94736842, 20.        ]), 'DeltaPhi': array([0.        , 0.31578947, 0.63157895, 0.94736842, 1.26315789,\n",
      "       1.57894737, 1.89473684, 2.21052632, 2.52631579, 2.84210526,\n",
      "       3.15789474, 3.47368421, 3.78947368, 4.10526316, 4.42105263,\n",
      "       4.73684211, 5.05263158, 5.36842105, 5.68421053, 6.        ]), 'RapiditySquared': array([  0.        ,  21.31578947,  42.63157895,  63.94736842,\n",
      "        85.26315789, 106.57894737, 127.89473684, 149.21052632,\n",
      "       170.52631579, 191.84210526, 213.15789474, 234.47368421,\n",
      "       255.78947368, 277.10526316, 298.42105263, 319.73684211,\n",
      "       341.05263158, 362.36842105, 383.68421053, 405.        ]), 'NodeCount': array([ 3.        ,  3.63157895,  4.26315789,  4.89473684,  5.52631579,\n",
      "        6.15789474,  6.78947368,  7.42105263,  8.05263158,  8.68421053,\n",
      "        9.31578947,  9.94736842, 10.57894737, 11.21052632, 11.84210526,\n",
      "       12.47368421, 13.10526316, 13.73684211, 14.36842105, 15.        ])}\n"
     ]
    },
    {
     "name": "stderr",
     "output_type": "stream",
     "text": [
      "\n"
     ]
    },
    {
     "name": "stdout",
     "output_type": "stream",
     "text": [
      "Num Graph classes: 2\n",
      "Graph classes: [0, 1]\n",
      "Number of graphs: 200\n",
      "Number of all nodes in all graphs: 1819\n",
      "Number of all edges in all graphs: 17408\n",
      "Dim node features: 5\n",
      "Node feature keys: ['P_t', 'Eta', 'Phi', 'Mass', 'Type']\n",
      "Dim edge features: 3\n",
      "Edge feature keys: ['DeltaEta', 'DeltaPhi', 'RapiditySquared']\n",
      "Done saving data into cached files.\n"
     ]
    },
    {
     "data": {
      "text/plain": [
       "<Figure size 720x504 with 0 Axes>"
      ]
     },
     "metadata": {},
     "output_type": "display_data"
    }
   ],
   "source": [
    "datasetname = toyname + '_' + 'fewGraphs_fewNodes_DifferentNodeCountDistributions'\n",
    "outputFolder = path.join(rootOutputFolder, datasetname)\n",
    "Path(outputFolder).mkdir(parents=True, exist_ok=True)\n",
    "\n",
    "name = f'GraphClass{graphlabel[0]}'\n",
    "\n",
    "graphsubdatasetInfo0 = GraphSubdatasetInfo(\n",
    "    name=name, label=graphlabel[0], \n",
    "    graphCount=graphCountSmall, nodesPerGraph=fewNodesPerGraph0, \n",
    "    nodeFeatMapping=nFeatMapping, nodeFeat=defaultNodeFeat, \n",
    "    edgeFeatMapping=eFeatMapping, edgeFeat=edgeFeat)\n",
    "\n",
    "name = f'GraphClass{graphlabel[1]}'\n",
    "\n",
    "graphsubdatasetInfo1 = deepcopy(graphsubdatasetInfo0)\n",
    "graphsubdatasetInfo1.name = name\n",
    "graphsubdatasetInfo1.label = graphlabel[1]\n",
    "graphsubdatasetInfo1.nodesPerGraph = fewNodesPerGraph1\n",
    "#graphsubdatasetInfo1.nodeFeat[nFeatMapping['P_t']] = Distribution(60, 80, DistributionType.uniform)\n",
    "\n",
    "subdatasets = []\n",
    "subdatasets.append(graphsubdatasetInfo1)\n",
    "subdatasets.append(graphsubdatasetInfo0)\n",
    "\n",
    "graphdatasetInfo = GraphDatasetInfo(\n",
    "    name=datasetname,\n",
    "    splitPercentages=splitPercentages,\n",
    "    graphSubDatasetInfos=subdatasets\n",
    ")\n",
    "\n",
    "graphdatasetInfo.SaveToJsonfile(outputFolder, f'{graphdatasetInfo.name}.json')\n",
    "dataset = ToyDGLDataset(name=datasetname, info=graphdatasetInfo, shuffleDataset=True, save_dir=outputFolder)"
   ]
  },
  {
   "cell_type": "code",
   "execution_count": 5,
   "metadata": {},
   "outputs": [
    {
     "name": "stderr",
     "output_type": "stream",
     "text": [
      "(1/2) Generating graphs from SubDataset GraphClass1: 100%|██████████| 100/100 [00:00<00:00, 113.24it/s]\n",
      "(2/2) Generating graphs from SubDataset GraphClass0: 100%|██████████| 100/100 [00:00<00:00, 112.52it/s]\n"
     ]
    },
    {
     "name": "stdout",
     "output_type": "stream",
     "text": [
      "Calculating and saving histograms...\n",
      "[100, 10, 6, 1, 2]\n",
      "[10, -10, 0, 0, 0]\n",
      "[20, 6, 421]\n",
      "[0, 0, 0]\n",
      "{'P_t': array([ 10.        ,  14.73684211,  19.47368421,  24.21052632,\n",
      "        28.94736842,  33.68421053,  38.42105263,  43.15789474,\n",
      "        47.89473684,  52.63157895,  57.36842105,  62.10526316,\n",
      "        66.84210526,  71.57894737,  76.31578947,  81.05263158,\n",
      "        85.78947368,  90.52631579,  95.26315789, 100.        ]), 'Eta': array([-10.        ,  -8.94736842,  -7.89473684,  -6.84210526,\n",
      "        -5.78947368,  -4.73684211,  -3.68421053,  -2.63157895,\n",
      "        -1.57894737,  -0.52631579,   0.52631579,   1.57894737,\n",
      "         2.63157895,   3.68421053,   4.73684211,   5.78947368,\n",
      "         6.84210526,   7.89473684,   8.94736842,  10.        ]), 'Phi': array([0.        , 0.31578947, 0.63157895, 0.94736842, 1.26315789,\n",
      "       1.57894737, 1.89473684, 2.21052632, 2.52631579, 2.84210526,\n",
      "       3.15789474, 3.47368421, 3.78947368, 4.10526316, 4.42105263,\n",
      "       4.73684211, 5.05263158, 5.36842105, 5.68421053, 6.        ]), 'Mass': array([0.        , 0.05263158, 0.10526316, 0.15789474, 0.21052632,\n",
      "       0.26315789, 0.31578947, 0.36842105, 0.42105263, 0.47368421,\n",
      "       0.52631579, 0.57894737, 0.63157895, 0.68421053, 0.73684211,\n",
      "       0.78947368, 0.84210526, 0.89473684, 0.94736842, 1.        ]), 'Type': array([0.        , 0.10526316, 0.21052632, 0.31578947, 0.42105263,\n",
      "       0.52631579, 0.63157895, 0.73684211, 0.84210526, 0.94736842,\n",
      "       1.05263158, 1.15789474, 1.26315789, 1.36842105, 1.47368421,\n",
      "       1.57894737, 1.68421053, 1.78947368, 1.89473684, 2.        ]), 'DeltaEta': array([ 0.        ,  1.05263158,  2.10526316,  3.15789474,  4.21052632,\n",
      "        5.26315789,  6.31578947,  7.36842105,  8.42105263,  9.47368421,\n",
      "       10.52631579, 11.57894737, 12.63157895, 13.68421053, 14.73684211,\n",
      "       15.78947368, 16.84210526, 17.89473684, 18.94736842, 20.        ]), 'DeltaPhi': array([0.        , 0.31578947, 0.63157895, 0.94736842, 1.26315789,\n",
      "       1.57894737, 1.89473684, 2.21052632, 2.52631579, 2.84210526,\n",
      "       3.15789474, 3.47368421, 3.78947368, 4.10526316, 4.42105263,\n",
      "       4.73684211, 5.05263158, 5.36842105, 5.68421053, 6.        ]), 'RapiditySquared': array([  0.        ,  22.15789474,  44.31578947,  66.47368421,\n",
      "        88.63157895, 110.78947368, 132.94736842, 155.10526316,\n",
      "       177.26315789, 199.42105263, 221.57894737, 243.73684211,\n",
      "       265.89473684, 288.05263158, 310.21052632, 332.36842105,\n",
      "       354.52631579, 376.68421053, 398.84210526, 421.        ]), 'NodeCount': array([ 38.        ,  41.63157895,  45.26315789,  48.89473684,\n",
      "        52.52631579,  56.15789474,  59.78947368,  63.42105263,\n",
      "        67.05263158,  70.68421053,  74.31578947,  77.94736842,\n",
      "        81.57894737,  85.21052632,  88.84210526,  92.47368421,\n",
      "        96.10526316,  99.73684211, 103.36842105, 107.        ])}\n",
      "Num Graph classes: 2\n",
      "Graph classes: [0, 1]\n",
      "Number of graphs: 200\n",
      "Number of all nodes in all graphs: 13190\n",
      "Number of all edges in all graphs: 877336\n",
      "Dim node features: 5\n",
      "Node feature keys: ['P_t', 'Eta', 'Phi', 'Mass', 'Type']\n",
      "Dim edge features: 3\n",
      "Edge feature keys: ['DeltaEta', 'DeltaPhi', 'RapiditySquared']\n",
      "Done saving data into cached files.\n"
     ]
    },
    {
     "data": {
      "text/plain": [
       "<Figure size 720x504 with 0 Axes>"
      ]
     },
     "metadata": {},
     "output_type": "display_data"
    }
   ],
   "source": [
    "datasetname = toyname + '_' + 'fewGraphs_manyNodes_SameNodeCountDistributions'\n",
    "outputFolder = path.join(rootOutputFolder, datasetname)\n",
    "Path(outputFolder).mkdir(parents=True, exist_ok=True)\n",
    "\n",
    "name = f'GraphClass{graphlabel[0]}'\n",
    "\n",
    "graphsubdatasetInfo0 = GraphSubdatasetInfo(\n",
    "    name=name, label=graphlabel[0], \n",
    "    graphCount=graphCountSmall, nodesPerGraph=manyNodesPerGraphSameDist, \n",
    "    nodeFeatMapping=nFeatMapping, nodeFeat=defaultNodeFeat, \n",
    "    edgeFeatMapping=eFeatMapping, edgeFeat=edgeFeat)\n",
    "\n",
    "name = f'GraphClass{graphlabel[1]}'\n",
    "\n",
    "graphsubdatasetInfo1 = deepcopy(graphsubdatasetInfo0)\n",
    "graphsubdatasetInfo1.name = name\n",
    "graphsubdatasetInfo1.label = graphlabel[1]\n",
    "#graphsubdatasetInfo1.nodeFeat[nFeatMapping['P_t']] = Distribution(60, 80, DistributionType.uniform)\n",
    "\n",
    "subdatasets = []\n",
    "subdatasets.append(graphsubdatasetInfo1)\n",
    "subdatasets.append(graphsubdatasetInfo0)\n",
    "\n",
    "graphdatasetInfo = GraphDatasetInfo(\n",
    "    name=datasetname,\n",
    "    splitPercentages=splitPercentages,\n",
    "    graphSubDatasetInfos=subdatasets\n",
    ")\n",
    "\n",
    "graphdatasetInfo.SaveToJsonfile(outputFolder, f'{graphdatasetInfo.name}.json')\n",
    "dataset = ToyDGLDataset(name=datasetname, info=graphdatasetInfo, shuffleDataset=True, save_dir=outputFolder)"
   ]
  },
  {
   "cell_type": "code",
   "execution_count": 6,
   "metadata": {},
   "outputs": [
    {
     "name": "stderr",
     "output_type": "stream",
     "text": [
      "(1/2) Generating graphs from SubDataset GraphClass1: 100%|██████████| 100/100 [00:00<00:00, 130.51it/s]\n",
      "(2/2) Generating graphs from SubDataset GraphClass0: 100%|██████████| 100/100 [00:00<00:00, 558.75it/s]\n"
     ]
    },
    {
     "name": "stdout",
     "output_type": "stream",
     "text": [
      "Calculating and saving histograms...\n",
      "[100, 10, 6, 1, 2]\n",
      "[10, -10, 0, 0, 0]\n",
      "[20, 6, 420]\n",
      "[0, 0, 0]\n",
      "{'P_t': array([ 10.        ,  14.73684211,  19.47368421,  24.21052632,\n",
      "        28.94736842,  33.68421053,  38.42105263,  43.15789474,\n",
      "        47.89473684,  52.63157895,  57.36842105,  62.10526316,\n",
      "        66.84210526,  71.57894737,  76.31578947,  81.05263158,\n",
      "        85.78947368,  90.52631579,  95.26315789, 100.        ]), 'Eta': array([-10.        ,  -8.94736842,  -7.89473684,  -6.84210526,\n",
      "        -5.78947368,  -4.73684211,  -3.68421053,  -2.63157895,\n",
      "        -1.57894737,  -0.52631579,   0.52631579,   1.57894737,\n",
      "         2.63157895,   3.68421053,   4.73684211,   5.78947368,\n",
      "         6.84210526,   7.89473684,   8.94736842,  10.        ]), 'Phi': array([0.        , 0.31578947, 0.63157895, 0.94736842, 1.26315789,\n",
      "       1.57894737, 1.89473684, 2.21052632, 2.52631579, 2.84210526,\n",
      "       3.15789474, 3.47368421, 3.78947368, 4.10526316, 4.42105263,\n",
      "       4.73684211, 5.05263158, 5.36842105, 5.68421053, 6.        ]), 'Mass': array([0.        , 0.05263158, 0.10526316, 0.15789474, 0.21052632,\n",
      "       0.26315789, 0.31578947, 0.36842105, 0.42105263, 0.47368421,\n",
      "       0.52631579, 0.57894737, 0.63157895, 0.68421053, 0.73684211,\n",
      "       0.78947368, 0.84210526, 0.89473684, 0.94736842, 1.        ]), 'Type': array([0.        , 0.10526316, 0.21052632, 0.31578947, 0.42105263,\n",
      "       0.52631579, 0.63157895, 0.73684211, 0.84210526, 0.94736842,\n",
      "       1.05263158, 1.15789474, 1.26315789, 1.36842105, 1.47368421,\n",
      "       1.57894737, 1.68421053, 1.78947368, 1.89473684, 2.        ]), 'DeltaEta': array([ 0.        ,  1.05263158,  2.10526316,  3.15789474,  4.21052632,\n",
      "        5.26315789,  6.31578947,  7.36842105,  8.42105263,  9.47368421,\n",
      "       10.52631579, 11.57894737, 12.63157895, 13.68421053, 14.73684211,\n",
      "       15.78947368, 16.84210526, 17.89473684, 18.94736842, 20.        ]), 'DeltaPhi': array([0.        , 0.31578947, 0.63157895, 0.94736842, 1.26315789,\n",
      "       1.57894737, 1.89473684, 2.21052632, 2.52631579, 2.84210526,\n",
      "       3.15789474, 3.47368421, 3.78947368, 4.10526316, 4.42105263,\n",
      "       4.73684211, 5.05263158, 5.36842105, 5.68421053, 6.        ]), 'RapiditySquared': array([  0.        ,  22.10526316,  44.21052632,  66.31578947,\n",
      "        88.42105263, 110.52631579, 132.63157895, 154.73684211,\n",
      "       176.84210526, 198.94736842, 221.05263158, 243.15789474,\n",
      "       265.26315789, 287.36842105, 309.47368421, 331.57894737,\n",
      "       353.68421053, 375.78947368, 397.89473684, 420.        ]), 'NodeCount': array([11.        , 14.94736842, 18.89473684, 22.84210526, 26.78947368,\n",
      "       30.73684211, 34.68421053, 38.63157895, 42.57894737, 46.52631579,\n",
      "       50.47368421, 54.42105263, 58.36842105, 62.31578947, 66.26315789,\n",
      "       70.21052632, 74.15789474, 78.10526316, 82.05263158, 86.        ])}\n",
      "Num Graph classes: 2\n",
      "Graph classes: [0, 1]\n",
      "Number of graphs: 200\n",
      "Number of all nodes in all graphs: 9203\n",
      "Number of all edges in all graphs: 490652\n",
      "Dim node features: 5\n",
      "Node feature keys: ['P_t', 'Eta', 'Phi', 'Mass', 'Type']\n",
      "Dim edge features: 3\n",
      "Edge feature keys: ['DeltaEta', 'DeltaPhi', 'RapiditySquared']\n",
      "Done saving data into cached files.\n"
     ]
    },
    {
     "data": {
      "text/plain": [
       "<Figure size 720x504 with 0 Axes>"
      ]
     },
     "metadata": {},
     "output_type": "display_data"
    }
   ],
   "source": [
    "datasetname = toyname + '_' + 'fewGraphs_manyNodes_DifferentNodeCountDistributions'\n",
    "outputFolder = path.join(rootOutputFolder, datasetname)\n",
    "Path(outputFolder).mkdir(parents=True, exist_ok=True)\n",
    "\n",
    "name = f'GraphClass{graphlabel[0]}'\n",
    "\n",
    "graphsubdatasetInfo0 = GraphSubdatasetInfo(\n",
    "    name=name, label=graphlabel[0], \n",
    "    graphCount=graphCountSmall, nodesPerGraph=manyNodesPerGraph0, \n",
    "    nodeFeatMapping=nFeatMapping, nodeFeat=defaultNodeFeat, \n",
    "    edgeFeatMapping=eFeatMapping, edgeFeat=edgeFeat)\n",
    "\n",
    "name = f'GraphClass{graphlabel[1]}'\n",
    "\n",
    "graphsubdatasetInfo1 = deepcopy(graphsubdatasetInfo0)\n",
    "graphsubdatasetInfo1.name = name\n",
    "graphsubdatasetInfo1.label = graphlabel[1]\n",
    "graphsubdatasetInfo1.nodesPerGraph = manyNodesPerGraph1\n",
    "#graphsubdatasetInfo1.nodeFeat[nFeatMapping['P_t']] = Distribution(60, 80, DistributionType.uniform)\n",
    "\n",
    "subdatasets = []\n",
    "subdatasets.append(graphsubdatasetInfo1)\n",
    "subdatasets.append(graphsubdatasetInfo0)\n",
    "\n",
    "graphdatasetInfo = GraphDatasetInfo(\n",
    "    name=datasetname,\n",
    "    splitPercentages=splitPercentages,\n",
    "    graphSubDatasetInfos=subdatasets\n",
    ")\n",
    "\n",
    "graphdatasetInfo.SaveToJsonfile(outputFolder, f'{graphdatasetInfo.name}.json')\n",
    "dataset = ToyDGLDataset(name=datasetname, info=graphdatasetInfo, shuffleDataset=True, save_dir=outputFolder)"
   ]
  },
  {
   "cell_type": "code",
   "execution_count": 7,
   "metadata": {},
   "outputs": [
    {
     "name": "stderr",
     "output_type": "stream",
     "text": [
      "(1/2) Generating graphs from SubDataset GraphClass1: 100%|██████████| 2000/2000 [00:00<00:00, 2168.37it/s]\n",
      "(2/2) Generating graphs from SubDataset GraphClass0: 100%|██████████| 2000/2000 [00:00<00:00, 2152.11it/s]\n"
     ]
    },
    {
     "name": "stdout",
     "output_type": "stream",
     "text": [
      "Calculating and saving histograms...\n",
      "[100, 10, 6, 1, 2]\n",
      "[10, -10, 0, 0, 0]\n",
      "[20, 6, 417]\n",
      "[0, 0, 0]\n",
      "{'P_t': array([ 10.        ,  14.73684211,  19.47368421,  24.21052632,\n",
      "        28.94736842,  33.68421053,  38.42105263,  43.15789474,\n",
      "        47.89473684,  52.63157895,  57.36842105,  62.10526316,\n",
      "        66.84210526,  71.57894737,  76.31578947,  81.05263158,\n",
      "        85.78947368,  90.52631579,  95.26315789, 100.        ]), 'Eta': array([-10.        ,  -8.94736842,  -7.89473684,  -6.84210526,\n",
      "        -5.78947368,  -4.73684211,  -3.68421053,  -2.63157895,\n",
      "        -1.57894737,  -0.52631579,   0.52631579,   1.57894737,\n",
      "         2.63157895,   3.68421053,   4.73684211,   5.78947368,\n",
      "         6.84210526,   7.89473684,   8.94736842,  10.        ]), 'Phi': array([0.        , 0.31578947, 0.63157895, 0.94736842, 1.26315789,\n",
      "       1.57894737, 1.89473684, 2.21052632, 2.52631579, 2.84210526,\n",
      "       3.15789474, 3.47368421, 3.78947368, 4.10526316, 4.42105263,\n",
      "       4.73684211, 5.05263158, 5.36842105, 5.68421053, 6.        ]), 'Mass': array([0.        , 0.05263158, 0.10526316, 0.15789474, 0.21052632,\n",
      "       0.26315789, 0.31578947, 0.36842105, 0.42105263, 0.47368421,\n",
      "       0.52631579, 0.57894737, 0.63157895, 0.68421053, 0.73684211,\n",
      "       0.78947368, 0.84210526, 0.89473684, 0.94736842, 1.        ]), 'Type': array([0.        , 0.10526316, 0.21052632, 0.31578947, 0.42105263,\n",
      "       0.52631579, 0.63157895, 0.73684211, 0.84210526, 0.94736842,\n",
      "       1.05263158, 1.15789474, 1.26315789, 1.36842105, 1.47368421,\n",
      "       1.57894737, 1.68421053, 1.78947368, 1.89473684, 2.        ]), 'DeltaEta': array([ 0.        ,  1.05263158,  2.10526316,  3.15789474,  4.21052632,\n",
      "        5.26315789,  6.31578947,  7.36842105,  8.42105263,  9.47368421,\n",
      "       10.52631579, 11.57894737, 12.63157895, 13.68421053, 14.73684211,\n",
      "       15.78947368, 16.84210526, 17.89473684, 18.94736842, 20.        ]), 'DeltaPhi': array([0.        , 0.31578947, 0.63157895, 0.94736842, 1.26315789,\n",
      "       1.57894737, 1.89473684, 2.21052632, 2.52631579, 2.84210526,\n",
      "       3.15789474, 3.47368421, 3.78947368, 4.10526316, 4.42105263,\n",
      "       4.73684211, 5.05263158, 5.36842105, 5.68421053, 6.        ]), 'RapiditySquared': array([  0.        ,  21.94736842,  43.89473684,  65.84210526,\n",
      "        87.78947368, 109.73684211, 131.68421053, 153.63157895,\n",
      "       175.57894737, 197.52631579, 219.47368421, 241.42105263,\n",
      "       263.36842105, 285.31578947, 307.26315789, 329.21052632,\n",
      "       351.15789474, 373.10526316, 395.05263158, 417.        ]), 'NodeCount': array([ 6.        ,  6.36842105,  6.73684211,  7.10526316,  7.47368421,\n",
      "        7.84210526,  8.21052632,  8.57894737,  8.94736842,  9.31578947,\n",
      "        9.68421053, 10.05263158, 10.42105263, 10.78947368, 11.15789474,\n",
      "       11.52631579, 11.89473684, 12.26315789, 12.63157895, 13.        ])}\n",
      "Num Graph classes: 2\n",
      "Graph classes: [0, 1]\n",
      "Number of graphs: 4000\n",
      "Number of all nodes in all graphs: 37851\n",
      "Number of all edges in all graphs: 324676\n",
      "Dim node features: 5\n",
      "Node feature keys: ['P_t', 'Eta', 'Phi', 'Mass', 'Type']\n",
      "Dim edge features: 3\n",
      "Edge feature keys: ['DeltaEta', 'DeltaPhi', 'RapiditySquared']\n",
      "Done saving data into cached files.\n"
     ]
    },
    {
     "data": {
      "text/plain": [
       "<Figure size 720x504 with 0 Axes>"
      ]
     },
     "metadata": {},
     "output_type": "display_data"
    }
   ],
   "source": [
    "datasetname = toyname + '_' + 'manyGraphs_fewNodes_SameNodeCountDistributions'\n",
    "outputFolder = path.join(rootOutputFolder, datasetname)\n",
    "Path(outputFolder).mkdir(parents=True, exist_ok=True)\n",
    "\n",
    "name = f'GraphClass{graphlabel[0]}'\n",
    "\n",
    "graphsubdatasetInfo0 = GraphSubdatasetInfo(\n",
    "    name=name, label=graphlabel[0], \n",
    "    graphCount=graphCountLarge, nodesPerGraph=fewNodesPerGraphSameDist, \n",
    "    nodeFeatMapping=nFeatMapping, nodeFeat=defaultNodeFeat, \n",
    "    edgeFeatMapping=eFeatMapping, edgeFeat=edgeFeat)\n",
    "\n",
    "name = f'GraphClass{graphlabel[1]}'\n",
    "\n",
    "graphsubdatasetInfo1 = deepcopy(graphsubdatasetInfo0)\n",
    "graphsubdatasetInfo1.name = name\n",
    "graphsubdatasetInfo1.label = graphlabel[1]\n",
    "#graphsubdatasetInfo1.nodeFeat[nFeatMapping['P_t']] = Distribution(60, 80, DistributionType.uniform)\n",
    "\n",
    "subdatasets = []\n",
    "subdatasets.append(graphsubdatasetInfo1)\n",
    "subdatasets.append(graphsubdatasetInfo0)\n",
    "\n",
    "graphdatasetInfo = GraphDatasetInfo(\n",
    "    name=datasetname,\n",
    "    splitPercentages=splitPercentages,\n",
    "    graphSubDatasetInfos=subdatasets\n",
    ")\n",
    "\n",
    "graphdatasetInfo.SaveToJsonfile(outputFolder, f'{graphdatasetInfo.name}.json')\n",
    "dataset = ToyDGLDataset(name=datasetname, info=graphdatasetInfo, shuffleDataset=True, save_dir=outputFolder)"
   ]
  },
  {
   "cell_type": "code",
   "execution_count": 8,
   "metadata": {},
   "outputs": [
    {
     "name": "stderr",
     "output_type": "stream",
     "text": [
      "(1/2) Generating graphs from SubDataset GraphClass1: 100%|██████████| 2000/2000 [00:01<00:00, 1722.82it/s]\n",
      "(2/2) Generating graphs from SubDataset GraphClass0: 100%|██████████| 2000/2000 [00:00<00:00, 2825.56it/s]\n"
     ]
    },
    {
     "name": "stdout",
     "output_type": "stream",
     "text": [
      "Calculating and saving histograms...\n",
      "[100, 10, 6, 1, 2]\n",
      "[10, -10, 0, 0, 0]\n",
      "[20, 6, 420]\n",
      "[0, 0, 0]\n",
      "{'P_t': array([ 10.        ,  14.73684211,  19.47368421,  24.21052632,\n",
      "        28.94736842,  33.68421053,  38.42105263,  43.15789474,\n",
      "        47.89473684,  52.63157895,  57.36842105,  62.10526316,\n",
      "        66.84210526,  71.57894737,  76.31578947,  81.05263158,\n",
      "        85.78947368,  90.52631579,  95.26315789, 100.        ]), 'Eta': array([-10.        ,  -8.94736842,  -7.89473684,  -6.84210526,\n",
      "        -5.78947368,  -4.73684211,  -3.68421053,  -2.63157895,\n",
      "        -1.57894737,  -0.52631579,   0.52631579,   1.57894737,\n",
      "         2.63157895,   3.68421053,   4.73684211,   5.78947368,\n",
      "         6.84210526,   7.89473684,   8.94736842,  10.        ]), 'Phi': array([0.        , 0.31578947, 0.63157895, 0.94736842, 1.26315789,\n",
      "       1.57894737, 1.89473684, 2.21052632, 2.52631579, 2.84210526,\n",
      "       3.15789474, 3.47368421, 3.78947368, 4.10526316, 4.42105263,\n",
      "       4.73684211, 5.05263158, 5.36842105, 5.68421053, 6.        ]), 'Mass': array([0.        , 0.05263158, 0.10526316, 0.15789474, 0.21052632,\n",
      "       0.26315789, 0.31578947, 0.36842105, 0.42105263, 0.47368421,\n",
      "       0.52631579, 0.57894737, 0.63157895, 0.68421053, 0.73684211,\n",
      "       0.78947368, 0.84210526, 0.89473684, 0.94736842, 1.        ]), 'Type': array([0.        , 0.10526316, 0.21052632, 0.31578947, 0.42105263,\n",
      "       0.52631579, 0.63157895, 0.73684211, 0.84210526, 0.94736842,\n",
      "       1.05263158, 1.15789474, 1.26315789, 1.36842105, 1.47368421,\n",
      "       1.57894737, 1.68421053, 1.78947368, 1.89473684, 2.        ]), 'DeltaEta': array([ 0.        ,  1.05263158,  2.10526316,  3.15789474,  4.21052632,\n",
      "        5.26315789,  6.31578947,  7.36842105,  8.42105263,  9.47368421,\n",
      "       10.52631579, 11.57894737, 12.63157895, 13.68421053, 14.73684211,\n",
      "       15.78947368, 16.84210526, 17.89473684, 18.94736842, 20.        ]), 'DeltaPhi': array([0.        , 0.31578947, 0.63157895, 0.94736842, 1.26315789,\n",
      "       1.57894737, 1.89473684, 2.21052632, 2.52631579, 2.84210526,\n",
      "       3.15789474, 3.47368421, 3.78947368, 4.10526316, 4.42105263,\n",
      "       4.73684211, 5.05263158, 5.36842105, 5.68421053, 6.        ]), 'RapiditySquared': array([  0.        ,  22.10526316,  44.21052632,  66.31578947,\n",
      "        88.42105263, 110.52631579, 132.63157895, 154.73684211,\n",
      "       176.84210526, 198.94736842, 221.05263158, 243.15789474,\n",
      "       265.26315789, 287.36842105, 309.47368421, 331.57894737,\n",
      "       353.68421053, 375.78947368, 397.89473684, 420.        ]), 'NodeCount': array([ 2.        ,  2.73684211,  3.47368421,  4.21052632,  4.94736842,\n",
      "        5.68421053,  6.42105263,  7.15789474,  7.89473684,  8.63157895,\n",
      "        9.36842105, 10.10526316, 10.84210526, 11.57894737, 12.31578947,\n",
      "       13.05263158, 13.78947368, 14.52631579, 15.26315789, 16.        ])}\n",
      "Num Graph classes: 2\n",
      "Graph classes: [0, 1]\n",
      "Number of graphs: 4000\n",
      "Number of all nodes in all graphs: 36021\n",
      "Number of all edges in all graphs: 341248\n",
      "Dim node features: 5\n",
      "Node feature keys: ['P_t', 'Eta', 'Phi', 'Mass', 'Type']\n",
      "Dim edge features: 3\n",
      "Edge feature keys: ['DeltaEta', 'DeltaPhi', 'RapiditySquared']\n",
      "Done saving data into cached files.\n"
     ]
    },
    {
     "data": {
      "text/plain": [
       "<Figure size 720x504 with 0 Axes>"
      ]
     },
     "metadata": {},
     "output_type": "display_data"
    }
   ],
   "source": [
    "datasetname = toyname + '_' + 'manyGraphs_fewNodes_DifferentNodeCountDistributions'\n",
    "outputFolder = path.join(rootOutputFolder, datasetname)\n",
    "Path(outputFolder).mkdir(parents=True, exist_ok=True)\n",
    "\n",
    "name = f'GraphClass{graphlabel[0]}'\n",
    "\n",
    "graphsubdatasetInfo0 = GraphSubdatasetInfo(\n",
    "    name=name, label=graphlabel[0], \n",
    "    graphCount=graphCountLarge, nodesPerGraph=fewNodesPerGraph0, \n",
    "    nodeFeatMapping=nFeatMapping, nodeFeat=defaultNodeFeat, \n",
    "    edgeFeatMapping=eFeatMapping, edgeFeat=edgeFeat)\n",
    "\n",
    "name = f'GraphClass{graphlabel[1]}'\n",
    "\n",
    "graphsubdatasetInfo1 = deepcopy(graphsubdatasetInfo0)\n",
    "graphsubdatasetInfo1.name = name\n",
    "graphsubdatasetInfo1.label = graphlabel[1]\n",
    "graphsubdatasetInfo1.nodesPerGraph = fewNodesPerGraph1\n",
    "#graphsubdatasetInfo1.nodeFeat[nFeatMapping['P_t']] = Distribution(60, 80, DistributionType.uniform)\n",
    "\n",
    "subdatasets = []\n",
    "subdatasets.append(graphsubdatasetInfo1)\n",
    "subdatasets.append(graphsubdatasetInfo0)\n",
    "\n",
    "graphdatasetInfo = GraphDatasetInfo(\n",
    "    name=datasetname,\n",
    "    splitPercentages=splitPercentages,\n",
    "    graphSubDatasetInfos=subdatasets\n",
    ")\n",
    "\n",
    "graphdatasetInfo.SaveToJsonfile(outputFolder, f'{graphdatasetInfo.name}.json')\n",
    "dataset = ToyDGLDataset(name=datasetname, info=graphdatasetInfo, shuffleDataset=True, save_dir=outputFolder)"
   ]
  },
  {
   "cell_type": "code",
   "execution_count": 9,
   "metadata": {},
   "outputs": [
    {
     "name": "stderr",
     "output_type": "stream",
     "text": [
      "(1/2) Generating graphs from SubDataset GraphClass1: 100%|██████████| 2000/2000 [00:15<00:00, 126.88it/s]\n",
      "(2/2) Generating graphs from SubDataset GraphClass0: 100%|██████████| 2000/2000 [00:15<00:00, 132.68it/s]\n"
     ]
    },
    {
     "name": "stdout",
     "output_type": "stream",
     "text": [
      "Calculating and saving histograms...\n",
      "[100, 10, 6, 1, 2]\n",
      "[10, -10, 0, 0, 0]\n",
      "[20, 6, 433]\n",
      "[0, 0, 0]\n",
      "{'P_t': array([ 10.        ,  14.73684211,  19.47368421,  24.21052632,\n",
      "        28.94736842,  33.68421053,  38.42105263,  43.15789474,\n",
      "        47.89473684,  52.63157895,  57.36842105,  62.10526316,\n",
      "        66.84210526,  71.57894737,  76.31578947,  81.05263158,\n",
      "        85.78947368,  90.52631579,  95.26315789, 100.        ]), 'Eta': array([-10.        ,  -8.94736842,  -7.89473684,  -6.84210526,\n",
      "        -5.78947368,  -4.73684211,  -3.68421053,  -2.63157895,\n",
      "        -1.57894737,  -0.52631579,   0.52631579,   1.57894737,\n",
      "         2.63157895,   3.68421053,   4.73684211,   5.78947368,\n",
      "         6.84210526,   7.89473684,   8.94736842,  10.        ]), 'Phi': array([0.        , 0.31578947, 0.63157895, 0.94736842, 1.26315789,\n",
      "       1.57894737, 1.89473684, 2.21052632, 2.52631579, 2.84210526,\n",
      "       3.15789474, 3.47368421, 3.78947368, 4.10526316, 4.42105263,\n",
      "       4.73684211, 5.05263158, 5.36842105, 5.68421053, 6.        ]), 'Mass': array([0.        , 0.05263158, 0.10526316, 0.15789474, 0.21052632,\n",
      "       0.26315789, 0.31578947, 0.36842105, 0.42105263, 0.47368421,\n",
      "       0.52631579, 0.57894737, 0.63157895, 0.68421053, 0.73684211,\n",
      "       0.78947368, 0.84210526, 0.89473684, 0.94736842, 1.        ]), 'Type': array([0.        , 0.10526316, 0.21052632, 0.31578947, 0.42105263,\n",
      "       0.52631579, 0.63157895, 0.73684211, 0.84210526, 0.94736842,\n",
      "       1.05263158, 1.15789474, 1.26315789, 1.36842105, 1.47368421,\n",
      "       1.57894737, 1.68421053, 1.78947368, 1.89473684, 2.        ]), 'DeltaEta': array([ 0.        ,  1.05263158,  2.10526316,  3.15789474,  4.21052632,\n",
      "        5.26315789,  6.31578947,  7.36842105,  8.42105263,  9.47368421,\n",
      "       10.52631579, 11.57894737, 12.63157895, 13.68421053, 14.73684211,\n",
      "       15.78947368, 16.84210526, 17.89473684, 18.94736842, 20.        ]), 'DeltaPhi': array([0.        , 0.31578947, 0.63157895, 0.94736842, 1.26315789,\n",
      "       1.57894737, 1.89473684, 2.21052632, 2.52631579, 2.84210526,\n",
      "       3.15789474, 3.47368421, 3.78947368, 4.10526316, 4.42105263,\n",
      "       4.73684211, 5.05263158, 5.36842105, 5.68421053, 6.        ]), 'RapiditySquared': array([  0.        ,  22.78947368,  45.57894737,  68.36842105,\n",
      "        91.15789474, 113.94736842, 136.73684211, 159.52631579,\n",
      "       182.31578947, 205.10526316, 227.89473684, 250.68421053,\n",
      "       273.47368421, 296.26315789, 319.05263158, 341.84210526,\n",
      "       364.63157895, 387.42105263, 410.21052632, 433.        ]), 'NodeCount': array([ 26.,  30.,  34.,  38.,  42.,  46.,  50.,  54.,  58.,  62.,  66.,\n",
      "        70.,  74.,  78.,  82.,  86.,  90.,  94.,  98., 102.])}\n",
      "Num Graph classes: 2\n",
      "Graph classes: [0, 1]\n",
      "Number of graphs: 4000\n",
      "Number of all nodes in all graphs: 257782\n",
      "Number of all edges in all graphs: 16755514\n",
      "Dim node features: 5\n",
      "Node feature keys: ['P_t', 'Eta', 'Phi', 'Mass', 'Type']\n",
      "Dim edge features: 3\n",
      "Edge feature keys: ['DeltaEta', 'DeltaPhi', 'RapiditySquared']\n",
      "Done saving data into cached files.\n"
     ]
    },
    {
     "data": {
      "text/plain": [
       "<Figure size 720x504 with 0 Axes>"
      ]
     },
     "metadata": {},
     "output_type": "display_data"
    }
   ],
   "source": [
    "datasetname = toyname + '_' + 'manyGraphs_manyNodes_SameNodeCountDistributions'\n",
    "outputFolder = path.join(rootOutputFolder, datasetname)\n",
    "Path(outputFolder).mkdir(parents=True, exist_ok=True)\n",
    "\n",
    "name = f'GraphClass{graphlabel[0]}'\n",
    "\n",
    "graphsubdatasetInfo0 = GraphSubdatasetInfo(\n",
    "    name=name, label=graphlabel[0], \n",
    "    graphCount=graphCountLarge, nodesPerGraph=manyNodesPerGraphSameDist, \n",
    "    nodeFeatMapping=nFeatMapping, nodeFeat=defaultNodeFeat, \n",
    "    edgeFeatMapping=eFeatMapping, edgeFeat=edgeFeat)\n",
    "\n",
    "name = f'GraphClass{graphlabel[1]}'\n",
    "\n",
    "graphsubdatasetInfo1 = deepcopy(graphsubdatasetInfo0)\n",
    "graphsubdatasetInfo1.name = name\n",
    "graphsubdatasetInfo1.label = graphlabel[1]\n",
    "#graphsubdatasetInfo1.nodeFeat[nFeatMapping['P_t']] = Distribution(60, 80, DistributionType.uniform)\n",
    "\n",
    "subdatasets = []\n",
    "subdatasets.append(graphsubdatasetInfo1)\n",
    "subdatasets.append(graphsubdatasetInfo0)\n",
    "\n",
    "graphdatasetInfo = GraphDatasetInfo(\n",
    "    name=datasetname,\n",
    "    splitPercentages=splitPercentages,\n",
    "    graphSubDatasetInfos=subdatasets\n",
    ")\n",
    "\n",
    "graphdatasetInfo.SaveToJsonfile(outputFolder, f'{graphdatasetInfo.name}.json')\n",
    "dataset = ToyDGLDataset(name=datasetname, info=graphdatasetInfo, shuffleDataset=True, save_dir=outputFolder)"
   ]
  },
  {
   "cell_type": "code",
   "execution_count": 10,
   "metadata": {},
   "outputs": [
    {
     "name": "stderr",
     "output_type": "stream",
     "text": [
      "(1/2) Generating graphs from SubDataset GraphClass1: 100%|██████████| 2000/2000 [00:15<00:00, 127.69it/s]\n",
      "(2/2) Generating graphs from SubDataset GraphClass0: 100%|██████████| 2000/2000 [00:03<00:00, 504.80it/s]\n"
     ]
    },
    {
     "name": "stdout",
     "output_type": "stream",
     "text": [
      "Calculating and saving histograms...\n",
      "[100, 10, 6, 1, 2]\n",
      "[10, -10, 0, 0, 0]\n",
      "[20, 6, 431]\n",
      "[0, 0, 0]\n",
      "{'P_t': array([ 10.        ,  14.73684211,  19.47368421,  24.21052632,\n",
      "        28.94736842,  33.68421053,  38.42105263,  43.15789474,\n",
      "        47.89473684,  52.63157895,  57.36842105,  62.10526316,\n",
      "        66.84210526,  71.57894737,  76.31578947,  81.05263158,\n",
      "        85.78947368,  90.52631579,  95.26315789, 100.        ]), 'Eta': array([-10.        ,  -8.94736842,  -7.89473684,  -6.84210526,\n",
      "        -5.78947368,  -4.73684211,  -3.68421053,  -2.63157895,\n",
      "        -1.57894737,  -0.52631579,   0.52631579,   1.57894737,\n",
      "         2.63157895,   3.68421053,   4.73684211,   5.78947368,\n",
      "         6.84210526,   7.89473684,   8.94736842,  10.        ]), 'Phi': array([0.        , 0.31578947, 0.63157895, 0.94736842, 1.26315789,\n",
      "       1.57894737, 1.89473684, 2.21052632, 2.52631579, 2.84210526,\n",
      "       3.15789474, 3.47368421, 3.78947368, 4.10526316, 4.42105263,\n",
      "       4.73684211, 5.05263158, 5.36842105, 5.68421053, 6.        ]), 'Mass': array([0.        , 0.05263158, 0.10526316, 0.15789474, 0.21052632,\n",
      "       0.26315789, 0.31578947, 0.36842105, 0.42105263, 0.47368421,\n",
      "       0.52631579, 0.57894737, 0.63157895, 0.68421053, 0.73684211,\n",
      "       0.78947368, 0.84210526, 0.89473684, 0.94736842, 1.        ]), 'Type': array([0.        , 0.10526316, 0.21052632, 0.31578947, 0.42105263,\n",
      "       0.52631579, 0.63157895, 0.73684211, 0.84210526, 0.94736842,\n",
      "       1.05263158, 1.15789474, 1.26315789, 1.36842105, 1.47368421,\n",
      "       1.57894737, 1.68421053, 1.78947368, 1.89473684, 2.        ]), 'DeltaEta': array([ 0.        ,  1.05263158,  2.10526316,  3.15789474,  4.21052632,\n",
      "        5.26315789,  6.31578947,  7.36842105,  8.42105263,  9.47368421,\n",
      "       10.52631579, 11.57894737, 12.63157895, 13.68421053, 14.73684211,\n",
      "       15.78947368, 16.84210526, 17.89473684, 18.94736842, 20.        ]), 'DeltaPhi': array([0.        , 0.31578947, 0.63157895, 0.94736842, 1.26315789,\n",
      "       1.57894737, 1.89473684, 2.21052632, 2.52631579, 2.84210526,\n",
      "       3.15789474, 3.47368421, 3.78947368, 4.10526316, 4.42105263,\n",
      "       4.73684211, 5.05263158, 5.36842105, 5.68421053, 6.        ]), 'RapiditySquared': array([  0.        ,  22.68421053,  45.36842105,  68.05263158,\n",
      "        90.73684211, 113.42105263, 136.10526316, 158.78947368,\n",
      "       181.47368421, 204.15789474, 226.84210526, 249.52631579,\n",
      "       272.21052632, 294.89473684, 317.57894737, 340.26315789,\n",
      "       362.94736842, 385.63157895, 408.31578947, 431.        ]), 'NodeCount': array([ 10.        ,  14.73684211,  19.47368421,  24.21052632,\n",
      "        28.94736842,  33.68421053,  38.42105263,  43.15789474,\n",
      "        47.89473684,  52.63157895,  57.36842105,  62.10526316,\n",
      "        66.84210526,  71.57894737,  76.31578947,  81.05263158,\n",
      "        85.78947368,  90.52631579,  95.26315789, 100.        ])}\n",
      "Num Graph classes: 2\n",
      "Graph classes: [0, 1]\n",
      "Number of graphs: 4000\n",
      "Number of all nodes in all graphs: 189353\n",
      "Number of all edges in all graphs: 10314576\n",
      "Dim node features: 5\n",
      "Node feature keys: ['P_t', 'Eta', 'Phi', 'Mass', 'Type']\n",
      "Dim edge features: 3\n",
      "Edge feature keys: ['DeltaEta', 'DeltaPhi', 'RapiditySquared']\n",
      "Done saving data into cached files.\n"
     ]
    },
    {
     "data": {
      "text/plain": [
       "<Figure size 720x504 with 0 Axes>"
      ]
     },
     "metadata": {},
     "output_type": "display_data"
    }
   ],
   "source": [
    "datasetname = toyname + '_' + 'manyGraphs_manyNodes_DifferentNodeCountDistributions'\n",
    "outputFolder = path.join(rootOutputFolder, datasetname)\n",
    "Path(outputFolder).mkdir(parents=True, exist_ok=True)\n",
    "\n",
    "name = f'GraphClass{graphlabel[0]}'\n",
    "\n",
    "graphsubdatasetInfo0 = GraphSubdatasetInfo(\n",
    "    name=name, label=graphlabel[0], \n",
    "    graphCount=graphCountLarge, nodesPerGraph=manyNodesPerGraph0, \n",
    "    nodeFeatMapping=nFeatMapping, nodeFeat=defaultNodeFeat, \n",
    "    edgeFeatMapping=eFeatMapping, edgeFeat=edgeFeat)\n",
    "\n",
    "name = f'GraphClass{graphlabel[1]}'\n",
    "\n",
    "graphsubdatasetInfo1 = deepcopy(graphsubdatasetInfo0)\n",
    "graphsubdatasetInfo1.name = name\n",
    "graphsubdatasetInfo1.label = graphlabel[1]\n",
    "graphsubdatasetInfo1.nodesPerGraph = manyNodesPerGraph1\n",
    "#graphsubdatasetInfo1.nodeFeat[nFeatMapping['P_t']] = Distribution(60, 80, DistributionType.uniform)\n",
    "\n",
    "subdatasets = []\n",
    "subdatasets.append(graphsubdatasetInfo1)\n",
    "subdatasets.append(graphsubdatasetInfo0)\n",
    "\n",
    "graphdatasetInfo = GraphDatasetInfo(\n",
    "    name=datasetname,\n",
    "    splitPercentages=splitPercentages,\n",
    "    graphSubDatasetInfos=subdatasets\n",
    ")\n",
    "\n",
    "graphdatasetInfo.SaveToJsonfile(outputFolder, f'{graphdatasetInfo.name}.json')\n",
    "dataset = ToyDGLDataset(name=datasetname, info=graphdatasetInfo, shuffleDataset=True, save_dir=outputFolder)"
   ]
  },
  {
   "cell_type": "code",
   "execution_count": 11,
   "metadata": {},
   "outputs": [
    {
     "ename": "AttributeError",
     "evalue": "'GraphDatasetInfo' object has no attribute 'ToNetworkxGraphList'",
     "output_type": "error",
     "traceback": [
      "\u001b[0;31m---------------------------------------------------------------------------\u001b[0m",
      "\u001b[0;31mAttributeError\u001b[0m                            Traceback (most recent call last)",
      "\u001b[0;32m<ipython-input-11-7f03dcab183c>\u001b[0m in \u001b[0;36m<module>\u001b[0;34m\u001b[0m\n\u001b[1;32m      1\u001b[0m \u001b[0mrng\u001b[0m \u001b[0;34m=\u001b[0m \u001b[0mnp\u001b[0m\u001b[0;34m.\u001b[0m\u001b[0mrandom\u001b[0m\u001b[0;34m.\u001b[0m\u001b[0mdefault_rng\u001b[0m\u001b[0;34m(\u001b[0m\u001b[0mseed\u001b[0m\u001b[0;34m=\u001b[0m\u001b[0;36m42\u001b[0m\u001b[0;34m)\u001b[0m\u001b[0;34m\u001b[0m\u001b[0;34m\u001b[0m\u001b[0m\n\u001b[0;32m----> 2\u001b[0;31m \u001b[0mnxgraphs\u001b[0m \u001b[0;34m=\u001b[0m \u001b[0mgraphdatasetInfo\u001b[0m\u001b[0;34m.\u001b[0m\u001b[0mToNetworkxGraphList\u001b[0m\u001b[0;34m(\u001b[0m\u001b[0;34m)\u001b[0m\u001b[0;34m\u001b[0m\u001b[0;34m\u001b[0m\u001b[0m\n\u001b[0m\u001b[1;32m      3\u001b[0m \u001b[0;34m\u001b[0m\u001b[0m\n\u001b[1;32m      4\u001b[0m \u001b[0mprint\u001b[0m\u001b[0;34m(\u001b[0m\u001b[0;34mf'Edge Features \\n nx: {list(nxgraphs[0].edges.data())[0]},\\n dgl: {dglgraph.edata}'\u001b[0m\u001b[0;34m)\u001b[0m\u001b[0;34m\u001b[0m\u001b[0;34m\u001b[0m\u001b[0m\n\u001b[1;32m      5\u001b[0m \u001b[0;34m\u001b[0m\u001b[0m\n",
      "\u001b[0;31mAttributeError\u001b[0m: 'GraphDatasetInfo' object has no attribute 'ToNetworkxGraphList'"
     ]
    }
   ],
   "source": [
    "rng = np.random.default_rng(seed=42)\n",
    "nxgraphs = graphdatasetInfo.ToNetworkxGraphList()\n",
    "\n",
    "print(f'Edge Features \\n nx: {list(nxgraphs[0].edges.data())[0]},\\n dgl: {dglgraph.edata}')\n",
    "\n",
    "print(f'Graphs in the dataset: {len(nxgraphs)}')\n",
    "print('Node features of the first graph in the graph list: ')\n",
    "for node in nxgraphs[0].nodes(data=True):\n",
    "    print(node)\n",
    "\n",
    "print(\"Fully connected graph with edge features: \")\n",
    "print(nxgraphs[0].edges.data())\n",
    "\n",
    "pos = nx.spring_layout(nxgraphs[0])\n",
    "options = {\n",
    "    \"node_color\": \"#A0CBE2\",\n",
    "    \"width\": 0.5,\n",
    "    \"with_labels\": True,\n",
    "    \"node_size\": 600\n",
    "}\n",
    "plt.figure(1,figsize=(10,10)) \n",
    "nx.draw(nxgraphs[0], pos, **options)\n",
    "\n",
    "dglgraph = dgl.from_networkx(\n",
    "    nxgraphs[0], \n",
    "    node_attrs=nodeFeatures.keys(), \n",
    "    edge_attrs=edgeFeatures.keys())\n",
    "print(f'Node count - nx: {nxgraphs[0].number_of_nodes()}, dgl: {dglgraph.num_nodes()}')\n",
    "print(f'Edge count - nx: {nxgraphs[0].number_of_edges()}, dgl: {dglgraph.num_edges()}')\n",
    "\n",
    "print(f'Node Features \\n nx: {nxgraphs[0].nodes(data=True)[0]},\\n dgl: {dglgraph.ndata}')\n",
    "\n",
    "print(dglgraph)"
   ]
  }
 ],
 "metadata": {
  "kernelspec": {
   "display_name": "venv",
   "language": "python",
   "name": "venv"
  },
  "language_info": {
   "codemirror_mode": {
    "name": "ipython",
    "version": 3
   },
   "file_extension": ".py",
   "mimetype": "text/x-python",
   "name": "python",
   "nbconvert_exporter": "python",
   "pygments_lexer": "ipython3",
   "version": "3.8.5"
  }
 },
 "nbformat": 4,
 "nbformat_minor": 4
}

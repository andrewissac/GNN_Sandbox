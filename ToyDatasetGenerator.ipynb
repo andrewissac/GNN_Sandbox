{
 "cells": [
  {
   "cell_type": "code",
   "execution_count": 1,
   "metadata": {},
   "outputs": [
    {
     "name": "stderr",
     "output_type": "stream",
     "text": [
      "Using backend: pytorch\n"
     ]
    }
   ],
   "source": [
    "import dgl\n",
    "import math\n",
    "import torch\n",
    "import numpy as np\n",
    "import networkx as nx\n",
    "from os import path\n",
    "from pathlib import Path\n",
    "from copy import deepcopy\n",
    "from dgl.data import DGLDataset\n",
    "from Distribution import Distribution\n",
    "from ToyDGLDataset_v2 import ToyDGLDataset_v2\n",
    "from GraphDatasetInfo import (GraphSubdatasetInfo, GraphDatasetInfo)\n"
   ]
  },
  {
   "cell_type": "code",
   "execution_count": 2,
   "metadata": {},
   "outputs": [],
   "source": [
    "graphCountPerClass = 50000\n",
    "\n",
    "NodesPerGraph0 = Distribution(\n",
    "    distributionType='truncnorm', \n",
    "    minimum=2, maximum=10, \n",
    "    mean=6, standardDeviation=1)\n",
    "\n",
    "NodesPerGraph1 = Distribution(\n",
    "    distributionType='truncnorm', \n",
    "    minimum=5, maximum=20, \n",
    "    mean=13, standardDeviation=1)\n",
    "\n",
    "NodesPerGraphSameDist = Distribution(\n",
    "    distributionType='truncnorm', \n",
    "    minimum=2, maximum=20, \n",
    "    mean=10, standardDeviation=1)\n",
    "\n",
    "nFeatMapping = {'P_t': 0, 'Eta': 1, 'Phi': 2, 'Mass': 3, 'Type': 4}\n",
    "defaultNodeFeat = [\n",
    "    Distribution(10, 100, 'uniform'), # index 0 -> P_t\n",
    "    Distribution(-10, 10, 'uniform'), # index 1 -> Eta\n",
    "    Distribution(0, 2 * math.pi, 'uniform'), # index 2 -> Phi\n",
    "    Distribution(0.001, 1, 'uniform'), # index 3 -> Mass\n",
    "    Distribution(0, 2, 'uniform', roundToNearestInt=True) # index 4 -> Type\n",
    "]\n",
    "\n",
    "eFeatMapping = {'DeltaEta': 0, 'DeltaPhi': 1, 'RapiditySquared': 2}\n",
    "gFeatMapping = {'NodeCount': 0, 'TotalP_t': 1}\n",
    "\n",
    "\n",
    "graphlabel = [0, 1]\n",
    "splitPercentages = {'train': 0.7, 'valid': 0.2, 'test': 0.1}\n",
    "\n",
    "P_t_VeryDiffGraphClass1 = Distribution(\n",
    "    distributionType='uniform', \n",
    "    minimum=60, maximum=80)\n",
    "\n",
    "P_t_SlightlyDiffGraphClass0 = Distribution(\n",
    "    distributionType='truncnorm', \n",
    "    minimum=10, maximum=120, \n",
    "    mean=60, standardDeviation=5)\n",
    "\n",
    "P_t_SlightlyDiffGraphClass1 = Distribution(\n",
    "    distributionType='truncnorm', \n",
    "    minimum=10, maximum=120, \n",
    "    mean=70, standardDeviation=5)\n",
    "\n",
    "Eta_SlightlyDiffGraphClass0 = Distribution(\n",
    "    distributionType='truncnorm', \n",
    "    minimum=-10, maximum=10, \n",
    "    mean=0, standardDeviation=1)\n",
    "\n",
    "Eta_SlightlyDiffGraphClass1 = Distribution(\n",
    "    distributionType='truncnorm', \n",
    "    minimum=-10, maximum=10, \n",
    "    mean=1, standardDeviation=1)\n",
    "\n",
    "Eta_VeryDiffGraphClass0 = Distribution(\n",
    "    distributionType='truncnorm', \n",
    "    minimum=-10, maximum=10, \n",
    "    mean=-5, standardDeviation=1)\n",
    "\n",
    "Eta_VeryDiffGraphClass1 = Distribution(\n",
    "    distributionType='truncnorm', \n",
    "    minimum=-10, maximum=10, \n",
    "    mean=5, standardDeviation=1)"
   ]
  },
  {
   "cell_type": "code",
   "execution_count": 3,
   "metadata": {},
   "outputs": [
    {
     "name": "stderr",
     "output_type": "stream",
     "text": [
      "(1/2) Generating graphs from SubDataset GraphClass0: 100%|██████████| 50000/50000 [00:24<00:00, 2031.31it/s]\n",
      "(2/2) Generating graphs from SubDataset GraphClass1: 100%|██████████| 50000/50000 [00:24<00:00, 2018.47it/s]\n"
     ]
    },
    {
     "name": "stdout",
     "output_type": "stream",
     "text": [
      "Calculating and saving histograms...\n"
     ]
    },
    {
     "name": "stderr",
     "output_type": "stream",
     "text": [
      "/home/andrew/GNN_Sandbox/ToyDGLDataset_v2.py:390: UserWarning: Creating legend with loc=\"best\" can be slow with large amounts of data.\n",
      "  fig.savefig(outputFilePath)\n"
     ]
    },
    {
     "name": "stdout",
     "output_type": "stream",
     "text": [
      "Num Graph classes: 2\n",
      "Graph classes: [0, 1]\n",
      "Number of graphs: 100000\n",
      "Number of all nodes in all graphs: 950210\n",
      "Number of all edges in all graphs: 8186288\n",
      "Dim node features: 5\n",
      "Node feature keys: ['P_t', 'Eta', 'Phi', 'Mass', 'Type']\n",
      "Dim edge features: 3\n",
      "Edge feature keys: ['DeltaEta', 'DeltaPhi', 'RapiditySquared']\n",
      "Done saving data into cached files.\n"
     ]
    },
    {
     "data": {
      "text/plain": [
       "<Figure size 720x504 with 0 Axes>"
      ]
     },
     "metadata": {},
     "output_type": "display_data"
    }
   ],
   "source": [
    "toyname = 'Toy0_v2'\n",
    "rootOutputFolder = path.join('/home/andrew/GNN_Sandbox/GraphToyDatasets_v2', toyname)\n",
    "\n",
    "datasetname = toyname + '_0'\n",
    "outputFolder = path.join(rootOutputFolder, datasetname)\n",
    "Path(outputFolder).mkdir(parents=True, exist_ok=True)\n",
    "\n",
    "name = f'GraphClass{graphlabel[0]}'\n",
    "\n",
    "nodeFeat = deepcopy(defaultNodeFeat)\n",
    "\n",
    "graphsubdatasetInfo0 = GraphSubdatasetInfo(\n",
    "    name=name, label=graphlabel[0], \n",
    "    graphCount=graphCountPerClass, nodesPerGraph=NodesPerGraphSameDist, \n",
    "    nodeFeatMapping=nFeatMapping, nodeFeat=nodeFeat, \n",
    "    edgeFeatMapping=eFeatMapping, graphFeatMapping=gFeatMapping)\n",
    "#graphsubdatasetInfo0.nodeFeat[nFeatMapping['P_t']] = P_t_SlightlyDiffGraphClass0\n",
    "#graphsubdatasetInfo0.nodeFeat[nFeatMapping['Eta']] = Eta_SlightlyDiffGraphClass0\n",
    "\n",
    "name = f'GraphClass{graphlabel[1]}'\n",
    "graphsubdatasetInfo1 = deepcopy(graphsubdatasetInfo0)\n",
    "graphsubdatasetInfo1.name = name\n",
    "graphsubdatasetInfo1.label = graphlabel[1]\n",
    "#graphsubdatasetInfo1.nodeFeat[nFeatMapping['P_t']] = P_t_SlightlyDiffGraphClass1\n",
    "#graphsubdatasetInfo1.nodeFeat[nFeatMapping['Eta']] = Eta_SlightlyDiffGraphClass1\n",
    "\n",
    "subdatasets = []\n",
    "subdatasets.append(graphsubdatasetInfo0)\n",
    "subdatasets.append(graphsubdatasetInfo1)\n",
    "\n",
    "graphdatasetInfo = GraphDatasetInfo(\n",
    "    name=datasetname,\n",
    "    splitPercentages=splitPercentages,\n",
    "    graphSubDatasetInfos=subdatasets\n",
    ")\n",
    "\n",
    "graphdatasetInfo.SaveToJsonfile(outputFolder, f'{graphdatasetInfo.name}.json')\n",
    "dataset = ToyDGLDataset_v2(name=datasetname, info=graphdatasetInfo, shuffleDataset=True, save_dir=outputFolder)\n",
    "\n",
    "#can be loaded from json file like below:\n",
    "#graphdatasetInfo = GraphDatasetInfo.LoadFromJsonfile(path.join(outputFolder, f'{graphdatasetInfo.name}.json'))"
   ]
  },
  {
   "cell_type": "code",
   "execution_count": 4,
   "metadata": {},
   "outputs": [
    {
     "name": "stderr",
     "output_type": "stream",
     "text": [
      "(1/2) Generating graphs from SubDataset GraphClass0: 100%|██████████| 50000/50000 [00:19<00:00, 2555.03it/s]\n",
      "(2/2) Generating graphs from SubDataset GraphClass1: 100%|██████████| 50000/50000 [00:29<00:00, 1667.75it/s]\n"
     ]
    },
    {
     "name": "stdout",
     "output_type": "stream",
     "text": [
      "Calculating and saving histograms...\n"
     ]
    },
    {
     "name": "stderr",
     "output_type": "stream",
     "text": [
      "/home/andrew/GNN_Sandbox/ToyDGLDataset_v2.py:390: UserWarning: Creating legend with loc=\"best\" can be slow with large amounts of data.\n",
      "  fig.savefig(outputFilePath)\n"
     ]
    },
    {
     "name": "stdout",
     "output_type": "stream",
     "text": [
      "Num Graph classes: 2\n",
      "Graph classes: [0, 1]\n",
      "Number of graphs: 100000\n",
      "Number of all nodes in all graphs: 899785\n",
      "Number of all edges in all graphs: 8528868\n",
      "Dim node features: 5\n",
      "Node feature keys: ['P_t', 'Eta', 'Phi', 'Mass', 'Type']\n",
      "Dim edge features: 3\n",
      "Edge feature keys: ['DeltaEta', 'DeltaPhi', 'RapiditySquared']\n",
      "Done saving data into cached files.\n"
     ]
    },
    {
     "data": {
      "text/plain": [
       "<Figure size 720x504 with 0 Axes>"
      ]
     },
     "metadata": {},
     "output_type": "display_data"
    }
   ],
   "source": [
    "datasetname = toyname + '_1'\n",
    "outputFolder = path.join(rootOutputFolder, datasetname)\n",
    "Path(outputFolder).mkdir(parents=True, exist_ok=True)\n",
    "\n",
    "name = f'GraphClass{graphlabel[0]}'\n",
    "\n",
    "nodeFeat = deepcopy(defaultNodeFeat)\n",
    "\n",
    "graphsubdatasetInfo0 = GraphSubdatasetInfo(\n",
    "    name=name, label=graphlabel[0], \n",
    "    graphCount=graphCountPerClass, nodesPerGraph=NodesPerGraph0, \n",
    "    nodeFeatMapping=nFeatMapping, nodeFeat=nodeFeat, \n",
    "    edgeFeatMapping=eFeatMapping, graphFeatMapping=gFeatMapping)\n",
    "#graphsubdatasetInfo0.nodeFeat[nFeatMapping['P_t']] = P_t_SlightlyDiffGraphClass0\n",
    "#graphsubdatasetInfo0.nodeFeat[nFeatMapping['Eta']] = Eta_SlightlyDiffGraphClass0\n",
    "\n",
    "name = f'GraphClass{graphlabel[1]}'\n",
    "graphsubdatasetInfo1 = deepcopy(graphsubdatasetInfo0)\n",
    "graphsubdatasetInfo1.name = name\n",
    "graphsubdatasetInfo1.label = graphlabel[1]\n",
    "graphsubdatasetInfo1.nodesPerGraph = NodesPerGraph1\n",
    "#graphsubdatasetInfo1.nodeFeat[nFeatMapping['P_t']] = P_t_SlightlyDiffGraphClass1\n",
    "#graphsubdatasetInfo1.nodeFeat[nFeatMapping['Eta']] = Eta_SlightlyDiffGraphClass1\n",
    "\n",
    "\n",
    "subdatasets = []\n",
    "subdatasets.append(graphsubdatasetInfo0)\n",
    "subdatasets.append(graphsubdatasetInfo1)\n",
    "\n",
    "graphdatasetInfo = GraphDatasetInfo(\n",
    "    name=datasetname,\n",
    "    splitPercentages=splitPercentages,\n",
    "    graphSubDatasetInfos=subdatasets\n",
    ")\n",
    "\n",
    "graphdatasetInfo.SaveToJsonfile(outputFolder, f'{graphdatasetInfo.name}.json')\n",
    "dataset = ToyDGLDataset_v2(name=datasetname, info=graphdatasetInfo, shuffleDataset=True, save_dir=outputFolder)"
   ]
  },
  {
   "cell_type": "code",
   "execution_count": 5,
   "metadata": {},
   "outputs": [
    {
     "name": "stderr",
     "output_type": "stream",
     "text": [
      "(1/2) Generating graphs from SubDataset GraphClass0: 100%|██████████| 50000/50000 [00:24<00:00, 2062.50it/s]\n",
      "(2/2) Generating graphs from SubDataset GraphClass1: 100%|██████████| 50000/50000 [00:24<00:00, 2060.64it/s]\n"
     ]
    },
    {
     "name": "stdout",
     "output_type": "stream",
     "text": [
      "Calculating and saving histograms...\n"
     ]
    },
    {
     "name": "stderr",
     "output_type": "stream",
     "text": [
      "/home/andrew/GNN_Sandbox/ToyDGLDataset_v2.py:390: UserWarning: Creating legend with loc=\"best\" can be slow with large amounts of data.\n",
      "  fig.savefig(outputFilePath)\n"
     ]
    },
    {
     "name": "stdout",
     "output_type": "stream",
     "text": [
      "Num Graph classes: 2\n",
      "Graph classes: [0, 1]\n",
      "Number of graphs: 100000\n",
      "Number of all nodes in all graphs: 950149\n",
      "Number of all edges in all graphs: 8185618\n",
      "Dim node features: 5\n",
      "Node feature keys: ['P_t', 'Eta', 'Phi', 'Mass', 'Type']\n",
      "Dim edge features: 3\n",
      "Edge feature keys: ['DeltaEta', 'DeltaPhi', 'RapiditySquared']\n",
      "Done saving data into cached files.\n"
     ]
    },
    {
     "data": {
      "text/plain": [
       "<Figure size 720x504 with 0 Axes>"
      ]
     },
     "metadata": {},
     "output_type": "display_data"
    }
   ],
   "source": [
    "toyname = 'Toy1_v2'\n",
    "rootOutputFolder = path.join('/home/andrew/GNN_Sandbox/GraphToyDatasets_v2', toyname)\n",
    "\n",
    "datasetname = toyname + '_0'\n",
    "outputFolder = path.join(rootOutputFolder, datasetname)\n",
    "Path(outputFolder).mkdir(parents=True, exist_ok=True)\n",
    "\n",
    "name = f'GraphClass{graphlabel[0]}'\n",
    "\n",
    "nodeFeat = deepcopy(defaultNodeFeat)\n",
    "\n",
    "graphsubdatasetInfo0 = GraphSubdatasetInfo(\n",
    "    name=name, label=graphlabel[0], \n",
    "    graphCount=graphCountPerClass, nodesPerGraph=NodesPerGraphSameDist, \n",
    "    nodeFeatMapping=nFeatMapping, nodeFeat=nodeFeat, \n",
    "    edgeFeatMapping=eFeatMapping, graphFeatMapping=gFeatMapping)\n",
    "#graphsubdatasetInfo0.nodeFeat[nFeatMapping['P_t']] = P_t_SlightlyDiffGraphClass0\n",
    "#graphsubdatasetInfo0.nodeFeat[nFeatMapping['Eta']] = Eta_SlightlyDiffGraphClass0\n",
    "\n",
    "name = f'GraphClass{graphlabel[1]}'\n",
    "graphsubdatasetInfo1 = deepcopy(graphsubdatasetInfo0)\n",
    "graphsubdatasetInfo1.name = name\n",
    "graphsubdatasetInfo1.label = graphlabel[1]\n",
    "graphsubdatasetInfo1.nodeFeat[nFeatMapping['P_t']] = P_t_VeryDiffGraphClass1\n",
    "#graphsubdatasetInfo1.nodeFeat[nFeatMapping['Eta']] = Eta_SlightlyDiffGraphClass1\n",
    "\n",
    "subdatasets = []\n",
    "subdatasets.append(graphsubdatasetInfo0)\n",
    "subdatasets.append(graphsubdatasetInfo1)\n",
    "\n",
    "graphdatasetInfo = GraphDatasetInfo(\n",
    "    name=datasetname,\n",
    "    splitPercentages=splitPercentages,\n",
    "    graphSubDatasetInfos=subdatasets\n",
    ")\n",
    "\n",
    "graphdatasetInfo.SaveToJsonfile(outputFolder, f'{graphdatasetInfo.name}.json')\n",
    "dataset = ToyDGLDataset_v2(name=datasetname, info=graphdatasetInfo, shuffleDataset=True, save_dir=outputFolder)"
   ]
  },
  {
   "cell_type": "code",
   "execution_count": 6,
   "metadata": {},
   "outputs": [
    {
     "name": "stderr",
     "output_type": "stream",
     "text": [
      "(1/2) Generating graphs from SubDataset GraphClass0: 100%|██████████| 50000/50000 [00:19<00:00, 2593.18it/s]\n",
      "(2/2) Generating graphs from SubDataset GraphClass1: 100%|██████████| 50000/50000 [00:30<00:00, 1625.33it/s]\n"
     ]
    },
    {
     "name": "stdout",
     "output_type": "stream",
     "text": [
      "Calculating and saving histograms...\n"
     ]
    },
    {
     "name": "stderr",
     "output_type": "stream",
     "text": [
      "/home/andrew/GNN_Sandbox/ToyDGLDataset_v2.py:390: UserWarning: Creating legend with loc=\"best\" can be slow with large amounts of data.\n",
      "  fig.savefig(outputFilePath)\n"
     ]
    },
    {
     "name": "stdout",
     "output_type": "stream",
     "text": [
      "Num Graph classes: 2\n",
      "Graph classes: [0, 1]\n",
      "Number of graphs: 100000\n",
      "Number of all nodes in all graphs: 900026\n",
      "Number of all edges in all graphs: 8534608\n",
      "Dim node features: 5\n",
      "Node feature keys: ['P_t', 'Eta', 'Phi', 'Mass', 'Type']\n",
      "Dim edge features: 3\n",
      "Edge feature keys: ['DeltaEta', 'DeltaPhi', 'RapiditySquared']\n",
      "Done saving data into cached files.\n"
     ]
    },
    {
     "data": {
      "text/plain": [
       "<Figure size 720x504 with 0 Axes>"
      ]
     },
     "metadata": {},
     "output_type": "display_data"
    }
   ],
   "source": [
    "datasetname = toyname + '_1'\n",
    "outputFolder = path.join(rootOutputFolder, datasetname)\n",
    "Path(outputFolder).mkdir(parents=True, exist_ok=True)\n",
    "\n",
    "name = f'GraphClass{graphlabel[0]}'\n",
    "\n",
    "nodeFeat = deepcopy(defaultNodeFeat)\n",
    "\n",
    "graphsubdatasetInfo0 = GraphSubdatasetInfo(\n",
    "    name=name, label=graphlabel[0], \n",
    "    graphCount=graphCountPerClass, nodesPerGraph=NodesPerGraph0, \n",
    "    nodeFeatMapping=nFeatMapping, nodeFeat=nodeFeat, \n",
    "    edgeFeatMapping=eFeatMapping, graphFeatMapping=gFeatMapping)\n",
    "#graphsubdatasetInfo0.nodeFeat[nFeatMapping['P_t']] = P_t_SlightlyDiffGraphClass0\n",
    "#graphsubdatasetInfo0.nodeFeat[nFeatMapping['Eta']] = Eta_SlightlyDiffGraphClass0\n",
    "\n",
    "name = f'GraphClass{graphlabel[1]}'\n",
    "graphsubdatasetInfo1 = deepcopy(graphsubdatasetInfo0)\n",
    "graphsubdatasetInfo1.name = name\n",
    "graphsubdatasetInfo1.label = graphlabel[1]\n",
    "graphsubdatasetInfo1.nodesPerGraph = NodesPerGraph1\n",
    "graphsubdatasetInfo1.nodeFeat[nFeatMapping['P_t']] = P_t_VeryDiffGraphClass1\n",
    "#graphsubdatasetInfo1.nodeFeat[nFeatMapping['Eta']] = Eta_SlightlyDiffGraphClass1\n",
    "\n",
    "subdatasets = []\n",
    "subdatasets.append(graphsubdatasetInfo0)\n",
    "subdatasets.append(graphsubdatasetInfo1)\n",
    "\n",
    "graphdatasetInfo = GraphDatasetInfo(\n",
    "    name=datasetname,\n",
    "    splitPercentages=splitPercentages,\n",
    "    graphSubDatasetInfos=subdatasets\n",
    ")\n",
    "\n",
    "graphdatasetInfo.SaveToJsonfile(outputFolder, f'{graphdatasetInfo.name}.json')\n",
    "dataset = ToyDGLDataset_v2(name=datasetname, info=graphdatasetInfo, shuffleDataset=True, save_dir=outputFolder)"
   ]
  },
  {
   "cell_type": "code",
   "execution_count": 7,
   "metadata": {},
   "outputs": [
    {
     "name": "stderr",
     "output_type": "stream",
     "text": [
      "(1/2) Generating graphs from SubDataset GraphClass0: 100%|██████████| 50000/50000 [00:49<00:00, 1001.06it/s]\n",
      "(2/2) Generating graphs from SubDataset GraphClass1: 100%|██████████| 50000/50000 [00:48<00:00, 1024.48it/s]\n"
     ]
    },
    {
     "name": "stdout",
     "output_type": "stream",
     "text": [
      "Calculating and saving histograms...\n"
     ]
    },
    {
     "name": "stderr",
     "output_type": "stream",
     "text": [
      "/home/andrew/GNN_Sandbox/ToyDGLDataset_v2.py:390: UserWarning: Creating legend with loc=\"best\" can be slow with large amounts of data.\n",
      "  fig.savefig(outputFilePath)\n"
     ]
    },
    {
     "name": "stdout",
     "output_type": "stream",
     "text": [
      "Num Graph classes: 2\n",
      "Graph classes: [0, 1]\n",
      "Number of graphs: 100000\n",
      "Number of all nodes in all graphs: 950422\n",
      "Number of all edges in all graphs: 8190976\n",
      "Dim node features: 5\n",
      "Node feature keys: ['P_t', 'Eta', 'Phi', 'Mass', 'Type']\n",
      "Dim edge features: 3\n",
      "Edge feature keys: ['DeltaEta', 'DeltaPhi', 'RapiditySquared']\n",
      "Done saving data into cached files.\n"
     ]
    },
    {
     "data": {
      "text/plain": [
       "<Figure size 720x504 with 0 Axes>"
      ]
     },
     "metadata": {},
     "output_type": "display_data"
    }
   ],
   "source": [
    "toyname = 'Toy2_v2'\n",
    "rootOutputFolder = path.join('/home/andrew/GNN_Sandbox/GraphToyDatasets_v2', toyname)\n",
    "\n",
    "datasetname = toyname + '_0'\n",
    "outputFolder = path.join(rootOutputFolder, datasetname)\n",
    "Path(outputFolder).mkdir(parents=True, exist_ok=True)\n",
    "\n",
    "name = f'GraphClass{graphlabel[0]}'\n",
    "\n",
    "nodeFeat = deepcopy(defaultNodeFeat)\n",
    "\n",
    "graphsubdatasetInfo0 = GraphSubdatasetInfo(\n",
    "    name=name, label=graphlabel[0], \n",
    "    graphCount=graphCountPerClass, nodesPerGraph=NodesPerGraphSameDist, \n",
    "    nodeFeatMapping=nFeatMapping, nodeFeat=nodeFeat, \n",
    "    edgeFeatMapping=eFeatMapping, graphFeatMapping=gFeatMapping)\n",
    "graphsubdatasetInfo0.nodeFeat[nFeatMapping['P_t']] = P_t_SlightlyDiffGraphClass0\n",
    "#graphsubdatasetInfo0.nodeFeat[nFeatMapping['Eta']] = Eta_SlightlyDiffGraphClass0\n",
    "\n",
    "name = f'GraphClass{graphlabel[1]}'\n",
    "graphsubdatasetInfo1 = deepcopy(graphsubdatasetInfo0)\n",
    "graphsubdatasetInfo1.name = name\n",
    "graphsubdatasetInfo1.label = graphlabel[1]\n",
    "graphsubdatasetInfo1.nodeFeat[nFeatMapping['P_t']] = P_t_SlightlyDiffGraphClass1\n",
    "#graphsubdatasetInfo1.nodeFeat[nFeatMapping['Eta']] = Eta_SlightlyDiffGraphClass1\n",
    "\n",
    "subdatasets = []\n",
    "subdatasets.append(graphsubdatasetInfo0)\n",
    "subdatasets.append(graphsubdatasetInfo1)\n",
    "\n",
    "graphdatasetInfo = GraphDatasetInfo(\n",
    "    name=datasetname,\n",
    "    splitPercentages=splitPercentages,\n",
    "    graphSubDatasetInfos=subdatasets\n",
    ")\n",
    "\n",
    "graphdatasetInfo.SaveToJsonfile(outputFolder, f'{graphdatasetInfo.name}.json')\n",
    "dataset = ToyDGLDataset_v2(name=datasetname, info=graphdatasetInfo, shuffleDataset=True, save_dir=outputFolder)"
   ]
  },
  {
   "cell_type": "code",
   "execution_count": 8,
   "metadata": {},
   "outputs": [
    {
     "name": "stderr",
     "output_type": "stream",
     "text": [
      "(1/2) Generating graphs from SubDataset GraphClass0: 100%|██████████| 50000/50000 [00:44<00:00, 1113.85it/s]\n",
      "(2/2) Generating graphs from SubDataset GraphClass1: 100%|██████████| 50000/50000 [00:52<00:00, 944.38it/s]\n"
     ]
    },
    {
     "name": "stdout",
     "output_type": "stream",
     "text": [
      "Calculating and saving histograms...\n"
     ]
    },
    {
     "name": "stderr",
     "output_type": "stream",
     "text": [
      "/home/andrew/GNN_Sandbox/ToyDGLDataset_v2.py:390: UserWarning: Creating legend with loc=\"best\" can be slow with large amounts of data.\n",
      "  fig.savefig(outputFilePath)\n"
     ]
    },
    {
     "name": "stdout",
     "output_type": "stream",
     "text": [
      "Num Graph classes: 2\n",
      "Graph classes: [0, 1]\n",
      "Number of graphs: 100000\n",
      "Number of all nodes in all graphs: 899813\n",
      "Number of all edges in all graphs: 8530744\n",
      "Dim node features: 5\n",
      "Node feature keys: ['P_t', 'Eta', 'Phi', 'Mass', 'Type']\n",
      "Dim edge features: 3\n",
      "Edge feature keys: ['DeltaEta', 'DeltaPhi', 'RapiditySquared']\n",
      "Done saving data into cached files.\n"
     ]
    },
    {
     "data": {
      "text/plain": [
       "<Figure size 720x504 with 0 Axes>"
      ]
     },
     "metadata": {},
     "output_type": "display_data"
    }
   ],
   "source": [
    "datasetname = toyname + '_1'\n",
    "outputFolder = path.join(rootOutputFolder, datasetname)\n",
    "Path(outputFolder).mkdir(parents=True, exist_ok=True)\n",
    "\n",
    "name = f'GraphClass{graphlabel[0]}'\n",
    "\n",
    "nodeFeat = deepcopy(defaultNodeFeat)\n",
    "\n",
    "graphsubdatasetInfo0 = GraphSubdatasetInfo(\n",
    "    name=name, label=graphlabel[0], \n",
    "    graphCount=graphCountPerClass, nodesPerGraph=NodesPerGraph0, \n",
    "    nodeFeatMapping=nFeatMapping, nodeFeat=nodeFeat, \n",
    "    edgeFeatMapping=eFeatMapping, graphFeatMapping=gFeatMapping)\n",
    "graphsubdatasetInfo0.nodeFeat[nFeatMapping['P_t']] = P_t_SlightlyDiffGraphClass0\n",
    "#graphsubdatasetInfo0.nodeFeat[nFeatMapping['Eta']] = Eta_SlightlyDiffGraphClass0\n",
    "\n",
    "name = f'GraphClass{graphlabel[1]}'\n",
    "graphsubdatasetInfo1 = deepcopy(graphsubdatasetInfo0)\n",
    "graphsubdatasetInfo1.name = name\n",
    "graphsubdatasetInfo1.label = graphlabel[1]\n",
    "graphsubdatasetInfo1.nodesPerGraph = NodesPerGraph1\n",
    "graphsubdatasetInfo1.nodeFeat[nFeatMapping['P_t']] = P_t_SlightlyDiffGraphClass1\n",
    "#graphsubdatasetInfo1.nodeFeat[nFeatMapping['Eta']] = Eta_SlightlyDiffGraphClass1\n",
    "\n",
    "subdatasets = []\n",
    "subdatasets.append(graphsubdatasetInfo0)\n",
    "subdatasets.append(graphsubdatasetInfo1)\n",
    "\n",
    "graphdatasetInfo = GraphDatasetInfo(\n",
    "    name=datasetname,\n",
    "    splitPercentages=splitPercentages,\n",
    "    graphSubDatasetInfos=subdatasets\n",
    ")\n",
    "\n",
    "graphdatasetInfo.SaveToJsonfile(outputFolder, f'{graphdatasetInfo.name}.json')\n",
    "dataset = ToyDGLDataset_v2(name=datasetname, info=graphdatasetInfo, shuffleDataset=True, save_dir=outputFolder)"
   ]
  },
  {
   "cell_type": "code",
   "execution_count": 9,
   "metadata": {},
   "outputs": [
    {
     "name": "stderr",
     "output_type": "stream",
     "text": [
      "(1/2) Generating graphs from SubDataset GraphClass0: 100%|██████████| 50000/50000 [01:13<00:00, 681.86it/s]\n",
      "(2/2) Generating graphs from SubDataset GraphClass1: 100%|██████████| 50000/50000 [01:11<00:00, 700.12it/s]\n"
     ]
    },
    {
     "name": "stdout",
     "output_type": "stream",
     "text": [
      "Calculating and saving histograms...\n"
     ]
    },
    {
     "name": "stderr",
     "output_type": "stream",
     "text": [
      "/home/andrew/GNN_Sandbox/ToyDGLDataset_v2.py:390: UserWarning: Creating legend with loc=\"best\" can be slow with large amounts of data.\n",
      "  fig.savefig(outputFilePath)\n"
     ]
    },
    {
     "name": "stdout",
     "output_type": "stream",
     "text": [
      "Num Graph classes: 2\n",
      "Graph classes: [0, 1]\n",
      "Number of graphs: 100000\n",
      "Number of all nodes in all graphs: 949846\n",
      "Number of all edges in all graphs: 8180270\n",
      "Dim node features: 5\n",
      "Node feature keys: ['P_t', 'Eta', 'Phi', 'Mass', 'Type']\n",
      "Dim edge features: 3\n",
      "Edge feature keys: ['DeltaEta', 'DeltaPhi', 'RapiditySquared']\n",
      "Done saving data into cached files.\n"
     ]
    },
    {
     "data": {
      "text/plain": [
       "<Figure size 720x504 with 0 Axes>"
      ]
     },
     "metadata": {},
     "output_type": "display_data"
    }
   ],
   "source": [
    "toyname = 'Toy3_v2'\n",
    "rootOutputFolder = path.join('/home/andrew/GNN_Sandbox/GraphToyDatasets_v2', toyname)\n",
    "\n",
    "datasetname = toyname + '_0'\n",
    "outputFolder = path.join(rootOutputFolder, datasetname)\n",
    "Path(outputFolder).mkdir(parents=True, exist_ok=True)\n",
    "\n",
    "name = f'GraphClass{graphlabel[0]}'\n",
    "\n",
    "nodeFeat = deepcopy(defaultNodeFeat)\n",
    "\n",
    "graphsubdatasetInfo0 = GraphSubdatasetInfo(\n",
    "    name=name, label=graphlabel[0], \n",
    "    graphCount=graphCountPerClass, nodesPerGraph=NodesPerGraphSameDist, \n",
    "    nodeFeatMapping=nFeatMapping, nodeFeat=nodeFeat, \n",
    "    edgeFeatMapping=eFeatMapping, graphFeatMapping=gFeatMapping)\n",
    "graphsubdatasetInfo0.nodeFeat[nFeatMapping['P_t']] = P_t_SlightlyDiffGraphClass0\n",
    "graphsubdatasetInfo0.nodeFeat[nFeatMapping['Eta']] = Eta_SlightlyDiffGraphClass0\n",
    "\n",
    "name = f'GraphClass{graphlabel[1]}'\n",
    "graphsubdatasetInfo1 = deepcopy(graphsubdatasetInfo0)\n",
    "graphsubdatasetInfo1.name = name\n",
    "graphsubdatasetInfo1.label = graphlabel[1]\n",
    "graphsubdatasetInfo1.nodeFeat[nFeatMapping['P_t']] = P_t_SlightlyDiffGraphClass1\n",
    "graphsubdatasetInfo1.nodeFeat[nFeatMapping['Eta']] = Eta_SlightlyDiffGraphClass1\n",
    "\n",
    "subdatasets = []\n",
    "subdatasets.append(graphsubdatasetInfo0)\n",
    "subdatasets.append(graphsubdatasetInfo1)\n",
    "\n",
    "graphdatasetInfo = GraphDatasetInfo(\n",
    "    name=datasetname,\n",
    "    splitPercentages=splitPercentages,\n",
    "    graphSubDatasetInfos=subdatasets\n",
    ")\n",
    "\n",
    "graphdatasetInfo.SaveToJsonfile(outputFolder, f'{graphdatasetInfo.name}.json')\n",
    "dataset = ToyDGLDataset_v2(name=datasetname, info=graphdatasetInfo, shuffleDataset=True, save_dir=outputFolder)"
   ]
  },
  {
   "cell_type": "code",
   "execution_count": 10,
   "metadata": {},
   "outputs": [
    {
     "name": "stderr",
     "output_type": "stream",
     "text": [
      "(1/2) Generating graphs from SubDataset GraphClass0: 100%|██████████| 50000/50000 [01:08<00:00, 726.10it/s]\n",
      "(2/2) Generating graphs from SubDataset GraphClass1: 100%|██████████| 50000/50000 [01:17<00:00, 641.25it/s]\n"
     ]
    },
    {
     "name": "stdout",
     "output_type": "stream",
     "text": [
      "Calculating and saving histograms...\n",
      "Num Graph classes: 2\n",
      "Graph classes: [0, 1]\n",
      "Number of graphs: 100000\n",
      "Number of all nodes in all graphs: 899881\n",
      "Number of all edges in all graphs: 8533008\n",
      "Dim node features: 5\n",
      "Node feature keys: ['P_t', 'Eta', 'Phi', 'Mass', 'Type']\n",
      "Dim edge features: 3\n",
      "Edge feature keys: ['DeltaEta', 'DeltaPhi', 'RapiditySquared']\n",
      "Done saving data into cached files.\n"
     ]
    },
    {
     "data": {
      "text/plain": [
       "<Figure size 720x504 with 0 Axes>"
      ]
     },
     "metadata": {},
     "output_type": "display_data"
    }
   ],
   "source": [
    "datasetname = toyname + '_1'\n",
    "outputFolder = path.join(rootOutputFolder, datasetname)\n",
    "Path(outputFolder).mkdir(parents=True, exist_ok=True)\n",
    "\n",
    "name = f'GraphClass{graphlabel[0]}'\n",
    "\n",
    "nodeFeat = deepcopy(defaultNodeFeat)\n",
    "\n",
    "graphsubdatasetInfo0 = GraphSubdatasetInfo(\n",
    "    name=name, label=graphlabel[0], \n",
    "    graphCount=graphCountPerClass, nodesPerGraph=NodesPerGraph0, \n",
    "    nodeFeatMapping=nFeatMapping, nodeFeat=nodeFeat, \n",
    "    edgeFeatMapping=eFeatMapping, graphFeatMapping=gFeatMapping)\n",
    "graphsubdatasetInfo0.nodeFeat[nFeatMapping['P_t']] = P_t_SlightlyDiffGraphClass0\n",
    "graphsubdatasetInfo0.nodeFeat[nFeatMapping['Eta']] = Eta_SlightlyDiffGraphClass0\n",
    "\n",
    "name = f'GraphClass{graphlabel[1]}'\n",
    "graphsubdatasetInfo1 = deepcopy(graphsubdatasetInfo0)\n",
    "graphsubdatasetInfo1.name = name\n",
    "graphsubdatasetInfo1.label = graphlabel[1]\n",
    "graphsubdatasetInfo1.nodesPerGraph = NodesPerGraph1\n",
    "graphsubdatasetInfo1.nodeFeat[nFeatMapping['P_t']] = P_t_SlightlyDiffGraphClass1\n",
    "graphsubdatasetInfo1.nodeFeat[nFeatMapping['Eta']] = Eta_SlightlyDiffGraphClass1\n",
    "\n",
    "subdatasets = []\n",
    "subdatasets.append(graphsubdatasetInfo0)\n",
    "subdatasets.append(graphsubdatasetInfo1)\n",
    "\n",
    "graphdatasetInfo = GraphDatasetInfo(\n",
    "    name=datasetname,\n",
    "    splitPercentages=splitPercentages,\n",
    "    graphSubDatasetInfos=subdatasets\n",
    ")\n",
    "\n",
    "graphdatasetInfo.SaveToJsonfile(outputFolder, f'{graphdatasetInfo.name}.json')\n",
    "dataset = ToyDGLDataset_v2(name=datasetname, info=graphdatasetInfo, shuffleDataset=True, save_dir=outputFolder)"
   ]
  },
  {
   "cell_type": "code",
   "execution_count": 11,
   "metadata": {},
   "outputs": [
    {
     "name": "stderr",
     "output_type": "stream",
     "text": [
      "(1/2) Generating graphs from SubDataset GraphClass0: 100%|██████████| 50000/50000 [01:13<00:00, 681.30it/s]\n",
      "(2/2) Generating graphs from SubDataset GraphClass1: 100%|██████████| 50000/50000 [01:14<00:00, 670.45it/s]\n"
     ]
    },
    {
     "name": "stdout",
     "output_type": "stream",
     "text": [
      "Calculating and saving histograms...\n",
      "Num Graph classes: 2\n",
      "Graph classes: [0, 1]\n",
      "Number of graphs: 100000\n",
      "Number of all nodes in all graphs: 950403\n",
      "Number of all edges in all graphs: 8190358\n",
      "Dim node features: 5\n",
      "Node feature keys: ['P_t', 'Eta', 'Phi', 'Mass', 'Type']\n",
      "Dim edge features: 3\n",
      "Edge feature keys: ['DeltaEta', 'DeltaPhi', 'RapiditySquared']\n",
      "Done saving data into cached files.\n"
     ]
    },
    {
     "data": {
      "text/plain": [
       "<Figure size 720x504 with 0 Axes>"
      ]
     },
     "metadata": {},
     "output_type": "display_data"
    }
   ],
   "source": [
    "toyname = 'Toy4_v2'\n",
    "rootOutputFolder = path.join('/home/andrew/GNN_Sandbox/GraphToyDatasets_v2', toyname)\n",
    "\n",
    "datasetname = toyname + '_0'\n",
    "outputFolder = path.join(rootOutputFolder, datasetname)\n",
    "Path(outputFolder).mkdir(parents=True, exist_ok=True)\n",
    "\n",
    "name = f'GraphClass{graphlabel[0]}'\n",
    "\n",
    "nodeFeat = deepcopy(defaultNodeFeat)\n",
    "\n",
    "graphsubdatasetInfo0 = GraphSubdatasetInfo(\n",
    "    name=name, label=graphlabel[0], \n",
    "    graphCount=graphCountPerClass, nodesPerGraph=NodesPerGraphSameDist, \n",
    "    nodeFeatMapping=nFeatMapping, nodeFeat=nodeFeat, \n",
    "    edgeFeatMapping=eFeatMapping, graphFeatMapping=gFeatMapping)\n",
    "graphsubdatasetInfo0.nodeFeat[nFeatMapping['P_t']] = P_t_SlightlyDiffGraphClass0\n",
    "graphsubdatasetInfo0.nodeFeat[nFeatMapping['Eta']] = Eta_VeryDiffGraphClass0\n",
    "\n",
    "name = f'GraphClass{graphlabel[1]}'\n",
    "graphsubdatasetInfo1 = deepcopy(graphsubdatasetInfo0)\n",
    "graphsubdatasetInfo1.name = name\n",
    "graphsubdatasetInfo1.label = graphlabel[1]\n",
    "graphsubdatasetInfo1.nodeFeat[nFeatMapping['P_t']] = P_t_SlightlyDiffGraphClass1\n",
    "graphsubdatasetInfo1.nodeFeat[nFeatMapping['Eta']] = Eta_VeryDiffGraphClass1\n",
    "\n",
    "subdatasets = []\n",
    "subdatasets.append(graphsubdatasetInfo0)\n",
    "subdatasets.append(graphsubdatasetInfo1)\n",
    "\n",
    "graphdatasetInfo = GraphDatasetInfo(\n",
    "    name=datasetname,\n",
    "    splitPercentages=splitPercentages,\n",
    "    graphSubDatasetInfos=subdatasets\n",
    ")\n",
    "\n",
    "graphdatasetInfo.SaveToJsonfile(outputFolder, f'{graphdatasetInfo.name}.json')\n",
    "dataset = ToyDGLDataset_v2(name=datasetname, info=graphdatasetInfo, shuffleDataset=True, save_dir=outputFolder)"
   ]
  },
  {
   "cell_type": "code",
   "execution_count": 12,
   "metadata": {},
   "outputs": [
    {
     "name": "stderr",
     "output_type": "stream",
     "text": [
      "(1/2) Generating graphs from SubDataset GraphClass0: 100%|██████████| 50000/50000 [01:08<00:00, 726.15it/s]\n",
      "(2/2) Generating graphs from SubDataset GraphClass1: 100%|██████████| 50000/50000 [01:18<00:00, 639.08it/s]\n"
     ]
    },
    {
     "name": "stdout",
     "output_type": "stream",
     "text": [
      "Calculating and saving histograms...\n",
      "Num Graph classes: 2\n",
      "Graph classes: [0, 1]\n",
      "Number of graphs: 100000\n",
      "Number of all nodes in all graphs: 900010\n",
      "Number of all edges in all graphs: 8531668\n",
      "Dim node features: 5\n",
      "Node feature keys: ['P_t', 'Eta', 'Phi', 'Mass', 'Type']\n",
      "Dim edge features: 3\n",
      "Edge feature keys: ['DeltaEta', 'DeltaPhi', 'RapiditySquared']\n",
      "Done saving data into cached files.\n"
     ]
    },
    {
     "data": {
      "text/plain": [
       "<Figure size 720x504 with 0 Axes>"
      ]
     },
     "metadata": {},
     "output_type": "display_data"
    }
   ],
   "source": [
    "datasetname = toyname + '_1'\n",
    "outputFolder = path.join(rootOutputFolder, datasetname)\n",
    "Path(outputFolder).mkdir(parents=True, exist_ok=True)\n",
    "\n",
    "name = f'GraphClass{graphlabel[0]}'\n",
    "\n",
    "nodeFeat = deepcopy(defaultNodeFeat)\n",
    "\n",
    "graphsubdatasetInfo0 = GraphSubdatasetInfo(\n",
    "    name=name, label=graphlabel[0], \n",
    "    graphCount=graphCountPerClass, nodesPerGraph=NodesPerGraph0, \n",
    "    nodeFeatMapping=nFeatMapping, nodeFeat=nodeFeat, \n",
    "    edgeFeatMapping=eFeatMapping, graphFeatMapping=gFeatMapping)\n",
    "graphsubdatasetInfo0.nodeFeat[nFeatMapping['P_t']] = P_t_SlightlyDiffGraphClass0\n",
    "graphsubdatasetInfo0.nodeFeat[nFeatMapping['Eta']] = Eta_VeryDiffGraphClass0\n",
    "\n",
    "name = f'GraphClass{graphlabel[1]}'\n",
    "graphsubdatasetInfo1 = deepcopy(graphsubdatasetInfo0)\n",
    "graphsubdatasetInfo1.name = name\n",
    "graphsubdatasetInfo1.label = graphlabel[1]\n",
    "graphsubdatasetInfo1.nodesPerGraph = NodesPerGraph1\n",
    "graphsubdatasetInfo1.nodeFeat[nFeatMapping['P_t']] = P_t_SlightlyDiffGraphClass1\n",
    "graphsubdatasetInfo1.nodeFeat[nFeatMapping['Eta']] = Eta_VeryDiffGraphClass1\n",
    "\n",
    "subdatasets = []\n",
    "subdatasets.append(graphsubdatasetInfo0)\n",
    "subdatasets.append(graphsubdatasetInfo1)\n",
    "\n",
    "graphdatasetInfo = GraphDatasetInfo(\n",
    "    name=datasetname,\n",
    "    splitPercentages=splitPercentages,\n",
    "    graphSubDatasetInfos=subdatasets\n",
    ")\n",
    "\n",
    "graphdatasetInfo.SaveToJsonfile(outputFolder, f'{graphdatasetInfo.name}.json')\n",
    "dataset = ToyDGLDataset_v2(name=datasetname, info=graphdatasetInfo, shuffleDataset=True, save_dir=outputFolder)"
   ]
  },
  {
   "cell_type": "code",
   "execution_count": 13,
   "metadata": {},
   "outputs": [
    {
     "name": "stderr",
     "output_type": "stream",
     "text": [
      "(1/2) Generating graphs from SubDataset GraphClass0: 100%|██████████| 50000/50000 [00:51<00:00, 980.31it/s] \n",
      "(2/2) Generating graphs from SubDataset GraphClass1: 100%|██████████| 50000/50000 [00:50<00:00, 983.91it/s] \n"
     ]
    },
    {
     "name": "stdout",
     "output_type": "stream",
     "text": [
      "Calculating and saving histograms...\n"
     ]
    },
    {
     "name": "stderr",
     "output_type": "stream",
     "text": [
      "/home/andrew/GNN_Sandbox/ToyDGLDataset_v2.py:390: UserWarning: Creating legend with loc=\"best\" can be slow with large amounts of data.\n",
      "  fig.savefig(outputFilePath)\n"
     ]
    },
    {
     "name": "stdout",
     "output_type": "stream",
     "text": [
      "Num Graph classes: 2\n",
      "Graph classes: [0, 1]\n",
      "Number of graphs: 100000\n",
      "Number of all nodes in all graphs: 950244\n",
      "Number of all edges in all graphs: 8187288\n",
      "Dim node features: 5\n",
      "Node feature keys: ['P_t', 'Eta', 'Phi', 'Mass', 'Type']\n",
      "Dim edge features: 3\n",
      "Edge feature keys: ['DeltaEta', 'DeltaPhi', 'RapiditySquared']\n",
      "Done saving data into cached files.\n"
     ]
    },
    {
     "data": {
      "text/plain": [
       "<Figure size 720x504 with 0 Axes>"
      ]
     },
     "metadata": {},
     "output_type": "display_data"
    }
   ],
   "source": [
    "toyname = 'Toy5_v2'\n",
    "rootOutputFolder = path.join('/home/andrew/GNN_Sandbox/GraphToyDatasets_v2', toyname)\n",
    "\n",
    "datasetname = toyname + '_0'\n",
    "outputFolder = path.join(rootOutputFolder, datasetname)\n",
    "Path(outputFolder).mkdir(parents=True, exist_ok=True)\n",
    "\n",
    "name = f'GraphClass{graphlabel[0]}'\n",
    "\n",
    "nodeFeat = deepcopy(defaultNodeFeat)\n",
    "\n",
    "graphsubdatasetInfo0 = GraphSubdatasetInfo(\n",
    "    name=name, label=graphlabel[0], \n",
    "    graphCount=graphCountPerClass, nodesPerGraph=NodesPerGraphSameDist, \n",
    "    nodeFeatMapping=nFeatMapping, nodeFeat=nodeFeat, \n",
    "    edgeFeatMapping=eFeatMapping, graphFeatMapping=gFeatMapping)\n",
    "#graphsubdatasetInfo0.nodeFeat[nFeatMapping['P_t']] = P_t_SlightlyDiffGraphClass0\n",
    "graphsubdatasetInfo0.nodeFeat[nFeatMapping['Eta']] = Eta_SlightlyDiffGraphClass0\n",
    "\n",
    "name = f'GraphClass{graphlabel[1]}'\n",
    "graphsubdatasetInfo1 = deepcopy(graphsubdatasetInfo0)\n",
    "graphsubdatasetInfo1.name = name\n",
    "graphsubdatasetInfo1.label = graphlabel[1]\n",
    "#graphsubdatasetInfo1.nodeFeat[nFeatMapping['P_t']] = P_t_SlightlyDiffGraphClass1\n",
    "graphsubdatasetInfo1.nodeFeat[nFeatMapping['Eta']] = Eta_SlightlyDiffGraphClass1\n",
    "\n",
    "subdatasets = []\n",
    "subdatasets.append(graphsubdatasetInfo0)\n",
    "subdatasets.append(graphsubdatasetInfo1)\n",
    "\n",
    "graphdatasetInfo = GraphDatasetInfo(\n",
    "    name=datasetname,\n",
    "    splitPercentages=splitPercentages,\n",
    "    graphSubDatasetInfos=subdatasets\n",
    ")\n",
    "\n",
    "graphdatasetInfo.SaveToJsonfile(outputFolder, f'{graphdatasetInfo.name}.json')\n",
    "dataset = ToyDGLDataset_v2(name=datasetname, info=graphdatasetInfo, shuffleDataset=True, save_dir=outputFolder)"
   ]
  },
  {
   "cell_type": "code",
   "execution_count": 14,
   "metadata": {},
   "outputs": [
    {
     "name": "stderr",
     "output_type": "stream",
     "text": [
      "(1/2) Generating graphs from SubDataset GraphClass0: 100%|██████████| 50000/50000 [00:46<00:00, 1081.03it/s]\n",
      "(2/2) Generating graphs from SubDataset GraphClass1: 100%|██████████| 50000/50000 [00:57<00:00, 863.00it/s]\n"
     ]
    },
    {
     "name": "stdout",
     "output_type": "stream",
     "text": [
      "Calculating and saving histograms...\n"
     ]
    },
    {
     "name": "stderr",
     "output_type": "stream",
     "text": [
      "/home/andrew/GNN_Sandbox/ToyDGLDataset_v2.py:390: UserWarning: Creating legend with loc=\"best\" can be slow with large amounts of data.\n",
      "  fig.savefig(outputFilePath)\n"
     ]
    },
    {
     "name": "stdout",
     "output_type": "stream",
     "text": [
      "Num Graph classes: 2\n",
      "Graph classes: [0, 1]\n",
      "Number of graphs: 100000\n",
      "Number of all nodes in all graphs: 899466\n",
      "Number of all edges in all graphs: 8523448\n",
      "Dim node features: 5\n",
      "Node feature keys: ['P_t', 'Eta', 'Phi', 'Mass', 'Type']\n",
      "Dim edge features: 3\n",
      "Edge feature keys: ['DeltaEta', 'DeltaPhi', 'RapiditySquared']\n",
      "Done saving data into cached files.\n"
     ]
    },
    {
     "data": {
      "text/plain": [
       "<Figure size 720x504 with 0 Axes>"
      ]
     },
     "metadata": {},
     "output_type": "display_data"
    }
   ],
   "source": [
    "datasetname = toyname + '_1'\n",
    "outputFolder = path.join(rootOutputFolder, datasetname)\n",
    "Path(outputFolder).mkdir(parents=True, exist_ok=True)\n",
    "\n",
    "name = f'GraphClass{graphlabel[0]}'\n",
    "\n",
    "nodeFeat = deepcopy(defaultNodeFeat)\n",
    "\n",
    "graphsubdatasetInfo0 = GraphSubdatasetInfo(\n",
    "    name=name, label=graphlabel[0], \n",
    "    graphCount=graphCountPerClass, nodesPerGraph=NodesPerGraph0, \n",
    "    nodeFeatMapping=nFeatMapping, nodeFeat=nodeFeat, \n",
    "    edgeFeatMapping=eFeatMapping, graphFeatMapping=gFeatMapping)\n",
    "#graphsubdatasetInfo0.nodeFeat[nFeatMapping['P_t']] = P_t_SlightlyDiffGraphClass0\n",
    "graphsubdatasetInfo0.nodeFeat[nFeatMapping['Eta']] = Eta_SlightlyDiffGraphClass0\n",
    "\n",
    "name = f'GraphClass{graphlabel[1]}'\n",
    "graphsubdatasetInfo1 = deepcopy(graphsubdatasetInfo0)\n",
    "graphsubdatasetInfo1.name = name\n",
    "graphsubdatasetInfo1.label = graphlabel[1]\n",
    "graphsubdatasetInfo1.nodesPerGraph = NodesPerGraph1\n",
    "#graphsubdatasetInfo1.nodeFeat[nFeatMapping['P_t']] = P_t_SlightlyDiffGraphClass1\n",
    "graphsubdatasetInfo1.nodeFeat[nFeatMapping['Eta']] = Eta_SlightlyDiffGraphClass1\n",
    "\n",
    "subdatasets = []\n",
    "subdatasets.append(graphsubdatasetInfo0)\n",
    "subdatasets.append(graphsubdatasetInfo1)\n",
    "\n",
    "graphdatasetInfo = GraphDatasetInfo(\n",
    "    name=datasetname,\n",
    "    splitPercentages=splitPercentages,\n",
    "    graphSubDatasetInfos=subdatasets\n",
    ")\n",
    "\n",
    "graphdatasetInfo.SaveToJsonfile(outputFolder, f'{graphdatasetInfo.name}.json')\n",
    "dataset = ToyDGLDataset_v2(name=datasetname, info=graphdatasetInfo, shuffleDataset=True, save_dir=outputFolder)"
   ]
  },
  {
   "cell_type": "code",
   "execution_count": 15,
   "metadata": {},
   "outputs": [
    {
     "name": "stderr",
     "output_type": "stream",
     "text": [
      "(1/2) Generating graphs from SubDataset GraphClass0: 100%|██████████| 50000/50000 [00:51<00:00, 973.37it/s] \n",
      "(2/2) Generating graphs from SubDataset GraphClass1: 100%|██████████| 50000/50000 [00:50<00:00, 984.68it/s] \n"
     ]
    },
    {
     "name": "stdout",
     "output_type": "stream",
     "text": [
      "Calculating and saving histograms...\n"
     ]
    },
    {
     "name": "stderr",
     "output_type": "stream",
     "text": [
      "/home/andrew/GNN_Sandbox/ToyDGLDataset_v2.py:390: UserWarning: Creating legend with loc=\"best\" can be slow with large amounts of data.\n",
      "  fig.savefig(outputFilePath)\n"
     ]
    },
    {
     "name": "stdout",
     "output_type": "stream",
     "text": [
      "Num Graph classes: 2\n",
      "Graph classes: [0, 1]\n",
      "Number of graphs: 100000\n",
      "Number of all nodes in all graphs: 950455\n",
      "Number of all edges in all graphs: 8191650\n",
      "Dim node features: 5\n",
      "Node feature keys: ['P_t', 'Eta', 'Phi', 'Mass', 'Type']\n",
      "Dim edge features: 3\n",
      "Edge feature keys: ['DeltaEta', 'DeltaPhi', 'RapiditySquared']\n",
      "Done saving data into cached files.\n"
     ]
    },
    {
     "data": {
      "text/plain": [
       "<Figure size 720x504 with 0 Axes>"
      ]
     },
     "metadata": {},
     "output_type": "display_data"
    }
   ],
   "source": [
    "toyname = 'Toy6_v2'\n",
    "rootOutputFolder = path.join('/home/andrew/GNN_Sandbox/GraphToyDatasets_v2', toyname)\n",
    "\n",
    "datasetname = toyname + '_0'\n",
    "outputFolder = path.join(rootOutputFolder, datasetname)\n",
    "Path(outputFolder).mkdir(parents=True, exist_ok=True)\n",
    "\n",
    "name = f'GraphClass{graphlabel[0]}'\n",
    "\n",
    "nodeFeat = deepcopy(defaultNodeFeat)\n",
    "\n",
    "graphsubdatasetInfo0 = GraphSubdatasetInfo(\n",
    "    name=name, label=graphlabel[0], \n",
    "    graphCount=graphCountPerClass, nodesPerGraph=NodesPerGraphSameDist, \n",
    "    nodeFeatMapping=nFeatMapping, nodeFeat=nodeFeat, \n",
    "    edgeFeatMapping=eFeatMapping, graphFeatMapping=gFeatMapping)\n",
    "#graphsubdatasetInfo0.nodeFeat[nFeatMapping['P_t']] = P_t_SlightlyDiffGraphClass0\n",
    "graphsubdatasetInfo0.nodeFeat[nFeatMapping['Eta']] = Eta_VeryDiffGraphClass0\n",
    "\n",
    "name = f'GraphClass{graphlabel[1]}'\n",
    "graphsubdatasetInfo1 = deepcopy(graphsubdatasetInfo0)\n",
    "graphsubdatasetInfo1.name = name\n",
    "graphsubdatasetInfo1.label = graphlabel[1]\n",
    "#graphsubdatasetInfo1.nodeFeat[nFeatMapping['P_t']] = P_t_SlightlyDiffGraphClass1\n",
    "graphsubdatasetInfo1.nodeFeat[nFeatMapping['Eta']] = Eta_VeryDiffGraphClass1\n",
    "\n",
    "subdatasets = []\n",
    "subdatasets.append(graphsubdatasetInfo0)\n",
    "subdatasets.append(graphsubdatasetInfo1)\n",
    "\n",
    "graphdatasetInfo = GraphDatasetInfo(\n",
    "    name=datasetname,\n",
    "    splitPercentages=splitPercentages,\n",
    "    graphSubDatasetInfos=subdatasets\n",
    ")\n",
    "\n",
    "graphdatasetInfo.SaveToJsonfile(outputFolder, f'{graphdatasetInfo.name}.json')\n",
    "dataset = ToyDGLDataset_v2(name=datasetname, info=graphdatasetInfo, shuffleDataset=True, save_dir=outputFolder)"
   ]
  },
  {
   "cell_type": "code",
   "execution_count": 16,
   "metadata": {},
   "outputs": [
    {
     "name": "stderr",
     "output_type": "stream",
     "text": [
      "(1/2) Generating graphs from SubDataset GraphClass0: 100%|██████████| 50000/50000 [00:45<00:00, 1110.28it/s]\n",
      "(2/2) Generating graphs from SubDataset GraphClass1: 100%|██████████| 50000/50000 [00:56<00:00, 890.57it/s]\n"
     ]
    },
    {
     "name": "stdout",
     "output_type": "stream",
     "text": [
      "Calculating and saving histograms...\n"
     ]
    },
    {
     "name": "stderr",
     "output_type": "stream",
     "text": [
      "/home/andrew/GNN_Sandbox/ToyDGLDataset_v2.py:390: UserWarning: Creating legend with loc=\"best\" can be slow with large amounts of data.\n",
      "  fig.savefig(outputFilePath)\n"
     ]
    },
    {
     "name": "stdout",
     "output_type": "stream",
     "text": [
      "Num Graph classes: 2\n",
      "Graph classes: [0, 1]\n",
      "Number of graphs: 100000\n",
      "Number of all nodes in all graphs: 900412\n",
      "Number of all edges in all graphs: 8538846\n",
      "Dim node features: 5\n",
      "Node feature keys: ['P_t', 'Eta', 'Phi', 'Mass', 'Type']\n",
      "Dim edge features: 3\n",
      "Edge feature keys: ['DeltaEta', 'DeltaPhi', 'RapiditySquared']\n",
      "Done saving data into cached files.\n"
     ]
    },
    {
     "data": {
      "text/plain": [
       "<Figure size 720x504 with 0 Axes>"
      ]
     },
     "metadata": {},
     "output_type": "display_data"
    }
   ],
   "source": [
    "datasetname = toyname + '_1'\n",
    "outputFolder = path.join(rootOutputFolder, datasetname)\n",
    "Path(outputFolder).mkdir(parents=True, exist_ok=True)\n",
    "\n",
    "name = f'GraphClass{graphlabel[0]}'\n",
    "\n",
    "nodeFeat = deepcopy(defaultNodeFeat)\n",
    "\n",
    "graphsubdatasetInfo0 = GraphSubdatasetInfo(\n",
    "    name=name, label=graphlabel[0], \n",
    "    graphCount=graphCountPerClass, nodesPerGraph=NodesPerGraph0, \n",
    "    nodeFeatMapping=nFeatMapping, nodeFeat=nodeFeat, \n",
    "    edgeFeatMapping=eFeatMapping, graphFeatMapping=gFeatMapping)\n",
    "#graphsubdatasetInfo0.nodeFeat[nFeatMapping['P_t']] = P_t_SlightlyDiffGraphClass0\n",
    "graphsubdatasetInfo0.nodeFeat[nFeatMapping['Eta']] = Eta_VeryDiffGraphClass0\n",
    "\n",
    "name = f'GraphClass{graphlabel[1]}'\n",
    "graphsubdatasetInfo1 = deepcopy(graphsubdatasetInfo0)\n",
    "graphsubdatasetInfo1.name = name\n",
    "graphsubdatasetInfo1.label = graphlabel[1]\n",
    "graphsubdatasetInfo1.nodesPerGraph = NodesPerGraph1\n",
    "#graphsubdatasetInfo1.nodeFeat[nFeatMapping['P_t']] = P_t_SlightlyDiffGraphClass1\n",
    "graphsubdatasetInfo1.nodeFeat[nFeatMapping['Eta']] = Eta_VeryDiffGraphClass1\n",
    "\n",
    "subdatasets = []\n",
    "subdatasets.append(graphsubdatasetInfo0)\n",
    "subdatasets.append(graphsubdatasetInfo1)\n",
    "\n",
    "graphdatasetInfo = GraphDatasetInfo(\n",
    "    name=datasetname,\n",
    "    splitPercentages=splitPercentages,\n",
    "    graphSubDatasetInfos=subdatasets\n",
    ")\n",
    "\n",
    "graphdatasetInfo.SaveToJsonfile(outputFolder, f'{graphdatasetInfo.name}.json')\n",
    "dataset = ToyDGLDataset_v2(name=datasetname, info=graphdatasetInfo, shuffleDataset=True, save_dir=outputFolder)"
   ]
  },
  {
   "cell_type": "code",
   "execution_count": 17,
   "metadata": {},
   "outputs": [
    {
     "name": "stdout",
     "output_type": "stream",
     "text": [
      "{'feat': tensor([12.0000, 47.6482], dtype=torch.float64)}\n",
      "tensor([12.0000, 47.6482], dtype=torch.float64)\n"
     ]
    }
   ],
   "source": [
    "graph, label = dataset[0]\n",
    "print(graph.gdata)\n",
    "print(graph.gdata['feat'])"
   ]
  },
  {
   "cell_type": "raw",
   "metadata": {},
   "source": [
    "rng = np.random.default_rng(seed=42)\n",
    "nxgraphs = graphdatasetInfo.ToNetworkxGraphList()\n",
    "\n",
    "print(f'Edge Features \\n nx: {list(nxgraphs[0].edges.data())[0]},\\n dgl: {dglgraph.edata}')\n",
    "\n",
    "print(f'Graphs in the dataset: {len(nxgraphs)}')\n",
    "print('Node features of the first graph in the graph list: ')\n",
    "for node in nxgraphs[0].nodes(data=True):\n",
    "    print(node)\n",
    "\n",
    "print(\"Fully connected graph with edge features: \")\n",
    "print(nxgraphs[0].edges.data())\n",
    "\n",
    "pos = nx.spring_layout(nxgraphs[0])\n",
    "options = {\n",
    "    \"node_color\": \"#A0CBE2\",\n",
    "    \"width\": 0.5,\n",
    "    \"with_labels\": True,\n",
    "    \"node_size\": 600\n",
    "}\n",
    "plt.figure(1,figsize=(10,10)) \n",
    "nx.draw(nxgraphs[0], pos, **options)\n",
    "\n",
    "dglgraph = dgl.from_networkx(\n",
    "    nxgraphs[0], \n",
    "    node_attrs=nodeFeatures.keys(), \n",
    "    edge_attrs=edgeFeatures.keys())\n",
    "print(f'Node count - nx: {nxgraphs[0].number_of_nodes()}, dgl: {dglgraph.num_nodes()}')\n",
    "print(f'Edge count - nx: {nxgraphs[0].number_of_edges()}, dgl: {dglgraph.num_edges()}')\n",
    "\n",
    "print(f'Node Features \\n nx: {nxgraphs[0].nodes(data=True)[0]},\\n dgl: {dglgraph.ndata}')\n",
    "\n",
    "print(dglgraph)"
   ]
  }
 ],
 "metadata": {
  "kernelspec": {
   "display_name": "venv",
   "language": "python",
   "name": "venv"
  },
  "language_info": {
   "codemirror_mode": {
    "name": "ipython",
    "version": 3
   },
   "file_extension": ".py",
   "mimetype": "text/x-python",
   "name": "python",
   "nbconvert_exporter": "python",
   "pygments_lexer": "ipython3",
   "version": "3.8.5"
  }
 },
 "nbformat": 4,
 "nbformat_minor": 4
}

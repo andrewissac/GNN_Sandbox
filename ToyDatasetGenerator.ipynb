{
 "cells": [
  {
   "cell_type": "code",
   "execution_count": 1,
   "metadata": {},
   "outputs": [
    {
     "name": "stderr",
     "output_type": "stream",
     "text": [
      "Using backend: pytorch\n"
     ]
    }
   ],
   "source": [
    "import dgl\n",
    "import math\n",
    "import torch\n",
    "import numpy as np\n",
    "import networkx as nx\n",
    "from os import path\n",
    "from pathlib import Path\n",
    "from copy import deepcopy\n",
    "from dgl.data import DGLDataset\n",
    "from ToyDGLDataset import ToyDGLDataset\n",
    "from GraphDatasetInfo import (DistributionType, Distribution, GraphSubdatasetInfo, GraphDatasetInfo)\n"
   ]
  },
  {
   "cell_type": "code",
   "execution_count": 2,
   "metadata": {},
   "outputs": [],
   "source": [
    "# default stuff\n",
    "toyname = 'Toy5'\n",
    "rootOutputFolder = path.join('/home/andrew/GNN_Sandbox/GraphToyDatasets', toyname)\n",
    "graphCountLarge = 2000\n",
    "graphCountSmall = 100\n",
    "\n",
    "fewNodesPerGraph0 = Distribution(\n",
    "    distributionType=DistributionType.truncnorm, \n",
    "    minimum=1, maximum=10, \n",
    "    mean=6, standardDeviation=1)\n",
    "\n",
    "fewNodesPerGraph1 = Distribution(\n",
    "    distributionType=DistributionType.truncnorm, \n",
    "    minimum=5, maximum=20, \n",
    "    mean=13, standardDeviation=1)\n",
    "\n",
    "fewNodesPerGraphSameDist = Distribution(\n",
    "    distributionType=DistributionType.truncnorm, \n",
    "    minimum=1, maximum=20, \n",
    "    mean=10, standardDeviation=1)\n",
    "\n",
    "manyNodesPerGraph0 = Distribution(\n",
    "    distributionType=DistributionType.truncnorm, \n",
    "    minimum=10, maximum=120, \n",
    "    mean=30, standardDeviation=10)\n",
    "\n",
    "manyNodesPerGraph1 = Distribution(\n",
    "    distributionType=DistributionType.truncnorm, \n",
    "    minimum=10, maximum=120, \n",
    "    mean=65, standardDeviation=10)\n",
    "\n",
    "manyNodesPerGraphSameDist = Distribution(\n",
    "    distributionType=DistributionType.truncnorm, \n",
    "    minimum=10, maximum=120, \n",
    "    mean=65, standardDeviation=10)\n",
    "\n",
    "nFeatMapping = {'P_t': 0, 'Eta': 1, 'Phi': 2, 'Mass': 3, 'Type': 4}\n",
    "\n",
    "defaultNodeFeat = [\n",
    "    Distribution(10, 100, DistributionType.uniform), # index 0 -> P_t\n",
    "    Distribution(-10, 10, DistributionType.uniform), # index 1 -> Eta\n",
    "    Distribution(0, 2 * math.pi, DistributionType.uniform), # index 2 -> Phi\n",
    "    Distribution(0.001, 1, DistributionType.uniform), # index 3 -> Mass\n",
    "    Distribution(0, 2, DistributionType.uniform, roundToNearestInt=True) # index 4 -> Type\n",
    "]\n",
    "\n",
    "eFeatMapping = {'DeltaEta': 0, 'DeltaPhi': 1, 'RapiditySquared': 2}\n",
    "\n",
    "edgeFeat = [\n",
    "    None, # index 0 -> DeltaEta\n",
    "    None, # index 1 -> DeltaPhi\n",
    "    None # index 2 -> RapiditySquared\n",
    "]\n",
    "\n",
    "graphlabel = [0, 1]\n",
    "splitPercentages = {'train': 0.6, 'valid': 0.2, 'test': 0.2}"
   ]
  },
  {
   "cell_type": "code",
   "execution_count": 3,
   "metadata": {},
   "outputs": [
    {
     "name": "stderr",
     "output_type": "stream",
     "text": [
      "(1/2) Generating graphs from SubDataset GraphClass1: 100%|██████████| 100/100 [00:00<00:00, 801.47it/s]\n",
      "(2/2) Generating graphs from SubDataset GraphClass0: 100%|██████████| 100/100 [00:00<00:00, 915.46it/s]\n"
     ]
    },
    {
     "name": "stdout",
     "output_type": "stream",
     "text": [
      "Calculating and saving histograms...\n",
      "Num Graph classes: 2\n",
      "Graph classes: [0, 1]\n",
      "Number of graphs: 200\n",
      "Number of all nodes in all graphs: 1895\n",
      "Number of all edges in all graphs: 16244\n",
      "Dim node features: 5\n",
      "Node feature keys: ['P_t', 'Eta', 'Phi', 'Mass', 'Type']\n",
      "Dim edge features: 3\n",
      "Edge feature keys: ['DeltaEta', 'DeltaPhi', 'RapiditySquared']\n",
      "Done saving data into cached files.\n"
     ]
    },
    {
     "data": {
      "text/plain": [
       "<Figure size 720x504 with 0 Axes>"
      ]
     },
     "metadata": {},
     "output_type": "display_data"
    }
   ],
   "source": [
    "datasetname = toyname + '_' + 'fewGraphs_fewNodes_SameNodeCountDistributions'\n",
    "outputFolder = path.join(rootOutputFolder, datasetname)\n",
    "Path(outputFolder).mkdir(parents=True, exist_ok=True)\n",
    "\n",
    "name = f'GraphClass{graphlabel[0]}'\n",
    "\n",
    "nodeFeat = deepcopy(defaultNodeFeat)\n",
    "\n",
    "graphsubdatasetInfo0 = GraphSubdatasetInfo(\n",
    "    name=name, label=graphlabel[0], \n",
    "    graphCount=graphCountSmall, nodesPerGraph=fewNodesPerGraphSameDist, \n",
    "    nodeFeatMapping=nFeatMapping, nodeFeat=nodeFeat, \n",
    "    edgeFeatMapping=eFeatMapping, edgeFeat=edgeFeat)\n",
    "\"\"\"\n",
    "graphsubdatasetInfo0.nodeFeat[nFeatMapping['P_t']] = Distribution(\n",
    "    distributionType=DistributionType.truncnorm, \n",
    "    minimum=10, maximum=120, \n",
    "    mean=70, standardDeviation=5)\n",
    "\"\"\"\n",
    "graphsubdatasetInfo0.nodeFeat[nFeatMapping['Eta']] = Distribution(\n",
    "    distributionType=DistributionType.truncnorm, \n",
    "    minimum=-10, maximum=10, \n",
    "    mean=1, standardDeviation=1)\n",
    "\n",
    "name = f'GraphClass{graphlabel[1]}'\n",
    "\n",
    "graphsubdatasetInfo1 = deepcopy(graphsubdatasetInfo0)\n",
    "graphsubdatasetInfo1.name = name\n",
    "graphsubdatasetInfo1.label = graphlabel[1]\n",
    "\"\"\"\n",
    "graphsubdatasetInfo1.nodeFeat[nFeatMapping['P_t']] = Distribution(\n",
    "    distributionType=DistributionType.truncnorm, \n",
    "    minimum=10, maximum=120, \n",
    "    mean=60, standardDeviation=5)\n",
    "\"\"\"\n",
    "graphsubdatasetInfo1.nodeFeat[nFeatMapping['Eta']] = Distribution(\n",
    "    distributionType=DistributionType.truncnorm, \n",
    "    minimum=-10, maximum=10, \n",
    "    mean=0, standardDeviation=1)\n",
    "\n",
    "subdatasets = []\n",
    "subdatasets.append(graphsubdatasetInfo1)\n",
    "subdatasets.append(graphsubdatasetInfo0)\n",
    "\n",
    "graphdatasetInfo = GraphDatasetInfo(\n",
    "    name=datasetname,\n",
    "    splitPercentages=splitPercentages,\n",
    "    graphSubDatasetInfos=subdatasets\n",
    ")\n",
    "\n",
    "graphdatasetInfo.SaveToJsonfile(outputFolder, f'{graphdatasetInfo.name}.json')\n",
    "dataset = ToyDGLDataset(name=datasetname, info=graphdatasetInfo, shuffleDataset=True, save_dir=outputFolder)\n",
    "\n",
    "#can be loaded from json file like below:\n",
    "#graphdatasetInfo = GraphDatasetInfo.LoadFromJsonfile(path.join(outputFolder, f'{graphdatasetInfo.name}.json'))"
   ]
  },
  {
   "cell_type": "code",
   "execution_count": 4,
   "metadata": {},
   "outputs": [
    {
     "name": "stderr",
     "output_type": "stream",
     "text": [
      "(1/2) Generating graphs from SubDataset GraphClass1: 100%|██████████| 100/100 [00:00<00:00, 826.42it/s]\n",
      "(2/2) Generating graphs from SubDataset GraphClass0: 100%|██████████| 100/100 [00:00<00:00, 981.55it/s]\n"
     ]
    },
    {
     "name": "stdout",
     "output_type": "stream",
     "text": [
      "Calculating and saving histograms...\n",
      "Num Graph classes: 2\n",
      "Graph classes: [0, 1]\n",
      "Number of graphs: 200\n",
      "Number of all nodes in all graphs: 1817\n",
      "Number of all edges in all graphs: 17466\n",
      "Dim node features: 5\n",
      "Node feature keys: ['P_t', 'Eta', 'Phi', 'Mass', 'Type']\n",
      "Dim edge features: 3\n",
      "Edge feature keys: ['DeltaEta', 'DeltaPhi', 'RapiditySquared']\n",
      "Done saving data into cached files.\n"
     ]
    },
    {
     "data": {
      "text/plain": [
       "<Figure size 720x504 with 0 Axes>"
      ]
     },
     "metadata": {},
     "output_type": "display_data"
    }
   ],
   "source": [
    "datasetname = toyname + '_' + 'fewGraphs_fewNodes_DifferentNodeCountDistributions'\n",
    "outputFolder = path.join(rootOutputFolder, datasetname)\n",
    "Path(outputFolder).mkdir(parents=True, exist_ok=True)\n",
    "\n",
    "name = f'GraphClass{graphlabel[0]}'\n",
    "\n",
    "nodeFeat = deepcopy(defaultNodeFeat)\n",
    "\n",
    "graphsubdatasetInfo0 = GraphSubdatasetInfo(\n",
    "    name=name, label=graphlabel[0], \n",
    "    graphCount=graphCountSmall, nodesPerGraph=fewNodesPerGraph0, \n",
    "    nodeFeatMapping=nFeatMapping, nodeFeat=nodeFeat, \n",
    "    edgeFeatMapping=eFeatMapping, edgeFeat=edgeFeat)\n",
    "\"\"\"\n",
    "graphsubdatasetInfo0.nodeFeat[nFeatMapping['P_t']] = Distribution(\n",
    "    distributionType=DistributionType.truncnorm, \n",
    "    minimum=10, maximum=120, \n",
    "    mean=70, standardDeviation=5)\n",
    "\"\"\"\n",
    "graphsubdatasetInfo0.nodeFeat[nFeatMapping['Eta']] = Distribution(\n",
    "    distributionType=DistributionType.truncnorm, \n",
    "    minimum=-10, maximum=10, \n",
    "    mean=1, standardDeviation=1)\n",
    "\n",
    "name = f'GraphClass{graphlabel[1]}'\n",
    "\n",
    "graphsubdatasetInfo1 = deepcopy(graphsubdatasetInfo0)\n",
    "graphsubdatasetInfo1.name = name\n",
    "graphsubdatasetInfo1.label = graphlabel[1]\n",
    "graphsubdatasetInfo1.nodesPerGraph = fewNodesPerGraph1\n",
    "\"\"\"\n",
    "graphsubdatasetInfo1.nodeFeat[nFeatMapping['P_t']] = Distribution(\n",
    "    distributionType=DistributionType.truncnorm, \n",
    "    minimum=10, maximum=120, \n",
    "    mean=60, standardDeviation=5)\n",
    "\"\"\"\n",
    "graphsubdatasetInfo1.nodeFeat[nFeatMapping['Eta']] = Distribution(\n",
    "    distributionType=DistributionType.truncnorm, \n",
    "    minimum=-10, maximum=10, \n",
    "    mean=0, standardDeviation=1)\n",
    "\n",
    "subdatasets = []\n",
    "subdatasets.append(graphsubdatasetInfo1)\n",
    "subdatasets.append(graphsubdatasetInfo0)\n",
    "\n",
    "graphdatasetInfo = GraphDatasetInfo(\n",
    "    name=datasetname,\n",
    "    splitPercentages=splitPercentages,\n",
    "    graphSubDatasetInfos=subdatasets\n",
    ")\n",
    "\n",
    "graphdatasetInfo.SaveToJsonfile(outputFolder, f'{graphdatasetInfo.name}.json')\n",
    "dataset = ToyDGLDataset(name=datasetname, info=graphdatasetInfo, shuffleDataset=True, save_dir=outputFolder)"
   ]
  },
  {
   "cell_type": "code",
   "execution_count": 5,
   "metadata": {},
   "outputs": [
    {
     "name": "stderr",
     "output_type": "stream",
     "text": [
      "(1/2) Generating graphs from SubDataset GraphClass1: 100%|██████████| 100/100 [00:01<00:00, 94.06it/s]\n",
      "(2/2) Generating graphs from SubDataset GraphClass0: 100%|██████████| 100/100 [00:01<00:00, 96.67it/s]\n"
     ]
    },
    {
     "name": "stdout",
     "output_type": "stream",
     "text": [
      "Calculating and saving histograms...\n",
      "Num Graph classes: 2\n",
      "Graph classes: [0, 1]\n",
      "Number of graphs: 200\n",
      "Number of all nodes in all graphs: 12995\n",
      "Number of all edges in all graphs: 852792\n",
      "Dim node features: 5\n",
      "Node feature keys: ['P_t', 'Eta', 'Phi', 'Mass', 'Type']\n",
      "Dim edge features: 3\n",
      "Edge feature keys: ['DeltaEta', 'DeltaPhi', 'RapiditySquared']\n",
      "Done saving data into cached files.\n"
     ]
    },
    {
     "data": {
      "text/plain": [
       "<Figure size 720x504 with 0 Axes>"
      ]
     },
     "metadata": {},
     "output_type": "display_data"
    }
   ],
   "source": [
    "datasetname = toyname + '_' + 'fewGraphs_manyNodes_SameNodeCountDistributions'\n",
    "outputFolder = path.join(rootOutputFolder, datasetname)\n",
    "Path(outputFolder).mkdir(parents=True, exist_ok=True)\n",
    "\n",
    "name = f'GraphClass{graphlabel[0]}'\n",
    "\n",
    "nodeFeat = deepcopy(defaultNodeFeat)\n",
    "\n",
    "graphsubdatasetInfo0 = GraphSubdatasetInfo(\n",
    "    name=name, label=graphlabel[0], \n",
    "    graphCount=graphCountSmall, nodesPerGraph=manyNodesPerGraphSameDist, \n",
    "    nodeFeatMapping=nFeatMapping, nodeFeat=nodeFeat, \n",
    "    edgeFeatMapping=eFeatMapping, edgeFeat=edgeFeat)\n",
    "\"\"\"\n",
    "graphsubdatasetInfo0.nodeFeat[nFeatMapping['P_t']] = Distribution(\n",
    "    distributionType=DistributionType.truncnorm, \n",
    "    minimum=10, maximum=120, \n",
    "    mean=70, standardDeviation=5)\n",
    "\"\"\"\n",
    "graphsubdatasetInfo0.nodeFeat[nFeatMapping['Eta']] = Distribution(\n",
    "    distributionType=DistributionType.truncnorm, \n",
    "    minimum=-10, maximum=10, \n",
    "    mean=1, standardDeviation=1)\n",
    "\n",
    "name = f'GraphClass{graphlabel[1]}'\n",
    "\n",
    "graphsubdatasetInfo1 = deepcopy(graphsubdatasetInfo0)\n",
    "graphsubdatasetInfo1.name = name\n",
    "graphsubdatasetInfo1.label = graphlabel[1]\n",
    "\"\"\"\n",
    "graphsubdatasetInfo1.nodeFeat[nFeatMapping['P_t']] = Distribution(\n",
    "    distributionType=DistributionType.truncnorm, \n",
    "    minimum=10, maximum=120, \n",
    "    mean=60, standardDeviation=5)\n",
    "\"\"\"\n",
    "graphsubdatasetInfo1.nodeFeat[nFeatMapping['Eta']] = Distribution(\n",
    "    distributionType=DistributionType.truncnorm, \n",
    "    minimum=-10, maximum=10, \n",
    "    mean=0, standardDeviation=1)\n",
    "\n",
    "subdatasets = []\n",
    "subdatasets.append(graphsubdatasetInfo1)\n",
    "subdatasets.append(graphsubdatasetInfo0)\n",
    "\n",
    "graphdatasetInfo = GraphDatasetInfo(\n",
    "    name=datasetname,\n",
    "    splitPercentages=splitPercentages,\n",
    "    graphSubDatasetInfos=subdatasets\n",
    ")\n",
    "\n",
    "graphdatasetInfo.SaveToJsonfile(outputFolder, f'{graphdatasetInfo.name}.json')\n",
    "dataset = ToyDGLDataset(name=datasetname, info=graphdatasetInfo, shuffleDataset=True, save_dir=outputFolder)"
   ]
  },
  {
   "cell_type": "code",
   "execution_count": 6,
   "metadata": {},
   "outputs": [
    {
     "name": "stderr",
     "output_type": "stream",
     "text": [
      "(1/2) Generating graphs from SubDataset GraphClass1: 100%|██████████| 100/100 [00:01<00:00, 96.69it/s]\n",
      "(2/2) Generating graphs from SubDataset GraphClass0: 100%|██████████| 100/100 [00:00<00:00, 338.41it/s]\n"
     ]
    },
    {
     "name": "stdout",
     "output_type": "stream",
     "text": [
      "Calculating and saving histograms...\n",
      "Num Graph classes: 2\n",
      "Graph classes: [0, 1]\n",
      "Number of graphs: 200\n",
      "Number of all nodes in all graphs: 9533\n",
      "Number of all edges in all graphs: 522768\n",
      "Dim node features: 5\n",
      "Node feature keys: ['P_t', 'Eta', 'Phi', 'Mass', 'Type']\n",
      "Dim edge features: 3\n",
      "Edge feature keys: ['DeltaEta', 'DeltaPhi', 'RapiditySquared']\n",
      "Done saving data into cached files.\n"
     ]
    },
    {
     "data": {
      "text/plain": [
       "<Figure size 720x504 with 0 Axes>"
      ]
     },
     "metadata": {},
     "output_type": "display_data"
    }
   ],
   "source": [
    "datasetname = toyname + '_' + 'fewGraphs_manyNodes_DifferentNodeCountDistributions'\n",
    "outputFolder = path.join(rootOutputFolder, datasetname)\n",
    "Path(outputFolder).mkdir(parents=True, exist_ok=True)\n",
    "\n",
    "name = f'GraphClass{graphlabel[0]}'\n",
    "\n",
    "nodeFeat = deepcopy(defaultNodeFeat)\n",
    "\n",
    "graphsubdatasetInfo0 = GraphSubdatasetInfo(\n",
    "    name=name, label=graphlabel[0], \n",
    "    graphCount=graphCountSmall, nodesPerGraph=manyNodesPerGraph0, \n",
    "    nodeFeatMapping=nFeatMapping, nodeFeat=nodeFeat, \n",
    "    edgeFeatMapping=eFeatMapping, edgeFeat=edgeFeat)\n",
    "\"\"\"\n",
    "graphsubdatasetInfo0.nodeFeat[nFeatMapping['P_t']] = Distribution(\n",
    "    distributionType=DistributionType.truncnorm, \n",
    "    minimum=10, maximum=120, \n",
    "    mean=70, standardDeviation=5)\n",
    "\"\"\"\n",
    "graphsubdatasetInfo0.nodeFeat[nFeatMapping['Eta']] = Distribution(\n",
    "    distributionType=DistributionType.truncnorm, \n",
    "    minimum=-10, maximum=10, \n",
    "    mean=1, standardDeviation=1)\n",
    "\n",
    "\n",
    "name = f'GraphClass{graphlabel[1]}'\n",
    "\n",
    "graphsubdatasetInfo1 = deepcopy(graphsubdatasetInfo0)\n",
    "graphsubdatasetInfo1.name = name\n",
    "graphsubdatasetInfo1.label = graphlabel[1]\n",
    "graphsubdatasetInfo1.nodesPerGraph = manyNodesPerGraph1\n",
    "\"\"\"\n",
    "graphsubdatasetInfo1.nodeFeat[nFeatMapping['P_t']] = Distribution(\n",
    "    distributionType=DistributionType.truncnorm, \n",
    "    minimum=10, maximum=120, \n",
    "    mean=60, standardDeviation=5)\n",
    "\"\"\"\n",
    "graphsubdatasetInfo1.nodeFeat[nFeatMapping['Eta']] = Distribution(\n",
    "    distributionType=DistributionType.truncnorm, \n",
    "    minimum=-10, maximum=10, \n",
    "    mean=0, standardDeviation=1)\n",
    "\n",
    "subdatasets = []\n",
    "subdatasets.append(graphsubdatasetInfo1)\n",
    "subdatasets.append(graphsubdatasetInfo0)\n",
    "\n",
    "graphdatasetInfo = GraphDatasetInfo(\n",
    "    name=datasetname,\n",
    "    splitPercentages=splitPercentages,\n",
    "    graphSubDatasetInfos=subdatasets\n",
    ")\n",
    "\n",
    "graphdatasetInfo.SaveToJsonfile(outputFolder, f'{graphdatasetInfo.name}.json')\n",
    "dataset = ToyDGLDataset(name=datasetname, info=graphdatasetInfo, shuffleDataset=True, save_dir=outputFolder)"
   ]
  },
  {
   "cell_type": "code",
   "execution_count": 7,
   "metadata": {},
   "outputs": [
    {
     "name": "stderr",
     "output_type": "stream",
     "text": [
      "(1/2) Generating graphs from SubDataset GraphClass1: 100%|██████████| 2000/2000 [00:02<00:00, 948.18it/s]\n",
      "(2/2) Generating graphs from SubDataset GraphClass0: 100%|██████████| 2000/2000 [00:02<00:00, 984.00it/s] \n"
     ]
    },
    {
     "name": "stdout",
     "output_type": "stream",
     "text": [
      "Calculating and saving histograms...\n",
      "Num Graph classes: 2\n",
      "Graph classes: [0, 1]\n",
      "Number of graphs: 4000\n",
      "Number of all nodes in all graphs: 38050\n",
      "Number of all edges in all graphs: 328282\n",
      "Dim node features: 5\n",
      "Node feature keys: ['P_t', 'Eta', 'Phi', 'Mass', 'Type']\n",
      "Dim edge features: 3\n",
      "Edge feature keys: ['DeltaEta', 'DeltaPhi', 'RapiditySquared']\n",
      "Done saving data into cached files.\n"
     ]
    },
    {
     "data": {
      "text/plain": [
       "<Figure size 720x504 with 0 Axes>"
      ]
     },
     "metadata": {},
     "output_type": "display_data"
    }
   ],
   "source": [
    "datasetname = toyname + '_' + 'manyGraphs_fewNodes_SameNodeCountDistributions'\n",
    "outputFolder = path.join(rootOutputFolder, datasetname)\n",
    "Path(outputFolder).mkdir(parents=True, exist_ok=True)\n",
    "\n",
    "name = f'GraphClass{graphlabel[0]}'\n",
    "\n",
    "nodeFeat = deepcopy(defaultNodeFeat)\n",
    "\n",
    "graphsubdatasetInfo0 = GraphSubdatasetInfo(\n",
    "    name=name, label=graphlabel[0], \n",
    "    graphCount=graphCountLarge, nodesPerGraph=fewNodesPerGraphSameDist, \n",
    "    nodeFeatMapping=nFeatMapping, nodeFeat=nodeFeat, \n",
    "    edgeFeatMapping=eFeatMapping, edgeFeat=edgeFeat)\n",
    "\"\"\"\n",
    "graphsubdatasetInfo0.nodeFeat[nFeatMapping['P_t']] = Distribution(\n",
    "    distributionType=DistributionType.truncnorm, \n",
    "    minimum=10, maximum=120, \n",
    "    mean=70, standardDeviation=5)\n",
    "\"\"\"\n",
    "graphsubdatasetInfo0.nodeFeat[nFeatMapping['Eta']] = Distribution(\n",
    "    distributionType=DistributionType.truncnorm, \n",
    "    minimum=-10, maximum=10, \n",
    "    mean=1, standardDeviation=1)\n",
    "\n",
    "name = f'GraphClass{graphlabel[1]}'\n",
    "\n",
    "graphsubdatasetInfo1 = deepcopy(graphsubdatasetInfo0)\n",
    "graphsubdatasetInfo1.name = name\n",
    "graphsubdatasetInfo1.label = graphlabel[1]\n",
    "\"\"\"\n",
    "graphsubdatasetInfo1.nodeFeat[nFeatMapping['P_t']] = Distribution(\n",
    "    distributionType=DistributionType.truncnorm, \n",
    "    minimum=10, maximum=120, \n",
    "    mean=60, standardDeviation=5)\n",
    "\"\"\"\n",
    "graphsubdatasetInfo1.nodeFeat[nFeatMapping['Eta']] = Distribution(\n",
    "    distributionType=DistributionType.truncnorm, \n",
    "    minimum=-10, maximum=10, \n",
    "    mean=0, standardDeviation=1)\n",
    "\n",
    "subdatasets = []\n",
    "subdatasets.append(graphsubdatasetInfo1)\n",
    "subdatasets.append(graphsubdatasetInfo0)\n",
    "\n",
    "graphdatasetInfo = GraphDatasetInfo(\n",
    "    name=datasetname,\n",
    "    splitPercentages=splitPercentages,\n",
    "    graphSubDatasetInfos=subdatasets\n",
    ")\n",
    "\n",
    "graphdatasetInfo.SaveToJsonfile(outputFolder, f'{graphdatasetInfo.name}.json')\n",
    "dataset = ToyDGLDataset(name=datasetname, info=graphdatasetInfo, shuffleDataset=True, save_dir=outputFolder)"
   ]
  },
  {
   "cell_type": "code",
   "execution_count": 8,
   "metadata": {},
   "outputs": [
    {
     "name": "stderr",
     "output_type": "stream",
     "text": [
      "(1/2) Generating graphs from SubDataset GraphClass1: 100%|██████████| 2000/2000 [00:02<00:00, 898.31it/s]\n",
      "(2/2) Generating graphs from SubDataset GraphClass0: 100%|██████████| 2000/2000 [00:01<00:00, 1119.33it/s]\n"
     ]
    },
    {
     "name": "stdout",
     "output_type": "stream",
     "text": [
      "Calculating and saving histograms...\n",
      "Num Graph classes: 2\n",
      "Graph classes: [0, 1]\n",
      "Number of graphs: 4000\n",
      "Number of all nodes in all graphs: 35942\n",
      "Number of all edges in all graphs: 340212\n",
      "Dim node features: 5\n",
      "Node feature keys: ['P_t', 'Eta', 'Phi', 'Mass', 'Type']\n",
      "Dim edge features: 3\n",
      "Edge feature keys: ['DeltaEta', 'DeltaPhi', 'RapiditySquared']\n",
      "Done saving data into cached files.\n"
     ]
    },
    {
     "data": {
      "text/plain": [
       "<Figure size 720x504 with 0 Axes>"
      ]
     },
     "metadata": {},
     "output_type": "display_data"
    }
   ],
   "source": [
    "datasetname = toyname + '_' + 'manyGraphs_fewNodes_DifferentNodeCountDistributions'\n",
    "outputFolder = path.join(rootOutputFolder, datasetname)\n",
    "Path(outputFolder).mkdir(parents=True, exist_ok=True)\n",
    "\n",
    "name = f'GraphClass{graphlabel[0]}'\n",
    "\n",
    "nodeFeat = deepcopy(defaultNodeFeat)\n",
    "\n",
    "graphsubdatasetInfo0 = GraphSubdatasetInfo(\n",
    "    name=name, label=graphlabel[0], \n",
    "    graphCount=graphCountLarge, nodesPerGraph=fewNodesPerGraph0, \n",
    "    nodeFeatMapping=nFeatMapping, nodeFeat=nodeFeat, \n",
    "    edgeFeatMapping=eFeatMapping, edgeFeat=edgeFeat)\n",
    "\"\"\"\n",
    "graphsubdatasetInfo0.nodeFeat[nFeatMapping['P_t']] = Distribution(\n",
    "    distributionType=DistributionType.truncnorm, \n",
    "    minimum=10, maximum=120, \n",
    "    mean=70, standardDeviation=5)\n",
    "\"\"\"\n",
    "graphsubdatasetInfo0.nodeFeat[nFeatMapping['Eta']] = Distribution(\n",
    "    distributionType=DistributionType.truncnorm, \n",
    "    minimum=-10, maximum=10, \n",
    "    mean=1, standardDeviation=1)\n",
    "\n",
    "name = f'GraphClass{graphlabel[1]}'\n",
    "\n",
    "graphsubdatasetInfo1 = deepcopy(graphsubdatasetInfo0)\n",
    "graphsubdatasetInfo1.name = name\n",
    "graphsubdatasetInfo1.label = graphlabel[1]\n",
    "graphsubdatasetInfo1.nodesPerGraph = fewNodesPerGraph1\n",
    "\"\"\"\n",
    "graphsubdatasetInfo1.nodeFeat[nFeatMapping['P_t']] = Distribution(\n",
    "    distributionType=DistributionType.truncnorm, \n",
    "    minimum=10, maximum=120, \n",
    "    mean=60, standardDeviation=5)\n",
    "\"\"\"\n",
    "graphsubdatasetInfo1.nodeFeat[nFeatMapping['Eta']] = Distribution(\n",
    "    distributionType=DistributionType.truncnorm, \n",
    "    minimum=-10, maximum=10, \n",
    "    mean=0, standardDeviation=1)\n",
    "\n",
    "subdatasets = []\n",
    "subdatasets.append(graphsubdatasetInfo1)\n",
    "subdatasets.append(graphsubdatasetInfo0)\n",
    "\n",
    "graphdatasetInfo = GraphDatasetInfo(\n",
    "    name=datasetname,\n",
    "    splitPercentages=splitPercentages,\n",
    "    graphSubDatasetInfos=subdatasets\n",
    ")\n",
    "\n",
    "graphdatasetInfo.SaveToJsonfile(outputFolder, f'{graphdatasetInfo.name}.json')\n",
    "dataset = ToyDGLDataset(name=datasetname, info=graphdatasetInfo, shuffleDataset=True, save_dir=outputFolder)"
   ]
  },
  {
   "cell_type": "code",
   "execution_count": 9,
   "metadata": {},
   "outputs": [
    {
     "name": "stderr",
     "output_type": "stream",
     "text": [
      "(1/2) Generating graphs from SubDataset GraphClass1: 100%|██████████| 2000/2000 [00:18<00:00, 105.70it/s]\n",
      "(2/2) Generating graphs from SubDataset GraphClass0: 100%|██████████| 2000/2000 [00:18<00:00, 108.69it/s]\n"
     ]
    },
    {
     "name": "stdout",
     "output_type": "stream",
     "text": [
      "Calculating and saving histograms...\n",
      "Num Graph classes: 2\n",
      "Graph classes: [0, 1]\n",
      "Number of graphs: 4000\n",
      "Number of all nodes in all graphs: 258777\n",
      "Number of all edges in all graphs: 16887080\n",
      "Dim node features: 5\n",
      "Node feature keys: ['P_t', 'Eta', 'Phi', 'Mass', 'Type']\n",
      "Dim edge features: 3\n",
      "Edge feature keys: ['DeltaEta', 'DeltaPhi', 'RapiditySquared']\n",
      "Done saving data into cached files.\n"
     ]
    },
    {
     "data": {
      "text/plain": [
       "<Figure size 720x504 with 0 Axes>"
      ]
     },
     "metadata": {},
     "output_type": "display_data"
    }
   ],
   "source": [
    "datasetname = toyname + '_' + 'manyGraphs_manyNodes_SameNodeCountDistributions'\n",
    "outputFolder = path.join(rootOutputFolder, datasetname)\n",
    "Path(outputFolder).mkdir(parents=True, exist_ok=True)\n",
    "\n",
    "name = f'GraphClass{graphlabel[0]}'\n",
    "\n",
    "nodeFeat = deepcopy(defaultNodeFeat)\n",
    "\n",
    "graphsubdatasetInfo0 = GraphSubdatasetInfo(\n",
    "    name=name, label=graphlabel[0], \n",
    "    graphCount=graphCountLarge, nodesPerGraph=manyNodesPerGraphSameDist, \n",
    "    nodeFeatMapping=nFeatMapping, nodeFeat=nodeFeat, \n",
    "    edgeFeatMapping=eFeatMapping, edgeFeat=edgeFeat)\n",
    "\"\"\"\n",
    "graphsubdatasetInfo0.nodeFeat[nFeatMapping['P_t']] = Distribution(\n",
    "    distributionType=DistributionType.truncnorm, \n",
    "    minimum=10, maximum=120, \n",
    "    mean=70, standardDeviation=5)\n",
    "\"\"\"\n",
    "graphsubdatasetInfo0.nodeFeat[nFeatMapping['Eta']] = Distribution(\n",
    "    distributionType=DistributionType.truncnorm, \n",
    "    minimum=-10, maximum=10, \n",
    "    mean=1, standardDeviation=1)\n",
    "\n",
    "name = f'GraphClass{graphlabel[1]}'\n",
    "\n",
    "graphsubdatasetInfo1 = deepcopy(graphsubdatasetInfo0)\n",
    "graphsubdatasetInfo1.name = name\n",
    "graphsubdatasetInfo1.label = graphlabel[1]\n",
    "\"\"\"\n",
    "graphsubdatasetInfo1.nodeFeat[nFeatMapping['P_t']] = Distribution(\n",
    "    distributionType=DistributionType.truncnorm, \n",
    "    minimum=10, maximum=120, \n",
    "    mean=60, standardDeviation=5)\n",
    "\"\"\"\n",
    "graphsubdatasetInfo1.nodeFeat[nFeatMapping['Eta']] = Distribution(\n",
    "    distributionType=DistributionType.truncnorm, \n",
    "    minimum=-10, maximum=10, \n",
    "    mean=0, standardDeviation=1)\n",
    "\n",
    "subdatasets = []\n",
    "subdatasets.append(graphsubdatasetInfo1)\n",
    "subdatasets.append(graphsubdatasetInfo0)\n",
    "\n",
    "graphdatasetInfo = GraphDatasetInfo(\n",
    "    name=datasetname,\n",
    "    splitPercentages=splitPercentages,\n",
    "    graphSubDatasetInfos=subdatasets\n",
    ")\n",
    "\n",
    "graphdatasetInfo.SaveToJsonfile(outputFolder, f'{graphdatasetInfo.name}.json')\n",
    "dataset = ToyDGLDataset(name=datasetname, info=graphdatasetInfo, shuffleDataset=True, save_dir=outputFolder)"
   ]
  },
  {
   "cell_type": "code",
   "execution_count": 10,
   "metadata": {},
   "outputs": [
    {
     "name": "stderr",
     "output_type": "stream",
     "text": [
      "(1/2) Generating graphs from SubDataset GraphClass1: 100%|██████████| 2000/2000 [00:19<00:00, 103.51it/s]\n",
      "(2/2) Generating graphs from SubDataset GraphClass0: 100%|██████████| 2000/2000 [00:05<00:00, 381.88it/s]\n"
     ]
    },
    {
     "name": "stdout",
     "output_type": "stream",
     "text": [
      "Calculating and saving histograms...\n",
      "Num Graph classes: 2\n",
      "Graph classes: [0, 1]\n",
      "Number of graphs: 4000\n",
      "Number of all nodes in all graphs: 190522\n",
      "Number of all edges in all graphs: 10480506\n",
      "Dim node features: 5\n",
      "Node feature keys: ['P_t', 'Eta', 'Phi', 'Mass', 'Type']\n",
      "Dim edge features: 3\n",
      "Edge feature keys: ['DeltaEta', 'DeltaPhi', 'RapiditySquared']\n",
      "Done saving data into cached files.\n"
     ]
    },
    {
     "data": {
      "text/plain": [
       "<Figure size 720x504 with 0 Axes>"
      ]
     },
     "metadata": {},
     "output_type": "display_data"
    }
   ],
   "source": [
    "datasetname = toyname + '_' + 'manyGraphs_manyNodes_DifferentNodeCountDistributions'\n",
    "outputFolder = path.join(rootOutputFolder, datasetname)\n",
    "Path(outputFolder).mkdir(parents=True, exist_ok=True)\n",
    "\n",
    "name = f'GraphClass{graphlabel[0]}'\n",
    "\n",
    "nodeFeat = deepcopy(defaultNodeFeat)\n",
    "\n",
    "graphsubdatasetInfo0 = GraphSubdatasetInfo(\n",
    "    name=name, label=graphlabel[0], \n",
    "    graphCount=graphCountLarge, nodesPerGraph=manyNodesPerGraph0, \n",
    "    nodeFeatMapping=nFeatMapping, nodeFeat=nodeFeat, \n",
    "    edgeFeatMapping=eFeatMapping, edgeFeat=edgeFeat)\n",
    "\"\"\"\n",
    "graphsubdatasetInfo0.nodeFeat[nFeatMapping['P_t']] = Distribution(\n",
    "    distributionType=DistributionType.truncnorm, \n",
    "    minimum=10, maximum=120, \n",
    "    mean=70, standardDeviation=5)\n",
    "\"\"\"\n",
    "graphsubdatasetInfo0.nodeFeat[nFeatMapping['Eta']] = Distribution(\n",
    "    distributionType=DistributionType.truncnorm, \n",
    "    minimum=-10, maximum=10, \n",
    "    mean=1, standardDeviation=1)\n",
    "\n",
    "name = f'GraphClass{graphlabel[1]}'\n",
    "\n",
    "graphsubdatasetInfo1 = deepcopy(graphsubdatasetInfo0)\n",
    "graphsubdatasetInfo1.name = name\n",
    "graphsubdatasetInfo1.label = graphlabel[1]\n",
    "graphsubdatasetInfo1.nodesPerGraph = manyNodesPerGraph1\n",
    "\"\"\"\n",
    "graphsubdatasetInfo1.nodeFeat[nFeatMapping['P_t']] = Distribution(\n",
    "    distributionType=DistributionType.truncnorm, \n",
    "    minimum=10, maximum=120, \n",
    "    mean=60, standardDeviation=5)\n",
    "\"\"\"\n",
    "graphsubdatasetInfo1.nodeFeat[nFeatMapping['Eta']] = Distribution(\n",
    "    distributionType=DistributionType.truncnorm, \n",
    "    minimum=-10, maximum=10, \n",
    "    mean=0, standardDeviation=1)\n",
    "\n",
    "subdatasets = []\n",
    "subdatasets.append(graphsubdatasetInfo1)\n",
    "subdatasets.append(graphsubdatasetInfo0)\n",
    "\n",
    "graphdatasetInfo = GraphDatasetInfo(\n",
    "    name=datasetname,\n",
    "    splitPercentages=splitPercentages,\n",
    "    graphSubDatasetInfos=subdatasets\n",
    ")\n",
    "\n",
    "graphdatasetInfo.SaveToJsonfile(outputFolder, f'{graphdatasetInfo.name}.json')\n",
    "dataset = ToyDGLDataset(name=datasetname, info=graphdatasetInfo, shuffleDataset=True, save_dir=outputFolder)"
   ]
  },
  {
   "cell_type": "markdown",
   "metadata": {},
   "source": [
    "rng = np.random.default_rng(seed=42)\n",
    "nxgraphs = graphdatasetInfo.ToNetworkxGraphList()\n",
    "\n",
    "print(f'Edge Features \\n nx: {list(nxgraphs[0].edges.data())[0]},\\n dgl: {dglgraph.edata}')\n",
    "\n",
    "print(f'Graphs in the dataset: {len(nxgraphs)}')\n",
    "print('Node features of the first graph in the graph list: ')\n",
    "for node in nxgraphs[0].nodes(data=True):\n",
    "    print(node)\n",
    "\n",
    "print(\"Fully connected graph with edge features: \")\n",
    "print(nxgraphs[0].edges.data())\n",
    "\n",
    "pos = nx.spring_layout(nxgraphs[0])\n",
    "options = {\n",
    "    \"node_color\": \"#A0CBE2\",\n",
    "    \"width\": 0.5,\n",
    "    \"with_labels\": True,\n",
    "    \"node_size\": 600\n",
    "}\n",
    "plt.figure(1,figsize=(10,10)) \n",
    "nx.draw(nxgraphs[0], pos, **options)\n",
    "\n",
    "dglgraph = dgl.from_networkx(\n",
    "    nxgraphs[0], \n",
    "    node_attrs=nodeFeatures.keys(), \n",
    "    edge_attrs=edgeFeatures.keys())\n",
    "print(f'Node count - nx: {nxgraphs[0].number_of_nodes()}, dgl: {dglgraph.num_nodes()}')\n",
    "print(f'Edge count - nx: {nxgraphs[0].number_of_edges()}, dgl: {dglgraph.num_edges()}')\n",
    "\n",
    "print(f'Node Features \\n nx: {nxgraphs[0].nodes(data=True)[0]},\\n dgl: {dglgraph.ndata}')\n",
    "\n",
    "print(dglgraph)"
   ]
  }
 ],
 "metadata": {
  "kernelspec": {
   "display_name": "venv",
   "language": "python",
   "name": "venv"
  },
  "language_info": {
   "codemirror_mode": {
    "name": "ipython",
    "version": 3
   },
   "file_extension": ".py",
   "mimetype": "text/x-python",
   "name": "python",
   "nbconvert_exporter": "python",
   "pygments_lexer": "ipython3",
   "version": "3.8.5"
  }
 },
 "nbformat": 4,
 "nbformat_minor": 4
}
